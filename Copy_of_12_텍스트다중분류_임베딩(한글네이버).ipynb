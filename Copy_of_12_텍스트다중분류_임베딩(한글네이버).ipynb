{
  "nbformat": 4,
  "nbformat_minor": 0,
  "metadata": {
    "colab": {
      "name": "Copy of 12_텍스트다중분류_임베딩(한글네이버).ipynb",
      "provenance": [],
      "collapsed_sections": [],
      "include_colab_link": true
    },
    "kernelspec": {
      "name": "python3",
      "display_name": "Python 3"
    }
  },
  "cells": [
    {
      "cell_type": "markdown",
      "metadata": {
        "id": "view-in-github",
        "colab_type": "text"
      },
      "source": [
        "<a href=\"https://colab.research.google.com/github/ensemble-on/ChatterBot/blob/master/Copy_of_12_%ED%85%8D%EC%8A%A4%ED%8A%B8%EB%8B%A4%EC%A4%91%EB%B6%84%EB%A5%98_%EC%9E%84%EB%B2%A0%EB%94%A9(%ED%95%9C%EA%B8%80%EB%84%A4%EC%9D%B4%EB%B2%84).ipynb\" target=\"_parent\"><img src=\"https://colab.research.google.com/assets/colab-badge.svg\" alt=\"Open In Colab\"/></a>"
      ]
    },
    {
      "cell_type": "markdown",
      "metadata": {
        "id": "jfoe-nngeBJv",
        "colab_type": "text"
      },
      "source": [
        "# 텍스트 다중분류 워드 임베딩(한글 네이버)"
      ]
    },
    {
      "cell_type": "markdown",
      "metadata": {
        "id": "YbdAYFKf3P7D",
        "colab_type": "text"
      },
      "source": [
        "# 새 섹션"
      ]
    },
    {
      "cell_type": "code",
      "metadata": {
        "id": "kV_ClYo6b0wO",
        "colab_type": "code",
        "colab": {
          "base_uri": "https://localhost:8080/",
          "height": 127
        },
        "outputId": "3d87b331-3747-41ba-f771-08293e160bfb"
      },
      "source": [
        "# 구글 드라이브와 연결\n",
        "\n",
        "#from google.colab import auth\n",
        "#auth.authenticate_user()\n",
        "\n",
        "from google.colab import drive\n",
        "drive.mount('/content/gdrive')"
      ],
      "execution_count": 1,
      "outputs": [
        {
          "output_type": "stream",
          "text": [
            "Go to this URL in a browser: https://accounts.google.com/o/oauth2/auth?client_id=947318989803-6bn6qk8qdgf4n4g3pfee6491hc0brc4i.apps.googleusercontent.com&redirect_uri=urn%3Aietf%3Awg%3Aoauth%3A2.0%3Aoob&scope=email%20https%3A%2F%2Fwww.googleapis.com%2Fauth%2Fdocs.test%20https%3A%2F%2Fwww.googleapis.com%2Fauth%2Fdrive%20https%3A%2F%2Fwww.googleapis.com%2Fauth%2Fdrive.photos.readonly%20https%3A%2F%2Fwww.googleapis.com%2Fauth%2Fpeopleapi.readonly&response_type=code\n",
            "\n",
            "Enter your authorization code:\n",
            "··········\n",
            "Mounted at /content/gdrive\n"
          ],
          "name": "stdout"
        }
      ]
    },
    {
      "cell_type": "code",
      "metadata": {
        "id": "pHsySgu6d_Hf",
        "colab_type": "code",
        "colab": {}
      },
      "source": [
        "# 경로 설정\n",
        "naver_dir = '/content/gdrive/My Drive/AIBM/20191016/pytest/네이버뉴스-생활문화_다중/'"
      ],
      "execution_count": 0,
      "outputs": []
    },
    {
      "cell_type": "code",
      "metadata": {
        "id": "3Fn41UE4cR35",
        "colab_type": "code",
        "colab": {
          "base_uri": "https://localhost:8080/",
          "height": 1000
        },
        "outputId": "a7d1f36e-bd47-450e-a21a-891ff8f9117c"
      },
      "source": [
        "# 형태소분석기 관련 설치\n",
        "!apt-get update\n",
        "!apt-get install g++ openjdk-8-jdk\n",
        "\n",
        "!pip install JPype1==0.7.0\n",
        "!pip install rhinoMorph"
      ],
      "execution_count": 3,
      "outputs": [
        {
          "output_type": "stream",
          "text": [
            "\r0% [Working]\r            \rHit:1 http://archive.ubuntu.com/ubuntu bionic InRelease\n",
            "\r0% [Connecting to security.ubuntu.com (91.189.91.26)] [Connecting to cloud.r-pr\r                                                                               \rGet:2 http://archive.ubuntu.com/ubuntu bionic-updates InRelease [88.7 kB]\n",
            "\r                                                                               \rGet:3 http://ppa.launchpad.net/graphics-drivers/ppa/ubuntu bionic InRelease [21.3 kB]\n",
            "\r0% [2 InRelease 37.3 kB/88.7 kB 42%] [Connecting to security.ubuntu.com (91.189\r0% [1 InRelease gpgv 242 kB] [2 InRelease 40.2 kB/88.7 kB 45%] [Connecting to s\r                                                                               \rGet:4 http://ppa.launchpad.net/marutter/c2d4u3.5/ubuntu bionic InRelease [15.4 kB]\n",
            "\r0% [1 InRelease gpgv 242 kB] [2 InRelease 69.2 kB/88.7 kB 78%] [Connecting to s\r0% [1 InRelease gpgv 242 kB] [Connecting to archive.ubuntu.com (91.189.88.149)]\r0% [1 InRelease gpgv 242 kB] [Connecting to archive.ubuntu.com (91.189.88.149)]\r                                                                               \rGet:5 http://archive.ubuntu.com/ubuntu bionic-backports InRelease [74.6 kB]\n",
            "\r0% [1 InRelease gpgv 242 kB] [5 InRelease 14.2 kB/74.6 kB 19%] [Waiting for hea\r                                                                               \rGet:6 https://cloud.r-project.org/bin/linux/ubuntu bionic-cran35/ InRelease [3,626 B]\n",
            "\r0% [1 InRelease gpgv 242 kB] [5 InRelease 14.2 kB/74.6 kB 19%] [Waiting for hea\r0% [1 InRelease gpgv 242 kB] [5 InRelease 14.2 kB/74.6 kB 19%] [Waiting for hea\r                                                                               \r0% [1 InRelease gpgv 242 kB] [Waiting for headers] [Waiting for headers]\r                                                                        \rGet:7 http://security.ubuntu.com/ubuntu bionic-security InRelease [88.7 kB]\n",
            "Ign:8 https://developer.download.nvidia.com/compute/cuda/repos/ubuntu1804/x86_64  InRelease\n",
            "Ign:9 https://developer.download.nvidia.com/compute/machine-learning/repos/ubuntu1804/x86_64  InRelease\n",
            "Get:10 https://developer.download.nvidia.com/compute/cuda/repos/ubuntu1804/x86_64  Release [564 B]\n",
            "Get:11 https://developer.download.nvidia.com/compute/machine-learning/repos/ubuntu1804/x86_64  Release [564 B]\n",
            "Get:12 https://developer.download.nvidia.com/compute/cuda/repos/ubuntu1804/x86_64  Release.gpg [819 B]\n",
            "Get:13 https://developer.download.nvidia.com/compute/machine-learning/repos/ubuntu1804/x86_64  Release.gpg [833 B]\n",
            "Get:14 http://ppa.launchpad.net/graphics-drivers/ppa/ubuntu bionic/main amd64 Packages [31.7 kB]\n",
            "Get:15 http://archive.ubuntu.com/ubuntu bionic-updates/main amd64 Packages [977 kB]\n",
            "Get:16 http://archive.ubuntu.com/ubuntu bionic-updates/restricted amd64 Packages [21.9 kB]\n",
            "Get:17 http://archive.ubuntu.com/ubuntu bionic-updates/multiverse amd64 Packages [8,734 B]\n",
            "Get:18 http://archive.ubuntu.com/ubuntu bionic-updates/universe amd64 Packages [1,295 kB]\n",
            "Get:19 http://ppa.launchpad.net/marutter/c2d4u3.5/ubuntu bionic/main Sources [1,711 kB]\n",
            "Get:20 http://ppa.launchpad.net/marutter/c2d4u3.5/ubuntu bionic/main amd64 Packages [823 kB]\n",
            "Get:21 https://cloud.r-project.org/bin/linux/ubuntu bionic-cran35/ Packages [72.2 kB]\n",
            "Get:22 http://archive.ubuntu.com/ubuntu bionic-backports/universe amd64 Packages [4,227 B]\n",
            "Get:23 http://security.ubuntu.com/ubuntu bionic-security/restricted amd64 Packages [11.3 kB]\n",
            "Get:24 https://developer.download.nvidia.com/compute/cuda/repos/ubuntu1804/x86_64  Packages [119 kB]\n",
            "Get:25 http://security.ubuntu.com/ubuntu bionic-security/universe amd64 Packages [777 kB]\n",
            "Get:26 https://developer.download.nvidia.com/compute/machine-learning/repos/ubuntu1804/x86_64  Packages [20.6 kB]\n",
            "Get:27 http://security.ubuntu.com/ubuntu bionic-security/multiverse amd64 Packages [5,665 B]\n",
            "Get:28 http://security.ubuntu.com/ubuntu bionic-security/main amd64 Packages [682 kB]\n",
            "Fetched 6,856 kB in 3s (2,025 kB/s)\n",
            "Reading package lists... Done\n",
            "Reading package lists... Done\n",
            "Building dependency tree       \n",
            "Reading state information... Done\n",
            "g++ is already the newest version (4:7.4.0-1ubuntu2.3).\n",
            "g++ set to manually installed.\n",
            "The following additional packages will be installed:\n",
            "  fonts-dejavu-core fonts-dejavu-extra libatk-wrapper-java\n",
            "  libatk-wrapper-java-jni libgail-common libgail18 libgtk2.0-0 libgtk2.0-bin\n",
            "  libgtk2.0-common libxxf86dga1 openjdk-8-jre x11-utils\n",
            "Suggested packages:\n",
            "  gvfs openjdk-8-demo openjdk-8-source visualvm icedtea-8-plugin mesa-utils\n",
            "The following NEW packages will be installed:\n",
            "  fonts-dejavu-core fonts-dejavu-extra libatk-wrapper-java\n",
            "  libatk-wrapper-java-jni libgail-common libgail18 libgtk2.0-0 libgtk2.0-bin\n",
            "  libgtk2.0-common libxxf86dga1 openjdk-8-jdk openjdk-8-jre x11-utils\n",
            "0 upgraded, 13 newly installed, 0 to remove and 151 not upgraded.\n",
            "Need to get 7,119 kB of archives.\n",
            "After this operation, 20.1 MB of additional disk space will be used.\n",
            "Get:1 http://archive.ubuntu.com/ubuntu bionic/main amd64 libxxf86dga1 amd64 2:1.1.4-1 [13.7 kB]\n",
            "Get:2 http://archive.ubuntu.com/ubuntu bionic/main amd64 fonts-dejavu-core all 2.37-1 [1,041 kB]\n",
            "Get:3 http://archive.ubuntu.com/ubuntu bionic/main amd64 fonts-dejavu-extra all 2.37-1 [1,953 kB]\n",
            "Get:4 http://archive.ubuntu.com/ubuntu bionic/main amd64 x11-utils amd64 7.7+3build1 [196 kB]\n",
            "Get:5 http://archive.ubuntu.com/ubuntu bionic/main amd64 libatk-wrapper-java all 0.33.3-20ubuntu0.1 [34.7 kB]\n",
            "Get:6 http://archive.ubuntu.com/ubuntu bionic/main amd64 libatk-wrapper-java-jni amd64 0.33.3-20ubuntu0.1 [28.3 kB]\n",
            "Get:7 http://archive.ubuntu.com/ubuntu bionic/main amd64 libgtk2.0-common all 2.24.32-1ubuntu1 [125 kB]\n",
            "Get:8 http://archive.ubuntu.com/ubuntu bionic/main amd64 libgtk2.0-0 amd64 2.24.32-1ubuntu1 [1,769 kB]\n",
            "Get:9 http://archive.ubuntu.com/ubuntu bionic/main amd64 libgail18 amd64 2.24.32-1ubuntu1 [14.2 kB]\n",
            "Get:10 http://archive.ubuntu.com/ubuntu bionic/main amd64 libgail-common amd64 2.24.32-1ubuntu1 [112 kB]\n",
            "Get:11 http://archive.ubuntu.com/ubuntu bionic/main amd64 libgtk2.0-bin amd64 2.24.32-1ubuntu1 [7,536 B]\n",
            "Get:12 http://archive.ubuntu.com/ubuntu bionic-updates/universe amd64 openjdk-8-jre amd64 8u222-b10-1ubuntu1~18.04.1 [69.3 kB]\n",
            "Get:13 http://archive.ubuntu.com/ubuntu bionic-updates/universe amd64 openjdk-8-jdk amd64 8u222-b10-1ubuntu1~18.04.1 [1,756 kB]\n",
            "Fetched 7,119 kB in 1s (9,436 kB/s)\n",
            "Selecting previously unselected package libxxf86dga1:amd64.\n",
            "(Reading database ... 131183 files and directories currently installed.)\n",
            "Preparing to unpack .../00-libxxf86dga1_2%3a1.1.4-1_amd64.deb ...\n",
            "Unpacking libxxf86dga1:amd64 (2:1.1.4-1) ...\n",
            "Selecting previously unselected package fonts-dejavu-core.\n",
            "Preparing to unpack .../01-fonts-dejavu-core_2.37-1_all.deb ...\n",
            "Unpacking fonts-dejavu-core (2.37-1) ...\n",
            "Selecting previously unselected package fonts-dejavu-extra.\n",
            "Preparing to unpack .../02-fonts-dejavu-extra_2.37-1_all.deb ...\n",
            "Unpacking fonts-dejavu-extra (2.37-1) ...\n",
            "Selecting previously unselected package x11-utils.\n",
            "Preparing to unpack .../03-x11-utils_7.7+3build1_amd64.deb ...\n",
            "Unpacking x11-utils (7.7+3build1) ...\n",
            "Selecting previously unselected package libatk-wrapper-java.\n",
            "Preparing to unpack .../04-libatk-wrapper-java_0.33.3-20ubuntu0.1_all.deb ...\n",
            "Unpacking libatk-wrapper-java (0.33.3-20ubuntu0.1) ...\n",
            "Selecting previously unselected package libatk-wrapper-java-jni:amd64.\n",
            "Preparing to unpack .../05-libatk-wrapper-java-jni_0.33.3-20ubuntu0.1_amd64.deb ...\n",
            "Unpacking libatk-wrapper-java-jni:amd64 (0.33.3-20ubuntu0.1) ...\n",
            "Selecting previously unselected package libgtk2.0-common.\n",
            "Preparing to unpack .../06-libgtk2.0-common_2.24.32-1ubuntu1_all.deb ...\n",
            "Unpacking libgtk2.0-common (2.24.32-1ubuntu1) ...\n",
            "Selecting previously unselected package libgtk2.0-0:amd64.\n",
            "Preparing to unpack .../07-libgtk2.0-0_2.24.32-1ubuntu1_amd64.deb ...\n",
            "Unpacking libgtk2.0-0:amd64 (2.24.32-1ubuntu1) ...\n",
            "Selecting previously unselected package libgail18:amd64.\n",
            "Preparing to unpack .../08-libgail18_2.24.32-1ubuntu1_amd64.deb ...\n",
            "Unpacking libgail18:amd64 (2.24.32-1ubuntu1) ...\n",
            "Selecting previously unselected package libgail-common:amd64.\n",
            "Preparing to unpack .../09-libgail-common_2.24.32-1ubuntu1_amd64.deb ...\n",
            "Unpacking libgail-common:amd64 (2.24.32-1ubuntu1) ...\n",
            "Selecting previously unselected package libgtk2.0-bin.\n",
            "Preparing to unpack .../10-libgtk2.0-bin_2.24.32-1ubuntu1_amd64.deb ...\n",
            "Unpacking libgtk2.0-bin (2.24.32-1ubuntu1) ...\n",
            "Selecting previously unselected package openjdk-8-jre:amd64.\n",
            "Preparing to unpack .../11-openjdk-8-jre_8u222-b10-1ubuntu1~18.04.1_amd64.deb ...\n",
            "Unpacking openjdk-8-jre:amd64 (8u222-b10-1ubuntu1~18.04.1) ...\n",
            "Selecting previously unselected package openjdk-8-jdk:amd64.\n",
            "Preparing to unpack .../12-openjdk-8-jdk_8u222-b10-1ubuntu1~18.04.1_amd64.deb ...\n",
            "Unpacking openjdk-8-jdk:amd64 (8u222-b10-1ubuntu1~18.04.1) ...\n",
            "Setting up libgtk2.0-common (2.24.32-1ubuntu1) ...\n",
            "Processing triggers for mime-support (3.60ubuntu1) ...\n",
            "Setting up fonts-dejavu-core (2.37-1) ...\n",
            "Setting up libxxf86dga1:amd64 (2:1.1.4-1) ...\n",
            "Processing triggers for libc-bin (2.27-3ubuntu1) ...\n",
            "Processing triggers for man-db (2.8.3-2ubuntu0.1) ...\n",
            "Setting up fonts-dejavu-extra (2.37-1) ...\n",
            "Processing triggers for hicolor-icon-theme (0.17-2) ...\n",
            "Processing triggers for fontconfig (2.12.6-0ubuntu2) ...\n",
            "Setting up libgtk2.0-0:amd64 (2.24.32-1ubuntu1) ...\n",
            "Setting up libgail18:amd64 (2.24.32-1ubuntu1) ...\n",
            "Setting up x11-utils (7.7+3build1) ...\n",
            "Setting up libgail-common:amd64 (2.24.32-1ubuntu1) ...\n",
            "Setting up libatk-wrapper-java (0.33.3-20ubuntu0.1) ...\n",
            "Setting up libgtk2.0-bin (2.24.32-1ubuntu1) ...\n",
            "Setting up libatk-wrapper-java-jni:amd64 (0.33.3-20ubuntu0.1) ...\n",
            "Setting up openjdk-8-jre:amd64 (8u222-b10-1ubuntu1~18.04.1) ...\n",
            "update-alternatives: using /usr/lib/jvm/java-8-openjdk-amd64/jre/bin/policytool to provide /usr/bin/policytool (policytool) in auto mode\n",
            "Setting up openjdk-8-jdk:amd64 (8u222-b10-1ubuntu1~18.04.1) ...\n",
            "update-alternatives: using /usr/lib/jvm/java-8-openjdk-amd64/bin/appletviewer to provide /usr/bin/appletviewer (appletviewer) in auto mode\n",
            "update-alternatives: using /usr/lib/jvm/java-8-openjdk-amd64/bin/jconsole to provide /usr/bin/jconsole (jconsole) in auto mode\n",
            "Processing triggers for libc-bin (2.27-3ubuntu1) ...\n",
            "Collecting JPype1==0.7.0\n",
            "\u001b[?25l  Downloading https://files.pythonhosted.org/packages/07/09/e19ce27d41d4f66d73ac5b6c6a188c51b506f56c7bfbe6c1491db2d15995/JPype1-0.7.0-cp36-cp36m-manylinux2010_x86_64.whl (2.7MB)\n",
            "\u001b[K     |████████████████████████████████| 2.7MB 10.6MB/s \n",
            "\u001b[?25hInstalling collected packages: JPype1\n",
            "Successfully installed JPype1-0.7.0\n",
            "Collecting rhinoMorph\n",
            "\u001b[?25l  Downloading https://files.pythonhosted.org/packages/30/ae/439f50ebad4039d71cfc1a00f18e08c4f8de556ccbc979b261ca9a26e598/rhinoMorph-2.7.1.11-py3-none-any.whl (8.9MB)\n",
            "\u001b[K     |████████████████████████████████| 8.9MB 9.4MB/s \n",
            "\u001b[?25hInstalling collected packages: rhinoMorph\n",
            "Successfully installed rhinoMorph-2.7.1.11\n"
          ],
          "name": "stdout"
        }
      ]
    },
    {
      "cell_type": "code",
      "metadata": {
        "id": "E-ylE9rYc7hW",
        "colab_type": "code",
        "colab": {}
      },
      "source": [
        "# Data Loading Preparation\n",
        "import os\n",
        "\n",
        "train_dir = os.path.join(naver_dir, 'train')\n",
        "test_dir = os.path.join(naver_dir, 'test')\n",
        "\n",
        "label_types = ['건강정보', '공연전시', '도로교통', '여행레저', '음식맛집', '자동차시승기', '종교', '책', '패션뷰티']"
      ],
      "execution_count": 0,
      "outputs": []
    },
    {
      "cell_type": "code",
      "metadata": {
        "id": "ClaT-Nk5hdma",
        "colab_type": "code",
        "colab": {}
      },
      "source": [
        "# text와 labels 리스트를 만드는 함수를 작성한다\n",
        "def make_texts_labels(dir, label_types, encode='utf8'):    \t# texts와 labels 리스트를 만드는 함수\n",
        "  texts = []\n",
        "  labels = []\n",
        "  \n",
        "  for label_type in label_types:\n",
        "    dir_name = os.path.join(dir, label_type) \t\t  # 각각의 label 폴더에 접근한다\n",
        "    for fname in os.listdir(dir_name):\n",
        "      if fname[-4:] == '.txt':                    # 마지막 4 글자가 .txt 로 끝나는지를 확인한다\n",
        "        f = open(os.path.join(dir_name, fname), encoding=encode)\n",
        "        texts.append(f.read())                    # 텍스트를 읽어서 texts 리스트에 연결한다\n",
        "        f.close()\n",
        "        \n",
        "        if label_type == label_types[0]:          # 만약 현재 폴더가 '건강정보' 폴더라면\n",
        "          labels.append(0)                        # texts와 같은 순서의 labels 리스트에는 0을 저장한다\n",
        "        elif label_type == label_types[1]:\n",
        "          labels.append(1)\n",
        "        elif label_type == label_types[2]:\n",
        "          labels.append(2)\n",
        "        elif label_type == label_types[3]:\n",
        "          labels.append(3)\n",
        "        elif label_type == label_types[4]:\n",
        "          labels.append(4)\n",
        "        elif label_type == label_types[5]:\n",
        "          labels.append(5)\n",
        "        elif label_type == label_types[6]:\n",
        "          labels.append(6)\n",
        "        elif label_type == label_types[7]:\n",
        "          labels.append(7)\n",
        "        elif label_type == label_types[8]:\n",
        "          labels.append(8)\n",
        "          \n",
        "  return texts, labels"
      ],
      "execution_count": 0,
      "outputs": []
    },
    {
      "cell_type": "code",
      "metadata": {
        "id": "Tw1vtOdai6ey",
        "colab_type": "code",
        "colab": {
          "base_uri": "https://localhost:8080/",
          "height": 289
        },
        "outputId": "c272e2a2-c019-47eb-c393-37f24e87e76d"
      },
      "source": [
        "# Train Data Loading\n",
        "# 훈련 데이터의 텍스트와 라벨을 받아온다\n",
        "\n",
        "texts, labels = make_texts_labels(train_dir, label_types)\n",
        "\n",
        "print('texts 0:', texts[0])\n",
        "print('texts len:', len(texts))\n",
        "print('labels 0:', labels[0])\n",
        "print('labels len:', len(labels))"
      ],
      "execution_count": 6,
      "outputs": [
        {
          "output_type": "stream",
          "text": [
            "texts 0: SK케미칼, 백신 사업 분사 결정 : 네이버 뉴스\n",
            "\n",
            "\n",
            "\n",
            "\n",
            "\n",
            "\n",
            "\n",
            "글로벌화 단계 진입…올해 백신사업 분사로 별도법인 설립SK케미칼이 주력 사업부문인 백신 사업을 별도 법인으로 분리한다.SK케미칼은 글로벌 프리미엄 백신 회사로 도약을 위해 올해 안에 백신 사업을 분사할 예정이라고 12일 공시했다.SK케미칼은 2006년부터 백신을 미래 성장 동력으로 육성하기 위해 인프라구축에 약 4000억원을 투자했다. 지난 2012년에는 경북 안동에 세포배양 백신 등 차세대 백신을 생산할 수 있는 백신공장 'L하우스'를 짓고 독감백신, 대상포진백신 등을 생산했다. SK케미칼의 사업 부문별 비중을 보면 합성의약품은 약 60%, 백신은 40% 규모다.SK케미칼은 앞으로 분사한 별도법인에 대한 SI(전략적투자자)를 본격적으로 유치하고 기업공개(IPO)를 통해 주주가치 제고에 기여하겠다는 계획이다.SK케미칼 측은 \"지속적인 노력의 성과로 사노피 파스퇴르와 차세대폐렴구균 공동개발 계약 체결, 세포배양방식의 독감백신 3·4가 및 대상포진 백신 출시 등 다양한 성과를 창출해 왔다\"며 \"자체 기술 경쟁력을 바탕으로 글로벌화의 본격화 단계에 진입했다\"고 밝혔다.김지섭기자 cloud50@dt.co.kr 디지털타임스 홈페이지 바로가기 / SNS 바로가기디지털타임스 영문뉴스 바로가기 / 카드뉴스 바로가기김지섭\n",
            "\t\n",
            "\n",
            "texts len: 90\n",
            "labels 0: 0\n",
            "labels len: 90\n"
          ],
          "name": "stdout"
        }
      ]
    },
    {
      "cell_type": "code",
      "metadata": {
        "id": "To6x8P9IjOAT",
        "colab_type": "code",
        "colab": {
          "base_uri": "https://localhost:8080/",
          "height": 289
        },
        "outputId": "37547702-cc67-4d9a-e404-aa36b4b0bdfa"
      },
      "source": [
        "# Analyzing Morpholog\n",
        "# 한글은 tokenizing을 위해서 먼저 형태소분석을 해야 한다\n",
        "import rhinoMorph as rhinoMorph\n",
        "rn = rhinoMorph.startRhino()                         \t\t\n",
        "\n",
        "# 리스트 컴프리헨션으로 실질형태소만을 리스트로 가져온다\n",
        "texts = [rhinoMorph.onlyMorph_list(rn, sentence, pos=['NNG', 'NNP', 'NP', 'VV', 'VA', 'XR', 'IC', 'MM', 'MAG', 'MAJ'], eomi=False) for sentence in texts]\n",
        "\n",
        "print(texts[0])"
      ],
      "execution_count": 7,
      "outputs": [
        {
          "output_type": "stream",
          "text": [
            "filepath:  /usr/local/lib/python3.6/dist-packages\n",
            "classpath:  /usr/local/lib/python3.6/dist-packages/rhinoMorph/lib/rhino.jar\n"
          ],
          "name": "stdout"
        },
        {
          "output_type": "stream",
          "text": [
            "/usr/local/lib/python3.6/dist-packages/jpype/_core.py:210: UserWarning: \n",
            "-------------------------------------------------------------------------------\n",
            "Deprecated: convertStrings was not specified when starting the JVM. The default\n",
            "behavior in JPype will be False starting in JPype 0.8. The recommended setting\n",
            "for new code is convertStrings=False.  The legacy value of True was assumed for\n",
            "this session. If you are a user of an application that reported this warning,\n",
            "please file a ticket with the developer.\n",
            "-------------------------------------------------------------------------------\n",
            "\n",
            "  \"\"\")\n"
          ],
          "name": "stderr"
        },
        {
          "output_type": "stream",
          "text": [
            "RHINO started!\n",
            "['SK', '케미칼', '백신', '사업', '분사', '결정', '네이버', '뉴스', '글로벌', '단계', '진입', '올해', '백신', '사업', '분사', '별도', '법인', '설립', 'SK', '케미칼', '주력', '사업', '부문', '백신', '사업', '별도', '법인', '분리하', 'SK', '케미칼', '글로벌', '프리미엄', '백신', '회사', '도약', '위하', '올해', '안', '백신', '사업', '분사하', '예정', '공시하', 'SK', '케미칼', '백신', '미래', '성장', '동력', '육성하', '위하', '인프라', '구축', '약', '투자하', '지나', '경북', '안동', '세포', '배양', '백신', '차세대', '백신', '생산하', '백신', '공장', '하우스', '짓', '독감', '백신', '대상', '포진', '백신', '생산하', 'SK', '케미칼', '사업', '부문', '비중', '보', '합성', '의약품', '약', '백신', '규모', 'SK', '케미칼', '앞', '분사하', '별도', '법인', '대하', '전략', '투자자', '본격', '유치하', '기업', '공개', '통하', '주주', '가치', '제고', '기여하', '계획', 'SK', '케미칼', '지속', '노력', '성과', '사노', '피', '파스퇴르', '차세대', '폐렴', '구균', '공동', '개발', '계약', '체결', '세포', '배양', '방식', '독감', '백신', '가', '및', '대상', '포진', '백신', '출시', '다양하', '성과', '창출하', '자체', '기술', '경쟁력', '바탕', '글로벌', '본격화', '단계', '진입하', '밝히', '김', '지섭', '기자', '디지털', '타임스', '홈페이지', '바로', 'SNS', '바로', '가', '디지털', '타임스', '영문', '뉴스', '바로', '카드', '뉴스', '바로', '가', '김', '지섭']\n"
          ],
          "name": "stdout"
        }
      ]
    },
    {
      "cell_type": "code",
      "metadata": {
        "id": "aQCxvTjbmMZB",
        "colab_type": "code",
        "colab": {
          "base_uri": "https://localhost:8080/",
          "height": 35
        },
        "outputId": "78eae15f-2262-4b36-c511-b95dcf367bce"
      },
      "source": [
        "# Data Tokenizing\n",
        "from keras.preprocessing.text import Tokenizer\n",
        "from keras.preprocessing.sequence import pad_sequences\n",
        "import numpy as np\n",
        "import math\n",
        "\n",
        "validation_ratio = math.floor(len(texts) * 0.3)    \t# 30%는 검증데이터로 사용한다. 나머지는 훈련데이터\n",
        "max_words = 10000                                   # 데이터셋에서 가장 빈도 높은 10,000 개의 단어만 사용한다\n",
        "maxlen = 200                                        # 200개 이후의 단어는 버린다\n",
        "class_number = 9                                    # 분류할 클래스의 수\n",
        "\n",
        "tokenizer = Tokenizer(num_words=max_words)  \t      # 상위빈도 10,000 개의 단어만을 추려내는 Tokenizer 객체 생성\n",
        "tokenizer.fit_on_texts(texts)                       # 단어 인덱스를 구축한다\n",
        "word_index = tokenizer.word_index               \t  # 단어 인덱스만 가져온다"
      ],
      "execution_count": 8,
      "outputs": [
        {
          "output_type": "stream",
          "text": [
            "Using TensorFlow backend.\n"
          ],
          "name": "stderr"
        }
      ]
    },
    {
      "cell_type": "code",
      "metadata": {
        "id": "BLrViuVDmZhq",
        "colab_type": "code",
        "colab": {
          "base_uri": "https://localhost:8080/",
          "height": 91
        },
        "outputId": "ad1bb38e-f9d4-4d1a-e2d8-e85115637aaf"
      },
      "source": [
        "# 전체 데이터가 가지고 있는 토큰의 수를 보여준다. texts_to_sequences()를 거쳐야 10,000개만 남는다. \n",
        "\n",
        "print('전체에서 %s개의 고유한 토큰을 찾았습니다.' % len(word_index))\n",
        "print('word_index type: ', type(word_index))\n",
        "print('word_index: ', word_index)"
      ],
      "execution_count": 9,
      "outputs": [
        {
          "output_type": "stream",
          "text": [
            "전체에서 5495개의 고유한 토큰을 찾았습니다.\n",
            "word_index type:  <class 'dict'>\n",
            "word_index:  {'하': 1, '뉴스': 2, '네이버': 3, '및': 4, '이': 5, '기자': 6, '한국': 7, '그': 8, '보': 9, '김': 10, '위하': 11, '되': 12, '주': 13, '서울': 14, '받': 15, '나': 16, '대하': 17, '무단': 18, '전재': 19, '배포': 20, '금지': 21, '설': 22, '고객': 23, '제품': 24, '통하': 25, '올림픽': 26, '에': 27, '등': 28, '평창': 29, '가': 30, '바로': 31, '시장': 32, '작품': 33, '수': 34, '자궁': 35, '대표': 36, '없': 37, '제공': 38, '스포츠서울': 39, '밝히': 40, '서비스': 41, '또': 42, '다양하': 43, '사진': 44, '작가': 45, '계획': 46, '가장': 47, '사람': 48, '약': 49, '때': 50, '이상': 51, '정부': 52, '사회': 53, '교통': 54, '책': 55, '말하': 56, '시': 57, '경제': 58, '오': 59, '한경': 60, '컬러': 61, '사업': 62, '따르': 63, '경우': 64, '제보': 65, '이번': 66, '지역': 67, '교수': 68, '가격': 69, '속': 70, '크': 71, '여성': 72, '공식': 73, '해외': 74, '연휴': 75, '말': 76, '지난해': 77, '공연': 78, '도로': 79, '차': 80, '티': 81, '함께': 82, '핑크': 83, '국가': 84, '채널': 85, '차량': 86, '소설': 87, '문제': 88, '관련': 89, '사량': 90, '많': 91, '기간': 92, '만들': 93, '두': 94, '녹': 95, '항공': 96, '더': 97, '같': 98, '국내': 99, '이벤트': 100, '지나': 101, '대상': 102, '미국': 103, '높': 104, '저': 105, '점': 106, '안전': 107, '코리아': 108, '지원': 109, '글': 110, '중국': 111, '기도회': 112, '예배': 113, '시간': 114, '피부': 115, '안': 116, '연구': 117, '기능': 118, '후': 119, '진행하': 120, '페이스북': 121, '와': 122, '모바일': 123, '노르웨이': 124, '홈페이지': 125, '발생하': 126, '일부': 127, '최근': 128, '적출술': 129, '기사': 130, '특별': 131, '보이': 132, '길': 133, '뉴시스': 134, '민주': 135, '고속도로': 136, '성분': 137, '뒤': 138, '케어': 139, '포토': 140, '여러분': 141, '알': 142, '제주': 143, '은': 144, '선보이': 145, '빛': 146, '구독': 147, '김지현': 148, '섬진강': 149, '구간': 150, '최대': 151, '직구': 152, '기업': 153, '이야기': 154, '정도': 155, '내': 156, '물': 157, '설정하': 158, '총': 159, '스타': 160, '다시': 161, '총알': 162, '스타일': 163, '녹이': 164, '혼다코리아': 165, '하나님': 166, '진보': 167, '패션': 168, '팩': 169, '앞': 170, '피': 171, '발생': 172, '바': 173, '많이': 174, '팀': 175, '오후': 176, '가운데': 177, '설치': 178, '우리': 179, '구매': 180, '맞': 181, '묵자': 182, '저작권자': 183, '브랜드': 184, '도서': 185, '개발': 186, '디지털': 187, 'sns': 188, '인기': 189, '정보': 190, '유': 191, '제공하': 192, '질환': 193, '다른': 194, '로': 195, '동계': 196, '메인': 197, '활동': 198, '업계': 199, '혜택': 200, '담': 201, '문화': 202, '닷컴': 203, '신청': 204, '인간': 205, '평균': 206, '잇': 207, '전국': 208, '노선': 209, '가능하': 210, '맛': 211, '조찬': 212, '백신': 213, '모델': 214, '영향': 215, '이르': 216, '결': 217, '높이': 218, '매': 219, '한': 220, '모두': 221, '산업': 222, '시대': 223, '강릉': 224, '기록하': 225, '일': 226, '전': 227, '열': 228, '기다리': 229, '제보하': 230, '자금': 231, '관계자': 232, '정책': 233, '과정': 234, '부산': 235, '대': 236, '오르': 237, '연극': 238, '모든': 239, '북': 240, '내용': 241, '찾': 242, '드리': 243, '지금': 244, '삶': 245, '나가': 246, '열린': 247, '맥주': 248, '테라': 249, '글로벌': 250, '회사': 251, '규모': 252, '설명하': 253, '이후': 254, '전문': 255, '위원회': 256, '발표하': 257, '곳': 258, '남성': 259, '독립': 260, '트': 261, '대비': 262, '그리': 263, '자신': 264, '하루': 265, '쓰': 266, '서': 267, '차로': 268, '조업': 269, '좋': 270, '고기': 271, '부품': 272, '노총': 273, '올해': 274, '작년': 275, '수술': 276, '가족': 277, '센터': 278, '치료': 279, '방법': 280, '건강': 281, '상황': 282, '강조하': 283, '노': 284, '열리': 285, '강하': 286, '집': 287, '면': 288, '진행되': 289, '귀화': 290, '첫': 291, '선수': 292, '친구': 293, '밤': 294, '알리': 295, '글방': 296, '숲': 297, '다음': 298, '먼저': 299, '넣': 300, '탑': 301, '선생': 302, '즐기': 303, '귀경': 304, '마닐라': 305, '운수': 306, '공항': 307, '지방': 308, '태권도': 309, '남': 310, '성공': 311, '동아일보': 312, '정당': 313, '울산': 314, '화성시': 315, '운동가': 316, '카드': 317, '구조': 318, '근종': 319, '증가하': 320, '헬스': 321, '후보': 322, '화장품': 323, '한약사': 324, '이기': 325, '생산': 326, '참여하': 327, '외국인': 328, '처음': 329, '광주': 330, '만나': 331, '잘': 332, '정체': 333, '특히': 334, '시작하': 335, '귀성': 336, '오전': 337, '예상되': 338, '여자': 339, '옥션': 340, '치킨': 341, '란': 342, '마': 343, '노컷': 344, '장성': 345, '예정': 346, '하우스': 347, '공동': 348, '포항': 349, '이날': 350, '세대': 351, '이루': 352, '사이': 353, '장기': 354, '이런': 355, '기준': 356, '주요': 357, '투자': 358, '바이러스': 359, '경기': 360, '세계': 361, '동안': 362, '작': 363, '한약': 364, '개선': 365, '확대': 366, '의무': 367, '후손': 368, '스포츠': 369, '대전': 370, '대웅제약': 371, '종근당': 372, '판매': 373, '도': 374, '전하': 375, '읽': 376, '이미지': 377, '문학': 378, '분': 379, '연구회': 380, '역사': 381, '국토': 382, '교통부': 383, '버스': 384, '이용': 385, '선물': 386, '사용하': 387, '디자이너': 388, '요거트': 389, '드롭': 390, '카': 391, '본사': 392, '원': 393, '증정하': 394, '마스크': 395, '갤러리아': 396, '출시': 397, '타임스': 398, '체계': 399, '직접': 400, '린': 401, '군': 402, '대조': 403, '무엇': 404, '조사': 405, '느끼': 406, '정신': 407, '효과': 408, '없이': 409, '선정되': 410, '본부': 411, '이용하': 412, '모으': 413, '운영하': 414, '마련하': 415, '천연': 416, '제조': 417, '수준': 418, '추가': 419, '한편': 420, '여': 421, '선택하': 422, '논란': 423, '전년': 424, '활용하': 425, '시리즈': 426, '일본': 427, '미술': 428, '운동': 429, '이어': 430, '눈': 431, '전주': 432, '민족': 433, '국토부': 434, '기대': 435, '결과': 436, '팀장': 437, '못하': 438, '커머스': 439, '결제': 440, '디자인': 441, '컵': 442, '케이크': 443, '소비자': 444, '산은': 445, '악': 446, '자료집': 447, '헤어': 448, '멜로': 449, '멜': 450, 'sk': 451, '부문': 452, '성장': 453, '기술': 454, '가속기': 455, '연구소': 456, '과학': 457, '박': 458, '마음': 459, '선': 460, '난소': 461, '생기': 462, '환자': 463, '배': 464, '당시': 465, '나서': 466, '자연': 467, '신': 468, '늘': 469, '현재': 470, '대중': 471, '인수': 472, '한국콜마': 473, '국적': 474, '강화하': 475, '다루': 476, '나오': 477, '평창동': 478, '계': 479, '비': 480, '맡': 481, '전북': 482, '위': 483, '교통량': 484, '통행료': 485, '실시하': 486, '내륙': 487, '시범': 488, '날': 489, '새롭': 490, '온라인': 491, '상품': 492, '업체': 493, '소재': 494, '두툼': 495, '풍부': 496, '창업': 497, '머그': 498, '조정': 499, '비타민': 500, '사장': 501, '경영': 502, '선거': 503, '위원장': 504, '저자': 505, '아버지': 506, '송': 507, '의약품': 508, '계약': 509, '자체': 510, '지섭': 511, '이동': 512, '사': 513, '장관': 514, '시설': 515, '아이': 516, '낮': 517, '나타나': 518, '변화': 519, '폐경': 520, '겪': 521, '지': 522, '확보하': 523, '개인': 524, '야구': 525, '파이': 526, '튜브': 527, '손': 528, '최고': 529, '먹': 530, '씻': 531, '단체': 532, '데': 533, '국민': 534, '관심': 535, '여러': 536, '유통': 537, '상태': 538, '그룹': 539, '그러나': 540, '포함하': 541, '볼': 542, '행사': 543, '추진하': 544, '방향': 545, '종합': 546, '국제': 547, '리아': 548, '선정': 549, '타': 550, '제': 551, '맺': 552, '펼치': 553, '합동': 554, '당일': 555, '무대': 556, '부르': 557, '지현': 558, '개인전': 559, '욕망': 560, '싱글': 561, '조각': 562, '작업': 563, '모습': 564, '그것': 565, '다하': 566, '그림': 567, '부담': 568, '공부': 569, '뜻': 570, '대학': 571, '기독교': 572, '민': 573, '환경': 574, '대책': 575, '우회': 576, '국도': 577, '일반': 578, '본문': 579, '영역': 580, '꿈꾸': 581, '뭐': 582, '입지': 583, '세': 584, '기록': 585, '예선': 586, '트리플': 587, '아이템': 588, '세련되': 589, '하겐다즈': 590, '스톰': 591, '세트': 592, '참석하': 593, '입장': 594, '조건': 595, '인도': 596, '목사': 597, '대통령': 598, '교회': 599, '펴내': 600, '송호근': 601, '인터파크': 602, '상품권': 603, '예스': 604, '소방관': 605, '케미칼': 606, '결정': 607, '단계': 608, '노력': 609, '방식': 610, '경쟁력': 611, '밸런타인데이': 612, '끌': 613, '소개하': 614, '갖추': 615, '다르': 616, '실험': 617, '구축하': 618, '다': 619, '들': 620, '가지': 621, '생각': 622, '결정하': 623, '몸': 624, '주제': 625, '그리고': 626, '고려하': 627, '무료': 628, '국내외': 629, '증상': 630, '부응하': 631, '업무': 632, '늘어나': 633, '필요': 634, '더욱': 635, '다이어트': 636, '우선': 637, '사전': 638, '제약': 639, '자회사': 640, '중심': 641, '상': 642, '자': 643, '해당하': 644, '여기': 645, '바이': 646, '임금': 647, '면제': 648, '성공하': 649, '극': 650, '영상': 651, '아트': 652, '연출하': 653, '강원도': 654, '북한': 655, '오페라': 656, '연합뉴스': 657, '주인공': 658, '강': 659, '생각하': 660, '맞추': 661, '살': 662, '참여': 663, '남자': 664, '깊': 665, '배우': 666, '유명': 667, '페이지': 668, '최선': 669, '활동하': 670, '육': 671, '송만규': 672, '울': 673, '특징': 674, '가득': 675, '명절': 676, '앱': 677, '무안': 678, '청주': 679, '각': 680, '최': 681, '주말': 682, '주행': 683, '순': 684, '이사': 685, '운송': 686, '애': 687, '모굴': 688, '스키': 689, '악셀': 690, '차이': 691, '몰': 692, '가맹점': 693, '부드럽': 694, '와일드': 695, '웨이브': 696, '초콜릿': 697, '사용': 698, '기념': 699, '정': 700, '임단협': 701, '노사': 702, '제시하': 703, '포인트': 704, '공정': 705, '오일': 706, '표면': 707, '그대로': 708, '레이스': 709, '요구': 710, '립': 711, '제기되': 712, '할인': 713, '구매하': 714, '면세점': 715, '기프트': 716, '서훈': 717, '독립운동': 718, '영희': 719, '명품': 720, '블루': 721, '링': 722, '매치하': 723, '별도': 724, '바탕': 725, '입': 726, '전자': 727, '지진': 728, '대응': 729, '부': 730, '운영': 731, '소요되': 732, '수행하': 733, '우리나라': 734, '관리': 735, '적출': 736, '심혈관': 737, '치료법': 738, '가능': 739, '보존하': 740, '중요하': 741, '젊': 742, '추적': 743, '이하': 744, '빠르': 745, '시아': 746, '향후': 747, '목표': 748, '맞춤': 749, '경향신문': 750, '트위터': 751, '자폐증': 752, '치료제': 753, '재': 754, '유기': 755, '분야': 756, '개발하': 757, '떠오르': 758, '프로그램': 759, '줄': 760, '주로': 761, '생활': 762, '학교': 763, '한의약': 764, '성장하': 765, '전통': 766, '사모': 767, '펀드': 768, '적극적': 769, '구': 770, '대한민국': 771, '연장': 772, '연': 773, '슬론': 774, '폐': 775, '일자리': 776, '사항': 777, '여행': 778, '기': 779, '선두': 780, '팔': 781, '이전': 782, '모자이크': 783, '페스티벌': 784, '경포호': 785, '달': 786, '이달': 787, '요청': 788, '덧붙이': 789, '남북': 790, '위치하': 791, '관하': 792, '트렌드': 793, '펜': 794, '시기': 795, '맨': 796, '의식': 797, '불': 798, '표현하': 799, '기획': 800, '녹색': 801, '비판': 802, '논리': 803, '분석': 804, '인하': 805, '역': 806, '끝': 807, '강물': 808, '한겨레': 809, '회장': 810, '화': 811, '회원': 812, '듣': 813, '어떻': 814, '풀': 815, '예수': 816, '새벽': 817, '존': 818, '각각': 819, '세종': 820, '밖': 821, '단독': 822, '적': 823, '투입하': 824, '완성하': 825, '도시': 826, '시민': 827, '철도': 828, '이용객': 829, '갓길': 830, '신규': 831, '달마': 832, '자료': 833, '최초': 834, '연기': 835, '반': 836, '공기': 837, '이베이': 838, '현지': 839, '패턴': 840, '라인': 841, '이생': 842, '우': 843, '해지': 844, '푸드': 845, '요리': 846, '탄생': 847, '체험': 848, '아름답': 849, '광양': 850, '기온': 851, '세상': 852, '위로': 853, '증자': 854, '하자': 855, '교환': 856, '트림': 857, '앞두': 858, '기도하': 859, '주교': 860, '단일': 861, '간담회': 862, '찬양': 863, '홍천': 864, '사이즈': 865, '장편': 866, '법인': 867, '미래': 868, '생산하': 869, '공장': 870, '비중': 871, '전략': 872, '본격': 873, '영문': 874, 'lg': 875, '출시하': 876, '방사': 877, '설명': 878, '아울러': 879, '역할': 880, '추천하': 881, '나라': 882, '필요하': 883, '병원': 884, '과거': 885, '자라': 886, '남기': 887, '의학': 888, '힐': 889, '기관': 890, '요인': 891, '끼치': 892, '만화': 893, '뉴': 894, '자폐': 895, '동물': 896, '시스템': 897, '핵심': 898, '행동': 899, '개선하': 900, '확인하': 901, '감염자': 902, '병': 903, '예방': 904, '익히': 905, '걸리': 906, '거치': 907, '예방하': 908, '돌아오': 909, '문': 910, '공급하': 911, '발전': 912, '회': 913, '부회장': 914, '그렇게': 915, '형태': 916, '동시': 917, '협력': 918, '모임': 919, '학생': 920, '명': 921, '복지관': 922, '인체': 923, '뛰어나': 924, '갈등': 925, '경쟁': 926, '전달하': 927, '충남': 928, '제도': 929, '병역': 930, '출신': 931, '이민': 932, '기존': 933, '임대': 934, '늘리': 935, '관': 936, '대체': 937, '레이트': 938, '삼': 939, '처': 940, '밀': 941, '셀': 942, '작업하': 943, '오트': 944, '화려': 945, '시선': 946, '출연하': 947, '조명': 948, '서현': 949, '청와대': 950, '곡': 951, '공간': 952, '홀': 953, '담기': 954, '영국': 955, '최신': 956, '주목': 957, '소요': 958, '모르': 959, '제목': 960, '논의': 961, '투구': 962, '내놓': 963, '으': 964, '어떤': 965, '색': 966, '공': 967, '광장': 968, '빠지': 969, '서울대': 970, '어렵': 971, '찍': 972, '목': 973, '한눈': 974, '미디어': 975, '이명행': 976, '사과': 977, '일어나': 978, '클릭': 979, '갖': 980, '여름': 981, '사랑': 982, '폭': 983, '보내': 984, '부분': 985, '매력': 986, '하지만': 987, '위해선': 988, '워터': 989, '님프': 990, '온': 991, '다음날': 992, '배분되': 993, '여객': 994, '항공사': 995, '이어지': 996, '새': 997, '나누': 998, '설날': 999, '승용차': 1000, '지정': 1001, '항공기': 1002, '지상': 1003, '중': 1004, '소통': 1005, '진출': 1006, '지원하': 1007, '비롯': 1008, '연맹': 1009, '대회': 1010, '롤리': 1011, '최재우': 1012, '프리': 1013, '점프': 1014, '마지막': 1015, '리그': 1016, '가전': 1017, '함': 1018, '의미': 1019, '물론': 1020, '느낌': 1021, '분위기': 1022, '경험': 1023, '매장': 1024, '화이트': 1025, '소파': 1026, '구성되': 1027, '철학': 1028, '전문점': 1029, '김수경': 1030, '에디터': 1031, '아이스크림': 1032, '마카': 1033, '다미': 1034, '상큼': 1035, '만족': 1036, '함유되': 1037, '뜨겁': 1038, '로컬': 1039, '수제': 1040, '사랑하': 1041, '내리': 1042, '장': 1043, '후원': 1044, '김여익': 1045, '전남': 1046, '이슈': 1047, '돕': 1048, '제주도': 1049, '전라도': 1050, '노조': 1051, '교섭': 1052, '물량': 1053, '관련하': 1054, '오해': 1055, '프레스': 1056, '혼': 1057, '상당': 1058, '지급': 1059, '힌': 1060, '돈': 1061, '모닝': 1062, '엥': 1063, '조선': 1064, '고용': 1065, '승리': 1066, '청원': 1067, '정권': 1068, '상임': 1069, '인터뷰': 1070, '윤': 1071, '조선일보': 1072, '적폐': 1073, '선하': 1074, '원문': 1075, '문답': 1076, '눈물': 1077, '상상력': 1078, '이념': 1079, '읽기': 1080, '낙찰': 1081, '경매': 1082, '화성': 1083, '발간하': 1084, '마중': 1085, '의상': 1086, '니트': 1087, '추출물': 1088, '시트': 1089, '갤러리아백화점': 1090, '양태': 1091, '룩': 1092, '미스': 1093, '프리미엄': 1094, '구축': 1095, '경북': 1096, '주주': 1097, '가치': 1098, '성과': 1099, '라즈': 1100, '버리': 1101, '베리': 1102, '직원': 1103, '방문하': 1104, '철저히': 1105, '켜': 1106, '물질': 1107, '보유하': 1108, '가량': 1109, '안정': 1110, '미치': 1111, '발표되': 1112, '마치': 1113, '모': 1114, '관련되': 1115, '양성': 1116, '김재욱': 1117, '원장': 1118, '쉽': 1119, '적용하': 1120, '이유': 1121, '일으키': 1122, '코': 1123, '동맥': 1124, '담당하': 1125, '고르': 1126, '분석하': 1127, '무': 1128, '앞당기': 1129, '비하': 1130, '만': 1131, '골': 1132, '비교': 1133, '연구하': 1134, '기도': 1135, '상담': 1136, '바이오': 1137, '로벤': 1138, '포부': 1139, '음식': 1140, '반드시': 1141, '조직': 1142, '확진': 1143, '어린이': 1144, '안전하': 1145, '분업': 1146, '우수': 1147, '앞장서': 1148, '준비': 1149, '취득하': 1150, '과제': 1151, '노력하': 1152, '공개되': 1153, '가공': 1154, '강의': 1155, '협상': 1156, '위탁': 1157, '인수하': 1158, '현금': 1159, '그치': 1160, '단': 1161, '의지': 1162, '드러내': 1163, '염': 1164, '매출': 1165, '복무': 1166, '부모': 1167, '방안': 1168, '검토하': 1169, '비자': 1170, '기본': 1171, '발언': 1172, '연구원': 1173, '러시아': 1174, '점수': 1175, '확인': 1176, '피해': 1177, '플러스': 1178, '판권': 1179, '처방': 1180, '복제': 1181, '콜린': 1182, '이탈리아': 1183, '들어가': 1184, '트리': 1185, '리': 1186, '책임': 1187, '오리지널': 1188, '환상': 1189, '이것': 1190, '라이트': 1191, '취재': 1192, '보름달': 1193, '뜨': 1194, '우아': 1195, '매일': 1196, '출연': 1197, '짧': 1198, '같이': 1199, '화제': 1200, '이명박': 1201, '비엔날레': 1202, '관계': 1203, '꾸준히': 1204, '출품하': 1205, '강원': 1206, '출품작': 1207, '권력': 1208, '내면': 1209, '거리': 1210, '자기': 1211, '퍼포먼스': 1212, '속도': 1213, '부근': 1214, '지식인': 1215, '앞서': 1216, '지구': 1217, '재료': 1218, '영': 1219, '전문가': 1220, '카카오톡': 1221, '진심': 1222, '말씀': 1223, '감사하': 1224, '뮤지컬': 1225, '붓': 1226, '섬': 1227, '고전': 1228, '인문학': 1229, '이름': 1230, '돌아가': 1231, '물줄기': 1232, '살아가': 1233, '시절': 1234, '피로': 1235, '라스': 1236, '순간': 1237, '혹': 1238, '붐비': 1239, '빅': 1240, '공감': 1241, '넓': 1242, '대한항공': 1243, '아시아나': 1244, '인천': 1245, '화물': 1246, '신청하': 1247, '수원': 1248, '연말': 1249, '청': 1250, '북부': 1251, '각종': 1252, '출퇴근': 1253, '미': 1254, '확장하': 1255, '분산': 1256, '용진': 1257, '축': 1258, '전체': 1259, '영동선': 1260, '전용': 1261, '운영되': 1262, '흐름': 1263, '수송': 1264, '장착하': 1265, '집중': 1266, '차례': 1267, '독자': 1268, '정상': 1269, '향상': 1270, '품질': 1271, '간': 1272, '제출하': 1273, '강화도': 1274, '제공되': 1275, '관왕': 1276, '걸': 1277, '결선': 1278, '미라이': 1279, '참가하': 1280, '기억': 1281, '오스마': 1282, '기회': 1283, '품목': 1284, '전경우': 1285, '레이션': 1286, '역시': 1287, '화사': 1288, '골퍼': 1289, '따뜻': 1290, '시즌': 1291, '감각': 1292, '편안하': 1293, '관광': 1294, '대구': 1295, '충북': 1296, '원단': 1297, '좀': 1298, '생': 1299, '인정하': 1300, '가볍': 1301, '메뉴': 1302, '레': 1303, '접하': 1304, '시작되': 1305, '사이트': 1306, '필수': 1307, '핫': 1308, '대사관': 1309, '수산물': 1310, '카페': 1311, '도움': 1312, '재테크': 1313, '적자': 1314, '도병욱': 1315, '지난달': 1316, '통상': 1317, '배정하': 1318, '맞서': 1319, '논의하': 1320, '충전소': 1321, '오렌지': 1322, '막연': 1323, '등록': 1324, '이내': 1325, '받아들이': 1326, '실내': 1327, '해당': 1328, '분쟁': 1329, '의하': 1330, '쿠폰': 1331, '자세하': 1332, '쌍용차': 1333, '박종관': 1334, '달리': 1335, '카브': 1336, '레이': 1337, '싱': 1338, '생존': 1339, '출자': 1340, '진정': 1341, '고민': 1342, '미션': 1343, '라이프': 1344, '누구': 1345, '유신': 1346, '목회자': 1347, '정치': 1348, '인상': 1349, '그리스도인': 1350, '소식': 1351, '톡': 1352, '사순': 1353, '감정': 1354, '회견': 1355, '청산': 1356, '네': 1357, '시당': 1358, '추첨': 1359, '참되': 1360, '혜': 1361, '지음': 1362, '펴': 1363, '인생': 1364, '염려': 1365, '웨스트민스터': 1366, '소': 1367, '교리': 1368, '사회학자': 1369, '평양': 1370, '사회학': 1371, '전쟁': 1372, '증정': 1373, '협회': 1374, '미술품': 1375, '인터뷰하': 1376, '홍': 1377, '원료': 1378, '뷰': 1379, '메이드': 1380, '젤리': 1381, '콜라': 1382, '황금': 1383, '김남주': 1384, '파자마': 1385, '고혜란': 1386, '주력': 1387, '인프라': 1388, '안동': 1389, '짓': 1390, '유치하': 1391, '로즈': 1392, '방문': 1393, '당부하': 1394, '장비': 1395, '기초': 1396, '록': 1397, '노출되': 1398, '의사': 1399, '묻': 1400, '부인': 1401, '통': 1402, '유발하': 1403, '생명': 1404, '임신': 1405, '증': 1406, '호르몬': 1407, '보존': 1408, '후유증': 1409, '뽑': 1410, '증가': 1411, '학회': 1412, '실리': 1413, '대사': 1414, '관상': 1415, '분석되': 1416, '위험': 1417, '가정': 1418, '나머지': 1419, '상대': 1420, '나이': 1421, '증후군': 1422, '밀도': 1423, '신체': 1424, '따라서': 1425, '하이': 1426, '술': 1427, '특화되': 1428, '신찬영': 1429, '설립하': 1430, '작용': 1431, '세가': 1432, '특화': 1433, '신약': 1434, '임상': 1435, '경기장': 1436, '집계되': 1437, '오염되': 1438, '노인': 1439, '영하': 1440, '살아남': 1441, '지하수': 1442, '만지': 1443, '매우': 1444, '비누': 1445, '깨끗': 1446, '염소': 1447, '소독제': 1448, '파악하': 1449, '습관': 1450, '시행': 1451, '웰빙': 1452, '제제': 1453, '현대인': 1454, '체제': 1455, '봉사': 1456, '형성': 1457, '힘쓰': 1458, '원인': 1459, '파': 1460, '전후': 1461, '제약사': 1462, '업': 1463, '매각': 1464, '전망되': 1465, '빌리': 1466, '숨': 1467, '자리': 1468, '임': 1469, '관측': 1470, '새해': 1471, '입영': 1472, '체납': 1473, '다문화': 1474, '확정하': 1475, '얻': 1476, '연령': 1477, '원하': 1478, '법무부': 1479, '자녀': 1480, '지적': 1481, '배경': 1482, '인재': 1483, '유공자': 1484, '출전하': 1485, '해당되': 1486, '적용되': 1487, '안팎': 1488, '지우': 1489, '도입': 1490, '양': 1491, '바꾸': 1492, '반영하': 1493, '취지': 1494, '불법': 1495, '적발하': 1496, '신설하': 1497, '허': 1498, '외국': 1499, '인권': 1500, '카카오': 1501, '판매량': 1502, '웅': 1503, '원외': 1504, '액': 1505, '거두': 1506, '들이': 1507, '마무리하': 1508, '재고': 1509, '클린': 1510, '커지': 1511, '사실주의': 1512, '헤럴드': 1513, '집단': 1514, '모이': 1515, '관객': 1516, '터': 1517, '구독하': 1518, '호수': 1519, '쇼': 1520, '연예': 1521, '아티스트': 1522, '준비하': 1523, '가수': 1524, '꾸미': 1525, '블루스': 1526, '세기': 1527, '음악': 1528, '콘텐츠': 1529, '제작하': 1530, '문의': 1531, '유행': 1532, '움직이': 1533, '리조트': 1534, '개막식': 1535, '돌': 1536, '개념': 1537, '바라': 1538, '형상': 1539, '어디': 1540, '혼란': 1541, '아무': 1542, '출구': 1543, '매체': 1544, '수치': 1545, '개성': 1546, '구체': 1547, '지식': 1548, '얼굴': 1549, '프로메테우스': 1550, '아': 1551, '결과물': 1552, '사태': 1553, '왜': 1554, '질문': 1555, '중앙': 1556, '도장': 1557, '전시장': 1558, '미술관': 1559, '어': 1560, '안승일': 1561, '사진전': 1562, '이데일리': 1563, '걸치': 1564, '중도': 1565, '하차하': 1566, '당하': 1567, '확산되': 1568, '여인': 1569, '올리': 1570, '죄송': 1571, '의혹': 1572, '채우': 1573, '영화': 1574, '오가': 1575, '청년': 1576, '화가': 1577, '감': 1578, '머물': 1579, '기세': 1580, '추': 1581, '마찬가지': 1582, '이렇게': 1583, '민중': 1584, '놀': 1585, '이야기하': 1586, '맛있': 1587, '더불': 1588, '위원': 1589, '미련': 1590, '지내': 1591, '이때': 1592, '전시': 1593, '소리': 1594, '이곳': 1595, '사고': 1596, '토대': 1597, '절친': 1598, '신문': 1599, '애니멀': 1600, '피플': 1601, '한겨레신문': 1602, '아침': 1603, '경': 1604, '신화': 1605, '등장하': 1606, '연꽃': 1607, '막히': 1608, '이동하': 1609, '광': 1610, '전망': 1611, '객': 1612, '시내': 1613, '운행하': 1614, '스마트폰': 1615, '데이터': 1616, '주가': 1617, '시세표': 1618, '언론': 1619, '통신사': 1620, '하늘': 1621, '너': 1622, '배분': 1623, '김희준': 1624, '괌': 1625, '심의': 1626, '김해': 1627, '제주공항': 1628, '에어': 1629, '제외': 1630, '구로': 1631, '간선': 1632, '전주시': 1633, '교통망': 1634, '동부': 1635, '편리하': 1636, '교차로': 1637, '방침': 1638, '통과하': 1639, '세우': 1640, '토': 1641, '완료하': 1642, '해소하': 1643, '면제되': 1644, '수도': 1645, '조사되': 1646, '과천': 1647, '시외버스': 1648, '평일': 1649, '고속버스': 1650, '잠깐': 1651, '경부선': 1652, '평시': 1653, '점검': 1654, '없애': 1655, '비상': 1656, '유관': 1657, '연계하': 1658, '경찰': 1659, '설교': 1660, '조사하': 1661, '수단': 1662, '중부': 1663, '기반': 1664, '고향': 1665, '방송': 1666, '개통되': 1667, '머니': 1668, '중구': 1669, '오늘': 1670, '종목': 1671, '넘기': 1672, '순위': 1673, '예술': 1674, '깔끔': 1675, '추진': 1676, '구매액': 1677, '청정기': 1678, '청소기': 1679, '간편': 1680, '돌리': 1681, '배송': 1682, '거래': 1683, '가성': 1684, '초': 1685, '강자': 1686, '오픈하': 1687, '겨울': 1688, '봄': 1689, '골프화': 1690, '감성': 1691, '일상': 1692, '밝': 1693, '권': 1694, '원주': 1695, '춘천': 1696, '남부': 1697, '포함되': 1698, '코오롱': 1699, '기부': 1700, '가구': 1701, '쿠션': 1702, '장소': 1703, '유승호': 1704, '숙성': 1705, '삼겹살': 1706, '소스': 1707, '절': 1708, '탁월': 1709, '본점': 1710, '스트로': 1711, '진한': 1712, '플레이': 1713, '등급': 1714, '시피': 1715, '식품': 1716, '권동주': 1717, '닭': 1718, '종': 1719, '얼마': 1720, '콘셉트': 1721, '개최': 1722, '기념하': 1723, '어울리': 1724, '초코': 1725, '전자레인지': 1726, '달콤': 1727, '해보': 1728, '분량': 1729, '달걀': 1730, '가루': 1731, '섞어': 1732, '이노베이션': 1733, '이루어지': 1734, '디저트': 1735, '커피': 1736, '후원하': 1737, '전개하': 1738, '공헌': 1739, '적극': 1740, '환': 1741, '양식': 1742, '역사관': 1743, '묘표': 1744, '마련되': 1745, '유래': 1746, '핫하': 1747, '총집결': 1748, '식이': 1749, '건강식품': 1750, '포피': 1751, '섬유': 1752, '섭취하': 1753, '산지': 1754, '기상청': 1755, '벨로': 1756, '터보': 1757, '늪': 1758, '사실': 1759, '제너럴모터스': 1760, '지급하': 1761, '깊이': 1762, '악순환': 1763, '결국': 1764, '자동차': 1765, '인식': 1766, '치': 1767, '불안감': 1768, '발생되': 1769, '심려': 1770, '혼다': 1771, '확인되': 1772, '성능': 1773, '분명히': 1774, '객관적': 1775, '주장': 1776, '임의로': 1777, '충격': 1778, '당사': 1779, '제거': 1780, '방청': 1781, '보증': 1782, '필터': 1783, '지원금': 1784, '조립': 1785, '스모': 1786, '스포트': 1787, '챌린지': 1788, '드라이버': 1789, '선착순': 1790, '맡기': 1791, '서두르': 1792, '자원부': 1793, '밀레니엄': 1794, '포럼': 1795, '찾아오': 1796, '이자': 1797, '새로': 1798, '요구하': 1799, '답': 1800, '백': 1801, '회복하': 1802, '노동': 1803, '총장': 1804, '김성혜': 1805, '취': 1806, '비전': 1807, '십자가': 1808, '폐지': 1809, '경배': 1810, '앵커': 1811, '세력': 1812, '전두환': 1813, '국보위': 1814, '박근혜': 1815, '채팅하': 1816, '동영상': 1817, '성령': 1818, '거하': 1819, '정미연': 1820, '삽화': 1821, '울산시': 1822, '항쟁': 1823, '연대': 1824, '수화': 1825, '이다희': 1826, '신실하': 1827, '바뀌': 1828, '예고': 1829, '김영범': 1830, '사목': 1831, '고인': 1832, '빛나': 1833, '김형석': 1834, '신앙': 1835, '집필': 1836, '맥스': 1837, '옮기': 1838, '김영남': 1839, '원점': 1840, '종군': 1841, '아쿠타가와': 1842, '미학': 1843, '최재봉': 1844, '상실되': 1845, '나남출판': 1846, '인사동': 1847, '신영': 1848, '일본어': 1849, '단편': 1850, '행적': 1851, '애정': 1852, '페이': 1853, '적립금': 1854, '보너스': 1855, '노트': 1856, '다용도': 1857, '출간': 1858, '경매사': 1859, '서울옥션': 1860, '발간': 1861, '찾아보': 1862, '홈': 1863, '한국일보': 1864, '니': 1865, '박이': 1866, '군산': 1867, '수상': 1868, '고': 1869, '부띠끄': 1870, '고급': 1871, '불우': 1872, '유해': 1873, '펄': 1874, '어비스': 1875, '프로모션': 1876, '태반': 1877, '콜라겐': 1878, '블루베리': 1879, '옐로우': 1880, '젠체하': 1881, '트렌디하': 1882, '시계': 1883, '맨투맨': 1884, '데님': 1885, '티셔츠': 1886, '팬츠': 1887, '남주': 1888, '폼': 1889, '라벨': 1890, '분사': 1891, '진입': 1892, '설립': 1893, '분사하': 1894, '세포': 1895, '배양': 1896, '차세대': 1897, '독감': 1898, '포진': 1899, '투자자': 1900, '공개': 1901, '기여하': 1902, '창출하': 1903, '진입하': 1904, '통신': 1905, '색상': 1906, '유영민': 1907, '가속': 1908, '위기관리': 1909, '미세': 1910, '다만': 1911, '전원': 1912, '공급': 1913, '얼': 1914, '최대하': 1915, '연구자': 1916, '확률': 1917, '해결하': 1918, '제거하': 1919, '확실': 1920, '암': 1921, '꼭': 1922, '과': 1923, '민트': 1924, '근': 1925, '권유하': 1926, '위치': 1927, '절제술': 1928, '믿': 1929, '분비': 1930, '의견': 1931, '박사': 1932, '동일하': 1933, '고지혈증': 1934, '심부전': 1935, '사성': 1936, '비교하': 1937, '경향': 1938, '듀크': 1939, '절반': 1940, '한쪽': 1941, '갱년기': 1942, '감소': 1943, '이른': 1944, '굴': 1945, '성생활': 1946, '제거되': 1947, '심': 1948, '성교': 1949, '질': 1950, '건조': 1951, '해지기': 1952, '유리하': 1953, '조언하': 1954, '근거': 1955, '존재하': 1956, '고집하': 1957, '진정한': 1958, '뇌신경': 1959, '벤처': 1960, '범주': 1961, '대학원': 1962, '유일하': 1963, '아직': 1964, '억제제': 1965, '기전': 1966, '선택': 1967, '다중': 1968, '효능': 1969, '평가': 1970, '동반': 1971, '조절하': 1972, '타입': 1973, '부작용': 1974, '약물': 1975, '화두': 1976, '치료하': 1977, '수립하': 1978, '혁명': 1979, '품': 1980, '복병': 1981, '접촉': 1982, '감염': 1983, '보안': 1984, '씻기': 1985, '당국': 1986, '계속': 1987, '김진수': 1988, '음식물': 1989, '신속하': 1990, '질병': 1991, '온도': 1992, '채소': 1993, '과일': 1994, '해조': 1995, '전염': 1996, '구토': 1997, '설사': 1998, '되도록': 1999, '마시': 2000, '집안': 2001, '희석하': 2002, '청소하': 2003, '위생': 2004, '기여': 2005, '한방': 2006, '시점': 2007, '증진': 2008, '국': 2009, '통증': 2010, '물리': 2011, '고통': 2012, '굴레': 2013, '계기': 2014, '한약학': 2015, '진학하': 2016, '선호하': 2017, '표준화': 2018, '구현하': 2019, '긴밀': 2020, '소통하': 2021, '단순히': 2022, '만성': 2023, '한약재': 2024, '기울이': 2025, '피력하': 2026, '유력': 2027, '제일제당': 2028, '본격화되': 2029, '대상자': 2030, '입찰': 2031, '애인': 2032, '컴퍼니': 2033, '뛰어들': 2034, '나선': 2035, '분기': 2036, '현금성': 2037, '자산': 2038, '부족하': 2039, '금융': 2040, '잡': 2041, '회의': 2042, '추정되': 2043, '하기': 2044, '달성하': 2045, '허가': 2046, '싣': 2047, '영업': 2048, '이익': 2049, '내국인': 2050, '형평': 2051, '육군': 2052, '훈련소': 2053, '입대하': 2054, '복무하': 2055, '보험': 2056, '부당': 2057, '이득금': 2058, '범칙금': 2059, '과태료': 2060, '연석회의': 2061, '통합하': 2062, '한국인': 2063, '남편': 2064, '낳': 2065, '부여하': 2066, '반면': 2067, '복지': 2068, '누리': 2069, '제외하': 2070, '실제': 2071, '특정': 2072, '이러': 2073, '학력': 2074, '도입하': 2075, '유입되': 2076, '한층': 2077, '산하': 2078, '입력하': 2079, '세금': 2080, '확대하': 2081, '하나': 2082, '폭력': 2083, '주택': 2084, '키우': 2085, '근로': 2086, '결혼': 2087, '중앙일보': 2088, 'jtbc': 2089, '빚': 2090, '우위': 2091, '넘어가': 2092, '판매하': 2093, '대원': 2094, '포': 2095, '세이트': 2096, '치매': 2097, '창작': 2098, '극장': 2099, '연출가': 2100, '고프': 2101, '뒤렌마트': 2102, '이오네스코': 2103, '영양': 2104, '수면': 2105, '무용수': 2106, '강릉시': 2107, '일원': 2108, '예술단': 2109, '전격': 2110, '성사': 2111, '양병훈': 2112, '조미현': 2113, '국립': 2114, '익숙': 2115, '노래': 2116, '연습': 2117, '사치하': 2118, '복합': 2119, '박쥐': 2120, '그린': 2121, '클래식': 2122, '도쿄': 2123, '커뮤니티': 2124, '원작': 2125, '모양': 2126, '이상하': 2127, '나쁘': 2128, '매끄럽': 2129, '뜻하': 2130, '헤매': 2131, '숨기': 2132, '멀': 2133, '쓰이': 2134, '비디오': 2135, '자화상': 2136, '장면': 2137, '군상': 2138, '기울기': 2139, '위기': 2140, '엘리트': 2141, '쓰러지': 2142, '쥐': 2143, '성찰': 2144, '공조': 2145, '쏟': 2146, '빚어지': 2147, '매개': 2148, '딜레마': 2149, '답하': 2150, '벽면': 2151, '김종': 2152, '갤러리': 2153, '산': 2154, '백두': 2155, '권소현': 2156, '백두산': 2157, '천지': 2158, '감동': 2159, '나무': 2160, '공개하': 2161, '성추행': 2162, '연극배우': 2163, '미투': 2164, '거미': 2165, '키스': 2166, '성적': 2167, '이명': 2168, '행': 2169, '팬': 2170, '사과드리': 2171, '소셜': 2172, '변경': 2173, '빈자리': 2174, '시티': 2175, '드라마': 2176, '싸움': 2177, '대행': 2178, '공부하': 2179, '작업실': 2180, '새달': 2181, '전화': 2182, '출범하': 2183, '명칭': 2184, '꾸리': 2185, '고대': 2186, '사상의': 2187, '학당': 2188, '출범': 2189, '합류하': 2190, '변혁': 2191, '문민정부': 2192, '해체': 2193, '공황': 2194, '포근': 2195, '토론': 2196, '얘기': 2197, '왕시루봉': 2198, '연결되': 2199, '흐르': 2200, '비슷': 2201, '늦': 2202, '대형': 2203, '걸개그림': 2204, '해방': 2205, '들어서': 2206, '현장': 2207, '잡아내': 2208, '제대로': 2209, '물들': 2210, '반쪽': 2211, '바라보': 2212, '일단': 2213, '학술': 2214, '실천하': 2215, '놀이': 2216, '현상': 2217, '반전': 2218, '평화': 2219, '선임': 2220, '윌리엄': 2221, '갑': 2222, '세례': 2223, '부친': 2224, '맨체스터': 2225, '반하': 2226, '끄': 2227, '수동': 2228, '템페스트': 2229, '합치': 2230, '해석': 2231, '준비되': 2232, '각기': 2233, '음악극': 2234, '입맛': 2235, '남산': 2236, '내다보': 2237, '지하철': 2238, '혼잡': 2239, '최적': 2240, '출발': 2241, '실시간': 2242, '나고야': 2243, '후쿠오카': 2244, '경유하': 2245, '확장되': 2246, '필리핀': 2247, '배분하': 2248, '회담': 2249, '제지': 2250, '김포공항': 2251, '대구공항': 2252, '호주': 2253, '동경': 2254, '횟수': 2255, '상하': 2256, '희망': 2257, '장안구': 2258, '건설': 2259, '공사': 2260, '청사': 2261, '안양': 2262, '개통': 2263, '개설': 2264, '사통팔달': 2265, '넓히': 2266, '완성': 2267, '춘': 2268, '박물관': 2269, '교': 2270, '동': 2271, '금암': 2272, '연계': 2273, '개설하': 2274, '물류': 2275, '이해성': 2276, '현황': 2277, '승객': 2278, '인': 2279, '통행': 2280, '경기도': 2281, '정류장': 2282, '고속': 2283, '첫날': 2284, '추석': 2285, '한남대교': 2286, '남단': 2287, '신탄진': 2288, '연장되': 2289, '항만': 2290, '위해': 2291, '대비하': 2292, '법규': 2293, '준수': 2294, '감시': 2295, '카메라': 2296, '드론': 2297, '위반': 2298, '헬기': 2299, '암행': 2300, '순찰차': 2301, '음주': 2302, '난폭': 2303, '보복': 2304, '운전': 2305, '단속하': 2306, '통대': 2307, '수요': 2308, '여객선': 2309, '집중되': 2310, '예상': 2311, '목포': 2312, '윤재욱': 2313, '초대': 2314, '외항': 2315, '전세기': 2316, '중견': 2317, '표준': 2318, '절차': 2319, '끌어올리': 2320, '막': 2321, '단말기': 2322, '여주': 2323, '감안하': 2324, '신설': 2325, '확보': 2326, '원활하': 2327, '운행': 2328, '인터넷': 2329, '홍보': 2330, '지정하': 2331, '안내': 2332, '임시': 2333, '창': 2334, '태': 2335, '시범단': 2336, '서울특별시': 2337, '다목적': 2338, '취재단': 2339, '아쉽': 2340, '오른': 2341, '놓치': 2342, '과시하': 2343, '쿠': 2344, '즈': 2345, '금메달': 2346, '스프린트': 2347, '밴쿠버': 2348, '김유림': 2349, '확정': 2350, '휘': 2351, '닉스': 2352, '스노': 2353, '슬로프': 2354, '코스': 2355, '정하': 2356, '출전': 2357, '치르': 2358, '아이스': 2359, '아레나': 2360, '피겨': 2361, '스케이팅': 2362, '시도하': 2363, '완벽하': 2364, '소화하': 2365, '동메달': 2366, '메달': 2367, '인정받': 2368, '밟': 2369, '강영신': 2370, '프로': 2371, '진출하': 2372, '테스트': 2373, '전력': 2374, '판매자': 2375, '강화': 2376, '몫': 2377, '유럽': 2378, '몰리': 2379, '족': 2380, '마켓': 2381, '차지': 2382, '계절': 2383, '꼽히': 2384, '샤오미': 2385, '무선': 2386, '포함': 2387, '손쉽': 2388, '성격': 2389, '이제': 2390, '실속': 2391, '쇼핑몰': 2392, '비용': 2393, '불편': 2394, '쇼핑': 2395, '거래액': 2396, '알리바바': 2397, '지사': 2398, '행보': 2399, '골프': 2400, '와이드': 2401, '앵글': 2402, '대거': 2403, '보온': 2404, '곧': 2405, '다가오': 2406, '십자': 2407, '풀오버': 2408, '필드': 2409, '살리': 2410, '독특': 2411, '실용': 2412, '함유량': 2413, '오래': 2414, '내기': 2415, '스파이크': 2416, '리스': 2417, '캐주얼하': 2418, '모티브': 2419, '블랙': 2420, '재미있': 2421, '요소': 2422, '제로': 2423, '웨어': 2424, '향상되': 2425, '안정감': 2426, '극대': 2427, '초점': 2428, '문체부': 2429, '선정하': 2430, '자원': 2431, '중앙시장': 2432, '관광공사': 2433, '박람회': 2434, '관광객': 2435, '제작': 2436, '의자': 2437, '라파엘': 2438, '최소': 2439, '총괄': 2440, '즙': 2441, '고소하': 2442, '풍미': 2443, '무한': 2444, '리필': 2445, '돌풍': 2446, '치열하': 2447, '축산물': 2448, '종사하': 2449, '런칭하': 2450, '합리': 2451, '승부하': 2452, '달라': 2453, '본연': 2454, '익': 2455, '겹': 2456, '곁들이': 2457, '특제': 2458, '단위': 2459, '직장인': 2460, '대학생': 2461, '이로': 2462, '대부분': 2463, '차별': 2464, '상급': 2465, '딸기': 2466, '향': 2467, '유니크하': 2468, '편의점': 2469, '라인업': 2470, '펼쳐지': 2471, '고려': 2472, '외식': 2473, '후라이드': 2474, '덜': 2475, '해운대': 2476, '이어받': 2477, '적합하': 2478, '노하우': 2479, '인테리어': 2480, '돋보이': 2481, '자본': 2482, '인지도': 2483, '재즈': 2484, '개최하': 2485, '프로젝트': 2486, '선보': 2487, '선물하': 2488, '조금': 2489, '특별하': 2490, '밀크': 2491, '식용유': 2492, '숟갈': 2493, '골고루': 2494, '보일': 2495, '라이브': 2496, '경험하': 2497, '고등어': 2498, '전시되': 2499, '강국': 2500, '대리': 2501, '멋지': 2502, '맞이': 2503, '텐': 2504, '열정': 2505, '모험': 2506, '생생': 2507, '아동': 2508, '수서': 2509, '명화': 2510, '천': 2511, '남지': 2512, '그동안': 2513, '저소득': 2514, '언제': 2515, '몇': 2516, '표지': 2517, '족보': 2518, '시식': 2519, '인조': 2520, '올라오': 2521, '자룡': 2522, '섬유소': 2523, '회의실': 2524, '회복': 2525, '편하': 2526, '뼈': 2527, '가깝': 2528, '단백질': 2529, '경상': 2530, '서부': 2531, '비닐': 2532, '속보': 2533, '신형': 2534, '완전': 2535, '엔진': 2536, '도출하': 2537, '배정': 2538, '량': 2539, '불만': 2540, '부정': 2541, '삭감': 2542, '감축': 2543, '주장하': 2544, '대림': 2545, '학': 2546, '산업은행': 2547, '유상': 2548, '자동': 2549, '주문': 2550, '캡': 2551, '이외': 2552, '연식': 2553, '겸허하': 2554, '해상': 2555, '종류': 2556, '양상': 2557, '강판': 2558, '누르': 2559, '보호하': 2560, '반박하': 2561, '입증': 2562, '추정': 2563, '개연': 2564, '기반하': 2565, '테스트하': 2566, '차체': 2567, '진동': 2568, '비틀리': 2569, '강도': 2570, '부유물': 2571, '채취하': 2572, '금번': 2573, '추측': 2574, '걱정': 2575, '계시': 2576, '등록하': 2577, '정성': 2578, '실현': 2579, '쌍용자동차': 2580, '칸': 2581, '수출': 2582, '사과하': 2583, '어코드': 2584, '구매자': 2585, '머니투데이': 2586, '장시': 2587, '복': 2588, '그니': 2589, '특유': 2590, '가늘': 2591, '리얼타임': 2592, '기아차': 2593, '못': 2594, '호구': 2595, '잡히': 2596, '전환': 2597, '압박': 2598, '수위': 2599, '제안': 2600, '금리': 2601, '대출': 2602, '안되': 2603, '장창민': 2604, '요청하': 2605, '여부': 2606, '회생': 2607, '현실': 2608, '따지': 2609, '웨스틴조선호텔': 2610, '배리': 2611, '애로': 2612, '얘기하': 2613, '재무': 2614, '비싸': 2615, '마련': 2616, '어느': 2617, '목소리': 2618, '낼': 2619, '대여금': 2620, '전환하': 2621, '힘들': 2622, '벼랑': 2623, '전술': 2624, '휘둘리': 2625, '흘리': 2626, '압박하': 2627, '조만간': 2628, '닫': 2629, '탓': 2630, '결론': 2631, '이태훈': 2632, '김일규': 2633, '오형주': 2634, '이윤': 2635, '그러면': 2636, '조선업': 2637, '유지하': 2638, '보편': 2639, '선도하': 2640, '진로': 2641, '관내': 2642, '히': 2643, '해': 2644, '사탄': 2645, '갇히': 2646, '그리스도': 2647, '악하': 2648, '참': 2649, '소망하': 2650, '폐지하': 2651, '당연': 2652, '어긋나': 2653, '독재': 2654, '축복': 2655, '빌': 2656, '낯': 2657, '미화하': 2658, '악용되': 2659, '종교': 2660, '순수하': 2661, '설교자': 2662, '실천': 2663, '부합하': 2664, '선수촌': 2665, '웰컴': 2666, '선교회': 2667, '선교단': 2668, '촬영': 2669, '이혜지': 2670, '너희': 2671, '처소': 2672, '실': 2673, '사순절': 2674, '기도서': 2675, '성화': 2676, '유명한': 2677, '서울대교구': 2678, '가톨릭': 2679, '출판사': 2680, '발': 2681, '믿음': 2682, '차원': 2683, '조선닷컴': 2684, '토론회': 2685, '의회': 2686, '총연맹': 2687, '개혁': 2688, '열기': 2689, '노동당': 2690, '녹색당': 2691, '민중당': 2692, '정의당': 2693, '윤한섭': 2694, '본부장': 2695, '넘': 2696, '다짐하': 2697, '성황': 2698, '고등부': 2699, '성극': 2700, '워': 2701, '무언극': 2702, '마임': 2703, '어쿠스틱': 2704, '축도': 2705, '마조': 2706, '김세범': 2707, '교육부': 2708, '담당': 2709, '의지하': 2710, '황지호': 2711, '희': 2712, '솔': 2713, '다인': 2714, '황유민': 2715, '김명윤': 2716, '정윤': 2717, '김태웅': 2718, '정유경': 2719, '김다희': 2720, '괴롭히': 2721, '인물': 2722, '신앙생활': 2723, '서예원': 2724, '김선경': 2725, '윤지은': 2726, '염지윤': 2727, '정지윤': 2728, '신하영': 2729, '이예': 2730, '송장': 2731, '재산': 2732, '장례': 2733, '심정': 2734, '목원대': 2735, '신간': 2736, '리포터': 2737, '고스란히': 2738, '대부': 2739, '지니': 2740, '루': 2741, '베스트셀러': 2742, '번역하': 2743, '이해하': 2744, '일제': 2745, '항일': 2746, '의용군': 2747, '벽': 2748, '베이비': 2749, '저의': 2750, '쓰기': 2751, '장벽': 2752, '기금': 2753, '태항산': 2754, '인민군': 2755, '귀국하': 2756, '아들': 2757, '문화부': 2758, '산천': 2759, '화전민': 2760, '원류': 2761, '답답': 2762, '갈라지': 2763, '최고인민회의': 2764, '교감': 2765, '역대': 2766, '권영미': 2767, '다채': 2768, '저렴': 2769, '퀴즈': 2770, '삼성카드': 2771, '세뱃돈': 2772, '봉투': 2773, '이북': 2774, '추천': 2775, '금액': 2776, '비즈니스': 2777, '베어': 2778, '베어스': 2779, '필기구': 2780, '사은품': 2781, '활용': 2782, '단행본': 2783, '시가': 2784, '션': 2785, '총액': 2786, '창비': 2787, '접근하': 2788, '상상': 2789, '글자': 2790, '빼': 2791, '문자': 2792, '원고': 2793, '신발': 2794, '대결': 2795, '콤마': 2796, '그곳': 2797, '흔적': 2798, '배제하': 2799, '광복': 2800, '스튜디오': 2801, '낯설': 2802, '소방서': 2803, '출간하': 2804, '꾸준': 2805, '연실': 2806, '경리': 2807, '기금회': 2808, '출판': 2809, '풀리': 2810, '살아오': 2811, '옥': 2812, '사건': 2813, '변기재': 2814, '다수': 2815, '도서관': 2816, '패': 2817, '백화점': 2818, '널리': 2819, '프랑스': 2820, '갈라': 2821, '패션쇼': 2822, '서은선': 2823, '주원료': 2824, '디엠': 2825, '보습': 2826, '탄력': 2827, '미백': 2828, '멀티': 2829, '크림': 2830, '진주': 2831, '해양': 2832, '심층수': 2833, '자극': 2834, '얇': 2835, '에센스': 2836, '수분': 2837, '채': 2838, '춘절': 2839, '틱': 2840, '오프라인': 2841, '스니커즈': 2842, '추출': 2843, '분말': 2844, '뷰티': 2845, '베': 2846, '틴': 2847, '선호도': 2848, '모발': 2849, '슬로건': 2850, '손상': 2851, '퍼': 2852, '트리트먼트': 2853, '메': 2854, '송학': 2855, '멤버': 2856, '로얄': 2857, '복숭아': 2858, '아쿠아': 2859, '다마스': 2860, '장미': 2861, '동백꽃': 2862, '메마르': 2863, '산뜻': 2864, '이미나': 2865, '멋': 2866, '왼쪽': 2867, '셔츠': 2868, '섞이': 2869, '과하': 2870, '만약': 2871, '파스텔': 2872, '스타일리스트': 2873, '치수': 2874, '오버': 2875, '핏': 2876, '착용하': 2877, '나이키': 2878, '자아내': 2879, '시드': 2880, '라': 2881, '곰': 2882, '올리브': 2883, '용의자': 2884, '케빈': 2885, '분리하': 2886, '도약': 2887, '공시하': 2888, '동력': 2889, '육성하': 2890, '투자하': 2891, '합성': 2892, '제고': 2893, '지속': 2894, '사노': 2895, '파스퇴르': 2896, '폐렴': 2897, '구균': 2898, '체결': 2899, '본격화': 2900, '날인': 2901, '매혹': 2902, '장밋빛': 2903, '입히': 2904, '과기': 2905, '철저': 2906, '당부': 2907, '둘러보': 2908, '안전장치': 2909, '작동': 2910, '중단되': 2911, '요원': 2912, '분만': 2913, '복구되': 2914, '다행': 2915, '임해': 2916, '엑스레이': 2917, '레이저': 2918, '섬광': 2919, '거대': 2920, '현미경': 2921, '건물': 2922, '견디': 2923, '설계되': 2924, '내부': 2925, '끊기': 2926, '바람': 2927, '복구하': 2928, '중추': 2929, '활용되': 2930, '주부': 2931, '진단': 2932, '막상': 2933, '싱숭생숭': 2934, '건수': 2935, '악화되': 2936, '종양': 2937, '월경': 2938, '생리': 2939, '통합': 2940, '출산': 2941, '실제로': 2942, '재발하': 2943, '발달하': 2944, '개발되': 2945, '굳이': 2946, '학계': 2947, '빈도': 2948, '신중히': 2949, '씨앗': 2950, '대신': 2951, '도움말': 2952, '알아보': 2953, '북미': 2954, '학회지': 2955, '메이요': 2956, '클리닉': 2957, '토마': 2958, '논문': 2959, '거주하': 2960, '수의': 2961, '혈압': 2962, '비만': 2963, '심부': 2964, '정맥': 2965, '보전하': 2966, '심장': 2967, '두드러지': 2968, '완경': 2969, '가임기': 2970, '거의': 2971, '패트리': 2972, '그렇지': 2973, '폐경하': 2974, '리스크': 2975, '절제하': 2976, '양쪽': 2977, '증대하': 2978, '감소하': 2979, '특별히': 2980, '상징': 2981, '간혹': 2982, '성욕': 2983, '감퇴': 2984, '분비물': 2985, '우울증': 2986, '접합': 2987, '상부': 2988, '유착': 2989, '양측': 2990, '부위': 2991, '푸': 2992, '색전': 2993, '시행하': 2994, '정답': 2995, '정립되': 2996, '의료진': 2997, '정희원': 2998, '보호': 2999, '주의력': 3000, '결핍': 3001, '잉': 3002, '증후': 3003, '도전장': 3004, '건국대': 3005, '주목하': 3006, '이온': 3007, '통로': 3008, '글루탐산': 3009, '수용체': 3010, '억제하': 3011, '매진하': 3012, '권리': 3013, '측정하': 3014, '검색하': 3015, '장애': 3016, '반복': 3017, '과잉': 3018, '경련': 3019, '두뇌': 3020, '흥분': 3021, '결여': 3022, '각성제': 3023, '반응하': 3024, '대두되': 3025, '현': 3026, '조절': 3027, '타킷': 3028, '착안하': 3029, '중소': 3030, '진력하': 3031, '파트너': 3032, '협력사': 3033, '이전하': 3034, '기능식': 3035, '도약하': 3036, '조심': 3037, '출입문': 3038, '군인': 3039, '임세영': 3040, '음상': 3041, '급증하': 3042, '보건': 3043, '긴장하': 3044, '체류하': 3045, '성모병원': 3046, '소화기': 3047, '전염되': 3048, '우려하': 3049, '입원': 3050, '서울대병원': 3051, '겨울철': 3052, '식중독': 3053, '균': 3054, '감염되': 3055, '문고리': 3056, '잠복기': 3057, '탈수': 3058, '복통': 3059, '근육통': 3060, '두통': 3061, '성인': 3062, '흔하': 3063, '시달리': 3064, '군대': 3065, '요양원': 3066, '외출': 3067, '입자': 3068, '세정제': 3069, '손가락': 3070, '손등': 3071, '구석구석': 3072, '닦': 3073, '어패': 3074, '섭씨': 3075, '끓이': 3076, '화장실': 3077, '변기': 3078, '손잡이': 3079, '밀리리터': 3080, '섞': 3081, '정기': 3082, '수질': 3083, '검사': 3084, '오염': 3085, '공용': 3086, '물탱크': 3087, '노약자': 3088, '수액': 3089, '탈수증': 3090, '항생제': 3091, '진정제': 3092, '처방하': 3093, '식': 3094, '지키': 3095, '예방법': 3096, '제시': 3097, '고령': 3098, '접어들': 3099, '주목도': 3100, '갈수록': 3101, '전파': 3102, '약국': 3103, '청담': 3104, '대입': 3105, '수능': 3106, '극심': 3107, '허리': 3108, '골반': 3109, '병행하': 3110, '증세': 3111, '호전되': 3112, '마침내': 3113, '복용하': 3114, '벗어나': 3115, '국가고시': 3116, '합격하': 3117, '면허': 3118, '몸담': 3119, '숙원': 3120, '관철': 3121, '처방전': 3122, '투명': 3123, '신뢰도': 3124, '의료': 3125, '조제': 3126, '제형': 3127, '발전하': 3128, '과학화': 3129, '산업화': 3130, '한의사': 3131, '가파르': 3132, '이바지하': 3133, '후배': 3134, '공감대': 3135, '보약': 3136, '약재': 3137, '체질': 3138, '조제하': 3139, '간단': 3140, '감기': 3141, '고질': 3142, '피부병': 3143, '난치': 3144, '경계하': 3145, '대한한의사협회': 3146, '해소': 3147, '총력': 3148, '협상자': 3149, '충분': 3150, '인수전': 3151, '주관사': 3152, '모건스탠리': 3153, '돌입하': 3154, '운용사': 3155, '캐피탈': 3156, '칼라일': 3157, '홀딩스': 3158, '미래에셋': 3159, '계열': 3160, '미래에셋자산운용': 3161, '스틱': 3162, '인베스트먼트': 3163, '한국투자증권': 3164, '영업력': 3165, '일각': 3166, '시각': 3167, '다소': 3168, '무리하': 3169, '대외': 3170, '이미': 3171, '얼마나': 3172, '자금력': 3173, '유력하': 3174, '역류': 3175, '성식': 3176, '테': 3177, '고프라': 3178, '잔': 3179, '수족': 3180, '체결하': 3181, '힘': 3182, '긍정': 3183, '잠정': 3184, '집계하': 3185, '소폭': 3186, '검토': 3187, '논산': 3188, '심사대': 3189, '부사관': 3190, '후보생': 3191, '훈련병': 3192, '향하': 3193, '거수경례하': 3194, '시작': 3195, '젊은이': 3196, '입소하': 3197, '김성태': 3198, '서울청': 3199, '이낙연': 3200, '국무총리': 3201, '주재': 3202, '총리': 3203, '안건이': 3204, '연관': 3205, '유사하': 3206, '재혼': 3207, '데리': 3208, '입국하': 3209, '그런': 3210, '국적자': 3211, '포기': 3212, '똑같이': 3213, '이행하': 3214, '통계': 3215, '입대': 3216, '운동선수': 3217, '체류': 3218, '제외되': 3219, '안티': 3220, '추산되': 3221, '국무': 3222, '조정실': 3223, '과장': 3224, '모셔': 3225, '치중하': 3226, '고도화': 3227, '골자': 3228, '경력': 3229, '고소득': 3230, '유입': 3231, '단순': 3232, '기능인': 3233, '빼앗': 3234, '우려': 3235, '체류자': 3236, '퇴거하': 3237, '특수': 3238, '사회관계': 3239, '망': 3240, '입국': 3241, '취업': 3242, '알선': 3243, '수집하': 3244, '사이버': 3245, '전담': 3246, '인적': 3247, '이주': 3248, '장려금': 3249, '결혼하': 3250, '이주하': 3251, '베트남': 3252, '파견하': 3253, '중개': 3254, '침해': 3255, '실태': 3256, '감시하': 3257, '이에': 3258, '웹': 3259, '지위': 3260, '승기': 3261, '뇌': 3262, '약효': 3263, '이탈': 3264, '파마': 3265, '행정': 3266, '소송': 3267, '강행하': 3268, '반발하': 3269, '들어주': 3270, '활발': 3271, '유비': 3272, '정리': 3273, '수순': 3274, '추격하': 3275, '벌이': 3276, '틈새시장': 3277, '공략': 3278, '프라임': 3279, '유한양행': 3280, '포아': 3281, '블록버스터': 3282, '반열': 3283, '상승하': 3284, '따른': 3285, '방어': 3286, '컬처': 3287, '김희윤': 3288, '대학로': 3289, '피카소': 3290, '연극제': 3291, '고든': 3292, '크레이그': 3293, '기법': 3294, '영감': 3295, '연출': 3296, '녹여내': 3297, '물리학자': 3298, '코뿔소': 3299, '수업': 3300, '해롤드': 3301, '핀': 3302, '배신': 3303, '견': 3304, '한줌': 3305, '허공': 3306, '쇼트': 3307, '트랙': 3308, '김민우': 3309, '황덕현': 3310, '둥둥': 3311, '끌어당기': 3312, '밑': 3313, '춤사위': 3314, '정각': 3315, '일환': 3316, '고재교': 3317, '소녀': 3318, '합류': 3319, '성사되': 3320, '써브라임': 3321, '에이전시': 3322, '지연': 3323, '관현악단': 3324, '장충동': 3325, '공연한': 3326, '미리': 3327, '리허설하': 3328, '급하': 3329, '그중': 3330, '그날': 3331, '소원': 3332, '남북통일': 3333, '염원': 3334, '춘추관': 3335, '장인': 3336, '권혁기': 3337, '지원단': 3338, '부단장': 3339, '보컬': 3340, '편곡하': 3341, '흔쾌히': 3342, '응하': 3343, '공연단': 3344, '난색': 3345, '설득': 3346, '임수정': 3347, '용산구': 3348, '한남동': 3349, '카오스': 3350, '요': 3351, '슈트라우스': 3352, '코믹': 3353, '오페레타': 3354, '희극': 3355, '아이젠슈타인': 3356, '아내': 3357, '벌어지': 3358, '소동': 3359, '코믹하': 3360, '세태': 3361, '풍자': 3362, '아이디어': 3363, '신금호': 3364, '해설': 3365, '왕립': 3366, '음악원': 3367, '성악가': 3368, '조각가': 3369, '통화하': 3370, '개막': 3371, '느닷없': 3372, '보도하': 3373, '한국어': 3374, '발음': 3375, '딴': 3376, '모루': 3377, '퍼지': 3378, '포털': 3379, '검색어': 3380, '언뜻': 3381, '성기': 3382, '외설': 3383, '무슨': 3384, '잘못되': 3385, '조형물': 3386, '괴짜': 3387, '멋쩍': 3388, '웃': 3389, '이면': 3390, '사색하': 3391, '해석되': 3392, '온전': 3393, '읽히': 3394, '그런데': 3395, '강요하': 3396, '의도하': 3397, '재단': 3398, '사들이': 3399, '일종': 3400, '껍데기': 3401, '우람': 3402, '둥그렇': 3403, '가부장': 3404, '외면': 3405, '나약하': 3406, '근육질': 3407, '가리키': 3408, '과시': 3409, '미화되': 3410, '젠더': 3411, '수명': 3412, '씌우': 3413, '지하': 3414, '무장하': 3415, '전혀': 3416, '그려내': 3417, '내뿜': 3418, '머리': 3419, '프린트': 3420, '표상': 3421, '획일': 3422, '지닌': 3423, '긴장감': 3424, '인간상': 3425, '보편성': 3426, '각자': 3427, '청계천': 3428, '전시한': 3429, '연작': 3430, '여수': 3431, '예우': 3432, '마루': 3433, '대강': 3434, '자유주의': 3435, '비판하': 3436, '향수': 3437, '철제': 3438, '꼭대기': 3439, '혀': 3440, '내두르': 3441, '표상하': 3442, '정장': 3443, '차림': 3444, '유토피아': 3445, '종이쪽지': 3446, '너머': 3447, '기성세대': 3448, '반성하': 3449, '토사물': 3450, '어깨': 3451, '들치': 3452, '전개되': 3453, '수많': 3454, '진퇴양난': 3455, '계몽하': 3456, '조소': 3457, '뉴저지': 3458, '주립': 3459, '대학교': 3460, '메이슨': 3461, '그로스': 3462, '예술대': 3463, '유학': 3464, '터지': 3465, '목격하': 3466, '부딪히': 3467, '그룹전': 3468, '일람하': 3469, '르프': 3470, '감자': 3471, '치유하': 3472, '무이': 3473, '무장': 3474, '지대': 3475, '철책': 3476, '통일되': 3477, '영구': 3478, '전문인': 3479, '포남동': 3480, '북한산': 3481, '전시하': 3482, '이글루': 3483, '강렬': 3484, '선사하': 3485, '굴피집': 3486, '껍질': 3487, '가상': 3488, '화폐': 3489, '열풍': 3490, '하차': 3491, '조짐': 3492, '소속사': 3493, '엔터테인먼트': 3494, '상처': 3495, '불쾌감': 3496, '응원하': 3497, '아끼': 3498, '엄격': 3499, '스태프': 3500, '성추행하': 3501, '그러': 3502, '몰리나': 3503, '제작사': 3504, '악어': 3505, '사정': 3506, '조기': 3507, '캐스팅': 3508, '이이': 3509, '김주헌': 3510, '샤이닝': 3511, '데뷔하': 3512, '활발히': 3513, '마녀': 3514, '법정': 3515, '룡': 3516, '건담': 3517, '프라이드': 3518, '불량': 3519, '수탁': 3520, '탈출': 3521, '연기하': 3522, '권준협': 3523, '왱': 3524, '국민일보': 3525, '깃들': 3526, '사상': 3527, '짬': 3528, '순창': 3529, '정착하': 3530, '동아리': 3531, '순창군': 3532, '상류': 3533, '아침저녁': 3534, '거닐': 3535, '빨': 3536, '찾아가': 3537, '인사아트센터': 3538, '개칭하': 3539, '창립': 3540, '사상가': 3541, '묵': 3542, '수강': 3543, '주축': 3544, '추하': 3545, '결심하': 3546, '자연스레': 3547, '끌리': 3548, '학동': 3549, '매주': 3550, '목요일': 3551, '술집': 3552, '건배하': 3553, '노자': 3554, '대단히': 3555, '한잔': 3556, '신변잡기': 3557, '삼기': 3558, '글귀': 3559, '꺼내': 3560, '뒤탈': 3561, '올바르': 3562, '가슴': 3563, '꽂': 3564, '계단식': 3565, '논': 3566, '논두렁': 3567, '조그만': 3568, '아래': 3569, '내려가': 3570, '도랑': 3571, '계곡': 3572, '탄탄': 3573, '처하': 3574, '떠올리': 3575, '겸애': 3576, '대동': 3577, '애착': 3578, '치솟': 3579, '만학도': 3580, '고교': 3581, '동기': 3582, '재수': 3583, '원광대': 3584, '미술대': 3585, '미술가': 3586, '협의회': 3587, '연합': 3588, '의장': 3589, '창작하': 3590, '운동사': 3591, '슬라이드': 3592, '수배': 3593, '갑오농민전쟁': 3594, '동료': 3595, '결의하': 3596, '결의': 3597, '창작자': 3598, '풍광': 3599, '강폭': 3600, '거대하': 3601, '유속': 3602, '그래요': 3603, '바위': 3604, '억새': 3605, '주변': 3606, '감싸': 3607, '하동': 3608, '송림': 3609, '의전': 3610, '돌려주': 3611, '지리산': 3612, '구례': 3613, '등반': 3614, '봉우리': 3615, '멀리': 3616, '현대사': 3617, '매듭': 3618, '그리워하': 3619, '임기': 3620, '자양분': 3621, '이해': 3622, '마당': 3623, '꿰뚫': 3624, '핵': 3625, '싸우': 3626, '론자': 3627, '통일': 3628, '강성': 3629, '가교': 3630, '빅토리아': 3631, '로마': 3632, '덕분': 3633, '어리': 3634, '전설': 3635, '에로틱하': 3636, '묘사하': 3637, '소장되': 3638, '그리스': 3639, '영웅': 3640, '헤라클레스': 3641, '시종': 3642, '미소년': 3643, '명작': 3644, '여럿': 3645, '몰려다니': 3646, '폐쇄되': 3647, '처녀': 3648, '연못': 3649, '잡아당기': 3650, '섬세': 3651, '물병': 3652, '샘물': 3653, '담그': 3654, '무수히': 3655, '진흙': 3656, '청결하': 3657, '고귀': 3658, '속세': 3659, '은유하': 3660, '캠페인': 3661, '일시': 3662, '철거하': 3663, '장식하': 3664, '파탈': 3665, '판단': 3666, '특집': 3667, '볼만하': 3668, '할아버지': 3669, '할머니': 3670, '손잡': 3671, '편': 3672, '어떠하': 3673, '역사서': 3674, '어린': 3675, '캣': 3676, '조르바': 3677, '방대': 3678, '스토리': 3679, '완성도': 3680, '둘러앉': 3681, '오손도손': 3682, '밥상': 3683, '반갑': 3684, '푸짐': 3685, '색의': 3686, '잔잔': 3687, '안기': 3688, '국악': 3689, '박영환': 3690, '편의': 3691, '인천국제공항': 3692, '황기': 3693, '신설되': 3694, '네크워크': 3695, '국적사': 3696, '해당국': 3697, '양양': 3698, '팔라우': 3699, '이원': 3700, '단지': 3701, '착공': 3702, '급행': 3703, '의왕': 3704, '시흥': 3705, '확장': 3706, '교량': 3707, '재가': 3708, '줄이': 3709, '나들목': 3710, '쑥고개': 3711, '까지': 3712, '현행': 3713, '완료되': 3714, '김제': 3715, '정읍': 3716, '방면': 3717, '해소되': 3718, '발단': 3719, '네거리': 3720, '동산': 3721, '시가지': 3722, '완주': 3723, '완산구': 3724, '색장': 3725, '익산': 3726, '지방국': 3727, '관리청': 3728, '착수하': 3729, '용정': 3730, '시비': 3731, '기린': 3732, '기형': 3733, '에코': 3734, '효': 3735, '생태': 3736, '시외': 3737, '점차': 3738, '확충하': 3739, '장수영': 3740, '지종철': 3741, '정책관': 3742, '기자실': 3743, '브리핑': 3744, '심하': 3745, '달하': 3746, '요금': 3747, '정릉': 3748, '강남': 3749, '개포동': 3750, '부천': 3751, '대장': 3752, '여의도': 3753, '사당역': 3754, '광역': 3755, '성남': 3756, '고양': 3757, '파주': 3758, '천안': 3759, '예측되': 3760, '평상': 3761, '겹치': 3762, '영동고속도로': 3763, '뉴스룸': 3764, '혼잡하': 3765, '일평균': 3766, '인원': 3767, '전구': 3768, '설문': 3769, '떠나': 3770, '나들이': 3771, '예산되': 3772, '영동': 3773, '서해안': 3774, '남해선': 3775, '정비': 3776, '이선': 3777, '율기': 3778, '동보': 3779, '사명': 3780, '에스': 3781, '상무보': 3782, '선임하': 3783, '아시아나항공': 3784, '에어포트': 3785, '하역': 3786, '카운터': 3787, '발권': 3788, '수속': 3789, '램프': 3790, '수하': 3791, '인천공항': 3792, '김해공항': 3793, '운항': 3794, '처리': 3795, '정시': 3796, '김포': 3797, '취항하': 3798, '범위': 3799, '단기': 3800, '취항': 3801, '상대국': 3802, '증편': 3803, '실시': 3804, '체증': 3805, '확대되': 3806, '시행되': 3807, '도착': 3808, '요금소': 3809, '패스': 3810, '신갈': 3811, '중복되': 3812, '경로': 3813, '선형': 3814, '개량': 3815, '대관령': 3816, '연결': 3817, '열차': 3818, '로드': 3819, '콜': 3820, '전광판': 3821, '표지판': 3822, '유도하': 3823, '실시되': 3824, '옥산': 3825, '준공': 3826, '계도': 3827, '결승선': 3828, '사격': 3829, '집중력': 3830, '시야': 3831, '미나': 3832, '슬로바키아': 3833, '여유': 3834, '제치': 3835, '등극하': 3836, '출발하': 3837, '아쉬움': 3838, '간판': 3839, '한국체육대학교': 3840, '결승': 3841, '평창군': 3842, '내려오': 3843, '둔덕': 3844, '턴': 3845, '반영되': 3846, '합산하': 3847, '직행하': 3848, '착지': 3849, '실수': 3850, '미국인': 3851, '최고점': 3852, '경신하': 3853, '정면': 3854, '뛰어오르': 3855, '회전하': 3856, '회전수': 3857, '난이도': 3858, '자랑하': 3859, '아사': 3860, '이토': 3861, '미도리': 3862, '착지하': 3863, '고비': 3864, '루프': 3865, '직후': 3866, '불끈': 3867, '기쁨': 3868, '감추': 3869, '마크하': 3870, '승점': 3871, '따': 3872, '주니어': 3873, '실력': 3874, '소치': 3875, '획득하': 3876, '정말': 3877, '영원히': 3878, '기뻐하': 3879, '코앞': 3880, '축구': 3881, '강해': 3882, '메디컬': 3883, '클럽': 3884, '이적하': 3885, '구단': 3886, '잔류': 3887, '도전': 3888, '공격수': 3889, '영입': 3890, '공수': 3891, '짜임새': 3892, '단단히': 3893, '껑충': 3894, '입점': 3895, '통계청': 3896, '살펴보': 3897, '압도': 3898, '불어나': 3899, '견인하': 3900, '황사': 3901, '먼지': 3902, '진공청소기': 3903, '로봇': 3904, '대표되': 3905, '셀러': 3906, '직입': 3907, '꼽': 3908, '물품': 3909, '배송하': 3910, '관부': 3911, '정소미': 3912, '소비': 3913, '내세우': 3914, '오픈': 3915, '환불': 3916, '큐': 3917, '변신하': 3918, '전면': 3919, '개편하': 3920, '부가세': 3921, '배송비': 3922, '전부': 3923, '명료': 3924, '사례': 3925, '직관': 3926, '매번': 3927, '통관': 3928, '고유': 3929, '번호': 3930, '입력': 3931, '신장하': 3932, '유사품': 3933, '소형': 3934, '관절': 3935, '인형': 3936, '절대': 3937, '견제하': 3938, '한국관': 3939, '플랫폼': 3940, '공격': 3941, '마니아': 3942, '선뵈': 3943, '의류': 3944, '집약되': 3945, '스웨터': 3946, '아이덴티티': 3947, '북유럽': 3948, '춥': 3949, '변형': 3950, '제격': 3951, '지속하': 3952, '아크릴': 3953, '사용되': 3954, '초보': 3955, '밑창': 3956, '구력': 3957, '라운드': 3958, '입문': 3959, '중점': 3960, '색감': 3961, '육각': 3962, '사선': 3963, '기하학': 3964, '멕시코': 3965, '경쾌': 3966, '과감': 3967, '타깃': 3968, '써': 3969, '사로잡': 3970, '풋': 3971, '날렵': 3972, '완전히': 3973, '탄생하': 3974, '디엔에이': 3975, '투어': 3976, '문화체육관광부': 3977, '한국관광공사': 3978, '뽑히': 3979, '남대문시장': 3980, '통인': 3981, '망원': 3982, '남문시장': 3983, '신기': 3984, '부평': 3985, '깡통': 3986, '자갈치시장': 3987, '서문시장': 3988, '정선아리랑': 3989, '속초': 3990, '수산': 3991, '서천': 3992, '공주': 3993, '산성': 3994, '단양': 3995, '구경': 3996, '남원': 3997, '공설': 3998, '서귀포': 3999, '올레': 4000, '유치': 4001, '컨설팅': 4002, '다국어': 4003, '홍보물': 4004, '사이클': 4005, '중증': 4006, '장애우': 4007, '기부하': 4008, '문승지': 4009, '협업하': 4010, '디자인하': 4011, '모듈': 4012, '조합': 4013, '변형되': 4014, '자유': 4015, '덴마크': 4016, '코펜하겐': 4017, '승지': 4018, '웨이': 4019, '명동성당': 4020, '비치': 4021, '인연': 4022, '한경애': 4023, '상무': 4024, '기획하': 4025, '디자인되': 4026, '입안': 4027, '중심부': 4028, '폭발': 4029, '외식업': 4030, '축산': 4031, '정규': 4032, '수입': 4033, '검증되': 4034, '선별하': 4035, '습도': 4036, '저장고': 4037, '일정': 4038, '가공법': 4039, '업소': 4040, '남다르': 4041, '두께': 4042, '자르': 4043, '칼집': 4044, '알맞': 4045, '셰프': 4046, '씹': 4047, '게다가': 4048, '살짝': 4049, '양파': 4050, '겉절이': 4051, '궁합': 4052, '버무리': 4053, '샤브샤브': 4054, '된장찌개': 4055, '타의': 4056, '추종': 4057, '불허하': 4058, '동호인': 4059, '회식': 4060, '애용하': 4061, '주머니': 4062, '발길': 4063, '개설되': 4064, '평동': 4065, '성업': 4066, '쇄도하': 4067, '가맹': 4068, '체인': 4069, '상권': 4070, '교육': 4071, '특성': 4072, '진짜': 4073, '트랜드': 4074, '요식업': 4075, '꿈': 4076, '텍스처': 4077, '전달되': 4078, '에디션': 4079, '남녀노소': 4080, '엄선해': 4081, '슬라이스': 4082, '오직': 4083, '고소': 4084, '크런치하': 4085, '첫선': 4086, '보인': 4087, '플레인': 4088, '이례': 4089, '인기리': 4090, '클래식하': 4091, '슈퍼마켓': 4092, '파인트': 4093, '판매되': 4094, '주자': 4095, '불황': 4096, '고공': 4097, '행진': 4098, '춘추': 4099, '강타하': 4100, '부산시': 4101, '서면': 4102, '크리스': 4103, '철판': 4104, '치즈': 4105, '윙': 4106, '봉': 4107, '허브': 4108, '첨가하': 4109, '똥': 4110, '찜': 4111, '닭도리탕': 4112, '유린': 4113, '깐풍기': 4114, '튀기': 4115, '겉': 4116, '바삭': 4117, '피클': 4118, '셀프': 4119, '와인': 4120, '휴일': 4121, '동래': 4122, '직영점': 4123, '층': 4124, '가업': 4125, '설비': 4126, '닭고기': 4127, '유통업': 4128, '수익': 4129, '창출': 4130, '이룩': 4131, '프랜차이즈': 4132, '남구': 4133, '용호동': 4134, '레스토랑': 4135, '상생': 4136, '추구하': 4137, '마케팅': 4138, '조리법': 4139, '전수하': 4140, '희망자': 4141, '협업': 4142, '행사장': 4143, '키즈': 4144, '신선하': 4145, '송정': 4146, '양조장': 4147, '사우': 4148, '설레임': 4149, '베스트': 4150, '월간지': 4151, '포스트': 4152, '초간': 4153, '베이': 4154, '매년': 4155, '양력': 4156, '주고받': 4157, '풍습': 4158, '밸런타인': 4159, '날로': 4160, '연중': 4161, '일거양득': 4162, '만점': 4163, '식사': 4164, '밥': 4165, '타임': 4166, '손바닥': 4167, '체': 4168, '슈': 4169, '파우더': 4170, '솔솔': 4171, '뿌리': 4172, '졸': 4173, '광화문': 4174, '연어': 4175, '킹': 4176, '크랩': 4177, '오프닝': 4178, '양국': 4179, '굳건': 4180, '내년': 4181, '수교': 4182, '삭': 4183, '기량': 4184, '풀뿌리': 4185, '개척자': 4186, '노르웨이인': 4187, '원동력': 4188, '중계': 4189, '부스': 4190, '짜릿': 4191, '훈훈': 4192, '혼자': 4193, '청소년': 4194, '주민': 4195, '풍성': 4196, '수서동': 4197, '윤영': 4198, '임직원': 4199, '관장': 4200, '전달식': 4201, '음료': 4202, '치료비': 4203, '후원금': 4204, '서식지': 4205, '조성되': 4206, '양식되': 4207, '숙종': 4208, '현감': 4209, '허심': 4210, '무덤': 4211, '비석': 4212, '광양시': 4213, '태인동': 4214, '궁기': 4215, '기념물': 4216, '사당': 4217, '안내문': 4218, '병자호란': 4219, '의병': 4220, '항복하': 4221, '태인도': 4222, '소나무': 4223, '밤나무': 4224, '창안하': 4225, '보급하': 4226, '즉흥': 4227, '신하': 4228, '아무개': 4229, '그럼': 4230, '하명': 4231, '한데': 4232, '반찬': 4233, '신안군': 4234, '조미': 4235, '신안': 4236, '천사': 4237, '스낵': 4238, '서양인': 4239, '서서히': 4240, '각인되': 4241, '수용성': 4242, '장의': 4243, '배변': 4244, '칼륨': 4245, '콜레스테롤': 4246, '내보내': 4247, '성질': 4248, '혈관': 4249, '김밥': 4250, '탄수화물': 4251, '효율': 4252, '에너지': 4253, '건망증': 4254, '치아': 4255, '칼슘': 4256, '중장년': 4257, '골다공증': 4258, '마른': 4259, '요오드': 4260, '신진': 4261, '연소': 4262, '다시마': 4263, '미역': 4264, '파래': 4265, '식물': 4266, '변비': 4267, '곳곳': 4268, '충청도': 4269, '떨어지': 4270, '기압': 4271, '가장자리': 4272, '구름': 4273, '영서': 4274, '산발': 4275, '날리': 4276, '쌓이': 4277, '붕괴': 4278, '시설물': 4279, '유의하': 4280, '적설량': 4281, '울릉도': 4282, '독도': 4283, '한파': 4284, '특보': 4285, '가축': 4286, '동사': 4287, '작물': 4288, '수도관': 4289, '동파': 4290, '각별히': 4291, '신경': 4292, '관측되': 4293, '추위': 4294, '서풍': 4295, '차차': 4296, '정지우': 4297, '때리': 4298, '파스': 4299, '파이낸셜뉴스': 4300, '포커스': 4301, '현대자동차': 4302, '해치': 4303, '뒷문': 4304, '정식': 4305, '가속력': 4306, '평행선': 4307, '협약': 4308, '타결되': 4309, '평소': 4310, '중요': 4311, '중대하': 4312, '봉착하': 4313, '생산물': 4314, '격려금': 4315, '성과급': 4316, '반응': 4317, '계속되': 4318, '인건비': 4319, '깎': 4320, '자구': 4321, '선행되': 4322, '교섭하': 4323, '유연': 4324, '복리': 4325, '후생': 4326, '한시적': 4327, '유보': 4328, '논의되': 4329, '전제되': 4330, '좌우되': 4331, '판단하': 4332, '양보하': 4333, '동아': 4334, '자용': 4335, '측위': 4336, '적립': 4337, '전차': 4338, '보상': 4339, '발표': 4340, '공지': 4341, '초래하': 4342, '차종': 4343, '보유자': 4344, '살피': 4345, '압력': 4346, '성형하': 4347, '성형': 4348, '금형': 4349, '도포하': 4350, '평가하': 4351, '키': 4352, '해명하': 4353, '주시': 4354, '감사': 4355, '원만': 4356, '합의': 4357, '조정안': 4358, '근거하': 4359, '본': 4360, '저희': 4361, '강구하': 4362, '불안하': 4363, '충분히': 4364, '심사숙고하': 4365, '년': 4366, '참조': 4367, '귀기': 4368, '박찬규': 4369, '유틸리티': 4370, '엠블럼': 4371, '하반기': 4372, '공략하': 4373, '델리': 4374, '오토': 4375, '엑스포': 4376, '최종식': 4377, '개척': 4378, '다방면': 4379, '녹슬': 4380, '불러일으키': 4381, '정우영': 4382, '진상훈': 4383, '브리': 4384, '수입사': 4385, '혁신': 4386, '프론트': 4387, '리어': 4388, '범퍼': 4389, '바디': 4390, '공학': 4391, '스포티하': 4392, '쿠페': 4393, '빵': 4394, '따끈': 4395, '치어리더': 4396, '경쟁하': 4397, '기아자동차': 4398, '개막하': 4399, '스피드': 4400, '아마추어': 4401, '모터스포츠': 4402, '경차': 4403, '추가하': 4404, '가솔린': 4405, '변속기': 4406, '메이크': 4407, '할인하': 4408, '튜닝': 4409, '역공': 4410, '차입금': 4411, '재개': 4412, '부평공장': 4413, '서문': 4414, '본격화하': 4415, '잠식': 4416, '놓': 4417, '무턱대고': 4418, '발걸음': 4419, '말해': 4420, '빠뜨리': 4421, '들여다보': 4422, '끊이': 4423, '원재료': 4424, '반조': 4425, '싸게': 4426, '수출하': 4427, '전기': 4428, '자율': 4429, '부실': 4430, '절감하': 4431, '주식': 4432, '소각하': 4433, '고위': 4434, '상환': 4435, '썩': 4436, '명분': 4437, '만료되': 4438, '거부': 4439, '비토': 4440, '동의': 4441, '철수': 4442, '포괄': 4443, '재개하': 4444, '감면': 4445, '방한하': 4446, '빨리': 4447, '이해관계자': 4448, '내버리': 4449, '너무': 4450, '그렇': 4451, '섣불리': 4452, '불투명하': 4453, '혈세': 4454, '이항구': 4455, '실사': 4456, '장관배': 4457, '현대경제연구원': 4458, '한국경제신문사': 4459, '주최': 4460, '국책': 4461, '은행': 4462, '재정': 4463, '지분': 4464, '절묘': 4465, '사업하': 4466, '최소한': 4467, '협의하': 4468, '의향': 4469, '발주': 4470, '호황': 4471, '근접하': 4472, '하이닉스': 4473, '불거지': 4474, '반도체': 4475, '급전': 4476, '지시': 4477, '도입되': 4478, '손보': 4479, '위클리': 4480, '사업비': 4481, '지자체': 4482, '교양': 4483, '융합': 4484, '선도': 4485, '지역상': 4486, '실현하': 4487, '인력': 4488, '모집하': 4489, '재학': 4490, '지지': 4491, '롬': 4492, '가리': 4493, '차악': 4494, '처지': 4495, '증명하': 4496, '끊': 4497, '위대': 4498, '동원하': 4499, '맛보': 4500, '성도': 4501, '이상훈': 4502, '용인': 4503, '참교회': 4504, '인가': 4505, '초청하': 4506, '일산': 4507, '여론': 4508, '문재인': 4509, '군사': 4510, '쓴소리': 4511, '아부하': 4512, '개신교': 4513, '부끄럽': 4514, '박정희': 4515, '독재자': 4516, '찬반': 4517, '휩싸이': 4518, '기어이': 4519, '자행되': 4520, '민간인': 4521, '학살': 4522, '화면': 4523, '연설': 4524, '과열되': 4525, '몰지각하': 4526, '급기야': 4527, '불순분자': 4528, '배후': 4529, '장군': 4530, '사회악': 4531, '비리': 4532, '척결': 4533, '거세': 4534, '배덕': 4535, '기독': 4536, '느': 4537, '부당하': 4538, '반대급부': 4539, '특혜': 4540, '거기': 4541, '굉장히': 4542, '교계': 4543, '대변하': 4544, '대변인': 4545, '민주화': 4546, '신자': 4547, '취임': 4548, '정교분리': 4549, '원칙': 4550, '끊임없이': 4551, '지나치': 4552, '종교인': 4553, '과세': 4554, '반대하': 4555, '주도': 4556, '불신': 4557, '백종국': 4558, '경상대': 4559, '윤리': 4560, '정교': 4561, '착': 4562, '도덕하': 4563, '대충': 4564, '정치인': 4565, '한자리': 4566, '호화': 4567, '과연': 4568, '근본': 4569, '돌보': 4570, '포착': 4571, '기원하': 4572, '아이스하키': 4573, '단원': 4574, '태극기': 4575, '기성': 4576, '오른쪽': 4577, '김상욱': 4578, '덕': 4579, '진천': 4580, '지도': 4581, '여의도순복음교회': 4582, '유영대': 4583, '에베소서': 4584, '촌': 4585, '그려': 4586, '수난': 4587, '죽음': 4588, '부활': 4589, '절제': 4590, '금욕하': 4591, '하루하루': 4592, '묵상하': 4593, '천주교': 4594, '이다': 4595, '묵상집': 4596, '콤비': 4597, '개정': 4598, '증보판': 4599, '구분': 4600, '가톨릭대': 4601, '신부': 4602, '서품되': 4603, '책임감': 4604, '근원': 4605, '갈망': 4606, '하느님': 4607, '의심': 4608, '고백': 4609, '용서하': 4610, '부질없': 4611, '자존심': 4612, '도와주': 4613, '형제': 4614, '냄새': 4615, '비난하': 4616, '방': 4617, '쫓아내': 4618, '불쌍히': 4619, '정미': 4620, '명동': 4621, '범어': 4622, '성당': 4623, '김한수': 4624, '노동조합': 4625, '해결': 4626, '조합원': 4627, '공감하': 4628, '세부': 4629, '추후': 4630, '보완하': 4631, '당': 4632, '이장우': 4633, '노현국': 4634, '김창현': 4635, '김진영': 4636, '신시': 4637, '국정': 4638, '농단': 4639, '촉발되': 4640, '촛불': 4641, '탄핵': 4642, '교체': 4643, '여전히': 4644, '보수': 4645, '독점하': 4646, '대응하': 4647, '매월': 4648, '대표자': 4649, '정례': 4650, '의제': 4651, '승리하': 4652, '협력하': 4653, '노동자': 4654, '신동': 4655, '명물': 4656, '담임': 4657, '박석진': 4658, '교사': 4659, '학부모': 4660, '좌석': 4661, '메우': 4662, '합창': 4663, '행운권': 4664, '막이': 4665, '슬프': 4666, '객석': 4667, '박수': 4668, '쏟아지': 4669, '삶이': 4670, '변화되': 4671, '의심하': 4672, '진리': 4673, '기쁘': 4674, '임재': 4675, '만날': 4676, '회개': 4677, '결단': 4678, '역사하': 4679, '보혈': 4680, '김명운': 4681, '은혜': 4682, '충실하': 4683, '헌금': 4684, '가난하': 4685, '원망하': 4686, '거듭': 4687, '결단하': 4688, '박수로': 4689, '격려하': 4690, '다름없': 4691, '거듭나': 4692, '임하': 4693, '춤추': 4694, '가락': 4695, '이준희': 4696, '이상준': 4697, '정종훈': 4698, '강동현': 4699, '유혹': 4700, '흔들리': 4701, '멀리하': 4702, '포기하': 4703, '회개하': 4704, '곁': 4705, '예배하': 4706, '안타깝': 4707, '권은혜': 4708, '귀하': 4709, '흘러나오': 4710, '신다훈': 4711, '장하림': 4712, '제인': 4713, '시편': 4714, '연주하': 4715, '신정원': 4716, '황유진': 4717, '김범수': 4718, '현모': 4719, '출연자': 4720, '번': 4721, '열창하': 4722, '반주': 4723, '바이올린': 4724, '연주': 4725, '공적': 4726, '부탁': 4727, '마무리': 4728, '너무나': 4729, '복되': 4730, '다포': 4731, '항': 4732, '소천': 4733, '천수연': 4734, '급성': 4735, '돌연': 4736, '소천하': 4737, '총동문회': 4738, '매봉산': 4739, '등산': 4740, '도중': 4741, '이송되': 4742, '끝내': 4743, '향년': 4744, '세인': 4745, '입학하': 4746, '반대': 4747, '투쟁': 4748, '투옥되': 4749, '김대중': 4750, '포상': 4751, '법': 4752, '입사하': 4753, '영성': 4754, '함양': 4755, '사역하': 4756, '빈소': 4757, '둔산동': 4758, '을지': 4759, '장례식장': 4760, '묘역': 4761, '안장되': 4762, '백수': 4763, '연세대학교': 4764, '명예': 4765, '자전': 4766, '에세이집': 4767, '생애': 4768, '리포트': 4769, '두란노': 4770, '왕성한': 4771, '강연': 4772, '서술하': 4773, '사연': 4774, '신학': 4775, '덧붙': 4776, '은총': 4777, '고백하': 4778, '고결하': 4779, '구도자': 4780, '아무것': 4781, '염려하': 4782, '마르': 4783, '의': 4784, '괴롭': 4785, '기독교인': 4786, '근심': 4787, '넘어서': 4788, '권면하': 4789, '찬양하': 4790, '구하': 4791, '평온': 4792, '빌립보': 4793, '장마': 4794, '점검하': 4795, '안식': 4796, '잃': 4797, '현대': 4798, '평안': 4799, '안내하': 4800, '총회': 4801, '권율': 4802, '북스': 4803, '역자': 4804, '표현': 4805, '변형하': 4806, '직역하': 4807, '학습하': 4808, '단어': 4809, '표기하': 4810, '흐름도': 4811, '증거': 4812, '구절': 4813, '편집': 4814, '김유미': 4815, '교감하': 4816, '요절': 4817, '후속작': 4818, '붐': 4819, '소설가': 4820, '인민': 4821, '부딪치': 4822, '소산': 4823, '종로구': 4824, '관훈클럽': 4825, '조선인': 4826, '학도병': 4827, '위문': 4828, '베이징': 4829, '파견되': 4830, '탈출하': 4831, '남하하': 4832, '바다': 4833, '르포': 4834, '중순': 4835, '지병인': 4836, '심장병': 4837, '악화하': 4838, '낙오하': 4839, '숨지': 4840, '부제': 4841, '고뇌': 4842, '고향만리': 4843, '탈출기': 4844, '노마': 4845, '만리': 4846, '후속': 4847, '일간지': 4848, '좇': 4849, '형': 4850, '군수': 4851, '탐사하': 4852, '죽': 4853, '끝나': 4854, '지점': 4855, '분단': 4856, '대치': 4857, '결코': 4858, '길이': 4859, '해답': 4860, '스스로': 4861, '핑': 4862, '설명되': 4863, '주세훈': 4864, '중복': 4865, '한꺼번': 4866, '음반': 4867, '쓸': 4868, '집사': 4869, '애플리케이션': 4870, '가입': 4871, '생일': 4872, '접속': 4873, '다운로드': 4874, '한해': 4875, '신한카드': 4876, '현대카드': 4877, '롯데': 4878, '한우': 4879, '차감': 4880, '일일이': 4881, '다니': 4882, '진행': 4883, '판매기': 4884, '획': 4885, '엄선하': 4886, '인문서': 4887, '서점': 4888, '김기호': 4889, '김석환': 4890, '할인권': 4891, '상관': 4892, '승급': 4893, '떡국': 4894, '떡': 4895, '만두': 4896, '계란': 4897, '경품': 4898, '대여': 4899, '응모': 4900, '레마': 4901, '중고': 4902, '스티커': 4903, '파우치': 4904, '젤': 4905, '샤프': 4906, '메모지': 4907, '지우개': 4908, '구성': 4909, '피크닉': 4910, '신발주머니': 4911, '넉넉': 4912, '제작되': 4913, '박현주': 4914, '거래되': 4915, '출간되': 4916, '마이아': 4917, '에이': 4918, '인사': 4919, '꼬': 4920, '모옥': 4921, '에이치': 4922, '토탈': 4923, '명인': 4924, '수집되': 4925, '홍콩': 4926, '크리스티': 4927, '소더비': 4928, '필립스': 4929, '내역': 4930, '아트페어': 4931, '단체전': 4932, '아우르': 4933, '취재하': 4934, '회화': 4935, '공예': 4936, '서예': 4937, '수록되': 4938, '해마': 4939, '상승세': 4940, '낙찰되': 4941, '지수': 4942, '정리되': 4943, '김영석': 4944, '서로': 4945, '형성되': 4946, '가늠하': 4947, '바람직': 4948, '완간': 4949, '완간되': 4950, '완간하': 4951, '펌프': 4952, '자임하': 4953, '능력': 4954, '천차만별': 4955, '정색하': 4956, '잡지': 4957, '속담': 4958, '미로': 4959, '게임': 4960, '코너': 4961, '동화': 4962, '옛': 4963, '이야깃거리': 4964, '논픽션': 4965, '둘러쌓이': 4966, '초등학교': 4967, '연계되': 4968, '소중한': 4969, '뼘': 4970, '즐겁': 4971, '문학가': 4972, '기획물': 4973, '조태성': 4974, '마크': 4975, '찍히': 4976, '앞사람': 4977, '뒤축': 4978, '보통': 4979, '돌아보': 4980, '걸음': 4981, '멈추': 4982, '돌아서': 4983, '한눈팔': 4984, '그해': 4985, '봄날': 4986, '책상': 4987, '스케줄': 4988, '치우': 4989, '흠잡': 4990, '풍경': 4991, '대화': 4992, '나뉘': 4993, '과녁': 4994, '또렷': 4995, '붙': 4996, '친숙하': 4997, '호모': 4998, '사케': 4999, '표정': 5000, '리뷰': 5001, '제국': 5002, '이범준': 5003, '일러두': 5004, '촬영하': 5005, '꾹': 5006, '덥': 5007, '오사카': 5008, '앙상': 5009, '눈빛': 5010, '형형': 5011, '아무런': 5012, '말라죽': 5013, '육체': 5014, '한계': 5015, '공중': 5016, '소개되': 5017, '곧바로': 5018, '다가가': 5019, '섭외': 5020, '생각나': 5021, '패널': 5022, '앉': 5023, '일사천리': 5024, '쇄': 5025, '석': 5026, '달이': 5027, '바닥나': 5028, '말미': 5029, '별': 5030, '면도': 5031, '아마': 5032, '무간': 5033, '조용필': 5034, '로비': 5035, '윌리엄스': 5036, '해안': 5037, '시마': 5038, '풀코스': 5039, '마라토너': 5040, '싱싱': 5041, '김재수': 5042, '현직': 5043, '화재': 5044, '진압': 5045, '재직': 5046, '역모': 5047, '죄': 5048, '억울': 5049, '희생되': 5050, '바쁘': 5051, '동물원': 5052, '원숭이': 5053, '샛별': 5054, '중편': 5055, '네기': 5056, '농촌': 5057, '순박': 5058, '남녀': 5059, '월간': 5060, '신인': 5061, '문학상': 5062, '하구': 5063, '일보': 5064, '신춘문예': 5065, '당선': 5066, '사무국장': 5067, '등단': 5068, '도민': 5069, '토지': 5070, '최명희': 5071, '대하소설': 5072, '집필하': 5073, '제공일': 5074, '제강': 5075, '신작': 5076, '조명하': 5077, '상실': 5078, '써내': 5079, '즉': 5080, '찾아나서': 5081, '후보작': 5082, '울혈': 5083, '백석': 5084, '토속': 5085, '김승옥': 5086, '근대': 5087, '원형': 5088, '발견되': 5089, '북조선': 5090, '예술가': 5091, '간부': 5092, '이력': 5093, '삭제되': 5094, '불러내': 5095, '까닭': 5096, '전쯤': 5097, '강점기': 5098, '머릿속': 5099, '조선어': 5100, '글쓰기': 5101, '구원': 5102, '궁금': 5103, '신문사': 5104, '병사하': 5105, '최후': 5106, '촌민': 5107, '풍속': 5108, '궁핍하': 5109, '끈기': 5110, '똑같': 5111, '잊': 5112, '갈래': 5113, '궤도': 5114, '가까이': 5115, '들어오': 5116, '과학자': 5117, '규칙': 5118, '학문': 5119, '해법': 5120, '김향미': 5121, '인유': 5122, '발굴': 5123, '송산': 5124, '지도자': 5125, '활약하': 5126, '홍진': 5127, '오산': 5128, '노농': 5129, '학원': 5130, '적화': 5131, '검거되': 5132, '옥고': 5133, '변주현': 5134, '변': 5135, '장안': 5136, '우정': 5137, '면사무소': 5138, '파괴': 5139, '순사': 5140, '처단': 5141, '차경규': 5142, '잃어버리': 5143, '되찾': 5144, '헌신하': 5145, '출옥': 5146, '친필': 5147, '엽서': 5148, '발굴되': 5149, '국공립': 5150, '고등학교': 5151, '배포하': 5152, '채인석': 5153, '접견실': 5154, '안소': 5155, '헐': 5156, '광복회': 5157, '지회장': 5158, '편찬실': 5159, '노고': 5160, '잊히': 5161, '그분': 5162, '공훈': 5163, '선양': 5164, '휩쓸리': 5165, '못지않': 5166, '품격': 5167, '논노': 5168, '제일모직': 5169, '골덴': 5170, '여성복': 5171, '총괄하': 5172, '압구정동': 5173, '옷': 5174, '일념': 5175, '부속품': 5176, '수작업': 5177, '품위': 5178, '정통': 5179, '프레': 5180, '포르테': 5181, '파리': 5182, '쌓': 5183, '발하': 5184, '아가': 5185, '해비타트': 5186, '건축': 5187, '자선': 5188, '재소자': 5189, '장애인': 5190, '이웃': 5191, '랜': 5192, '컬렉션': 5193, '그만': 5194, '특유하': 5195, '비비': 5196, '구치소': 5197, '수용자': 5198, '바자회': 5199, '무제': 5200, '꽃': 5201, '모시': 5202, '스웨이드': 5203, '가죽': 5204, '이끌': 5205, '위상': 5206, '공로': 5207, '시상식': 5208, '방부제': 5209, '첨가': 5210, '신뢰': 5211, '대세': 5212, '판도': 5213, '이목': 5214, '방송국': 5215, '프로듀서': 5216, '강남대': 5217, '극소량': 5218, '제조사': 5219, '확연히': 5220, '에탄올': 5221, '화학': 5222, '규명되': 5223, '타사': 5224, '동급': 5225, '월등': 5226, '일명': 5227, '농도': 5228, '캐모마일': 5229, '트러블': 5230, '알레르기': 5231, '아토피': 5232, '칼': 5233, '투스': 5234, '밀착': 5235, '흡수되': 5236, '주름': 5237, '발휘하': 5238, '히알루론산': 5239, '스킨': 5240, '프레시': 5241, '토너': 5242, '라이징': 5243, '우수한': 5244, '착하': 5245, '불리': 5246, '판매고': 5247, '파격': 5248, '세일': 5249, '상술': 5250, '부리': 5251, '한화': 5252, '룰렛': 5253, '아메리카': 5254, '콘': 5255, '카탈로그': 5256, '버전': 5257, '키워드': 5258, '검색': 5259, '연동되': 5260, '무술년': 5261, '반영한': 5262, '신년': 5263, '럭셔리': 5264, '불가리': 5265, '쥬얼리': 5266, '합산': 5267, '골드': 5268, '멤버십': 5269, '발급': 5270, '마우스': 5271, '패드': 5272, '유니온': 5273, '핸드': 5274, '가입하': 5275, '로그인': 5276, '복주머니': 5277, '차이나': 5278, '발렌시아': 5279, '슬쩍': 5280, '루이비통': 5281, '루마니아': 5282, '에도': 5283, '슈즈': 5284, '구찌': 5285, '프라다': 5286, '희소': 5287, '아이젠': 5288, '수식어': 5289, '떼': 5290, '발효되': 5291, '고정관념': 5292, '깨': 5293, '농축액': 5294, '주스': 5295, '가미하': 5296, '향취': 5297, '쓴맛': 5298, '가방': 5299, '휴대하': 5300, '이지': 5301, '강인': 5302, '귀': 5303, '스테디셀러': 5304, '김수': 5305, '지기': 5306, '평생': 5307, '프로페셔널': 5308, '가진': 5309, '내지': 5310, '두피': 5311, '레드': 5312, '니즈': 5313, '자사': 5314, '기술력': 5315, '달라지': 5316, '아일랜드': 5317, '기호': 5318, '출시되': 5319, '몰이': 5320, '아이돌': 5321, '서버': 5322, '다운되': 5323, '앨범': 5324, '트루': 5325, '건조하': 5326, '벌꿀': 5327, '칙칙': 5328, '밝혀주': 5329, '미네랄': 5330, '활력': 5331, '영양분': 5332, '힘없': 5333, '탱탱': 5334, '외부': 5335, '강력': 5336, '보습력': 5337, '카렌': 5338, '극세사': 5339, '물시': 5340, '가느다랗': 5341, '초극': 5342, '세사': 5343, '틈': 5344, '촘촘': 5345, '스며들': 5346, '밀착되': 5347, '유효': 5348, '강지': 5349, '부사장': 5350, '기획되': 5351, '착안': 5352, '브로마이드': 5353, '유니콘': 5354, '레이크': 5355, '구입하': 5356, '매트': 5357, '엑스': 5358, '립스틱': 5359, '발칙': 5360, '스페셜': 5361, '데이트': 5362, '예전': 5363, '기피하': 5364, '연인': 5365, '로맨틱하': 5366, '어필하': 5367, '에스콰이어': 5368, '이동휘': 5369, '인스타그램': 5370, '에르': 5371, '제냐': 5372, '밀레': 5373, '베이지': 5374, '동양인': 5375, '은은': 5376, '하얗': 5377, '채도': 5378, '시도': 5379, '어둡': 5380, '상의': 5381, '하의': 5382, '소품': 5383, '착용': 5384, '컷': 5385, '평범': 5386, '베이직하': 5387, '소장하': 5388, '옥스포드': 5389, '좋아하': 5390, '본인': 5391, '정사': 5392, '이즈': 5393, '원래': 5394, '캐주얼': 5395, '모던하': 5396, '그레이': 5397, '슬랙스': 5398, '실버': 5399, '팔찌': 5400, '메탈': 5401, '쿨하': 5402, '아크': 5403, '네스': 5404, '시원': 5405, '제임스': 5406, '액세서리': 5407, '면적': 5408, '작아지': 5409, '링하': 5410, '밸런스': 5411, '무채색': 5412, '연하': 5413, '다운': 5414, '차분': 5415, '댄디': 5416, '박해진': 5417, '에릭': 5418, '하석진': 5419, '전담하': 5420, '런던': 5421, '혁': 5422, '지현우': 5423, '이종석': 5424, '매거진': 5425, '광고': 5426, '디지틀': 5427, '서유남': 5428, '방송되': 5429, '케이블': 5430, '세정': 5431, '종일': 5432, '갑갑': 5433, '숨통': 5434, '트이': 5435, '말끔': 5436, '검증': 5437, '검증하': 5438, '약산성': 5439, '아미': 5440, '클렌징': 5441, '마일드하': 5442, '거품': 5443, '클렌징하': 5444, '약알칼리': 5445, '마이크로': 5446, '미세하': 5447, '버블': 5448, '피지': 5449, '노폐물': 5450, '세안': 5451, '메이크업': 5452, '깨끗이': 5453, '당기': 5454, '기르': 5455, '꽃무늬': 5456, '면모': 5457, '살인': 5458, '지목되': 5459, '변호인': 5460, '금': 5461, '토드': 5462, '라마': 5463, '사망하': 5464, '시청자': 5465, '예고편': 5466, '살해': 5467, '선상': 5468, '궁금증': 5469, '결백': 5470, '김태욱': 5471, '지진희': 5472, '혜란': 5473, '죽이': 5474, '상관없': 5475, '변함없': 5476, '집착하': 5477, '팩트': 5478, '유지': 5479, '무섭': 5480, '야망': 5481, '정의': 5482, '구현': 5483, '외치': 5484, '캐릭터': 5485, '카리스마': 5486, '넘치': 5487, '섹시하': 5488, '커리어': 5489, '우먼': 5490, '실크': 5491, '미하': 5492, '입어': 5493, '란제리': 5494, '탐': 5495}\n"
          ],
          "name": "stdout"
        }
      ]
    },
    {
      "cell_type": "code",
      "metadata": {
        "id": "ewEHsfaXmrgE",
        "colab_type": "code",
        "colab": {
          "base_uri": "https://localhost:8080/",
          "height": 143
        },
        "outputId": "d8071404-c8ca-4113-e2b5-278c56618d90"
      },
      "source": [
        "# Data Sequencing\n",
        "# train 데이터를 Sequencing 한다\n",
        "# 상위 빈도 10,000개의 단어를 word_index의 숫자 리스트로 변환. Tokenizer 결과가 여기서 반영된다\n",
        "data = tokenizer.texts_to_sequences(texts) \n",
        "\n",
        "# maxlen의 수만큼으로 2D 텐서를 만든다\n",
        "data = pad_sequences(data, maxlen=maxlen)\n",
        "\n",
        "print('data:', data)"
      ],
      "execution_count": 10,
      "outputs": [
        {
          "output_type": "stream",
          "text": [
            "data: [[   0    0    0 ...   30   10  511]\n",
            " [   0    0    0 ...  317    2   31]\n",
            " [   0    0    0 ...   30   10  511]\n",
            " ...\n",
            " [1767  284 1887 ...    4   20   21]\n",
            " [   0    0    0 ...  187 1529  175]\n",
            " [   0    0    0 ...    4   20   21]]\n"
          ],
          "name": "stdout"
        }
      ]
    },
    {
      "cell_type": "code",
      "metadata": {
        "id": "QvqiT-IWna-N",
        "colab_type": "code",
        "colab": {}
      },
      "source": [
        "# One-Hot-Encoding\n",
        "# 직접 작성\n",
        "\n",
        "# 원-핫 인코딩 함수 \n",
        "def to_one_hot(labels, dimension): \n",
        "    results = np.zeros((len(labels), dimension))\n",
        "    for i, label in enumerate(labels):\n",
        "        results[i, label] = 1. \n",
        "    return results\n",
        "# train 데이터에 대하여 원-핫 인코딩을 수행한다 \n",
        "data = to_one_hot(data, dimension=max_words) \n",
        "labels = to_one_hot(labels, dimension=class_number)"
      ],
      "execution_count": 0,
      "outputs": []
    },
    {
      "cell_type": "code",
      "metadata": {
        "id": "n3YTOzu0Y1OA",
        "colab_type": "code",
        "colab": {
          "base_uri": "https://localhost:8080/",
          "height": 1000
        },
        "outputId": "cc8741be-079d-4aba-f11f-a6562e9e100d"
      },
      "source": [
        "# 출력층의 형태\n",
        "print(labels)"
      ],
      "execution_count": 12,
      "outputs": [
        {
          "output_type": "stream",
          "text": [
            "[[1. 0. 0. 0. 0. 0. 0. 0. 0.]\n",
            " [1. 0. 0. 0. 0. 0. 0. 0. 0.]\n",
            " [1. 0. 0. 0. 0. 0. 0. 0. 0.]\n",
            " [1. 0. 0. 0. 0. 0. 0. 0. 0.]\n",
            " [1. 0. 0. 0. 0. 0. 0. 0. 0.]\n",
            " [1. 0. 0. 0. 0. 0. 0. 0. 0.]\n",
            " [1. 0. 0. 0. 0. 0. 0. 0. 0.]\n",
            " [1. 0. 0. 0. 0. 0. 0. 0. 0.]\n",
            " [1. 0. 0. 0. 0. 0. 0. 0. 0.]\n",
            " [1. 0. 0. 0. 0. 0. 0. 0. 0.]\n",
            " [0. 1. 0. 0. 0. 0. 0. 0. 0.]\n",
            " [0. 1. 0. 0. 0. 0. 0. 0. 0.]\n",
            " [0. 1. 0. 0. 0. 0. 0. 0. 0.]\n",
            " [0. 1. 0. 0. 0. 0. 0. 0. 0.]\n",
            " [0. 1. 0. 0. 0. 0. 0. 0. 0.]\n",
            " [0. 1. 0. 0. 0. 0. 0. 0. 0.]\n",
            " [0. 1. 0. 0. 0. 0. 0. 0. 0.]\n",
            " [0. 1. 0. 0. 0. 0. 0. 0. 0.]\n",
            " [0. 1. 0. 0. 0. 0. 0. 0. 0.]\n",
            " [0. 1. 0. 0. 0. 0. 0. 0. 0.]\n",
            " [0. 0. 1. 0. 0. 0. 0. 0. 0.]\n",
            " [0. 0. 1. 0. 0. 0. 0. 0. 0.]\n",
            " [0. 0. 1. 0. 0. 0. 0. 0. 0.]\n",
            " [0. 0. 1. 0. 0. 0. 0. 0. 0.]\n",
            " [0. 0. 1. 0. 0. 0. 0. 0. 0.]\n",
            " [0. 0. 1. 0. 0. 0. 0. 0. 0.]\n",
            " [0. 0. 1. 0. 0. 0. 0. 0. 0.]\n",
            " [0. 0. 1. 0. 0. 0. 0. 0. 0.]\n",
            " [0. 0. 1. 0. 0. 0. 0. 0. 0.]\n",
            " [0. 0. 1. 0. 0. 0. 0. 0. 0.]\n",
            " [0. 0. 0. 1. 0. 0. 0. 0. 0.]\n",
            " [0. 0. 0. 1. 0. 0. 0. 0. 0.]\n",
            " [0. 0. 0. 1. 0. 0. 0. 0. 0.]\n",
            " [0. 0. 0. 1. 0. 0. 0. 0. 0.]\n",
            " [0. 0. 0. 1. 0. 0. 0. 0. 0.]\n",
            " [0. 0. 0. 1. 0. 0. 0. 0. 0.]\n",
            " [0. 0. 0. 1. 0. 0. 0. 0. 0.]\n",
            " [0. 0. 0. 1. 0. 0. 0. 0. 0.]\n",
            " [0. 0. 0. 1. 0. 0. 0. 0. 0.]\n",
            " [0. 0. 0. 1. 0. 0. 0. 0. 0.]\n",
            " [0. 0. 0. 0. 1. 0. 0. 0. 0.]\n",
            " [0. 0. 0. 0. 1. 0. 0. 0. 0.]\n",
            " [0. 0. 0. 0. 1. 0. 0. 0. 0.]\n",
            " [0. 0. 0. 0. 1. 0. 0. 0. 0.]\n",
            " [0. 0. 0. 0. 1. 0. 0. 0. 0.]\n",
            " [0. 0. 0. 0. 1. 0. 0. 0. 0.]\n",
            " [0. 0. 0. 0. 1. 0. 0. 0. 0.]\n",
            " [0. 0. 0. 0. 1. 0. 0. 0. 0.]\n",
            " [0. 0. 0. 0. 1. 0. 0. 0. 0.]\n",
            " [0. 0. 0. 0. 1. 0. 0. 0. 0.]\n",
            " [0. 0. 0. 0. 0. 1. 0. 0. 0.]\n",
            " [0. 0. 0. 0. 0. 1. 0. 0. 0.]\n",
            " [0. 0. 0. 0. 0. 1. 0. 0. 0.]\n",
            " [0. 0. 0. 0. 0. 1. 0. 0. 0.]\n",
            " [0. 0. 0. 0. 0. 1. 0. 0. 0.]\n",
            " [0. 0. 0. 0. 0. 1. 0. 0. 0.]\n",
            " [0. 0. 0. 0. 0. 1. 0. 0. 0.]\n",
            " [0. 0. 0. 0. 0. 1. 0. 0. 0.]\n",
            " [0. 0. 0. 0. 0. 1. 0. 0. 0.]\n",
            " [0. 0. 0. 0. 0. 1. 0. 0. 0.]\n",
            " [0. 0. 0. 0. 0. 0. 1. 0. 0.]\n",
            " [0. 0. 0. 0. 0. 0. 1. 0. 0.]\n",
            " [0. 0. 0. 0. 0. 0. 1. 0. 0.]\n",
            " [0. 0. 0. 0. 0. 0. 1. 0. 0.]\n",
            " [0. 0. 0. 0. 0. 0. 1. 0. 0.]\n",
            " [0. 0. 0. 0. 0. 0. 1. 0. 0.]\n",
            " [0. 0. 0. 0. 0. 0. 1. 0. 0.]\n",
            " [0. 0. 0. 0. 0. 0. 1. 0. 0.]\n",
            " [0. 0. 0. 0. 0. 0. 1. 0. 0.]\n",
            " [0. 0. 0. 0. 0. 0. 1. 0. 0.]\n",
            " [0. 0. 0. 0. 0. 0. 0. 1. 0.]\n",
            " [0. 0. 0. 0. 0. 0. 0. 1. 0.]\n",
            " [0. 0. 0. 0. 0. 0. 0. 1. 0.]\n",
            " [0. 0. 0. 0. 0. 0. 0. 1. 0.]\n",
            " [0. 0. 0. 0. 0. 0. 0. 1. 0.]\n",
            " [0. 0. 0. 0. 0. 0. 0. 1. 0.]\n",
            " [0. 0. 0. 0. 0. 0. 0. 1. 0.]\n",
            " [0. 0. 0. 0. 0. 0. 0. 1. 0.]\n",
            " [0. 0. 0. 0. 0. 0. 0. 1. 0.]\n",
            " [0. 0. 0. 0. 0. 0. 0. 1. 0.]\n",
            " [0. 0. 0. 0. 0. 0. 0. 0. 1.]\n",
            " [0. 0. 0. 0. 0. 0. 0. 0. 1.]\n",
            " [0. 0. 0. 0. 0. 0. 0. 0. 1.]\n",
            " [0. 0. 0. 0. 0. 0. 0. 0. 1.]\n",
            " [0. 0. 0. 0. 0. 0. 0. 0. 1.]\n",
            " [0. 0. 0. 0. 0. 0. 0. 0. 1.]\n",
            " [0. 0. 0. 0. 0. 0. 0. 0. 1.]\n",
            " [0. 0. 0. 0. 0. 0. 0. 0. 1.]\n",
            " [0. 0. 0. 0. 0. 0. 0. 0. 1.]\n",
            " [0. 0. 0. 0. 0. 0. 0. 0. 1.]]\n"
          ],
          "name": "stdout"
        }
      ]
    },
    {
      "cell_type": "code",
      "metadata": {
        "id": "Whu3jB1Anpx3",
        "colab_type": "code",
        "colab": {
          "base_uri": "https://localhost:8080/",
          "height": 53
        },
        "outputId": "7188e8f4-0e8d-43b6-9354-90f8c6d4deba"
      },
      "source": [
        "# Train data와 Validation data 준비\n",
        "\n",
        "print('데이터 텐서의 크기:', data.shape)        \t# (90, 10000)\n",
        "print('레이블 텐서의 크기:', labels.shape)      \t# (90, 9) data와 label이 모두 2D 텐서가 되었음\n",
        "\n",
        "indices = np.arange(data.shape[0])      \t\t      # 0 ~ 89 까지의 숫자를 생성\n",
        "np.random.shuffle(indices)                        # 0 ~ 89 까지의 숫자를 랜덤하게 섞음\n",
        "data = data[indices]                              # 이것을 인덱스로 하여 2D 텐서 데이터를 섞음\n",
        "labels = labels[indices]                          # label도 같은 순서로 섞음\n",
        "\n",
        "x_train = data[validation_ratio:]                 # 훈련데이터의 70%를 훈련데이터\n",
        "y_train = labels[validation_ratio:]               # 훈련데이터의 70%를 훈련데이터 Label\n",
        "x_val = data[:validation_ratio]                   # 훈련데이터의 30%를 검증데이터\n",
        "y_val = labels[:validation_ratio]                 # 훈련데이터의 30%를 검증데이터 Label"
      ],
      "execution_count": 13,
      "outputs": [
        {
          "output_type": "stream",
          "text": [
            "데이터 텐서의 크기: (90, 10000)\n",
            "레이블 텐서의 크기: (90, 9)\n"
          ],
          "name": "stdout"
        }
      ]
    },
    {
      "cell_type": "code",
      "metadata": {
        "id": "OZk2hcR6oFi0",
        "colab_type": "code",
        "colab": {
          "base_uri": "https://localhost:8080/",
          "height": 145
        },
        "outputId": "42e4067d-f1ae-44f8-dc67-1989ebfb5a45"
      },
      "source": [
        "# 모델 정의하기\n",
        "# 직접 작성\n",
        "\n",
        "from keras import models \n",
        "from keras import layers\n",
        "\n",
        "model = models.Sequential()     # 모델을 새로 정의\n",
        "\n",
        "# 첫 번째 은닉층. 은닉 노드 64개, 활성화 함수는 음수를 0으로 만드는 relu 함수 사용. 입력층은 10,000 개의 단어가 오므로, input_shape=10,000 \n",
        "model.add(layers.Dense(64, activation='relu', input_shape=(max_words,)))\n",
        "\n",
        "# 두 번째 은닉층 \n",
        "model.add(layers.Dense(32, activation='relu'))\n",
        "\n",
        "# 출력층. 출력 노드는 분류 개수인 9. 활성화 함수는 sigmoid와 성격이 같으나 다중분류에 사용되는 함수인 softmax 함수를 사용한다. 확률값을 출력 \n",
        "model.add(layers.Dense(class_number, activation='softmax'))"
      ],
      "execution_count": 14,
      "outputs": [
        {
          "output_type": "stream",
          "text": [
            "WARNING:tensorflow:From /usr/local/lib/python3.6/dist-packages/keras/backend/tensorflow_backend.py:66: The name tf.get_default_graph is deprecated. Please use tf.compat.v1.get_default_graph instead.\n",
            "\n",
            "WARNING:tensorflow:From /usr/local/lib/python3.6/dist-packages/keras/backend/tensorflow_backend.py:541: The name tf.placeholder is deprecated. Please use tf.compat.v1.placeholder instead.\n",
            "\n",
            "WARNING:tensorflow:From /usr/local/lib/python3.6/dist-packages/keras/backend/tensorflow_backend.py:4432: The name tf.random_uniform is deprecated. Please use tf.random.uniform instead.\n",
            "\n"
          ],
          "name": "stdout"
        }
      ]
    },
    {
      "cell_type": "code",
      "metadata": {
        "id": "FOgq9TZq8Shu",
        "colab_type": "code",
        "colab": {}
      },
      "source": [
        "# 모델 정의하기\n",
        "# 직접 작성\n",
        "\n",
        "from keras import models \n",
        "from keras import layers\n",
        "\n",
        "max_len = 3\n",
        "embedding_dim = 5\n",
        "\n",
        "model = models.Sequential()     # 모델을 새로 정의\n",
        "\n",
        "# 출력층은 (input_dim, input_length, output_dim)가 됨\n",
        "model.add(layers.Embedding(input_dim=max_words, output_dim=embedding_dim, input_length=maxlen))\n",
        "model.add(layers.Flatten())  # 3D 임베딩 텐서를 (input_dim, input_length * output_dim) 크기의 2D 텐서로 펼친다\n",
        "\n",
        "# 첫 번째 은닉층. 은닉 노드 64개, 활성화 함수는 음수를 0으로 만드는 relu 함수 사용. 입력층은 10,000 개의 단어가 오므로, input_shape=10,000 \n",
        "model.add(layers.Dense(64, activation='relu', input_shape=(max_words,)))\n",
        "\n",
        "# 두 번째 은닉층 \n",
        "model.add(layers.Dense(32, activation='relu'))\n",
        "\n",
        "# 출력층. 출력 노드는 분류 개수인 9. 활성화 함수는 sigmoid와 성격이 같으나 다중분류에 사용되는 함수인 softmax 함수를 사용한다. 확률값을 출력 \n",
        "model.add(layers.Dense(class_number, activation='softmax'))"
      ],
      "execution_count": 0,
      "outputs": []
    },
    {
      "cell_type": "code",
      "metadata": {
        "id": "Eo8To81_o9Rf",
        "colab_type": "code",
        "colab": {
          "base_uri": "https://localhost:8080/",
          "height": 341
        },
        "outputId": "efc3f815-480d-4bc9-bbc6-57af0a63ed08"
      },
      "source": [
        "# 모델 요약 출력\n",
        "model.summary()"
      ],
      "execution_count": 22,
      "outputs": [
        {
          "output_type": "stream",
          "text": [
            "Model: \"sequential_3\"\n",
            "_________________________________________________________________\n",
            "Layer (type)                 Output Shape              Param #   \n",
            "=================================================================\n",
            "embedding_1 (Embedding)      (None, 200, 5)            50000     \n",
            "_________________________________________________________________\n",
            "flatten_1 (Flatten)          (None, 1000)              0         \n",
            "_________________________________________________________________\n",
            "dense_4 (Dense)              (None, 64)                64064     \n",
            "_________________________________________________________________\n",
            "dense_5 (Dense)              (None, 32)                2080      \n",
            "_________________________________________________________________\n",
            "dense_6 (Dense)              (None, 9)                 297       \n",
            "=================================================================\n",
            "Total params: 116,441\n",
            "Trainable params: 116,441\n",
            "Non-trainable params: 0\n",
            "_________________________________________________________________\n"
          ],
          "name": "stdout"
        }
      ]
    },
    {
      "cell_type": "code",
      "metadata": {
        "id": "F6CYRK0HoYWb",
        "colab_type": "code",
        "colab": {
          "base_uri": "https://localhost:8080/",
          "height": 109
        },
        "outputId": "b90c2621-728f-49c7-e384-dd0ed7b16a9b"
      },
      "source": [
        "# Compile Model\n",
        "# 가중치 업데이트는 이동평균 방법인 RMSprop을 사용하였다.\n",
        "# 신경망의 출력이 확률이므로 crossentropy를 사용하는 것이 최선이다\n",
        "# crossentropy는 원본의 확률 분포와 예측의 확률 분포를 측정하여 조절해 간다\n",
        "# 또한 다중 분류이므로 categorical_crossentropy를 사용한다\n",
        "\n",
        "model.compile(optimizer='rmsprop', loss='categorical_crossentropy', metrics=['acc'])"
      ],
      "execution_count": 16,
      "outputs": [
        {
          "output_type": "stream",
          "text": [
            "WARNING:tensorflow:From /usr/local/lib/python3.6/dist-packages/keras/optimizers.py:793: The name tf.train.Optimizer is deprecated. Please use tf.compat.v1.train.Optimizer instead.\n",
            "\n",
            "WARNING:tensorflow:From /usr/local/lib/python3.6/dist-packages/keras/backend/tensorflow_backend.py:3576: The name tf.log is deprecated. Please use tf.math.log instead.\n",
            "\n"
          ],
          "name": "stdout"
        }
      ]
    },
    {
      "cell_type": "code",
      "metadata": {
        "id": "XpAn29HQoiCK",
        "colab_type": "code",
        "colab": {
          "base_uri": "https://localhost:8080/",
          "height": 757
        },
        "outputId": "9cbe7db7-80be-428c-c564-53a732751273"
      },
      "source": [
        "# Train Model\n",
        "# 32개씩 미니 배치를 만들어 10번의 epoch로 훈련\n",
        "# 훈련데이터로 훈련하고, 검증데이터로 검증한다\n",
        "# 반환값의 history는 훈련하는 동안 발생한 모든 정보를 담고 있는 딕셔너리이다\n",
        "\n",
        "history = model.fit(x_train, y_train, epochs=10, batch_size=32, validation_data=(x_val, y_val))\n",
        "\n",
        "history_dict = history.history"
      ],
      "execution_count": 17,
      "outputs": [
        {
          "output_type": "stream",
          "text": [
            "WARNING:tensorflow:From /usr/local/lib/python3.6/dist-packages/tensorflow_core/python/ops/math_grad.py:1424: where (from tensorflow.python.ops.array_ops) is deprecated and will be removed in a future version.\n",
            "Instructions for updating:\n",
            "Use tf.where in 2.0, which has the same broadcast rule as np.where\n",
            "WARNING:tensorflow:From /usr/local/lib/python3.6/dist-packages/keras/backend/tensorflow_backend.py:1033: The name tf.assign_add is deprecated. Please use tf.compat.v1.assign_add instead.\n",
            "\n",
            "WARNING:tensorflow:From /usr/local/lib/python3.6/dist-packages/keras/backend/tensorflow_backend.py:1020: The name tf.assign is deprecated. Please use tf.compat.v1.assign instead.\n",
            "\n",
            "WARNING:tensorflow:From /usr/local/lib/python3.6/dist-packages/keras/backend/tensorflow_backend.py:3005: The name tf.Session is deprecated. Please use tf.compat.v1.Session instead.\n",
            "\n",
            "Train on 63 samples, validate on 27 samples\n",
            "Epoch 1/10\n",
            "WARNING:tensorflow:From /usr/local/lib/python3.6/dist-packages/keras/backend/tensorflow_backend.py:190: The name tf.get_default_session is deprecated. Please use tf.compat.v1.get_default_session instead.\n",
            "\n",
            "WARNING:tensorflow:From /usr/local/lib/python3.6/dist-packages/keras/backend/tensorflow_backend.py:197: The name tf.ConfigProto is deprecated. Please use tf.compat.v1.ConfigProto instead.\n",
            "\n",
            "WARNING:tensorflow:From /usr/local/lib/python3.6/dist-packages/keras/backend/tensorflow_backend.py:207: The name tf.global_variables is deprecated. Please use tf.compat.v1.global_variables instead.\n",
            "\n",
            "WARNING:tensorflow:From /usr/local/lib/python3.6/dist-packages/keras/backend/tensorflow_backend.py:216: The name tf.is_variable_initialized is deprecated. Please use tf.compat.v1.is_variable_initialized instead.\n",
            "\n",
            "WARNING:tensorflow:From /usr/local/lib/python3.6/dist-packages/keras/backend/tensorflow_backend.py:223: The name tf.variables_initializer is deprecated. Please use tf.compat.v1.variables_initializer instead.\n",
            "\n",
            "63/63 [==============================] - 1s 15ms/step - loss: 2.1719 - acc: 0.1905 - val_loss: 2.1480 - val_acc: 0.2593\n",
            "Epoch 2/10\n",
            "63/63 [==============================] - 0s 676us/step - loss: 1.7425 - acc: 0.7460 - val_loss: 2.0799 - val_acc: 0.2222\n",
            "Epoch 3/10\n",
            "63/63 [==============================] - 0s 672us/step - loss: 1.2970 - acc: 0.9683 - val_loss: 1.9466 - val_acc: 0.3704\n",
            "Epoch 4/10\n",
            "63/63 [==============================] - 0s 607us/step - loss: 0.9093 - acc: 1.0000 - val_loss: 1.8707 - val_acc: 0.3704\n",
            "Epoch 5/10\n",
            "63/63 [==============================] - 0s 585us/step - loss: 0.6259 - acc: 1.0000 - val_loss: 1.7944 - val_acc: 0.4074\n",
            "Epoch 6/10\n",
            "63/63 [==============================] - 0s 652us/step - loss: 0.4394 - acc: 1.0000 - val_loss: 1.7706 - val_acc: 0.4074\n",
            "Epoch 7/10\n",
            "63/63 [==============================] - 0s 574us/step - loss: 0.3202 - acc: 1.0000 - val_loss: 1.7167 - val_acc: 0.4444\n",
            "Epoch 8/10\n",
            "63/63 [==============================] - 0s 614us/step - loss: 0.2336 - acc: 1.0000 - val_loss: 1.6930 - val_acc: 0.4815\n",
            "Epoch 9/10\n",
            "63/63 [==============================] - 0s 647us/step - loss: 0.1723 - acc: 1.0000 - val_loss: 1.6634 - val_acc: 0.4815\n",
            "Epoch 10/10\n",
            "63/63 [==============================] - 0s 568us/step - loss: 0.1325 - acc: 1.0000 - val_loss: 1.6399 - val_acc: 0.4815\n"
          ],
          "name": "stdout"
        }
      ]
    },
    {
      "cell_type": "code",
      "metadata": {
        "id": "DDP6c0tdoxgV",
        "colab_type": "code",
        "colab": {
          "base_uri": "https://localhost:8080/",
          "height": 35
        },
        "outputId": "48cacbf5-9008-4408-cbda-63bd02e81e88"
      },
      "source": [
        "# 경로 변경\n",
        "cd /content/gdrive/My Drive/AIBM/20191016/pytest/"
      ],
      "execution_count": 19,
      "outputs": [
        {
          "output_type": "stream",
          "text": [
            "/content/gdrive/My Drive/AIBM/20191016/pytest\n"
          ],
          "name": "stdout"
        }
      ]
    },
    {
      "cell_type": "code",
      "metadata": {
        "id": "nonxGSocsRBW",
        "colab_type": "code",
        "colab": {}
      },
      "source": [
        "# multidimensional numpy arrays를 저장할 수 있는 h5 file(HDF) 포맷으로 저장한다\n",
        "model.save('text_multi_we_model.h5') \t     # 모델 저장\n",
        "\n",
        "# 훈련데이터에서 사용된 상위빈도 10,000개의 단어로 된 Tokenizer 저장\n",
        "# 새로 입력되는 문장에서도 같은 단어가 추출되게 한다\n",
        "import pickle\n",
        "with open('text_multi_we_tokenizer.pickle', 'wb') as handle:\n",
        "     pickle.dump(tokenizer, handle, protocol=pickle.HIGHEST_PROTOCOL)"
      ],
      "execution_count": 0,
      "outputs": []
    },
    {
      "cell_type": "code",
      "metadata": {
        "id": "HUlEUvsOrpna",
        "colab_type": "code",
        "colab": {}
      },
      "source": [
        "# Accuracy and Loss 확인\n",
        "# history 딕셔너리 안에 있는 정확도와 손실값을 가져와 본다\n",
        "acc = history.history['acc']\n",
        "val_acc = history.history['val_acc']\n",
        "loss = history.history['loss']\n",
        "val_loss = history.history['val_loss']\n",
        "\n",
        "print('Accuracy of each epoch:', acc)\n",
        "epochs = range(1, len(acc) +1)"
      ],
      "execution_count": 0,
      "outputs": []
    },
    {
      "cell_type": "code",
      "metadata": {
        "id": "MRr1tFv2uOVE",
        "colab_type": "code",
        "colab": {}
      },
      "source": [
        "# Plotting Accuracy\n",
        "# 정확도와 손실값의 변화를 보고, epoch를 어디에서 조절해야 할 지를 가늠한다.\n",
        "# 정확도가 떨어지는 구간, 손실값이 높게 나타나는 구간을 확인한다\n",
        "# 데이터가 큰 경우 대개 epoch를 늘려야 최적값에 도달한다\n",
        "import matplotlib.pyplot as plt\n",
        "\n",
        "# 정확도 그리기\n",
        "plt.plot(epochs, acc, 'bo', label='Training Acc')\n",
        "plt.plot(epochs, val_acc, 'b', label='Validation Acc')\n",
        "plt.title('Training and validation accuracy')\n",
        "plt.xlabel('Epochs')\n",
        "plt.ylabel('Accuracy')\n",
        "plt.legend()            \t\t\t"
      ],
      "execution_count": 0,
      "outputs": []
    },
    {
      "cell_type": "code",
      "metadata": {
        "id": "axUtgJKXuhiY",
        "colab_type": "code",
        "colab": {}
      },
      "source": [
        "# Plotting Loss\n",
        "plt.figure()            \t\t# 새로운 그림을 그린다\n",
        "\n",
        "# 손실값 그리기\n",
        "plt.plot(epochs, loss, 'bo', label='Training Loss')\n",
        "plt.plot(epochs, val_loss, 'b', label='Validation Loss')\n",
        "plt.title('Training and validation loss')\n",
        "plt.xlabel('Epochs')\n",
        "plt.ylabel('loss')\n",
        "plt.legend()            \t\t\n",
        "\n",
        "plt.show()"
      ],
      "execution_count": 0,
      "outputs": []
    },
    {
      "cell_type": "code",
      "metadata": {
        "id": "GHeqXyHyu7eA",
        "colab_type": "code",
        "colab": {}
      },
      "source": [
        "# Load Model\n",
        "import os\n",
        "from keras.models import load_model\n",
        "\n",
        "filepath = '/content/gdrive/My Drive/pytest/'\n",
        "os.chdir(filepath)\n",
        "print(\"Current Directory:\", os.getcwd())\n",
        "\n",
        "loaded_model = load_model('text_multi_we_model.h5')\n",
        "print(\"model loaded:\", loaded_model)\n",
        "\n",
        "with open('text_multi_we_tokenizer.pickle', 'rb') as handle:\n",
        "       loaded_tokenizer = pickle.load(handle)"
      ],
      "execution_count": 0,
      "outputs": []
    },
    {
      "cell_type": "code",
      "metadata": {
        "id": "2fSBXIKQvb1e",
        "colab_type": "code",
        "colab": {}
      },
      "source": [
        "# Test Data Loading\n",
        "# 테스트 데이터의 텍스트와 라벨을 받아온다\n",
        "\n",
        "texts, labels = make_texts_labels(test_dir, label_types)\n",
        "\n",
        "print('texts 0:', texts[0])\n",
        "print('texts len:', len(texts))\n",
        "print('labels 0:', labels[0])\n",
        "print('labels len:', len(labels))"
      ],
      "execution_count": 0,
      "outputs": []
    },
    {
      "cell_type": "code",
      "metadata": {
        "id": "_eZbH7e2vkN5",
        "colab_type": "code",
        "colab": {}
      },
      "source": [
        "# 로딩된 tokenizer로 test 데이터를 Sequencing 한다\n",
        "# 직접 작성"
      ],
      "execution_count": 0,
      "outputs": []
    },
    {
      "cell_type": "code",
      "metadata": {
        "id": "IWEzJSS4vqzz",
        "colab_type": "code",
        "colab": {}
      },
      "source": [
        "# Test Data Evaluation\n",
        "test_eval = loaded_model.evaluate(x_test, y_test)\n",
        "print('prediction model loss & acc:', test_eval)\t\t\t# 44.4% 까지 나왔다"
      ],
      "execution_count": 0,
      "outputs": []
    },
    {
      "cell_type": "code",
      "metadata": {
        "id": "l0bG0vkBwH1V",
        "colab_type": "code",
        "colab": {}
      },
      "source": [
        "predictions = loaded_model.predict(x_test)\n",
        "print('predictions shape:', predictions.shape)\n",
        "print('prediction 0 shape:', predictions[0].shape)\n",
        "print('prediction 0 sum', np.sum(predictions[0]))             # 모든 분류에 대한 확률의 총합은 1이 되어야 한다\n",
        "\n",
        "print('prediction 0 value:', predictions[0])                  # 9개 분류 각각에 대한 확률값\n",
        "print('prediction 0 max value:', np.argmax(predictions[0]))  \t# prediction 0이 가지고 있는 가장 큰 값의 판정 결과\n",
        "print('prediction 1 max value:', np.argmax(predictions[1]))   # prediction 1이 가지고 있는 가장 큰 값의 판정 결과\n",
        "print('prediction 2 max value:', np.argmax(predictions[2]))   # prediction 2가 가지고 있는 가장 큰 값의 판정 결과"
      ],
      "execution_count": 0,
      "outputs": []
    },
    {
      "cell_type": "code",
      "metadata": {
        "id": "nHwZhF2TwdZE",
        "colab_type": "code",
        "colab": {}
      },
      "source": [
        "# 1개 데이터 예측\n",
        "text = [\"안녕하세요, 이것은 테스트 문장입니다.\"]       \t# list 타입으로 만든다\n",
        "\n",
        "text=[rhinoMorph.onlyMorph_list(rn, sentence, pos=['NNG', 'NNP', 'NP', 'VV', 'VA', 'XR', 'IC', 'MM', 'MAG', 'MAJ'], eomi=False) for sentence in text]\n",
        "print('형태소 분석 결과:', text)\n",
        "\n",
        "data = loaded_tokenizer.texts_to_sequences(text)\n",
        "x_test = pad_sequences(data, maxlen=maxlen)\n",
        "\n",
        "predictions = loaded_model.predict(x_test)\n",
        "print(\"Result:\", predictions)                           # 각 분류에 대한 확률을 보여준다\n",
        "print(\"분류 결과:\", np.argmax(predictions[0]))         \t# 가장 큰 확률값을 가진 분류 제시. 0~8 숫자 중 하나"
      ],
      "execution_count": 0,
      "outputs": []
    }
  ]
}