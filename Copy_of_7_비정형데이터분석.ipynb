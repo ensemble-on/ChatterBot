{
  "nbformat": 4,
  "nbformat_minor": 0,
  "metadata": {
    "colab": {
      "name": "Copy of 7_비정형데이터분석.ipynb",
      "provenance": [],
      "collapsed_sections": [],
      "include_colab_link": true
    },
    "kernelspec": {
      "name": "python3",
      "display_name": "Python 3"
    }
  },
  "cells": [
    {
      "cell_type": "markdown",
      "metadata": {
        "id": "view-in-github",
        "colab_type": "text"
      },
      "source": [
        "<a href=\"https://colab.research.google.com/github/ensemble-on/ChatterBot/blob/master/Copy_of_7_%EB%B9%84%EC%A0%95%ED%98%95%EB%8D%B0%EC%9D%B4%ED%84%B0%EB%B6%84%EC%84%9D.ipynb\" target=\"_parent\"><img src=\"https://colab.research.google.com/assets/colab-badge.svg\" alt=\"Open In Colab\"/></a>"
      ]
    },
    {
      "cell_type": "code",
      "metadata": {
        "id": "DRB4xkjcT7lZ",
        "colab_type": "code",
        "outputId": "357184c3-0e7e-453e-a72b-edd41f4415a8",
        "colab": {
          "base_uri": "https://localhost:8080/",
          "height": 127
        }
      },
      "source": [
        "# 구글 드라이브와 연결\n",
        "# from google.colab import auth\n",
        "# auth.authenticate_user()\n",
        "\n",
        "from google.colab import drive\n",
        "drive.mount('/content/gdrive')"
      ],
      "execution_count": 1,
      "outputs": [
        {
          "output_type": "stream",
          "text": [
            "Go to this URL in a browser: https://accounts.google.com/o/oauth2/auth?client_id=947318989803-6bn6qk8qdgf4n4g3pfee6491hc0brc4i.apps.googleusercontent.com&redirect_uri=urn%3Aietf%3Awg%3Aoauth%3A2.0%3Aoob&scope=email%20https%3A%2F%2Fwww.googleapis.com%2Fauth%2Fdocs.test%20https%3A%2F%2Fwww.googleapis.com%2Fauth%2Fdrive%20https%3A%2F%2Fwww.googleapis.com%2Fauth%2Fdrive.photos.readonly%20https%3A%2F%2Fwww.googleapis.com%2Fauth%2Fpeopleapi.readonly&response_type=code\n",
            "\n",
            "Enter your authorization code:\n",
            "··········\n",
            "Mounted at /content/gdrive\n"
          ],
          "name": "stdout"
        }
      ]
    },
    {
      "cell_type": "code",
      "metadata": {
        "id": "EEa-UoyNSo1f",
        "colab_type": "code",
        "outputId": "d34630c0-4ea5-4f3c-c3a1-015c105ceaa1",
        "colab": {
          "base_uri": "https://localhost:8080/",
          "height": 1000
        }
      },
      "source": [
        "# 형태소분석기 관련 설치\n",
        "!apt-get update\n",
        "!apt-get install g++ openjdk-8-jdk\n",
        "\n",
        "!pip install JPype1==0.7.0\n",
        "!pip install rhinoMorph"
      ],
      "execution_count": 2,
      "outputs": [
        {
          "output_type": "stream",
          "text": [
            "\r0% [Working]\r            \rIgn:1 https://developer.download.nvidia.com/compute/cuda/repos/ubuntu1804/x86_64  InRelease\n",
            "\r0% [Connecting to archive.ubuntu.com] [Waiting for headers] [Connecting to clou\r                                                                               \rIgn:2 https://developer.download.nvidia.com/compute/machine-learning/repos/ubuntu1804/x86_64  InRelease\n",
            "Get:3 http://security.ubuntu.com/ubuntu bionic-security InRelease [88.7 kB]\n",
            "Get:4 https://developer.download.nvidia.com/compute/cuda/repos/ubuntu1804/x86_64  Release [564 B]\n",
            "Get:5 https://developer.download.nvidia.com/compute/machine-learning/repos/ubuntu1804/x86_64  Release [564 B]\n",
            "Get:6 https://developer.download.nvidia.com/compute/cuda/repos/ubuntu1804/x86_64  Release.gpg [819 B]\n",
            "Get:7 https://developer.download.nvidia.com/compute/machine-learning/repos/ubuntu1804/x86_64  Release.gpg [833 B]\n",
            "Get:8 http://ppa.launchpad.net/graphics-drivers/ppa/ubuntu bionic InRelease [21.3 kB]\n",
            "Hit:9 http://archive.ubuntu.com/ubuntu bionic InRelease\n",
            "Get:10 https://cloud.r-project.org/bin/linux/ubuntu bionic-cran35/ InRelease [3,626 B]\n",
            "Get:11 https://developer.download.nvidia.com/compute/cuda/repos/ubuntu1804/x86_64  Packages [119 kB]\n",
            "Get:12 http://archive.ubuntu.com/ubuntu bionic-updates InRelease [88.7 kB]\n",
            "Get:13 http://ppa.launchpad.net/marutter/c2d4u3.5/ubuntu bionic InRelease [15.4 kB]\n",
            "Get:14 https://developer.download.nvidia.com/compute/machine-learning/repos/ubuntu1804/x86_64  Packages [20.6 kB]\n",
            "Get:15 http://security.ubuntu.com/ubuntu bionic-security/restricted amd64 Packages [11.3 kB]\n",
            "Get:16 http://archive.ubuntu.com/ubuntu bionic-backports InRelease [74.6 kB]\n",
            "Get:17 http://security.ubuntu.com/ubuntu bionic-security/main amd64 Packages [682 kB]\n",
            "Get:18 http://ppa.launchpad.net/graphics-drivers/ppa/ubuntu bionic/main amd64 Packages [31.7 kB]\n",
            "Get:19 https://cloud.r-project.org/bin/linux/ubuntu bionic-cran35/ Packages [72.2 kB]\n",
            "Get:20 http://security.ubuntu.com/ubuntu bionic-security/universe amd64 Packages [777 kB]\n",
            "Get:21 http://ppa.launchpad.net/marutter/c2d4u3.5/ubuntu bionic/main Sources [1,711 kB]\n",
            "Get:22 http://security.ubuntu.com/ubuntu bionic-security/multiverse amd64 Packages [5,665 B]\n",
            "Get:23 http://archive.ubuntu.com/ubuntu bionic-updates/multiverse amd64 Packages [8,734 B]\n",
            "Get:24 http://archive.ubuntu.com/ubuntu bionic-updates/universe amd64 Packages [1,295 kB]\n",
            "Get:25 http://ppa.launchpad.net/marutter/c2d4u3.5/ubuntu bionic/main amd64 Packages [823 kB]\n",
            "Get:26 http://archive.ubuntu.com/ubuntu bionic-updates/restricted amd64 Packages [21.9 kB]\n",
            "Get:27 http://archive.ubuntu.com/ubuntu bionic-updates/main amd64 Packages [977 kB]\n",
            "Get:28 http://archive.ubuntu.com/ubuntu bionic-backports/universe amd64 Packages [4,227 B]\n",
            "Fetched 6,856 kB in 6s (1,169 kB/s)\n",
            "Reading package lists... Done\n",
            "Reading package lists... Done\n",
            "Building dependency tree       \n",
            "Reading state information... Done\n",
            "g++ is already the newest version (4:7.4.0-1ubuntu2.3).\n",
            "g++ set to manually installed.\n",
            "The following additional packages will be installed:\n",
            "  fonts-dejavu-core fonts-dejavu-extra libatk-wrapper-java\n",
            "  libatk-wrapper-java-jni libgail-common libgail18 libgtk2.0-0 libgtk2.0-bin\n",
            "  libgtk2.0-common libxxf86dga1 openjdk-8-jre x11-utils\n",
            "Suggested packages:\n",
            "  gvfs openjdk-8-demo openjdk-8-source visualvm icedtea-8-plugin mesa-utils\n",
            "The following NEW packages will be installed:\n",
            "  fonts-dejavu-core fonts-dejavu-extra libatk-wrapper-java\n",
            "  libatk-wrapper-java-jni libgail-common libgail18 libgtk2.0-0 libgtk2.0-bin\n",
            "  libgtk2.0-common libxxf86dga1 openjdk-8-jdk openjdk-8-jre x11-utils\n",
            "0 upgraded, 13 newly installed, 0 to remove and 147 not upgraded.\n",
            "Need to get 7,119 kB of archives.\n",
            "After this operation, 20.1 MB of additional disk space will be used.\n",
            "Get:1 http://archive.ubuntu.com/ubuntu bionic/main amd64 libxxf86dga1 amd64 2:1.1.4-1 [13.7 kB]\n",
            "Get:2 http://archive.ubuntu.com/ubuntu bionic/main amd64 fonts-dejavu-core all 2.37-1 [1,041 kB]\n",
            "Get:3 http://archive.ubuntu.com/ubuntu bionic/main amd64 fonts-dejavu-extra all 2.37-1 [1,953 kB]\n",
            "Get:4 http://archive.ubuntu.com/ubuntu bionic/main amd64 x11-utils amd64 7.7+3build1 [196 kB]\n",
            "Get:5 http://archive.ubuntu.com/ubuntu bionic/main amd64 libatk-wrapper-java all 0.33.3-20ubuntu0.1 [34.7 kB]\n",
            "Get:6 http://archive.ubuntu.com/ubuntu bionic/main amd64 libatk-wrapper-java-jni amd64 0.33.3-20ubuntu0.1 [28.3 kB]\n",
            "Get:7 http://archive.ubuntu.com/ubuntu bionic/main amd64 libgtk2.0-common all 2.24.32-1ubuntu1 [125 kB]\n",
            "Get:8 http://archive.ubuntu.com/ubuntu bionic/main amd64 libgtk2.0-0 amd64 2.24.32-1ubuntu1 [1,769 kB]\n",
            "Get:9 http://archive.ubuntu.com/ubuntu bionic/main amd64 libgail18 amd64 2.24.32-1ubuntu1 [14.2 kB]\n",
            "Get:10 http://archive.ubuntu.com/ubuntu bionic/main amd64 libgail-common amd64 2.24.32-1ubuntu1 [112 kB]\n",
            "Get:11 http://archive.ubuntu.com/ubuntu bionic/main amd64 libgtk2.0-bin amd64 2.24.32-1ubuntu1 [7,536 B]\n",
            "Get:12 http://archive.ubuntu.com/ubuntu bionic-updates/universe amd64 openjdk-8-jre amd64 8u222-b10-1ubuntu1~18.04.1 [69.3 kB]\n",
            "Get:13 http://archive.ubuntu.com/ubuntu bionic-updates/universe amd64 openjdk-8-jdk amd64 8u222-b10-1ubuntu1~18.04.1 [1,756 kB]\n",
            "Fetched 7,119 kB in 10s (737 kB/s)\n",
            "Selecting previously unselected package libxxf86dga1:amd64.\n",
            "(Reading database ... 131183 files and directories currently installed.)\n",
            "Preparing to unpack .../00-libxxf86dga1_2%3a1.1.4-1_amd64.deb ...\n",
            "Unpacking libxxf86dga1:amd64 (2:1.1.4-1) ...\n",
            "Selecting previously unselected package fonts-dejavu-core.\n",
            "Preparing to unpack .../01-fonts-dejavu-core_2.37-1_all.deb ...\n",
            "Unpacking fonts-dejavu-core (2.37-1) ...\n",
            "Selecting previously unselected package fonts-dejavu-extra.\n",
            "Preparing to unpack .../02-fonts-dejavu-extra_2.37-1_all.deb ...\n",
            "Unpacking fonts-dejavu-extra (2.37-1) ...\n",
            "Selecting previously unselected package x11-utils.\n",
            "Preparing to unpack .../03-x11-utils_7.7+3build1_amd64.deb ...\n",
            "Unpacking x11-utils (7.7+3build1) ...\n",
            "Selecting previously unselected package libatk-wrapper-java.\n",
            "Preparing to unpack .../04-libatk-wrapper-java_0.33.3-20ubuntu0.1_all.deb ...\n",
            "Unpacking libatk-wrapper-java (0.33.3-20ubuntu0.1) ...\n",
            "Selecting previously unselected package libatk-wrapper-java-jni:amd64.\n",
            "Preparing to unpack .../05-libatk-wrapper-java-jni_0.33.3-20ubuntu0.1_amd64.deb ...\n",
            "Unpacking libatk-wrapper-java-jni:amd64 (0.33.3-20ubuntu0.1) ...\n",
            "Selecting previously unselected package libgtk2.0-common.\n",
            "Preparing to unpack .../06-libgtk2.0-common_2.24.32-1ubuntu1_all.deb ...\n",
            "Unpacking libgtk2.0-common (2.24.32-1ubuntu1) ...\n",
            "Selecting previously unselected package libgtk2.0-0:amd64.\n",
            "Preparing to unpack .../07-libgtk2.0-0_2.24.32-1ubuntu1_amd64.deb ...\n",
            "Unpacking libgtk2.0-0:amd64 (2.24.32-1ubuntu1) ...\n",
            "Selecting previously unselected package libgail18:amd64.\n",
            "Preparing to unpack .../08-libgail18_2.24.32-1ubuntu1_amd64.deb ...\n",
            "Unpacking libgail18:amd64 (2.24.32-1ubuntu1) ...\n",
            "Selecting previously unselected package libgail-common:amd64.\n",
            "Preparing to unpack .../09-libgail-common_2.24.32-1ubuntu1_amd64.deb ...\n",
            "Unpacking libgail-common:amd64 (2.24.32-1ubuntu1) ...\n",
            "Selecting previously unselected package libgtk2.0-bin.\n",
            "Preparing to unpack .../10-libgtk2.0-bin_2.24.32-1ubuntu1_amd64.deb ...\n",
            "Unpacking libgtk2.0-bin (2.24.32-1ubuntu1) ...\n",
            "Selecting previously unselected package openjdk-8-jre:amd64.\n",
            "Preparing to unpack .../11-openjdk-8-jre_8u222-b10-1ubuntu1~18.04.1_amd64.deb ...\n",
            "Unpacking openjdk-8-jre:amd64 (8u222-b10-1ubuntu1~18.04.1) ...\n",
            "Selecting previously unselected package openjdk-8-jdk:amd64.\n",
            "Preparing to unpack .../12-openjdk-8-jdk_8u222-b10-1ubuntu1~18.04.1_amd64.deb ...\n",
            "Unpacking openjdk-8-jdk:amd64 (8u222-b10-1ubuntu1~18.04.1) ...\n",
            "Setting up libgtk2.0-common (2.24.32-1ubuntu1) ...\n",
            "Processing triggers for mime-support (3.60ubuntu1) ...\n",
            "Setting up fonts-dejavu-core (2.37-1) ...\n",
            "Setting up libxxf86dga1:amd64 (2:1.1.4-1) ...\n",
            "Processing triggers for libc-bin (2.27-3ubuntu1) ...\n",
            "Processing triggers for man-db (2.8.3-2ubuntu0.1) ...\n",
            "Setting up fonts-dejavu-extra (2.37-1) ...\n",
            "Processing triggers for hicolor-icon-theme (0.17-2) ...\n",
            "Processing triggers for fontconfig (2.12.6-0ubuntu2) ...\n",
            "Setting up libgtk2.0-0:amd64 (2.24.32-1ubuntu1) ...\n",
            "Setting up libgail18:amd64 (2.24.32-1ubuntu1) ...\n",
            "Setting up x11-utils (7.7+3build1) ...\n",
            "Setting up libgail-common:amd64 (2.24.32-1ubuntu1) ...\n",
            "Setting up libatk-wrapper-java (0.33.3-20ubuntu0.1) ...\n",
            "Setting up libgtk2.0-bin (2.24.32-1ubuntu1) ...\n",
            "Setting up libatk-wrapper-java-jni:amd64 (0.33.3-20ubuntu0.1) ...\n",
            "Setting up openjdk-8-jre:amd64 (8u222-b10-1ubuntu1~18.04.1) ...\n",
            "update-alternatives: using /usr/lib/jvm/java-8-openjdk-amd64/jre/bin/policytool to provide /usr/bin/policytool (policytool) in auto mode\n",
            "Setting up openjdk-8-jdk:amd64 (8u222-b10-1ubuntu1~18.04.1) ...\n",
            "update-alternatives: using /usr/lib/jvm/java-8-openjdk-amd64/bin/appletviewer to provide /usr/bin/appletviewer (appletviewer) in auto mode\n",
            "update-alternatives: using /usr/lib/jvm/java-8-openjdk-amd64/bin/jconsole to provide /usr/bin/jconsole (jconsole) in auto mode\n",
            "Processing triggers for libc-bin (2.27-3ubuntu1) ...\n",
            "Collecting JPype1==0.7.0\n",
            "\u001b[?25l  Downloading https://files.pythonhosted.org/packages/07/09/e19ce27d41d4f66d73ac5b6c6a188c51b506f56c7bfbe6c1491db2d15995/JPype1-0.7.0-cp36-cp36m-manylinux2010_x86_64.whl (2.7MB)\n",
            "\u001b[K     |████████████████████████████████| 2.7MB 4.6MB/s \n",
            "\u001b[?25hInstalling collected packages: JPype1\n",
            "Successfully installed JPype1-0.7.0\n",
            "Collecting rhinoMorph\n",
            "\u001b[?25l  Downloading https://files.pythonhosted.org/packages/30/ae/439f50ebad4039d71cfc1a00f18e08c4f8de556ccbc979b261ca9a26e598/rhinoMorph-2.7.1.11-py3-none-any.whl (8.9MB)\n",
            "\u001b[K     |████████████████████████████████| 8.9MB 1.8MB/s \n",
            "\u001b[?25hInstalling collected packages: rhinoMorph\n",
            "Successfully installed rhinoMorph-2.7.1.11\n"
          ],
          "name": "stdout"
        }
      ]
    },
    {
      "cell_type": "code",
      "metadata": {
        "id": "QWCerXOQZaaT",
        "colab_type": "code",
        "outputId": "51dbf44e-1e05-475a-b933-92c69a14e028",
        "colab": {
          "base_uri": "https://localhost:8080/",
          "height": 35
        }
      },
      "source": [
        "# 경로 변경\n",
        "cd /content/gdrive/My Drive/AIBM/20191016/pytest/"
      ],
      "execution_count": 3,
      "outputs": [
        {
          "output_type": "stream",
          "text": [
            "/content/gdrive/My Drive/AIBM/20191016/pytest\n"
          ],
          "name": "stdout"
        }
      ]
    },
    {
      "cell_type": "code",
      "metadata": {
        "id": "SQl-zhpfS4Fx",
        "colab_type": "code",
        "outputId": "06e44850-0b78-44ca-e1ac-ef72d87fee7a",
        "colab": {
          "base_uri": "https://localhost:8080/",
          "height": 71
        }
      },
      "source": [
        "# 데이터 로딩\n",
        "\n",
        "def read_data(filename, encoding='cp949'):                # 읽기 함수 정의\n",
        "  with open(filename, 'r', encoding=encoding) as f:\n",
        "    data = [line.split('\\t') for line in f.read().splitlines()]\n",
        "    data = data[1:]                 # txt 파일의 헤더(id document label)는 제외하기\n",
        "  return data\n",
        "\n",
        "def write_data(data, filename, encoding='cp949'):         # 쓰기 함수 정의\n",
        "  with open(filename, 'w', encoding=encoding) as f:\n",
        "    f.write(data)\n",
        "\n",
        "data = read_data('ratings_small.txt', encoding='cp949')  # 전체파일은 ratings.txt (긍정 1만, 부정 1만)\n",
        "\n",
        "print(len(data))\n",
        "print(len(data[0])) \n",
        "print(data[0])"
      ],
      "execution_count": 4,
      "outputs": [
        {
          "output_type": "stream",
          "text": [
            "500\n",
            "3\n",
            "['8112052', '어릴때보고 지금다시봐도 재밌어요ㅋㅋ', '1']\n"
          ],
          "name": "stdout"
        }
      ]
    },
    {
      "cell_type": "code",
      "metadata": {
        "id": "nfHMNxOWWb1o",
        "colab_type": "code",
        "outputId": "f3476e41-402d-4f4e-e864-d9bc92749f0c",
        "colab": {
          "base_uri": "https://localhost:8080/",
          "height": 287
        }
      },
      "source": [
        "# 샘플 데이터 분석 연습\n",
        "# 직접 작성\n",
        "\n",
        "import rhinoMorph \n",
        "rn = rhinoMorph.startRhino()\n",
        "\n",
        "# 형태소 분석된 문장 샘플 보기 \n",
        "sample_data = rhinoMorph.onlyMorph_list( rn, data[0][1], pos=['NNG', 'NNP', 'VV', 'VA', 'XR', 'IC', 'MM', 'MAG', 'MAJ'])\n",
        "\n",
        "print('sample data:', sample_data)\n",
        "\n",
        "print('joined sample data:', ' '.join(sample_data))"
      ],
      "execution_count": 5,
      "outputs": [
        {
          "output_type": "stream",
          "text": [
            "filepath:  /usr/local/lib/python3.6/dist-packages\n",
            "classpath:  /usr/local/lib/python3.6/dist-packages/rhinoMorph/lib/rhino.jar\n"
          ],
          "name": "stdout"
        },
        {
          "output_type": "stream",
          "text": [
            "/usr/local/lib/python3.6/dist-packages/jpype/_core.py:210: UserWarning: \n",
            "-------------------------------------------------------------------------------\n",
            "Deprecated: convertStrings was not specified when starting the JVM. The default\n",
            "behavior in JPype will be False starting in JPype 0.8. The recommended setting\n",
            "for new code is convertStrings=False.  The legacy value of True was assumed for\n",
            "this session. If you are a user of an application that reported this warning,\n",
            "please file a ticket with the developer.\n",
            "-------------------------------------------------------------------------------\n",
            "\n",
            "  \"\"\")\n"
          ],
          "name": "stderr"
        },
        {
          "output_type": "stream",
          "text": [
            "RHINO started!\n",
            "sample data: ['어리', '때', '지금', '다시', '보', '재미있', '어요', 'ㅋㅋ']\n",
            "joined sample data: 어리 때 지금 다시 보 재미있 어요 ㅋㅋ\n"
          ],
          "name": "stdout"
        }
      ]
    },
    {
      "cell_type": "code",
      "metadata": {
        "id": "YaBq2aw6WcyF",
        "colab_type": "code",
        "colab": {}
      },
      "source": [
        "# 전체 데이터 형태소 분석\n",
        "\n",
        "morphed_data = ''\n",
        "for data_each in data:\n",
        "  morphed_data_each = rhinoMorph.onlyMorph_list(rn, data_each[1], pos=['NNG', 'NNP', 'VV', 'VA', 'XR', 'IC', 'MM', 'MAG', 'MAJ'])\n",
        "  joined_data_each = ' '.join(morphed_data_each)\t\t\t# 문자열을 하나로 연결\n",
        "  if joined_data_each:                                      \t# 내용이 있는 경우만 저장하게 함\n",
        "    morphed_data += data_each[0]+\"\\t\"+joined_data_each+\"\\t\"+data_each[2]+\"\\n\"\n",
        "    \n",
        "# 형태소 분석된 파일 저장\n",
        "write_data(morphed_data, 'ratings_morphed.txt', encoding='cp949')\n"
      ],
      "execution_count": 0,
      "outputs": []
    },
    {
      "cell_type": "markdown",
      "metadata": {
        "id": "p5F-DtpNKjr5",
        "colab_type": "text"
      },
      "source": [
        "# 형태소 분석된 파일 사용하기\n"
      ]
    },
    {
      "cell_type": "code",
      "metadata": {
        "id": "8mo-hjhOW_9U",
        "colab_type": "code",
        "colab": {
          "base_uri": "https://localhost:8080/",
          "height": 53
        },
        "outputId": "c3391448-a8d1-4339-cfe2-1a1691c5d46a"
      },
      "source": [
        "# 기분석된 데이터 로딩\n",
        "# 직접 작성\n",
        "\n",
        "data = read_data('ratings_morphed.txt', encoding='cp949') \n",
        "print(len(data))                            # 197447 (일부는 내용이 남지 않아 제외 됨) \n",
        "print(len(data[0]))                         # 3개의 컬럼\n",
        "\n",
        "data_text = [line[1] for line in data]      # 데이터 본문 \n",
        "data_senti = [line[2] for line in data]     # 데이터 긍부정 부분 (1은 긍정, 0은 부정)"
      ],
      "execution_count": 7,
      "outputs": [
        {
          "output_type": "stream",
          "text": [
            "492\n",
            "3\n"
          ],
          "name": "stdout"
        }
      ]
    },
    {
      "cell_type": "code",
      "metadata": {
        "id": "h4QGhSVIiyqK",
        "colab_type": "code",
        "colab": {
          "base_uri": "https://localhost:8080/",
          "height": 71
        },
        "outputId": "b76e26aa-782b-43af-f094-2aec5b8aeaf1"
      },
      "source": [
        "# counter 연습\n",
        "# 직접 작성\n",
        "from collections import Counter \n",
        "count = Counter([\"여름\", \"과일\", \"딸기\", \"과일\", \"딸기\"]) \n",
        "result = count.most_common(2)\n",
        "\n",
        "print(result) \n",
        "print(result[0][0]) # 0 번째 요소의 0 번째 \n",
        "print(result[0][1]) # 0 번째 요소의 1 번째"
      ],
      "execution_count": 8,
      "outputs": [
        {
          "output_type": "stream",
          "text": [
            "[('과일', 2), ('딸기', 2)]\n",
            "과일\n",
            "2\n"
          ],
          "name": "stdout"
        }
      ]
    },
    {
      "cell_type": "code",
      "metadata": {
        "id": "g5nGbfJnjsqG",
        "colab_type": "code",
        "colab": {
          "base_uri": "https://localhost:8080/",
          "height": 91
        },
        "outputId": "8c053c2f-d13b-4bb5-8773-54a0b289ccb9"
      },
      "source": [
        "# 분석된 데이터 빈도 구하기\n",
        "# 직접 작성\n",
        "\n",
        "mergedText = ' '.join(data_text)         # 좋은 방법. 공백을 기준으로 모든 리스트 요소들을 결합한다 \n",
        "print('mergedText:', mergedText)\n",
        "\n",
        "mergedTextList = mergedText.split(' ')   # 결합된 요소들을 공백 단위로 분리하여 하나의 리스트로 만든다 \n",
        "print('mergedTextList:', mergedTextList)\n",
        "\n",
        "wordInfo = Counter(mergedTextList)  # 하나의 리스트로 결합된 요소를 카운트한다 (내림차순) \n",
        "print('wordInfo:', wordInfo)\n"
      ],
      "execution_count": 9,
      "outputs": [
        {
          "output_type": "stream",
          "text": [
            "mergedText: 디자인 배우 학생 외국 디자이너 일군 전통 통하 발전하 문화 산업 부럽 사실 우리나라 그 어렵 시절 끝 열정 지키 노라노 같 전통 있 같 사람 꿈 꾸 이루 나가 감사하 폴리스스토리 시리즈 뉴 없 최고 와 연기 진짜 쩔 지루 하 생각하 몰입하 보 그래 이런 진짜 영화 안개 자욱 하 밤하늘 뜨 초승달 같 영화 사랑 해보 사람 처음 끝 웃 영화 완전 감동 다시 보 감동 개 전쟁 나오 나오 빠 보 굿 바보 병 나이 같 영화 지금 보 감동 하지만 훗날 다시 보 대사 하나하나 그 감정 완벽하 이해하 같 재미있 고질라 무 귀엽 ㅋㅋ 영화 오페라 하 작품 극단 평 갈리 어쩌 없 반전 좋 ^^ 평점 왜 낮 긴장감 스릴감 진짜 최고 진짜 전장 느끼 공포 생생 하 전하 네고시에이터 소재 같 아무런 관련 없 단연 최고 가면 갈수록 더욱 빠지 밀회 화이팅 어 생각 없 보 상당 하 수작 일본 영화 최고 마음 들 강렬 하 임팩트 일품 오랜만 보 제대로 되 범죄 스릴러 그런 때가 사랑하 도 그저 좋아하 하 마디 말 꺼내 벅차 밤 잠 설치 때 교복 남 션 자 볼펜 자국 역시 미처 다 전하 못하 마음 형태 마지막 씬 잊 없 강압 적용 세뇌 용서 대하 비판 중세 시대 명작 굿 평점 왜 이러하 영상 존재하 죽기 전 꼭 한번 보 아름답 슬프 제니퍼 코넬리 눈부시 아역 시절 로버트 드니로 마지막 웃 장면 정말 가슴속 영원히 기억 되 최고 명작 사람 어떻 저런 짓 하 는지 ㅡㅡ 보 다 화나 인간 잠재되 악마 여러 시간 공간 속 존속하 이 다큐 엉뚱 하 광적 재현하 최고 일 동안 쉬 틈틈 잠 줄이 보 여운 남 실화 더욱 충격 다시 일어나 안되 경각심 일깨우 영화 존 그렇게 하 샴 작품 한 보 가치 농아 인문 대하 알 때 재미있 보 이정 친구 우정 매우 감동 굿 굿 굿 또 해라 또 하 제발 ㅠㅠ 아 재미있 이 말 너무 어울리 제이크 질렌할 대체 못하 연기 보 내내 입가 미소 샤방샤방 하 영화 원표 왜 조연 이양 젤 많이 나오 ㅋㅋ 재미있 마치 바다 속 아쿠아리움 속 듣 느낌 영화 어린 자녀 강추 정의 세우 콜트 노동자 이야기 이 영화 브라질 가 마음 사라지 남자 영화 내내 마음 울리 그리고 좋아하 두 여배우 도법 멤버 모두 기대 되 정말 재미있 본 영화 액션 최고 남자 라 그렇 겁나 긴장감 흥미진진 하 ㄷㄷ 그렇 워낙 격투 씬 좋아하 ㅋㅋㅋ 그냥 생각 없 집 스마트 티비 보 재미있 보 무슨 영화 모르 암살 나오 이정재 걍 보 ㅋㅋ 하여튼 너무 재미있 보 인정하 인정하 년 북한 살만 하 좋 왜 목숨 걸 대한민국 오 어 납득 나불거리 종북 박평식 같 좋 같 년 잊 수 없 되 비 내리 보이 시작하 반갑 얼굴 ㅋㅋㅋ 여  주인공 너무 매력 유쾌하 내용 너무 좋 ㅎ 정말 요즘 아이돌 다 배우 해먹 하 정도 연기 잘 하 정말 재밌게 받 수 탱고 음악 감동 밀려오 평생 못 보 후회하 뻔하 따뜻 하 명작 이런 드라마 많이 나오 좋 생각하 많 영상미 아름답 캐릭터 다 매력 여러 가지 다 매력 드라마 정말 최고 마지막 결말 싫 ㅠ 너무 슬프 왜 이제 알 되 영화 잔잔 하 재미 좋 보 영화 영순 위 재미있 재미있 상당히 훌륭 하 영화 역시 신동 순간 캐치 탁 얄밉 웃기 미워하 없 감탄 영자 하 대박 왠 이동욱 인생 영화 전작 비하 떨어지 사실 쓰레기 한국 영화 별로 없 헐 너무 하 지금 다소 진부 하 수 그 당시 눈물 한사 발 흘리 하 영화 신부 사명감 처절히 실천하 제리 자신 부정하 로키 우정 원주율 메이커 추석 때 특선 영화 하 보 진짜 가족 보 좋 영화 애 기 첫 영 너무너무 잘 선택 같 ㅎ 굳 재미있 생각 조합 같 바로 시대 어머니 재미있 되 원작 보 사람 드래곤볼 에볼루션 자 만들 ㅇㅇ 우리나라 예능 최고 방학 때 아침 졸리 누 비비 우연히 티비 채널 돌리 이 영화 보 되 건 정말 마음 너무 아프 이 영화 다시 볼 수 없 같 트 정말 재미있 보 권력 친구 의리 없 역사 사실 훌륭 하 깨우치 주 처음 초롱 팬 심 보 갈수록 내용 어울리 배경 음악 너무 달달하 보 행복 해지 완전 재미있 너무너무 재미있 보 중간부 트 본방 사수하 스토리 탄탄 하 흥미진진 하 다 찾 보 배우 연기 나 빠지 가없 요새 향 챙기 요 없 인생 제목 참 자 음 화질 좋 재미 가없 가을 가을 감동 보 와 말 안 나오 벌써 전 이런 퀄리티 나오 대단 하 중 일단 말 하 없 장국영 자살 안타깝 사실 더 극 짱 재미있 ㅇ 첫 느낌 예전 양심 곱 비슷 하 같 보 감정 움찔 하 그렇 한 부탁 드리 연 자 하 주 요 욕 폭력 걱정되 저어 릴 성추행 상 모으 사람 목격 증언 덕분 청소년 계속 오 가 하 남자 주인공 너무 섹시하 멋있 ㅋ ㅋㅋㅋ 어 설 건 사실 하 재밌 ㅎ 영화 세기 최고 하 평점 낮 사람 정말 보 모르 비디오 방 친구 보 정말 좋 느낌 지금 또 보 빨리 보 헌데 오래 기다리 되 가 틈 남기남 감독 그 이름 진짜 최고 최고 성룡 형 마이 우상 좋아하 장르 영화 영화 이런 장르 싫 다니 원 지금 보 영화 최고 매회 리타 자꾸 슬 죽 좋 생각하 ㅠㅠ 나 잠 이루 어리 때 보고 크 다시 보 진짜 자 만들 영화 웃음 감동 잘 이어 붙이 정치 대하 비판 묘사 굉장히 잘 표현하 흥행하 기억 안 절대 낮 평점 영화 생각하 연기자 연기하 디테일 보 따봉 대박이 한마디 사랑 달기 만하 라 마음 파고들 볼 빠지 영화 살 엇 남자 얼굴 성격 점 만점 재미있 다음 초반 황당 하 설정 몰입 힘들 점차 판타지 미래 현실 되 모르 언론 탄압 대하 진지한 은유 생각 들 남자 주인공 오 카 준이치 예상 훨씬 좋 별 기대 없 보 의외 재미 감동 인도 영화 역시 스토리 영상 배우 연기 하 빠지 없 꽉 차 영화 대박 감동 ㅠㅠ 순수하 그리고 진짜 웃음 알 수 다그 웃 때 모르 웃 되 순수하 좀 짱 허정무 대신 장외 룡 감독 한국 고고싱 ㅎㅎㅎㅎ ㅎㅎㅎㅎ 어찌 그런 사명감 가지 말 인가 정말 행복하 계속 미소 보 보조개 가아 ㅎㅎ 와 정말 재미있 에니메이션 고봉 초딩 때 진짜 잼 ㅋㅋㅋ 비포 미드 나잇 마지막 떠나보내 심정 또 하 아련 하 한편 행복하 지내 모습 보 절로 웃음 짓 지 재미 없 코스 디 임진강 부 때 눈물 멈추 한석규 연기 짱 ㅎㅎㅎ 진짜 허니 재 꿀잼 개꿀잼 꼭 보 셈 한예슬 진짜 너무 이쁘 당 원 이쁘 미탄 이쁘 짐 입 헤 메이크업 이쁘 이쁘 드라 내용 괜찮 잘 되 ㅋㅋㅋ 딱 한마디 만하 최고 재미 반 기대 반 ㅎㅎ 더욱 기대 하 정말 정말 정말 명작 ㅠ ㅠ 우연히 보 정말 빠져들 완전 재미있 훈 남 도 요리 도배 우고 좋 시나리오 비 모르 좋 연기 잼 잼 잼 잼 개인 재미있 팬텀 크리스틴 그런 일 전혀 모르 ㅠㅠ ㅠ 일반 스토리 크리스틴 다시 남편 곁 돌아가 더 라면하 아쉬움 젤 좋 개인 ㅋㅋㅋ 알파치노 연기 이 영화 처음 끝 명화 다시 태어나 뮤지컬 역대 가 괜히 되 정말 대부 바람 과 함께 사라지 레벨 영화 주인공 마치 뮤지컬 마 잭 마돈나 엘비스 급 춤 노래 실력 보이 바비도 잘 하 바스코 잘 이번 결과 대하 불만 품 사람 나오 어쩌면 당연 하 거지 그래 바비 아이돌 어쩌 깎아내리 까 보 바비 충분히 이기 자격 개인 생각하 코미디 사극 장혁 명품 연기 어리 때 온 가족 보 영화 처음 집 마련하 이사 마치 그날 저녁 보 영화 그 때 기분 탓 인 지 모르 그렇게 웃기 없 옛날 워낭 소리 보 때 진짜 많이 울 인생 최고 명작 재미있 나 더빙 보 ㅠ 자막 더 한데 뒤 찾아보 아련 하 포 연말 추천하 따뜻 하 영화 배경 음악 참 좋 한국 사회 치부 정확하 예언하 수작 좋아하 영화 진짜 찐 영 지금 엣 날 좋아하 영화 역시 최고 슈퍼 울트라 초 재미있 노 막 입 벌리 때 참 매력 ㅋ 중동 문화 대하 새롭 알 하 영화 참여 얼마나 바뀌 나 궁금하 오 보 좀 지루 하긴 하 아버지이 남편 무사 남자 일생 잘 보이 의미 없 죽음 일지 모르 자신 굳 신념 다 참 멋 진일 웃음 감동 물결 기대 안 하 보 좋 영화 다만 엔딩 주인공 배심원 상대 늘어놓 일장 연설 너무 작위 신파 이 연설 흔들리 배심원 무죄 돌아다니 서 너무 억지 하 만점 못 주 감동 ㅜㅠ 저 정말 너무 애정하 드리 이야기 정말 그 어떤 멜로 드라마 보 아름답 잊 수 없 정말 최영 장군 이민호 이민 호 나오 드라마 최고 생각하 영화 보 안치환 꿈 방향 묻 노래 제목 생각나 단순하 스토리지 진지 함 엿보이 좋 세기 최고 의 걸작 안보 알 수 ㅡ ㅁ ㅡ 오스트레일리아 ㅋㅋ 조금 프랑스 같 코미디 영 재미있 같 많 생각 떠돌 되 영화 액션 신 별로 없 심장 쫄깃 하 만들 웰 메이드 범죄 물 류승범 황정민 연기 보 즐겁 잘 만들 영화 기쁘 두 재미있 등장인물 캐릭터 귀엽 깔끔 하 절제되 감정 좋 영화 소설가 시나리오 무척 훌륭 하 엄마 운전 맥거핀 ^^ 아이맥스 개봉하 아쉽 ㅋㅋㅋ ㅋㅋㅋ ㅋㅋ 영화 보 선택 받 굳 뜨 스타일 무능하 정부 국민 지킬 의지 없 정부 참신 하 소재 퀘벡 영화 좋 으 은거 벌써 전 것 우와 호킹 능욕 이러하 ㅋ ㅋㅋㅋ ㅋㅋㅋ 영화 보 주 모르 사람 누 잇 감독 영화 보 정말 재미있 진짜 보통 전쟁 영화 감독 특유 연출력 돋 보이 감동 원작 그렇 스토리 굉장히 탄탄 하 강추 이정현 연기 잘 하 소재 현실 너무 독특하 ㅋㅋ 김 전형 사이코 영화 개인 재미있 부르 손 욕망 명대사 기억 되 영화 아쉽 더빙 보 ㅠ ㅠ 똥칠 ㅠㅠ 어떻 되 안 아깝 영화 블레이드 러너 버금가 영화 한국 결코 만들수 없 떠오르 장면 많 그렇 특별하 ^^ 재미있 ㅋㅋㅋ ㅋㅋㅋ 정일 상투 잘 표현하 영화 여운 남 말 필요 없 감독 배우 존경하 그 반지 제왕 만들 피터 잭슨 ㅋㅋ 이런 영화 찍 다 웃기 ㅋㅋ 명작 ㅋㅋ 지금 봄 물론 감독판 와 ㄷㄷ ㄷ 캬 ㅎㅎ 아 정말 추억 영화 아버지 녹화하 놓 더 넘 보 아 다시 보 ㅜㅜ 크 안 되 제인 생 드라 함께 무협 런 ^^ 굿 최고 재미 와 감동 보너스 보 내용 너무 좋 아직 못 보신 강추 강추 ㅇ ㅋ ㅇ ㅋ 정말 재미있 재미있 잘 보 아이 오랜만 좋 만화 영화 보 액션 영화 귀수 아군 첫사랑 설레임 그대로 느끼 이쁘 영화 만점 주 안 아깝 명작 영화 그 시절 그 때 사 영화 관람하 내내 그 향수 많이 맡아보 기분 엇 김민선 김규리 여신 같 미모 연기 성 뜨 올리 알맞 힐링 무비 잔잔 하 따뜻 한영 앉 자리 연속 두 보 전혀 질리 어리 외계인 역 하 신분 귀엽 ㅎ 맥라이언 보 기분 좋 지 애니 판 보 진짜 슬프 ㅠ ㅠㅠ 대박 저하 코드 너무 잘 맞 말 야하 지도 당시 사회상 잘 반영하 짜임새 스토리 와 적절 하 러브 모드 여주 너무 매력 얼굴 이쁘 여주 하 만점 에 점 드리 꼭 보 많 생각 하 영화 시간 여행 스토리 좋아하 사람 빠트리 없 영화 고소하 정말 재미있 잘 보 ^^ 방송 보 털털 하 인간 같 실제로 그런 바라 ^^ 그리고 나중 다시 정치 입문하 되 좋 정치 펼치 주시 바라 ^^ 가연 이물감 시 같 액션 가족애 주제 영화 한국 배 급사 정신 차리 평점 안 주 없 ㅋㅋ 감독 진짜 싸이코 패스 잘 만들 영화 ^^ 보 보 안인숙 너무 다 우 연기 넘넘 잘하 와 조각 정말 재밌게 보 ^^ 추천 배우 연기 매우 좋 들 말 내용 흥미진진 두 배우 최고 다시 보 정말 짱 여유 로 울 일요일 오후 나른 하 동화 속 세계 빠져들 포근 하 따뜻 한영 스타워즈 쌍 탑 이루 영화 아무리 재미있 백날 말해 백문 불여일견 하 전 볼 때 더욱 더 강하 감동 줄 명작 중의 명작 남 녀 주인공 왜 알콜 중독 빠지 의문 들 정도 겉보기 안정 채 울 수없 공허 함 외로움 마음 아픔 술 의지하 같 자신 그런 자신 왜 그러 이유 모르 괴롭 그런 이유 없 사랑하 고 품 남자 삶 소중 함 알 하 정말 좋 영화 명작 내생 가장 인정하 드라마 여 눈동자 허준 모래시계 황금 의제 국 이 드라마 인하 인생 바뀌 규모 작 사업가 집안 가족 갈등 서로 원수 비슷 하 지내 이 드라마 보 마음 바꾸 필름 낡 하 무당 인 방 골고루 마음 만점 해외 수니 울 내가 원하 영 우리나라 더 많 보 좋 앗 하 없 때 보 웃기 감동 마음 따듯 해지 영화 지금 소녀 시대 앞 소녀 시대 영원히 소녀 시대 윤 여신 영원하 내가 무 운 잘못 보 박한 별 이쁘 조안 특히 코하 진짜 잘하 ㄷ 괜찮 여배우 몸매 대박 정말 멋지 영화 안타깝 부분 없 살아가 영화 좋 ^^ 마음 짠하 주연 배우 너무 멋 진짜 재미있 어 열 특히 쥐 목소리 너무 귀엽 ㅎ 만들 아름답 영화 두 두 간직하 영화 소중한 사람 함께 보 잼 나 가 폭풍 집중하 보내 도리 너무 좋 ㅋㅋㅋ 글쎄 알라 미움 전쟁 사랑 길 그 가르침 나쁘 모슬렘 신고하 애국 모슬렘 미국 시민 단순하 말 폄하하 한국 교회 반성하 하 진정한 기독교인 이리하 하 영화 너무너무 재미있 잘 보 늦 이 영화 볼 수 행운 엔딩 크레딧 끝나 때 보 자신 발견하 좋아하 영화 목록 작품 잔잔 하 배경 음악 틀 휴식하 때 늦 밤 켜 영화 재미있 하구 왜 난리 람보 터미네이터 맥클레인 자리 얘기하 주 확실 하 MB 쓰레기 재밌 혼자 보 너무 아깝 올해 영화 ㅠㅠ ㅠ 짱짱 영 진짜 어떻 전 이런 영화 만들 정말 눈물 날 생생 하 눈빛 생동감 넘치 몸짓 발짓 멋지 연기 하 분 들 모두 거의 전 분 말 되 하다못해 강아지 토토 연기 감탄 모두 생각하 시간 흐름 너무 슬프 희망 아픔 기쁨 슬픔 함께 하 비극 아름답 동전 양면 지닌 동화 같 이야기 저 아빠 다주 매일 보 데 ㅋㅋ 다시 보 이 영화 줄 사람 없 주 파렴치하 알바 성룡 따 영화 어거지 정도 제발 그만 하 너무 많 넣 욕심 낳 졸작 원작 보 좋 욕보이 답답 하 답답 음 그래 답답 그저 그리하 후 카 쿄 코 한마디 없이 웃기 하 ㅎ 평점 높 평점 너무 부풀 이상 시나리오 너무 부실하 엄정화 연기 볼만하 무당 연기 굿 도대체 뭘 영화 인지 ^^ 그래 뇌 마르 대체 왜 이 영화 보 간만 보 형편 없 영화 개연 찾아보 없 막장 가족 어이없 행동 무척 불편하 정말 보 영화 가장 이상하 영화 최악 진짜 재미없 연기력 진짜 허 접하 토 아이언 맨 너무 벗어나 어휴 진짜 요즘 볼만하 드라마 없 ㅡㅡ 유명 작가 다 중국 갓 나 견자 이제 은퇴하 하 살 파랑 때 포스 안 나오 ㅠㅜ 보 내내 전범 작 햇님 캐릭터 멀리서 전범 기로 표현하 괴물 뒤태 양 빛 보 내내 전범 연상 하 이것 대작 말 되 소리 돈 운영 강 혜정 믿 후반부 너무 지겨워 하 말 잃 엉성 하 많이 토니 스캇 작품 잘 찾아보 쓰레기 영화 지독 하 상투 갇히 격투 영화 영화 동안 지금 다 ㅡㅡ 갓 오브 따르 하 가랑이 찢어지 뱁새 애초 갓 반대 성향 망 신 죽이 제맛 개연 제로 역사 지키 참 아이러니 뻔뻔 대체 무슨 내용 끝마무리 엉성 고 ㅡㅡ 공산당 싫 ㅠ 정말 싫 일본 비호 가 어중간하 느낌 어제 엠 비씨 틀 어 주 보 보 괜히 늦 자서 아침 못 일어나 ㅅㅂ 작품 대하 감독 오해 영화 원작 대하 길 잃 연출 별로 좋 배우 데리 놓 만들 이 영화 여실히 드러나 연기자 사람 일터 일상 모습 더 가짜 같 영화 작업 얼마나 힘들 아 사람 이런 말 안 하 쓰레기 안습 아기 공룡 둘리 재미없 한국 욕하 대하 굉장히 기분 나쁘 게다가 재미 없 각본 인터넷 찌라시 수준 연기 허 접 배우 얼굴 부담 내용 없 밋밋 하 뭘 보 평점 높 판 보 손해 되 없 이 세상 가장 재미없 드라마 극장 돈 보 가 사람 애도 영화 헤어지 란 말 좀 심하 아깝 시간 아깝 ㅜㅜ ㅋㅋ 원작 데 일본 만화 왜 중국 일본인 만들 일본 영화 현시대 동양 인도 한국 빼 영화 수준 이하 화려 하 멋있 결말 잔뜩 기대 하 결말 무슨 영화 찍 너무 허무하 않 막판 남주 여주 구하 끝 완전 낚이 평점 좋 주 다 화교 인 영상미 보 재미 대사 거의 없 심심 하 영화 너무 질질 끌 짜증 나 그동안 복수 정도 너무 허 접하 천천히 목 가짜 임신부 차차 무너뜨리 너무 질질 짜증 나 요 학생 위하 역사 교제 활용하 부족하 당시 한국 영화 준수하 액션 줄 보 끈 내내 박스 나오 답답 마지막 반전 억지 극장 알바 수면제 린 이제 에 놀라 히로시마 상공 리틀 이르 사랑 떨어뜨리 영화 일본인 낭만 ㅎㅎ 보 아 이것 아 나오 애 아이돌 애 주인공 다 모르 드라마 보 성인 연기자 두 알 ㅜ 얼마나 로더 피 기 제발 게스트 출연 왜 하 휘동 나오 짜증 낫 오늘 클라라 왜 잘 되 프로 점점 망치 잇 하하 ㅋㅋㅋ 너도나도 유치하 하 난잡 공포 영화 귀신 액션 씬 처음 보 스시 녀 이쁘 확실히 일본 여자 이쁘 여자 진짜 이쁘 성인 보 마이 지루 하 한국 영화 죄 창 ㅋㅋ ㄱ 나 웃기 ㅋㅋㅋ ㅋㅋㅋ ㅋ 디임 ㅋㅋㅋ ㅋ 생기 ㅋㅋㅋ ㅋㅋ ㄹ ㅋ ㅋㅋ 알 짱 헉 헉 헉 어떻 하 귀신 맛나 보이 못 한듬 성형 부작용 같 주인공 얼굴 집중 안 되 생각 등 별로 재미 없 지루 하 걍 보 영 보 내가 주인공 딸 죽이 고도 남 포스터 보 안속 싣 영화 보 모르 보 영화 최악 ㅡㅡ 런닝 맨 연기 더 리얼하 아 감독 찌 죽이 당분간 한국 영화 안 보 졸작 일점 아깝 영화 점점 뒤 갈수록 짜증 ㅋ 이것 ㅠㅠ 혜 교 이쁘 황당 하 영화 한채영 벗 무슨 의도 만들 ㅋ 배우 참 좋 연기 송중 기 나오 억지로 꾸역꾸역 포기하 결말 상하 뻔하 휴머니즘 결국 인간 눈물 흘리 감동하 교훈 위하 만들 영화 성우 직업 왜 개봉 당시 할인 받 보 돈 그렇게 아깝 없 그냥 나 스토리 각본 연기 연출 하나같이 말아먹 특히 금고 여 장면 암 걸리 이름 아깝 보 걸리 보 계속 자서 공포 영화 어지간 하 점수 주 진짜 못 양심 없 제국주의 살인마 영구 씁쓸 하 몸 개그 총 표창 더 빠르 좀 황당 하 영화 보 드라마 같 작품 평이 너무 보 잘 모르 너무 지루 하 장난치 말 시간 허비하 왜 만들 모르 명성 비하 글하 재미있 지 취향 문제 보 만들 영화 자 만들 영화 왜 한국 코미디 꼭 이런 식 일 등장인물 하나같이 머저리 모으 놓 나 정도 답답 하 너무 답답 하 죽 설 연기 드럽 못하 설 리 망하 스포하 때 캐 ㅋ 뉴스 보 기억 날 조종사 뛰어내리 장면 실감 날 재미 없 원작 너무 다르 스토리 후 지 평이 좋 다운 받 영화 초반 이어지 느끼 하 나래 션 잇 바로 끄 버리 돈 아깝 ㅠㅠ 어떻 이런 영화 폭풍 감동 인생 최고 영화 너무 억지로 웃기 하 같 웃 긴지 모르 속편 다 그렇지 확신 증거 맥 티 최고 졸작 품 극초 반 공포 이끌 내기 위하 장치 일 내용 그닥 상관없 분신 사바 액션 너무 가짜 치 티 가나 배우 발 연기 ㄷㄷ 굿 별 내용 없 그냥 배신 맞 내용 끝 특정 배우 연기 보 차라리 다른 작품 보 낫 이런 같 영화 나 처음 마마보이 나중 람보 되 와 정말 신비 이런 감독 투자하 사람 신기 하 이렇게 영화 제작되 가늘 동안 체크 안 하 사람 신기 하 찍 류승범 신기 하 홍보하 사람 신기 하 정말 쓰레기 영화 왠 하 안 좋 글 쓰기 귀찮 정말 욕하 고 댓글 답 다 대한민국 경기 어렵 다 순 거짓말 이런 영화 돈 극장가 볼 수 사람 인구 되 사실 보 원작 모독 영화 내시 가 ㅜㅜ 로그인하 못 말리 만화 감동하 영화 찾 사람 그냥 안보 박흥 영화 사랑하 말순 보 장애우 배려하 저질 영화 장애우 성희롱 하 그런 사람 인식 장애우 아빠 정말 열 받 박흥식 네 자식 다운 증후군 그런 역 맡기 정말 영화 장애우 부모 수 영화 왜 만 들 집 핸드폰 으 동영상 나 찍 없 나 안 야 하 재미있 재미없 야하 정말 핵 노잼 티비 하 보 시간 아깝 감당하 없 지루 하 스토리 비주얼 연출 연기 어느 부각되 못 하 차라리 더 세 얼 하 가 정말 내 인생 최악 영화 강동원 이런 드라마 출연하 인기 얼마 못 가 나인 틴 좋 그렇게 찍 어렵 이야기 무리수 두 말 영화 포카혼타스 무저갱 끌려오 영 다이 디즈니사 더럽 작품 일 별로 음악 몰입 방해하 스토리 엉성 하 곡 새 발 의 피 범 학이 ㅋㅋㅋ 정말 전개도 액션 연기 어느 하 무난 하 없 이런 영화 보 시간 아깝 ^^ 보 내내 어이없 영화 개가 함정 빠지 유일하 관심 끈 장면 웃기 역시 그 소녀 무섭 없 나 보 쩝 보 내내 몰입 안되 바보 되 느낌 옛날 영화 그렇 너무 싱겁 후우 소재 흥미 판이 작 아 유치하 안 재 모으 왜 또 갑자기 사랑하 각본 고풍 분위기 좋 극 끌어가 긴장감 없 공포물 너무 약하 하 어 부분 집중하 보 별 한 아깝 영화 같잖 기법 관객 우롱하 영화 이런 영화 속 별점 이상 주 멍청이 사 가치 없 당시 연예 수준 알 만 한영 누구 영화 좀 말리 주 네이버 알바 다 진짜 실감하 밑 평점 다 영화관 또 보 가 애 낮잠 자 진짜 진짜 돈 보 아깝 영화 여자 스턴 트 대역 뚱 땡 나오 장면 아무 못 나 쿡 티비 엥 뭐야 되감기 무슨 편집 발로 아침 드라마 소재 막장 웬만하 그러 하 그냥 저냥 하 하 너무 심하 강성재 잡 어떻 하 하 모르 분량 늘리 급급 일주일 안 보 대단 욕 나오 혹시나 역시 그냥 보지 마 정말 없 처음 깨닫 아 최소 별 반 되 정말 최악 필름 아깝 자원 낭비 극치 저질 쓰레기 영화관 돈 보 아직 아깝 모든 청춘 다 이렇 여교사 역 대단 하 미스 캐스팅 어 음 재미없 영화 시작하 지나 끄 끝 까지 보 자랑 함 감동 만들 영화 제하 박 신 연기 말 없 흐흐흐 망하 망하 알리 일부러 평점 낮추 정도전 나쁜놈 하시 분 계시 지금 조선왕조실록 공식 기록 태종 이방원 입장 쓰이 정도전 대하 평가 제대로 나오 볼 수 없 추천 무료 영화 왜 딴것 안 오르 오 듣 보 잡 너무 하 영화 하지만 일본 선진국 되 가 다 필요 없 일단 아들 존나 패 야 하 순위 딸래미 엄마 근데 정말 아들 면상 보 때 분노 치미 정말 어쩌 수 가없 보 내내 짜증 도데체 영화 왜 만들 보 웃음 나오 시간 아깝 스트라빈스키 음악 길 밝히 돈 아까 워 보 시간 아깝 보 처음 ㅡㅡ 엔딩 씬 보 엉망 그냥 시디 애 만들 훨씬 더 볼만하 스토리텔링 완전 엉망 보 내내 아 왜 보 생각하 만들 영화 결말 어떻 궁금 하 하 멍청 하 재난 영화 만들 개봉 모로 다시 보 다이애나 하 의문 가지 영화 전체 스토리 부실하 엉성 하 보안관 딸 힐즈 이름 알 보안관 부인 실종 신고 하 그러면 모든 사건 전말 드러나 테 힐즈 잡히 재판 받 미국 경찰 우습 보 말 여자 엉덩이 좋 영화 그다지 유치하 어색 하 내용 유치하 연출력 좋 좋 차 세우 김 강우하 싸우 신 최악 웃 길 집어넣 엇 나 상황 강우 왜 퍼 잇 스토리 진짜 최악 재미 없 감동 없 노래 받 ㅋㅋ 중간 중간 억지 너무 심하 같 차 사고 간 다치 간 이식 받 ㅎㅎ 소재 좋 전가 세 아깝 날개 달리 청소년 보 영화 악 영화 마 과 포장 되 재미 없 악어 맞 짱 골 보지 말 하 경찰 세명 없 나 그리고 작가 한국 경찰 바보 만들 은정 경찰 싸움 못하 힘 못쓰 강성 재 왜 간 아주 질질 끌 난리 매번 보 때 욕 나오 드라마 아직 뛰어넘 영화 보 없 하 하 잼 없 말 안 보 달리 평점 왜 이렇게 높 진짜 재미없 고전 장땡 알 일본 영화 참 많이 보 끝 못 보 영화 이것 처음 유일하 하 시방 시방 시방 시방 노잼 ㅡㅡ 보 말 속지 말 포스터 그지 같 영화 엉성 하 짜임새 추리 무협 영화 견자 단형 탕 보 만족 이것 실화 장난하 세상 하나님 영화 개독 교 미치 양키 새끼 답 무슨 영화 다 떡 귀신 뭐야 엔딩 또 왜 따 아주 작가 빨리 정신 병원 한번 가 보 늦 위험하 지루 하 실망 스러워 ㅠ 돌리 계속 보 그래 도저히 재미 찾 좀비 영화 최악 주인공 빼 나머지 전부 바보 영화 정말 재미없 지루 하 어쩌 없 영상 화하 다만 남 방법 컨텐츠 모두 와 닿 연출 각본 결국 감독 문제 하 말 없 재미 없 병 맛 이해 불 허 접하 삼류 영화 아래 평점 지능 원숭이 왼쪽 알 검 재미없 내면 귀 기울이 아 지성 시간 아깝 에 하 하 말 없 답답 하 파이 명성 먹칠 영화 딱 알맞 솔직히 땡칠이 너무 날로 먹 아니야 보고 점수 기준 이상하 리그 닥 하 말 없 진짜 박시환 박재정 우승 후보 올라가 실력 부족 생각 심사 위원 특히 이승철 심사 평 너무 ㅠ 엠넷 그리고 슈 억지 조작 여러 그런 에 두 사람 말리 생각 ㅠ 장면 개연 없 아역 연기 못하 무슨 추노 나오 민폐 언 년 외국 판 초반 그럴싸하 저급 영화 로빈 윌리암스 주연 영화 다 좋아하 정말 최악 나한 테 돈 조반니 한장 조반니 심형래 영화 보 재미 노 ㅡ 답 정말 재미없 킬링 타임 안되 보 한숨 나오 공짜 안 보 전 다 태우 막판 뒤집 전이되 사이먼 베이커 홀리 보 우리나라 정서 안 맞 유머 코드 뻔하 결말 정말 비추 친구 나오 안경 끼이 남자 극 전개 꼭 필요하 요즘 공포 영화 생각하 보 시시 하 재미없 사실 공포 매니아 보 쓸데없이 진지 하 무겁 폼 재지 말 말 학교 반올림 한번 더 왕 얼굴 노잼 노잼 ㅋㅋㅋ 완전 막장 재미 더럽 없 영화 쓰레기 만들 작정하 만들 자 만들 후속작 영화 착하 이것 왜 이렇게 높 모르 필름 낭비하 기 쓰 영화 전개 일단 원작 비하 생략 많 권투 씬 졸리 잠 진짜 재미없 보 말 하 본 다 멍청 하 전윤수 미인도 살 어린 여자 옷 벗기 장면 명백 하 아동 학대 범죄 금 영화 아동 금 출현 가하 일 책임 지지 못하 어린아이 훗날 영화 출연 후회하 어떻 하 감독 영화 관계되 어른 시간 되돌 릴 수 나 삐질삐질 업로드 좀 빨리 하 어제 기다리 가지 이야기 비하 정말로 수준 떨어지 연출 편집 그린스 크린 수정 안 하 홍콩 시어스 타워 가보 인단 ㄷㄷ 마이클 베이 가 영화 대충 만들 적당 하 없 나 짜증 나 영상 좋 반전 보 산만 하 지루 하 개연 성 떨어지 평점 낚이 헐 미 영화 평점 ㅋ ㅋㅋㅋ 아 진짜 너무 오 글 린 못 보 정도 미국인 일본인 제대로 만들 상업 애니메이션 해 오 수 인력 없 다시 피하 전 인류 비극 세계사 오점 지구 어느 나라 나 공통 발생하 현상 제발 따르 되 말 신념 남 가지 길 가늘 내평 점 지운 그 당시 보 때 너무 밋밋 하 임팩트 없 내용 대부분 아주 그저 그리하 브리 이름 아깝 스토리 빈약하 뜬금없 요소 많 어리 아이 즐겁 볼 수 같 하 정 극 도무지 어울리 조니뎁 혁신 클래식하 지 촬영기 법 거울 통하 다중 인격 연출 킬링타임 적절 추가 조니뎁 정 극 하 말 설 관하 모든 아 ㅡㅡ 재미없 억지 장르 무협 보 코믹 막장 평점 아깝 나치 입장 보 영화 갑자기 연속 나오 무슨 태권도 음 왜 보 예고편 다 개연 없 별로 포켓 몬스터 짜 ㅡㅡ 쓰 레 기 완전 사이코 영화 마지막 더욱더 이 영화 의 떨 트 린 왜 날 재미없 ㅠㅠ 라 따 뚜 보 스머프 보 그렇 ㅋㅋ 포 풍 저그 나 신 영차\n",
            "mergedTextList: ['디자인', '배우', '학생', '외국', '디자이너', '일군', '전통', '통하', '발전하', '문화', '산업', '부럽', '사실', '우리나라', '그', '어렵', '시절', '끝', '열정', '지키', '노라노', '같', '전통', '있', '같', '사람', '꿈', '꾸', '이루', '나가', '감사하', '폴리스스토리', '시리즈', '뉴', '없', '최고', '와', '연기', '진짜', '쩔', '지루', '하', '생각하', '몰입하', '보', '그래', '이런', '진짜', '영화', '안개', '자욱', '하', '밤하늘', '뜨', '초승달', '같', '영화', '사랑', '해보', '사람', '처음', '끝', '웃', '영화', '완전', '감동', '다시', '보', '감동', '개', '전쟁', '나오', '나오', '빠', '보', '굿', '바보', '병', '나이', '같', '영화', '지금', '보', '감동', '하지만', '훗날', '다시', '보', '대사', '하나하나', '그', '감정', '완벽하', '이해하', '같', '재미있', '고질라', '무', '귀엽', 'ㅋㅋ', '영화', '오페라', '하', '작품', '극단', '평', '갈리', '어쩌', '없', '반전', '좋', '^^', '평점', '왜', '낮', '긴장감', '스릴감', '진짜', '최고', '진짜', '전장', '느끼', '공포', '생생', '하', '전하', '네고시에이터', '소재', '같', '아무런', '관련', '없', '단연', '최고', '가면', '갈수록', '더욱', '빠지', '밀회', '화이팅', '어', '생각', '없', '보', '상당', '하', '수작', '일본', '영화', '최고', '마음', '들', '강렬', '하', '임팩트', '일품', '오랜만', '보', '제대로', '되', '범죄', '스릴러', '그런', '때가', '사랑하', '도', '그저', '좋아하', '하', '마디', '말', '꺼내', '벅차', '밤', '잠', '설치', '때', '교복', '남', '션', '자', '볼펜', '자국', '역시', '미처', '다', '전하', '못하', '마음', '형태', '마지막', '씬', '잊', '없', '강압', '적용', '세뇌', '용서', '대하', '비판', '중세', '시대', '명작', '굿', '평점', '왜', '이러하', '영상', '존재하', '죽기', '전', '꼭', '한번', '보', '아름답', '슬프', '제니퍼', '코넬리', '눈부시', '아역', '시절', '로버트', '드니로', '마지막', '웃', '장면', '정말', '가슴속', '영원히', '기억', '되', '최고', '명작', '사람', '어떻', '저런', '짓', '하', '는지', 'ㅡㅡ', '보', '다', '화나', '인간', '잠재되', '악마', '여러', '시간', '공간', '속', '존속하', '이', '다큐', '엉뚱', '하', '광적', '재현하', '최고', '일', '동안', '쉬', '틈틈', '잠', '줄이', '보', '여운', '남', '실화', '더욱', '충격', '다시', '일어나', '안되', '경각심', '일깨우', '영화', '존', '그렇게', '하', '샴', '작품', '한', '보', '가치', '농아', '인문', '대하', '알', '때', '재미있', '보', '이정', '친구', '우정', '매우', '감동', '굿', '굿', '굿', '또', '해라', '또', '하', '제발', 'ㅠㅠ', '아', '재미있', '이', '말', '너무', '어울리', '제이크', '질렌할', '대체', '못하', '연기', '보', '내내', '입가', '미소', '샤방샤방', '하', '영화', '원표', '왜', '조연', '이양', '젤', '많이', '나오', 'ㅋㅋ', '재미있', '마치', '바다', '속', '아쿠아리움', '속', '듣', '느낌', '영화', '어린', '자녀', '강추', '정의', '세우', '콜트', '노동자', '이야기', '이', '영화', '브라질', '가', '마음', '사라지', '남자', '영화', '내내', '마음', '울리', '그리고', '좋아하', '두', '여배우', '도법', '멤버', '모두', '기대', '되', '정말', '재미있', '본', '영화', '액션', '최고', '남자', '라', '그렇', '겁나', '긴장감', '흥미진진', '하', 'ㄷㄷ', '그렇', '워낙', '격투', '씬', '좋아하', 'ㅋㅋㅋ', '그냥', '생각', '없', '집', '스마트', '티비', '보', '재미있', '보', '무슨', '영화', '모르', '암살', '나오', '이정재', '걍', '보', 'ㅋㅋ', '하여튼', '너무', '재미있', '보', '인정하', '인정하', '년', '북한', '살만', '하', '좋', '왜', '목숨', '걸', '대한민국', '오', '어', '납득', '나불거리', '종북', '박평식', '같', '좋', '같', '년', '잊', '수', '없', '되', '비', '내리', '보이', '시작하', '반갑', '얼굴', 'ㅋㅋㅋ', '여', '', '주인공', '너무', '매력', '유쾌하', '내용', '너무', '좋', 'ㅎ', '정말', '요즘', '아이돌', '다', '배우', '해먹', '하', '정도', '연기', '잘', '하', '정말', '재밌게', '받', '수', '탱고', '음악', '감동', '밀려오', '평생', '못', '보', '후회하', '뻔하', '따뜻', '하', '명작', '이런', '드라마', '많이', '나오', '좋', '생각하', '많', '영상미', '아름답', '캐릭터', '다', '매력', '여러', '가지', '다', '매력', '드라마', '정말', '최고', '마지막', '결말', '싫', 'ㅠ', '너무', '슬프', '왜', '이제', '알', '되', '영화', '잔잔', '하', '재미', '좋', '보', '영화', '영순', '위', '재미있', '재미있', '상당히', '훌륭', '하', '영화', '역시', '신동', '순간', '캐치', '탁', '얄밉', '웃기', '미워하', '없', '감탄', '영자', '하', '대박', '왠', '이동욱', '인생', '영화', '전작', '비하', '떨어지', '사실', '쓰레기', '한국', '영화', '별로', '없', '헐', '너무', '하', '지금', '다소', '진부', '하', '수', '그', '당시', '눈물', '한사', '발', '흘리', '하', '영화', '신부', '사명감', '처절히', '실천하', '제리', '자신', '부정하', '로키', '우정', '원주율', '메이커', '추석', '때', '특선', '영화', '하', '보', '진짜', '가족', '보', '좋', '영화', '애', '기', '첫', '영', '너무너무', '잘', '선택', '같', 'ㅎ', '굳', '재미있', '생각', '조합', '같', '바로', '시대', '어머니', '재미있', '되', '원작', '보', '사람', '드래곤볼', '에볼루션', '자', '만들', 'ㅇㅇ', '우리나라', '예능', '최고', '방학', '때', '아침', '졸리', '누', '비비', '우연히', '티비', '채널', '돌리', '이', '영화', '보', '되', '건', '정말', '마음', '너무', '아프', '이', '영화', '다시', '볼', '수', '없', '같', '트', '정말', '재미있', '보', '권력', '친구', '의리', '없', '역사', '사실', '훌륭', '하', '깨우치', '주', '처음', '초롱', '팬', '심', '보', '갈수록', '내용', '어울리', '배경', '음악', '너무', '달달하', '보', '행복', '해지', '완전', '재미있', '너무너무', '재미있', '보', '중간부', '트', '본방', '사수하', '스토리', '탄탄', '하', '흥미진진', '하', '다', '찾', '보', '배우', '연기', '나', '빠지', '가없', '요새', '향', '챙기', '요', '없', '인생', '제목', '참', '자', '음', '화질', '좋', '재미', '가없', '가을', '가을', '감동', '보', '와', '말', '안', '나오', '벌써', '전', '이런', '퀄리티', '나오', '대단', '하', '중', '일단', '말', '하', '없', '장국영', '자살', '안타깝', '사실', '더', '극', '짱', '재미있', 'ㅇ', '첫', '느낌', '예전', '양심', '곱', '비슷', '하', '같', '보', '감정', '움찔', '하', '그렇', '한', '부탁', '드리', '연', '자', '하', '주', '요', '욕', '폭력', '걱정되', '저어', '릴', '성추행', '상', '모으', '사람', '목격', '증언', '덕분', '청소년', '계속', '오', '가', '하', '남자', '주인공', '너무', '섹시하', '멋있', 'ㅋ', 'ㅋㅋㅋ', '어', '설', '건', '사실', '하', '재밌', 'ㅎ', '영화', '세기', '최고', '하', '평점', '낮', '사람', '정말', '보', '모르', '비디오', '방', '친구', '보', '정말', '좋', '느낌', '지금', '또', '보', '빨리', '보', '헌데', '오래', '기다리', '되', '가', '틈', '남기남', '감독', '그', '이름', '진짜', '최고', '최고', '성룡', '형', '마이', '우상', '좋아하', '장르', '영화', '영화', '이런', '장르', '싫', '다니', '원', '지금', '보', '영화', '최고', '매회', '리타', '자꾸', '슬', '죽', '좋', '생각하', 'ㅠㅠ', '나', '잠', '이루', '어리', '때', '보고', '크', '다시', '보', '진짜', '자', '만들', '영화', '웃음', '감동', '잘', '이어', '붙이', '정치', '대하', '비판', '묘사', '굉장히', '잘', '표현하', '흥행하', '기억', '안', '절대', '낮', '평점', '영화', '생각하', '연기자', '연기하', '디테일', '보', '따봉', '대박이', '한마디', '사랑', '달기', '만하', '라', '마음', '파고들', '볼', '빠지', '영화', '살', '엇', '남자', '얼굴', '성격', '점', '만점', '재미있', '다음', '초반', '황당', '하', '설정', '몰입', '힘들', '점차', '판타지', '미래', '현실', '되', '모르', '언론', '탄압', '대하', '진지한', '은유', '생각', '들', '남자', '주인공', '오', '카', '준이치', '예상', '훨씬', '좋', '별', '기대', '없', '보', '의외', '재미', '감동', '인도', '영화', '역시', '스토리', '영상', '배우', '연기', '하', '빠지', '없', '꽉', '차', '영화', '대박', '감동', 'ㅠㅠ', '순수하', '그리고', '진짜', '웃음', '알', '수', '다그', '웃', '때', '모르', '웃', '되', '순수하', '좀', '짱', '허정무', '대신', '장외', '룡', '감독', '한국', '고고싱', 'ㅎㅎㅎㅎ', 'ㅎㅎㅎㅎ', '어찌', '그런', '사명감', '가지', '말', '인가', '정말', '행복하', '계속', '미소', '보', '보조개', '가아', 'ㅎㅎ', '와', '정말', '재미있', '에니메이션', '고봉', '초딩', '때', '진짜', '잼', 'ㅋㅋㅋ', '비포', '미드', '나잇', '마지막', '떠나보내', '심정', '또', '하', '아련', '하', '한편', '행복하', '지내', '모습', '보', '절로', '웃음', '짓', '지', '재미', '없', '코스', '디', '임진강', '부', '때', '눈물', '멈추', '한석규', '연기', '짱', 'ㅎㅎㅎ', '진짜', '허니', '재', '꿀잼', '개꿀잼', '꼭', '보', '셈', '한예슬', '진짜', '너무', '이쁘', '당', '원', '이쁘', '미탄', '이쁘', '짐', '입', '헤', '메이크업', '이쁘', '이쁘', '드라', '내용', '괜찮', '잘', '되', 'ㅋㅋㅋ', '딱', '한마디', '만하', '최고', '재미', '반', '기대', '반', 'ㅎㅎ', '더욱', '기대', '하', '정말', '정말', '정말', '명작', 'ㅠ', 'ㅠ', '우연히', '보', '정말', '빠져들', '완전', '재미있', '훈', '남', '도', '요리', '도배', '우고', '좋', '시나리오', '비', '모르', '좋', '연기', '잼', '잼', '잼', '잼', '개인', '재미있', '팬텀', '크리스틴', '그런', '일', '전혀', '모르', 'ㅠㅠ', 'ㅠ', '일반', '스토리', '크리스틴', '다시', '남편', '곁', '돌아가', '더', '라면하', '아쉬움', '젤', '좋', '개인', 'ㅋㅋㅋ', '알파치노', '연기', '이', '영화', '처음', '끝', '명화', '다시', '태어나', '뮤지컬', '역대', '가', '괜히', '되', '정말', '대부', '바람', '과', '함께', '사라지', '레벨', '영화', '주인공', '마치', '뮤지컬', '마', '잭', '마돈나', '엘비스', '급', '춤', '노래', '실력', '보이', '바비도', '잘', '하', '바스코', '잘', '이번', '결과', '대하', '불만', '품', '사람', '나오', '어쩌면', '당연', '하', '거지', '그래', '바비', '아이돌', '어쩌', '깎아내리', '까', '보', '바비', '충분히', '이기', '자격', '개인', '생각하', '코미디', '사극', '장혁', '명품', '연기', '어리', '때', '온', '가족', '보', '영화', '처음', '집', '마련하', '이사', '마치', '그날', '저녁', '보', '영화', '그', '때', '기분', '탓', '인', '지', '모르', '그렇게', '웃기', '없', '옛날', '워낭', '소리', '보', '때', '진짜', '많이', '울', '인생', '최고', '명작', '재미있', '나', '더빙', '보', 'ㅠ', '자막', '더', '한데', '뒤', '찾아보', '아련', '하', '포', '연말', '추천하', '따뜻', '하', '영화', '배경', '음악', '참', '좋', '한국', '사회', '치부', '정확하', '예언하', '수작', '좋아하', '영화', '진짜', '찐', '영', '지금', '엣', '날', '좋아하', '영화', '역시', '최고', '슈퍼', '울트라', '초', '재미있', '노', '막', '입', '벌리', '때', '참', '매력', 'ㅋ', '중동', '문화', '대하', '새롭', '알', '하', '영화', '참여', '얼마나', '바뀌', '나', '궁금하', '오', '보', '좀', '지루', '하긴', '하', '아버지이', '남편', '무사', '남자', '일생', '잘', '보이', '의미', '없', '죽음', '일지', '모르', '자신', '굳', '신념', '다', '참', '멋', '진일', '웃음', '감동', '물결', '기대', '안', '하', '보', '좋', '영화', '다만', '엔딩', '주인공', '배심원', '상대', '늘어놓', '일장', '연설', '너무', '작위', '신파', '이', '연설', '흔들리', '배심원', '무죄', '돌아다니', '서', '너무', '억지', '하', '만점', '못', '주', '감동', 'ㅜㅠ', '저', '정말', '너무', '애정하', '드리', '이야기', '정말', '그', '어떤', '멜로', '드라마', '보', '아름답', '잊', '수', '없', '정말', '최영', '장군', '이민호', '이민', '호', '나오', '드라마', '최고', '생각하', '영화', '보', '안치환', '꿈', '방향', '묻', '노래', '제목', '생각나', '단순하', '스토리지', '진지', '함', '엿보이', '좋', '세기', '최고', '의', '걸작', '안보', '알', '수', 'ㅡ', 'ㅁ', 'ㅡ', '오스트레일리아', 'ㅋㅋ', '조금', '프랑스', '같', '코미디', '영', '재미있', '같', '많', '생각', '떠돌', '되', '영화', '액션', '신', '별로', '없', '심장', '쫄깃', '하', '만들', '웰', '메이드', '범죄', '물', '류승범', '황정민', '연기', '보', '즐겁', '잘', '만들', '영화', '기쁘', '두', '재미있', '등장인물', '캐릭터', '귀엽', '깔끔', '하', '절제되', '감정', '좋', '영화', '소설가', '시나리오', '무척', '훌륭', '하', '엄마', '운전', '맥거핀', '^^', '아이맥스', '개봉하', '아쉽', 'ㅋㅋㅋ', 'ㅋㅋㅋ', 'ㅋㅋ', '영화', '보', '선택', '받', '굳', '뜨', '스타일', '무능하', '정부', '국민', '지킬', '의지', '없', '정부', '참신', '하', '소재', '퀘벡', '영화', '좋', '으', '은거', '벌써', '전', '것', '우와', '호킹', '능욕', '이러하', 'ㅋ', 'ㅋㅋㅋ', 'ㅋㅋㅋ', '영화', '보', '주', '모르', '사람', '누', '잇', '감독', '영화', '보', '정말', '재미있', '진짜', '보통', '전쟁', '영화', '감독', '특유', '연출력', '돋', '보이', '감동', '원작', '그렇', '스토리', '굉장히', '탄탄', '하', '강추', '이정현', '연기', '잘', '하', '소재', '현실', '너무', '독특하', 'ㅋㅋ', '김', '전형', '사이코', '영화', '개인', '재미있', '부르', '손', '욕망', '명대사', '기억', '되', '영화', '아쉽', '더빙', '보', 'ㅠ', 'ㅠ', '똥칠', 'ㅠㅠ', '어떻', '되', '안', '아깝', '영화', '블레이드', '러너', '버금가', '영화', '한국', '결코', '만들수', '없', '떠오르', '장면', '많', '그렇', '특별하', '^^', '재미있', 'ㅋㅋㅋ', 'ㅋㅋㅋ', '정일', '상투', '잘', '표현하', '영화', '여운', '남', '말', '필요', '없', '감독', '배우', '존경하', '그', '반지', '제왕', '만들', '피터', '잭슨', 'ㅋㅋ', '이런', '영화', '찍', '다', '웃기', 'ㅋㅋ', '명작', 'ㅋㅋ', '지금', '봄', '물론', '감독판', '와', 'ㄷㄷ', 'ㄷ', '캬', 'ㅎㅎ', '아', '정말', '추억', '영화', '아버지', '녹화하', '놓', '더', '넘', '보', '아', '다시', '보', 'ㅜㅜ', '크', '안', '되', '제인', '생', '드라', '함께', '무협', '런', '^^', '굿', '최고', '재미', '와', '감동', '보너스', '보', '내용', '너무', '좋', '아직', '못', '보신', '강추', '강추', 'ㅇ', 'ㅋ', 'ㅇ', 'ㅋ', '정말', '재미있', '재미있', '잘', '보', '아이', '오랜만', '좋', '만화', '영화', '보', '액션', '영화', '귀수', '아군', '첫사랑', '설레임', '그대로', '느끼', '이쁘', '영화', '만점', '주', '안', '아깝', '명작', '영화', '그', '시절', '그', '때', '사', '영화', '관람하', '내내', '그', '향수', '많이', '맡아보', '기분', '엇', '김민선', '김규리', '여신', '같', '미모', '연기', '성', '뜨', '올리', '알맞', '힐링', '무비', '잔잔', '하', '따뜻', '한영', '앉', '자리', '연속', '두', '보', '전혀', '질리', '어리', '외계인', '역', '하', '신분', '귀엽', 'ㅎ', '맥라이언', '보', '기분', '좋', '지', '애니', '판', '보', '진짜', '슬프', 'ㅠ', 'ㅠㅠ', '대박', '저하', '코드', '너무', '잘', '맞', '말', '야하', '지도', '당시', '사회상', '잘', '반영하', '짜임새', '스토리', '와', '적절', '하', '러브', '모드', '여주', '너무', '매력', '얼굴', '이쁘', '여주', '하', '만점', '에', '점', '드리', '꼭', '보', '많', '생각', '하', '영화', '시간', '여행', '스토리', '좋아하', '사람', '빠트리', '없', '영화', '고소하', '정말', '재미있', '잘', '보', '^^', '방송', '보', '털털', '하', '인간', '같', '실제로', '그런', '바라', '^^', '그리고', '나중', '다시', '정치', '입문하', '되', '좋', '정치', '펼치', '주시', '바라', '^^', '가연', '이물감', '시', '같', '액션', '가족애', '주제', '영화', '한국', '배', '급사', '정신', '차리', '평점', '안', '주', '없', 'ㅋㅋ', '감독', '진짜', '싸이코', '패스', '잘', '만들', '영화', '^^', '보', '보', '안인숙', '너무', '다', '우', '연기', '넘넘', '잘하', '와', '조각', '정말', '재밌게', '보', '^^', '추천', '배우', '연기', '매우', '좋', '들', '말', '내용', '흥미진진', '두', '배우', '최고', '다시', '보', '정말', '짱', '여유', '로', '울', '일요일', '오후', '나른', '하', '동화', '속', '세계', '빠져들', '포근', '하', '따뜻', '한영', '스타워즈', '쌍', '탑', '이루', '영화', '아무리', '재미있', '백날', '말해', '백문', '불여일견', '하', '전', '볼', '때', '더욱', '더', '강하', '감동', '줄', '명작', '중의', '명작', '남', '녀', '주인공', '왜', '알콜', '중독', '빠지', '의문', '들', '정도', '겉보기', '안정', '채', '울', '수없', '공허', '함', '외로움', '마음', '아픔', '술', '의지하', '같', '자신', '그런', '자신', '왜', '그러', '이유', '모르', '괴롭', '그런', '이유', '없', '사랑하', '고', '품', '남자', '삶', '소중', '함', '알', '하', '정말', '좋', '영화', '명작', '내생', '가장', '인정하', '드라마', '여', '눈동자', '허준', '모래시계', '황금', '의제', '국', '이', '드라마', '인하', '인생', '바뀌', '규모', '작', '사업가', '집안', '가족', '갈등', '서로', '원수', '비슷', '하', '지내', '이', '드라마', '보', '마음', '바꾸', '필름', '낡', '하', '무당', '인', '방', '골고루', '마음', '만점', '해외', '수니', '울', '내가', '원하', '영', '우리나라', '더', '많', '보', '좋', '앗', '하', '없', '때', '보', '웃기', '감동', '마음', '따듯', '해지', '영화', '지금', '소녀', '시대', '앞', '소녀', '시대', '영원히', '소녀', '시대', '윤', '여신', '영원하', '내가', '무', '운', '잘못', '보', '박한', '별', '이쁘', '조안', '특히', '코하', '진짜', '잘하', 'ㄷ', '괜찮', '여배우', '몸매', '대박', '정말', '멋지', '영화', '안타깝', '부분', '없', '살아가', '영화', '좋', '^^', '마음', '짠하', '주연', '배우', '너무', '멋', '진짜', '재미있', '어', '열', '특히', '쥐', '목소리', '너무', '귀엽', 'ㅎ', '만들', '아름답', '영화', '두', '두', '간직하', '영화', '소중한', '사람', '함께', '보', '잼', '나', '가', '폭풍', '집중하', '보내', '도리', '너무', '좋', 'ㅋㅋㅋ', '글쎄', '알라', '미움', '전쟁', '사랑', '길', '그', '가르침', '나쁘', '모슬렘', '신고하', '애국', '모슬렘', '미국', '시민', '단순하', '말', '폄하하', '한국', '교회', '반성하', '하', '진정한', '기독교인', '이리하', '하', '영화', '너무너무', '재미있', '잘', '보', '늦', '이', '영화', '볼', '수', '행운', '엔딩', '크레딧', '끝나', '때', '보', '자신', '발견하', '좋아하', '영화', '목록', '작품', '잔잔', '하', '배경', '음악', '틀', '휴식하', '때', '늦', '밤', '켜', '영화', '재미있', '하구', '왜', '난리', '람보', '터미네이터', '맥클레인', '자리', '얘기하', '주', '확실', '하', 'MB', '쓰레기', '재밌', '혼자', '보', '너무', '아깝', '올해', '영화', 'ㅠㅠ', 'ㅠ', '짱짱', '영', '진짜', '어떻', '전', '이런', '영화', '만들', '정말', '눈물', '날', '생생', '하', '눈빛', '생동감', '넘치', '몸짓', '발짓', '멋지', '연기', '하', '분', '들', '모두', '거의', '전', '분', '말', '되', '하다못해', '강아지', '토토', '연기', '감탄', '모두', '생각하', '시간', '흐름', '너무', '슬프', '희망', '아픔', '기쁨', '슬픔', '함께', '하', '비극', '아름답', '동전', '양면', '지닌', '동화', '같', '이야기', '저', '아빠', '다주', '매일', '보', '데', 'ㅋㅋ', '다시', '보', '이', '영화', '줄', '사람', '없', '주', '파렴치하', '알바', '성룡', '따', '영화', '어거지', '정도', '제발', '그만', '하', '너무', '많', '넣', '욕심', '낳', '졸작', '원작', '보', '좋', '욕보이', '답답', '하', '답답', '음', '그래', '답답', '그저', '그리하', '후', '카', '쿄', '코', '한마디', '없이', '웃기', '하', 'ㅎ', '평점', '높', '평점', '너무', '부풀', '이상', '시나리오', '너무', '부실하', '엄정화', '연기', '볼만하', '무당', '연기', '굿', '도대체', '뭘', '영화', '인지', '^^', '그래', '뇌', '마르', '대체', '왜', '이', '영화', '보', '간만', '보', '형편', '없', '영화', '개연', '찾아보', '없', '막장', '가족', '어이없', '행동', '무척', '불편하', '정말', '보', '영화', '가장', '이상하', '영화', '최악', '진짜', '재미없', '연기력', '진짜', '허', '접하', '토', '아이언', '맨', '너무', '벗어나', '어휴', '진짜', '요즘', '볼만하', '드라마', '없', 'ㅡㅡ', '유명', '작가', '다', '중국', '갓', '나', '견자', '이제', '은퇴하', '하', '살', '파랑', '때', '포스', '안', '나오', 'ㅠㅜ', '보', '내내', '전범', '작', '햇님', '캐릭터', '멀리서', '전범', '기로', '표현하', '괴물', '뒤태', '양', '빛', '보', '내내', '전범', '연상', '하', '이것', '대작', '말', '되', '소리', '돈', '운영', '강', '혜정', '믿', '후반부', '너무', '지겨워', '하', '말', '잃', '엉성', '하', '많이', '토니', '스캇', '작품', '잘', '찾아보', '쓰레기', '영화', '지독', '하', '상투', '갇히', '격투', '영화', '영화', '동안', '지금', '다', 'ㅡㅡ', '갓', '오브', '따르', '하', '가랑이', '찢어지', '뱁새', '애초', '갓', '반대', '성향', '망', '신', '죽이', '제맛', '개연', '제로', '역사', '지키', '참', '아이러니', '뻔뻔', '대체', '무슨', '내용', '끝마무리', '엉성', '고', 'ㅡㅡ', '공산당', '싫', 'ㅠ', '정말', '싫', '일본', '비호', '가', '어중간하', '느낌', '어제', '엠', '비씨', '틀', '어', '주', '보', '보', '괜히', '늦', '자서', '아침', '못', '일어나', 'ㅅㅂ', '작품', '대하', '감독', '오해', '영화', '원작', '대하', '길', '잃', '연출', '별로', '좋', '배우', '데리', '놓', '만들', '이', '영화', '여실히', '드러나', '연기자', '사람', '일터', '일상', '모습', '더', '가짜', '같', '영화', '작업', '얼마나', '힘들', '아', '사람', '이런', '말', '안', '하', '쓰레기', '안습', '아기', '공룡', '둘리', '재미없', '한국', '욕하', '대하', '굉장히', '기분', '나쁘', '게다가', '재미', '없', '각본', '인터넷', '찌라시', '수준', '연기', '허', '접', '배우', '얼굴', '부담', '내용', '없', '밋밋', '하', '뭘', '보', '평점', '높', '판', '보', '손해', '되', '없', '이', '세상', '가장', '재미없', '드라마', '극장', '돈', '보', '가', '사람', '애도', '영화', '헤어지', '란', '말', '좀', '심하', '아깝', '시간', '아깝', 'ㅜㅜ', 'ㅋㅋ', '원작', '데', '일본', '만화', '왜', '중국', '일본인', '만들', '일본', '영화', '현시대', '동양', '인도', '한국', '빼', '영화', '수준', '이하', '화려', '하', '멋있', '결말', '잔뜩', '기대', '하', '결말', '무슨', '영화', '찍', '너무', '허무하', '않', '막판', '남주', '여주', '구하', '끝', '완전', '낚이', '평점', '좋', '주', '다', '화교', '인', '영상미', '보', '재미', '대사', '거의', '없', '심심', '하', '영화', '너무', '질질', '끌', '짜증', '나', '그동안', '복수', '정도', '너무', '허', '접하', '천천히', '목', '가짜', '임신부', '차차', '무너뜨리', '너무', '질질', '짜증', '나', '요', '학생', '위하', '역사', '교제', '활용하', '부족하', '당시', '한국', '영화', '준수하', '액션', '줄', '보', '끈', '내내', '박스', '나오', '답답', '마지막', '반전', '억지', '극장', '알바', '수면제', '린', '이제', '에', '놀라', '히로시마', '상공', '리틀', '이르', '사랑', '떨어뜨리', '영화', '일본인', '낭만', 'ㅎㅎ', '보', '아', '이것', '아', '나오', '애', '아이돌', '애', '주인공', '다', '모르', '드라마', '보', '성인', '연기자', '두', '알', 'ㅜ', '얼마나', '로더', '피', '기', '제발', '게스트', '출연', '왜', '하', '휘동', '나오', '짜증', '낫', '오늘', '클라라', '왜', '잘', '되', '프로', '점점', '망치', '잇', '하하', 'ㅋㅋㅋ', '너도나도', '유치하', '하', '난잡', '공포', '영화', '귀신', '액션', '씬', '처음', '보', '스시', '녀', '이쁘', '확실히', '일본', '여자', '이쁘', '여자', '진짜', '이쁘', '성인', '보', '마이', '지루', '하', '한국', '영화', '죄', '창', 'ㅋㅋ', 'ㄱ', '나', '웃기', 'ㅋㅋㅋ', 'ㅋㅋㅋ', 'ㅋ', '디임', 'ㅋㅋㅋ', 'ㅋ', '생기', 'ㅋㅋㅋ', 'ㅋㅋ', 'ㄹ', 'ㅋ', 'ㅋㅋ', '알', '짱', '헉', '헉', '헉', '어떻', '하', '귀신', '맛나', '보이', '못', '한듬', '성형', '부작용', '같', '주인공', '얼굴', '집중', '안', '되', '생각', '등', '별로', '재미', '없', '지루', '하', '걍', '보', '영', '보', '내가', '주인공', '딸', '죽이', '고도', '남', '포스터', '보', '안속', '싣', '영화', '보', '모르', '보', '영화', '최악', 'ㅡㅡ', '런닝', '맨', '연기', '더', '리얼하', '아', '감독', '찌', '죽이', '당분간', '한국', '영화', '안', '보', '졸작', '일점', '아깝', '영화', '점점', '뒤', '갈수록', '짜증', 'ㅋ', '이것', 'ㅠㅠ', '혜', '교', '이쁘', '황당', '하', '영화', '한채영', '벗', '무슨', '의도', '만들', 'ㅋ', '배우', '참', '좋', '연기', '송중', '기', '나오', '억지로', '꾸역꾸역', '포기하', '결말', '상하', '뻔하', '휴머니즘', '결국', '인간', '눈물', '흘리', '감동하', '교훈', '위하', '만들', '영화', '성우', '직업', '왜', '개봉', '당시', '할인', '받', '보', '돈', '그렇게', '아깝', '없', '그냥', '나', '스토리', '각본', '연기', '연출', '하나같이', '말아먹', '특히', '금고', '여', '장면', '암', '걸리', '이름', '아깝', '보', '걸리', '보', '계속', '자서', '공포', '영화', '어지간', '하', '점수', '주', '진짜', '못', '양심', '없', '제국주의', '살인마', '영구', '씁쓸', '하', '몸', '개그', '총', '표창', '더', '빠르', '좀', '황당', '하', '영화', '보', '드라마', '같', '작품', '평이', '너무', '보', '잘', '모르', '너무', '지루', '하', '장난치', '말', '시간', '허비하', '왜', '만들', '모르', '명성', '비하', '글하', '재미있', '지', '취향', '문제', '보', '만들', '영화', '자', '만들', '영화', '왜', '한국', '코미디', '꼭', '이런', '식', '일', '등장인물', '하나같이', '머저리', '모으', '놓', '나', '정도', '답답', '하', '너무', '답답', '하', '죽', '설', '연기', '드럽', '못하', '설', '리', '망하', '스포하', '때', '캐', 'ㅋ', '뉴스', '보', '기억', '날', '조종사', '뛰어내리', '장면', '실감', '날', '재미', '없', '원작', '너무', '다르', '스토리', '후', '지', '평이', '좋', '다운', '받', '영화', '초반', '이어지', '느끼', '하', '나래', '션', '잇', '바로', '끄', '버리', '돈', '아깝', 'ㅠㅠ', '어떻', '이런', '영화', '폭풍', '감동', '인생', '최고', '영화', '너무', '억지로', '웃기', '하', '같', '웃', '긴지', '모르', '속편', '다', '그렇지', '확신', '증거', '맥', '티', '최고', '졸작', '품', '극초', '반', '공포', '이끌', '내기', '위하', '장치', '일', '내용', '그닥', '상관없', '분신', '사바', '액션', '너무', '가짜', '치', '티', '가나', '배우', '발', '연기', 'ㄷㄷ', '굿', '별', '내용', '없', '그냥', '배신', '맞', '내용', '끝', '특정', '배우', '연기', '보', '차라리', '다른', '작품', '보', '낫', '이런', '같', '영화', '나', '처음', '마마보이', '나중', '람보', '되', '와', '정말', '신비', '이런', '감독', '투자하', '사람', '신기', '하', '이렇게', '영화', '제작되', '가늘', '동안', '체크', '안', '하', '사람', '신기', '하', '찍', '류승범', '신기', '하', '홍보하', '사람', '신기', '하', '정말', '쓰레기', '영화', '왠', '하', '안', '좋', '글', '쓰기', '귀찮', '정말', '욕하', '고', '댓글', '답', '다', '대한민국', '경기', '어렵', '다', '순', '거짓말', '이런', '영화', '돈', '극장가', '볼', '수', '사람', '인구', '되', '사실', '보', '원작', '모독', '영화', '내시', '가', 'ㅜㅜ', '로그인하', '못', '말리', '만화', '감동하', '영화', '찾', '사람', '그냥', '안보', '박흥', '영화', '사랑하', '말순', '보', '장애우', '배려하', '저질', '영화', '장애우', '성희롱', '하', '그런', '사람', '인식', '장애우', '아빠', '정말', '열', '받', '박흥식', '네', '자식', '다운', '증후군', '그런', '역', '맡기', '정말', '영화', '장애우', '부모', '수', '영화', '왜', '만', '들', '집', '핸드폰', '으', '동영상', '나', '찍', '없', '나', '안', '야', '하', '재미있', '재미없', '야하', '정말', '핵', '노잼', '티비', '하', '보', '시간', '아깝', '감당하', '없', '지루', '하', '스토리', '비주얼', '연출', '연기', '어느', '부각되', '못', '하', '차라리', '더', '세', '얼', '하', '가', '정말', '내', '인생', '최악', '영화', '강동원', '이런', '드라마', '출연하', '인기', '얼마', '못', '가', '나인', '틴', '좋', '그렇게', '찍', '어렵', '이야기', '무리수', '두', '말', '영화', '포카혼타스', '무저갱', '끌려오', '영', '다이', '디즈니사', '더럽', '작품', '일', '별로', '음악', '몰입', '방해하', '스토리', '엉성', '하', '곡', '새', '발', '의', '피', '범', '학이', 'ㅋㅋㅋ', '정말', '전개도', '액션', '연기', '어느', '하', '무난', '하', '없', '이런', '영화', '보', '시간', '아깝', '^^', '보', '내내', '어이없', '영화', '개가', '함정', '빠지', '유일하', '관심', '끈', '장면', '웃기', '역시', '그', '소녀', '무섭', '없', '나', '보', '쩝', '보', '내내', '몰입', '안되', '바보', '되', '느낌', '옛날', '영화', '그렇', '너무', '싱겁', '후우', '소재', '흥미', '판이', '작', '아', '유치하', '안', '재', '모으', '왜', '또', '갑자기', '사랑하', '각본', '고풍', '분위기', '좋', '극', '끌어가', '긴장감', '없', '공포물', '너무', '약하', '하', '어', '부분', '집중하', '보', '별', '한', '아깝', '영화', '같잖', '기법', '관객', '우롱하', '영화', '이런', '영화', '속', '별점', '이상', '주', '멍청이', '사', '가치', '없', '당시', '연예', '수준', '알', '만', '한영', '누구', '영화', '좀', '말리', '주', '네이버', '알바', '다', '진짜', '실감하', '밑', '평점', '다', '영화관', '또', '보', '가', '애', '낮잠', '자', '진짜', '진짜', '돈', '보', '아깝', '영화', '여자', '스턴', '트', '대역', '뚱', '땡', '나오', '장면', '아무', '못', '나', '쿡', '티비', '엥', '뭐야', '되감기', '무슨', '편집', '발로', '아침', '드라마', '소재', '막장', '웬만하', '그러', '하', '그냥', '저냥', '하', '하', '너무', '심하', '강성재', '잡', '어떻', '하', '하', '모르', '분량', '늘리', '급급', '일주일', '안', '보', '대단', '욕', '나오', '혹시나', '역시', '그냥', '보지', '마', '정말', '없', '처음', '깨닫', '아', '최소', '별', '반', '되', '정말', '최악', '필름', '아깝', '자원', '낭비', '극치', '저질', '쓰레기', '영화관', '돈', '보', '아직', '아깝', '모든', '청춘', '다', '이렇', '여교사', '역', '대단', '하', '미스', '캐스팅', '어', '음', '재미없', '영화', '시작하', '지나', '끄', '끝', '까지', '보', '자랑', '함', '감동', '만들', '영화', '제하', '박', '신', '연기', '말', '없', '흐흐흐', '망하', '망하', '알리', '일부러', '평점', '낮추', '정도전', '나쁜놈', '하시', '분', '계시', '지금', '조선왕조실록', '공식', '기록', '태종', '이방원', '입장', '쓰이', '정도전', '대하', '평가', '제대로', '나오', '볼', '수', '없', '추천', '무료', '영화', '왜', '딴것', '안', '오르', '오', '듣', '보', '잡', '너무', '하', '영화', '하지만', '일본', '선진국', '되', '가', '다', '필요', '없', '일단', '아들', '존나', '패', '야', '하', '순위', '딸래미', '엄마', '근데', '정말', '아들', '면상', '보', '때', '분노', '치미', '정말', '어쩌', '수', '가없', '보', '내내', '짜증', '도데체', '영화', '왜', '만들', '보', '웃음', '나오', '시간', '아깝', '스트라빈스키', '음악', '길', '밝히', '돈', '아까', '워', '보', '시간', '아깝', '보', '처음', 'ㅡㅡ', '엔딩', '씬', '보', '엉망', '그냥', '시디', '애', '만들', '훨씬', '더', '볼만하', '스토리텔링', '완전', '엉망', '보', '내내', '아', '왜', '보', '생각하', '만들', '영화', '결말', '어떻', '궁금', '하', '하', '멍청', '하', '재난', '영화', '만들', '개봉', '모로', '다시', '보', '다이애나', '하', '의문', '가지', '영화', '전체', '스토리', '부실하', '엉성', '하', '보안관', '딸', '힐즈', '이름', '알', '보안관', '부인', '실종', '신고', '하', '그러면', '모든', '사건', '전말', '드러나', '테', '힐즈', '잡히', '재판', '받', '미국', '경찰', '우습', '보', '말', '여자', '엉덩이', '좋', '영화', '그다지', '유치하', '어색', '하', '내용', '유치하', '연출력', '좋', '좋', '차', '세우', '김', '강우하', '싸우', '신', '최악', '웃', '길', '집어넣', '엇', '나', '상황', '강우', '왜', '퍼', '잇', '스토리', '진짜', '최악', '재미', '없', '감동', '없', '노래', '받', 'ㅋㅋ', '중간', '중간', '억지', '너무', '심하', '같', '차', '사고', '간', '다치', '간', '이식', '받', 'ㅎㅎ', '소재', '좋', '전가', '세', '아깝', '날개', '달리', '청소년', '보', '영화', '악', '영화', '마', '과', '포장', '되', '재미', '없', '악어', '맞', '짱', '골', '보지', '말', '하', '경찰', '세명', '없', '나', '그리고', '작가', '한국', '경찰', '바보', '만들', '은정', '경찰', '싸움', '못하', '힘', '못쓰', '강성', '재', '왜', '간', '아주', '질질', '끌', '난리', '매번', '보', '때', '욕', '나오', '드라마', '아직', '뛰어넘', '영화', '보', '없', '하', '하', '잼', '없', '말', '안', '보', '달리', '평점', '왜', '이렇게', '높', '진짜', '재미없', '고전', '장땡', '알', '일본', '영화', '참', '많이', '보', '끝', '못', '보', '영화', '이것', '처음', '유일하', '하', '시방', '시방', '시방', '시방', '노잼', 'ㅡㅡ', '보', '말', '속지', '말', '포스터', '그지', '같', '영화', '엉성', '하', '짜임새', '추리', '무협', '영화', '견자', '단형', '탕', '보', '만족', '이것', '실화', '장난하', '세상', '하나님', '영화', '개독', '교', '미치', '양키', '새끼', '답', '무슨', '영화', '다', '떡', '귀신', '뭐야', '엔딩', '또', '왜', '따', '아주', '작가', '빨리', '정신', '병원', '한번', '가', '보', '늦', '위험하', '지루', '하', '실망', '스러워', 'ㅠ', '돌리', '계속', '보', '그래', '도저히', '재미', '찾', '좀비', '영화', '최악', '주인공', '빼', '나머지', '전부', '바보', '영화', '정말', '재미없', '지루', '하', '어쩌', '없', '영상', '화하', '다만', '남', '방법', '컨텐츠', '모두', '와', '닿', '연출', '각본', '결국', '감독', '문제', '하', '말', '없', '재미', '없', '병', '맛', '이해', '불', '허', '접하', '삼류', '영화', '아래', '평점', '지능', '원숭이', '왼쪽', '알', '검', '재미없', '내면', '귀', '기울이', '아', '지성', '시간', '아깝', '에', '하', '하', '말', '없', '답답', '하', '파이', '명성', '먹칠', '영화', '딱', '알맞', '솔직히', '땡칠이', '너무', '날로', '먹', '아니야', '보고', '점수', '기준', '이상하', '리그', '닥', '하', '말', '없', '진짜', '박시환', '박재정', '우승', '후보', '올라가', '실력', '부족', '생각', '심사', '위원', '특히', '이승철', '심사', '평', '너무', 'ㅠ', '엠넷', '그리고', '슈', '억지', '조작', '여러', '그런', '에', '두', '사람', '말리', '생각', 'ㅠ', '장면', '개연', '없', '아역', '연기', '못하', '무슨', '추노', '나오', '민폐', '언', '년', '외국', '판', '초반', '그럴싸하', '저급', '영화', '로빈', '윌리암스', '주연', '영화', '다', '좋아하', '정말', '최악', '나한', '테', '돈', '조반니', '한장', '조반니', '심형래', '영화', '보', '재미', '노', 'ㅡ', '답', '정말', '재미없', '킬링', '타임', '안되', '보', '한숨', '나오', '공짜', '안', '보', '전', '다', '태우', '막판', '뒤집', '전이되', '사이먼', '베이커', '홀리', '보', '우리나라', '정서', '안', '맞', '유머', '코드', '뻔하', '결말', '정말', '비추', '친구', '나오', '안경', '끼이', '남자', '극', '전개', '꼭', '필요하', '요즘', '공포', '영화', '생각하', '보', '시시', '하', '재미없', '사실', '공포', '매니아', '보', '쓸데없이', '진지', '하', '무겁', '폼', '재지', '말', '말', '학교', '반올림', '한번', '더', '왕', '얼굴', '노잼', '노잼', 'ㅋㅋㅋ', '완전', '막장', '재미', '더럽', '없', '영화', '쓰레기', '만들', '작정하', '만들', '자', '만들', '후속작', '영화', '착하', '이것', '왜', '이렇게', '높', '모르', '필름', '낭비하', '기', '쓰', '영화', '전개', '일단', '원작', '비하', '생략', '많', '권투', '씬', '졸리', '잠', '진짜', '재미없', '보', '말', '하', '본', '다', '멍청', '하', '전윤수', '미인도', '살', '어린', '여자', '옷', '벗기', '장면', '명백', '하', '아동', '학대', '범죄', '금', '영화', '아동', '금', '출현', '가하', '일', '책임', '지지', '못하', '어린아이', '훗날', '영화', '출연', '후회하', '어떻', '하', '감독', '영화', '관계되', '어른', '시간', '되돌', '릴', '수', '나', '삐질삐질', '업로드', '좀', '빨리', '하', '어제', '기다리', '가지', '이야기', '비하', '정말로', '수준', '떨어지', '연출', '편집', '그린스', '크린', '수정', '안', '하', '홍콩', '시어스', '타워', '가보', '인단', 'ㄷㄷ', '마이클', '베이', '가', '영화', '대충', '만들', '적당', '하', '없', '나', '짜증', '나', '영상', '좋', '반전', '보', '산만', '하', '지루', '하', '개연', '성', '떨어지', '평점', '낚이', '헐', '미', '영화', '평점', 'ㅋ', 'ㅋㅋㅋ', '아', '진짜', '너무', '오', '글', '린', '못', '보', '정도', '미국인', '일본인', '제대로', '만들', '상업', '애니메이션', '해', '오', '수', '인력', '없', '다시', '피하', '전', '인류', '비극', '세계사', '오점', '지구', '어느', '나라', '나', '공통', '발생하', '현상', '제발', '따르', '되', '말', '신념', '남', '가지', '길', '가늘', '내평', '점', '지운', '그', '당시', '보', '때', '너무', '밋밋', '하', '임팩트', '없', '내용', '대부분', '아주', '그저', '그리하', '브리', '이름', '아깝', '스토리', '빈약하', '뜬금없', '요소', '많', '어리', '아이', '즐겁', '볼', '수', '같', '하', '정', '극', '도무지', '어울리', '조니뎁', '혁신', '클래식하', '지', '촬영기', '법', '거울', '통하', '다중', '인격', '연출', '킬링타임', '적절', '추가', '조니뎁', '정', '극', '하', '말', '설', '관하', '모든', '아', 'ㅡㅡ', '재미없', '억지', '장르', '무협', '보', '코믹', '막장', '평점', '아깝', '나치', '입장', '보', '영화', '갑자기', '연속', '나오', '무슨', '태권도', '음', '왜', '보', '예고편', '다', '개연', '없', '별로', '포켓', '몬스터', '짜', 'ㅡㅡ', '쓰', '레', '기', '완전', '사이코', '영화', '마지막', '더욱더', '이', '영화', '의', '떨', '트', '린', '왜', '날', '재미없', 'ㅠㅠ', '라', '따', '뚜', '보', '스머프', '보', '그렇', 'ㅋㅋ', '포', '풍', '저그', '나', '신', '영차']\n",
            "wordInfo: Counter({'영화': 171, '보': 162, '하': 159, '없': 68, '너무': 47, '정말': 46, '좋': 41, '재미있': 35, '진짜': 32, '말': 30, '연기': 29, '되': 29, '같': 27, '왜': 27, '만들': 26, '다': 25, '나오': 23, '나': 23, '최고': 22, '때': 22, '사람': 21, 'ㅋㅋㅋ': 21, '안': 21, '아깝': 21, '잘': 20, '감동': 18, 'ㅋㅋ': 17, '모르': 17, '평점': 16, '재미': 16, '이런': 15, '이': 15, '수': 15, '가': 14, '드라마': 14, '배우': 13, '그': 13, '다시': 13, '아': 13, 'ㅠ': 13, '한국': 13, '주': 13, '스토리': 13, '재미없': 13, '^^': 12, '알': 12, '내용': 12, '못': 12, '더': 12, 'ㅋ': 12, '이쁘': 12, '마음': 11, '시간': 11, '감독': 11, '대하': 10, '명작': 10, 'ㅠㅠ': 10, '내내': 10, '주인공': 10, '와': 9, '지루': 9, '생각하': 9, '처음': 9, '지금': 9, '생각': 9, '그런': 9, '좋아하': 9, 'ㅡㅡ': 9, '두': 9, '돈': 9, '굿': 8, '작품': 8, '남': 8, '자': 8, '전': 8, '장면': 8, '어떻': 8, '남자': 8, '액션': 8, '무슨': 8, '받': 8, '많': 8, '웃기': 8, '원작': 8, '최악': 8, '사실': 7, '끝': 7, '완전': 7, '어': 7, '일본': 7, '또': 7, '그렇': 7, '그냥': 7, '오': 7, '쓰레기': 7, '영': 7, '볼': 7, '참': 7, '잼': 7, '답답': 7, '웃': 6, '공포': 6, '소재': 6, '빠지': 6, '들': 6, '역시': 6, '못하': 6, '마지막': 6, '일': 6, '많이': 6, '기대': 6, '얼굴': 6, 'ㅎ': 6, '정도': 6, '음악': 6, '결말': 6, '인생': 6, '별로': 6, '당시': 6, '짱': 6, '좀': 6, '지': 6, '이것': 6, '연출': 6, '짜증': 6, '그래': 5, '씬': 5, '시대': 5, '꼭': 5, '아름답': 5, '속': 5, '느낌': 5, '이야기': 5, '그리고': 5, '보이': 5, '매력': 5, '가지': 5, '자신': 5, '애': 5, '기': 5, '극': 5, '웃음': 5, '만점': 5, '별': 5, 'ㅎㅎ': 5, '날': 5, '억지': 5, '신': 5, '찍': 5, '길': 5, '개연': 5, '엉성': 5, '여자': 5, '우리나라': 4, '사랑': 4, '바보': 4, '귀엽': 4, '어쩌': 4, '더욱': 4, '사랑하': 4, '잠': 4, '영상': 4, '슬프': 4, '기억': 4, '그렇게': 4, '친구': 4, '제발': 4, '강추': 4, '모두': 4, 'ㄷㄷ': 4, '티비': 4, '따뜻': 4, '싫': 4, '대박': 4, '비하': 4, '눈물': 4, '가족': 4, '트': 4, '음': 4, '계속': 4, '설': 4, '이름': 4, '어리': 4, '반': 4, '개인': 4, '함께': 4, '기분': 4, '울': 4, '엔딩': 4, '함': 4, '잇': 4, '맞': 4, '에': 4, '소녀': 4, '특히': 4, '늦': 4, '높': 4, '막장': 4, '허': 4, '각본': 4, '수준': 4, '유치하': 4, '신기': 4, '장애우': 4, '노잼': 4, '경찰': 4, '시방': 4, '어렵': 3, '시절': 3, '이루': 3, '뜨': 3, '전쟁': 3, '감정': 3, '반전': 3, '낮': 3, '긴장감': 3, '느끼': 3, '갈수록': 3, '제대로': 3, '범죄': 3, '그저': 3, '잊': 3, '한번': 3, '인간': 3, '여러': 3, '동안': 3, '안되': 3, '한': 3, '어울리': 3, '대체': 3, '마치': 3, '라': 3, '흥미진진': 3, '집': 3, '인정하': 3, '년': 3, '여': 3, '요즘': 3, '아이돌': 3, '뻔하': 3, '캐릭터': 3, '이제': 3, '잔잔': 3, '훌륭': 3, '떨어지': 3, '발': 3, '너무너무': 3, '굳': 3, '아침': 3, '역사': 3, '배경': 3, '찾': 3, '가없': 3, '요': 3, '대단': 3, '일단': 3, 'ㅇ': 3, '드리': 3, '욕': 3, '모으': 3, '빨리': 3, '장르': 3, '정치': 3, '굉장히': 3, '표현하': 3, '연기자': 3, '한마디': 3, '살': 3, '엇': 3, '점': 3, '초반': 3, '황당': 3, '몰입': 3, '차': 3, '재': 3, '시나리오': 3, '마': 3, '노래': 3, '품': 3, '코미디': 3, '인': 3, '찾아보': 3, '얼마나': 3, '의': 3, 'ㅡ': 3, '놓': 3, 'ㅜㅜ': 3, '무협': 3, '아직': 3, '만화': 3, '한영': 3, '역': 3, '판': 3, '여주': 3, '줄': 3, '고': 3, '가장': 3, '작': 3, '필름': 3, '내가': 3, '분': 3, '알바': 3, '따': 3, '졸작': 3, '볼만하': 3, '접하': 3, '작가': 3, '갓': 3, '전범': 3, '죽이': 3, '가짜': 3, '심하': 3, '일본인': 3, '질질': 3, '위하': 3, '린': 3, '귀신': 3, '헉': 3, '망하': 3, '이렇게': 3, '답': 3, '말리': 3, '어느': 3, '모든': 3, '간': 3, '아주': 3, '학생': 2, '외국': 2, '전통': 2, '통하': 2, '문화': 2, '지키': 2, '꿈': 2, '병': 2, '하지만': 2, '훗날': 2, '대사': 2, '무': 2, '평': 2, '생생': 2, '전하': 2, '수작': 2, '임팩트': 2, '오랜만': 2, '도': 2, '밤': 2, '션': 2, '비판': 2, '이러하': 2, '아역': 2, '영원히': 2, '짓': 2, '여운': 2, '실화': 2, '일어나': 2, '가치': 2, '우정': 2, '매우': 2, '미소': 2, '젤': 2, '듣': 2, '어린': 2, '세우': 2, '사라지': 2, '여배우': 2, '본': 2, '격투': 2, '걍': 2, '대한민국': 2, '비': 2, '시작하': 2, '재밌게': 2, '후회하': 2, '영상미': 2, '감탄': 2, '왠': 2, '헐': 2, '흘리': 2, '사명감': 2, '첫': 2, '선택': 2, '바로': 2, '졸리': 2, '누': 2, '우연히': 2, '돌리': 2, '건': 2, '해지': 2, '탄탄': 2, '제목': 2, '가을': 2, '벌써': 2, '안타깝': 2, '양심': 2, '비슷': 2, '릴': 2, '청소년': 2, '멋있': 2, '재밌': 2, '세기': 2, '방': 2, '기다리': 2, '성룡': 2, '마이': 2, '원': 2, '죽': 2, '보고': 2, '크': 2, '만하': 2, '힘들': 2, '현실': 2, '카': 2, '훨씬': 2, '인도': 2, '순수하': 2, 'ㅎㅎㅎㅎ': 2, '행복하': 2, '아련': 2, '지내': 2, '모습': 2, '입': 2, '드라': 2, '괜찮': 2, '딱': 2, '빠져들': 2, '크리스틴': 2, '전혀': 2, '남편': 2, '뮤지컬': 2, '괜히': 2, '과': 2, '실력': 2, '바비': 2, '옛날': 2, '소리': 2, '더빙': 2, '뒤': 2, '포': 2, '노': 2, '바뀌': 2, '신념': 2, '멋': 2, '다만': 2, '배심원': 2, '연설': 2, '저': 2, '단순하': 2, '진지': 2, '안보': 2, '류승범': 2, '즐겁': 2, '등장인물': 2, '무척': 2, '엄마': 2, '아쉽': 2, '정부': 2, '으': 2, '연출력': 2, '김': 2, '사이코': 2, '상투': 2, '필요': 2, 'ㄷ': 2, '아이': 2, '사': 2, '여신': 2, '성': 2, '알맞': 2, '자리': 2, '연속': 2, '코드': 2, '야하': 2, '짜임새': 2, '적절': 2, '바라': 2, '나중': 2, '정신': 2, '잘하': 2, '추천': 2, '동화': 2, '녀': 2, '의문': 2, '아픔': 2, '그러': 2, '이유': 2, '무당': 2, '멋지': 2, '부분': 2, '주연': 2, '열': 2, '폭풍': 2, '집중하': 2, '나쁘': 2, '모슬렘': 2, '미국': 2, '틀': 2, '난리': 2, '람보': 2, '거의': 2, '비극': 2, '아빠': 2, '데': 2, '그리하': 2, '후': 2, '이상': 2, '부실하': 2, '뭘': 2, '어이없': 2, '이상하': 2, '맨': 2, '중국': 2, '견자': 2, '잃': 2, '따르': 2, '어제': 2, '자서': 2, '드러나': 2, '욕하': 2, '밋밋': 2, '세상': 2, '극장': 2, '빼': 2, '막판': 2, '낚이': 2, '끌': 2, '끈': 2, '성인': 2, '피': 2, '출연': 2, '낫': 2, '점점': 2, '딸': 2, '포스터': 2, '교': 2, '억지로': 2, '결국': 2, '감동하': 2, '개봉': 2, '하나같이': 2, '걸리': 2, '점수': 2, '평이': 2, '명성': 2, '문제': 2, '다운': 2, '끄': 2, '티': 2, '차라리': 2, '가늘': 2, '글': 2, '저질': 2, '만': 2, '야': 2, '세': 2, '더럽': 2, '유일하': 2, '갑자기': 2, '영화관': 2, '뭐야': 2, '편집': 2, '잡': 2, '보지': 2, '정도전': 2, '입장': 2, '아들': 2, '엉망': 2, '멍청': 2, '보안관': 2, '힐즈': 2, '테': 2, '중간': 2, '달리': 2, '심사': 2, '조반니': 2, '전개': 2, '쓰': 2, '아동': 2, '금': 2, '정': 2, '조니뎁': 2, '디자인': 1, '디자이너': 1, '일군': 1, '발전하': 1, '산업': 1, '부럽': 1, '열정': 1, '노라노': 1, '있': 1, '꾸': 1, '나가': 1, '감사하': 1, '폴리스스토리': 1, '시리즈': 1, '뉴': 1, '쩔': 1, '몰입하': 1, '안개': 1, '자욱': 1, '밤하늘': 1, '초승달': 1, '해보': 1, '개': 1, '빠': 1, '나이': 1, '하나하나': 1, '완벽하': 1, '이해하': 1, '고질라': 1, '오페라': 1, '극단': 1, '갈리': 1, '스릴감': 1, '전장': 1, '네고시에이터': 1, '아무런': 1, '관련': 1, '단연': 1, '가면': 1, '밀회': 1, '화이팅': 1, '상당': 1, '강렬': 1, '일품': 1, '스릴러': 1, '때가': 1, '마디': 1, '꺼내': 1, '벅차': 1, '설치': 1, '교복': 1, '볼펜': 1, '자국': 1, '미처': 1, '형태': 1, '강압': 1, '적용': 1, '세뇌': 1, '용서': 1, '중세': 1, '존재하': 1, '죽기': 1, '제니퍼': 1, '코넬리': 1, '눈부시': 1, '로버트': 1, '드니로': 1, '가슴속': 1, '저런': 1, '는지': 1, '화나': 1, '잠재되': 1, '악마': 1, '공간': 1, '존속하': 1, '다큐': 1, '엉뚱': 1, '광적': 1, '재현하': 1, '쉬': 1, '틈틈': 1, '줄이': 1, '충격': 1, '경각심': 1, '일깨우': 1, '존': 1, '샴': 1, '농아': 1, '인문': 1, '이정': 1, '해라': 1, '제이크': 1, '질렌할': 1, '입가': 1, '샤방샤방': 1, '원표': 1, '조연': 1, '이양': 1, '바다': 1, '아쿠아리움': 1, '자녀': 1, '정의': 1, '콜트': 1, '노동자': 1, '브라질': 1, '울리': 1, '도법': 1, '멤버': 1, '겁나': 1, '워낙': 1, '스마트': 1, '암살': 1, '이정재': 1, '하여튼': 1, '북한': 1, '살만': 1, '목숨': 1, '걸': 1, '납득': 1, '나불거리': 1, '종북': 1, '박평식': 1, '내리': 1, '반갑': 1, '': 1, '유쾌하': 1, '해먹': 1, '탱고': 1, '밀려오': 1, '평생': 1, '영순': 1, '위': 1, '상당히': 1, '신동': 1, '순간': 1, '캐치': 1, '탁': 1, '얄밉': 1, '미워하': 1, '영자': 1, '이동욱': 1, '전작': 1, '다소': 1, '진부': 1, '한사': 1, '신부': 1, '처절히': 1, '실천하': 1, '제리': 1, '부정하': 1, '로키': 1, '원주율': 1, '메이커': 1, '추석': 1, '특선': 1, '조합': 1, '어머니': 1, '드래곤볼': 1, '에볼루션': 1, 'ㅇㅇ': 1, '예능': 1, '방학': 1, '비비': 1, '채널': 1, '아프': 1, '권력': 1, '의리': 1, '깨우치': 1, '초롱': 1, '팬': 1, '심': 1, '달달하': 1, '행복': 1, '중간부': 1, '본방': 1, '사수하': 1, '요새': 1, '향': 1, '챙기': 1, '화질': 1, '퀄리티': 1, '중': 1, '장국영': 1, '자살': 1, '예전': 1, '곱': 1, '움찔': 1, '부탁': 1, '연': 1, '폭력': 1, '걱정되': 1, '저어': 1, '성추행': 1, '상': 1, '목격': 1, '증언': 1, '덕분': 1, '섹시하': 1, '비디오': 1, '헌데': 1, '오래': 1, '틈': 1, '남기남': 1, '형': 1, '우상': 1, '다니': 1, '매회': 1, '리타': 1, '자꾸': 1, '슬': 1, '이어': 1, '붙이': 1, '묘사': 1, '흥행하': 1, '절대': 1, '연기하': 1, '디테일': 1, '따봉': 1, '대박이': 1, '달기': 1, '파고들': 1, '성격': 1, '다음': 1, '설정': 1, '점차': 1, '판타지': 1, '미래': 1, '언론': 1, '탄압': 1, '진지한': 1, '은유': 1, '준이치': 1, '예상': 1, '의외': 1, '꽉': 1, '다그': 1, '허정무': 1, '대신': 1, '장외': 1, '룡': 1, '고고싱': 1, '어찌': 1, '인가': 1, '보조개': 1, '가아': 1, '에니메이션': 1, '고봉': 1, '초딩': 1, '비포': 1, '미드': 1, '나잇': 1, '떠나보내': 1, '심정': 1, '한편': 1, '절로': 1, '코스': 1, '디': 1, '임진강': 1, '부': 1, '멈추': 1, '한석규': 1, 'ㅎㅎㅎ': 1, '허니': 1, '꿀잼': 1, '개꿀잼': 1, '셈': 1, '한예슬': 1, '당': 1, '미탄': 1, '짐': 1, '헤': 1, '메이크업': 1, '훈': 1, '요리': 1, '도배': 1, '우고': 1, '팬텀': 1, '일반': 1, '곁': 1, '돌아가': 1, '라면하': 1, '아쉬움': 1, '알파치노': 1, '명화': 1, '태어나': 1, '역대': 1, '대부': 1, '바람': 1, '레벨': 1, '잭': 1, '마돈나': 1, '엘비스': 1, '급': 1, '춤': 1, '바비도': 1, '바스코': 1, '이번': 1, '결과': 1, '불만': 1, '어쩌면': 1, '당연': 1, '거지': 1, '깎아내리': 1, '까': 1, '충분히': 1, '이기': 1, '자격': 1, '사극': 1, '장혁': 1, '명품': 1, '온': 1, '마련하': 1, '이사': 1, '그날': 1, '저녁': 1, '탓': 1, '워낭': 1, '자막': 1, '한데': 1, '연말': 1, '추천하': 1, '사회': 1, '치부': 1, '정확하': 1, '예언하': 1, '찐': 1, '엣': 1, '슈퍼': 1, '울트라': 1, '초': 1, '막': 1, '벌리': 1, '중동': 1, '새롭': 1, '참여': 1, '궁금하': 1, '하긴': 1, '아버지이': 1, '무사': 1, '일생': 1, '의미': 1, '죽음': 1, '일지': 1, '진일': 1, '물결': 1, '상대': 1, '늘어놓': 1, '일장': 1, '작위': 1, '신파': 1, '흔들리': 1, '무죄': 1, '돌아다니': 1, '서': 1, 'ㅜㅠ': 1, '애정하': 1, '어떤': 1, '멜로': 1, '최영': 1, '장군': 1, '이민호': 1, '이민': 1, '호': 1, '안치환': 1, '방향': 1, '묻': 1, '생각나': 1, '스토리지': 1, '엿보이': 1, '걸작': 1, 'ㅁ': 1, '오스트레일리아': 1, '조금': 1, '프랑스': 1, '떠돌': 1, '심장': 1, '쫄깃': 1, '웰': 1, '메이드': 1, '물': 1, '황정민': 1, '기쁘': 1, '깔끔': 1, '절제되': 1, '소설가': 1, '운전': 1, '맥거핀': 1, '아이맥스': 1, '개봉하': 1, '스타일': 1, '무능하': 1, '국민': 1, '지킬': 1, '의지': 1, '참신': 1, '퀘벡': 1, '은거': 1, '것': 1, '우와': 1, '호킹': 1, '능욕': 1, '보통': 1, '특유': 1, '돋': 1, '이정현': 1, '독특하': 1, '전형': 1, '부르': 1, '손': 1, '욕망': 1, '명대사': 1, '똥칠': 1, '블레이드': 1, '러너': 1, '버금가': 1, '결코': 1, '만들수': 1, '떠오르': 1, '특별하': 1, '정일': 1, '존경하': 1, '반지': 1, '제왕': 1, '피터': 1, '잭슨': 1, '봄': 1, '물론': 1, '감독판': 1, '캬': 1, '추억': 1, '아버지': 1, '녹화하': 1, '넘': 1, '제인': 1, '생': 1, '런': 1, '보너스': 1, '보신': 1, '귀수': 1, '아군': 1, '첫사랑': 1, '설레임': 1, '그대로': 1, '관람하': 1, '향수': 1, '맡아보': 1, '김민선': 1, '김규리': 1, '미모': 1, '올리': 1, '힐링': 1, '무비': 1, '앉': 1, '질리': 1, '외계인': 1, '신분': 1, '맥라이언': 1, '애니': 1, '저하': 1, '지도': 1, '사회상': 1, '반영하': 1, '러브': 1, '모드': 1, '여행': 1, '빠트리': 1, '고소하': 1, '방송': 1, '털털': 1, '실제로': 1, '입문하': 1, '펼치': 1, '주시': 1, '가연': 1, '이물감': 1, '시': 1, '가족애': 1, '주제': 1, '배': 1, '급사': 1, '차리': 1, '싸이코': 1, '패스': 1, '안인숙': 1, '우': 1, '넘넘': 1, '조각': 1, '여유': 1, '로': 1, '일요일': 1, '오후': 1, '나른': 1, '세계': 1, '포근': 1, '스타워즈': 1, '쌍': 1, '탑': 1, '아무리': 1, '백날': 1, '말해': 1, '백문': 1, '불여일견': 1, '강하': 1, '중의': 1, '알콜': 1, '중독': 1, '겉보기': 1, '안정': 1, '채': 1, '수없': 1, '공허': 1, '외로움': 1, '술': 1, '의지하': 1, '괴롭': 1, '삶': 1, '소중': 1, '내생': 1, '눈동자': 1, '허준': 1, '모래시계': 1, '황금': 1, '의제': 1, '국': 1, '인하': 1, '규모': 1, '사업가': 1, '집안': 1, '갈등': 1, '서로': 1, '원수': 1, '바꾸': 1, '낡': 1, '골고루': 1, '해외': 1, '수니': 1, '원하': 1, '앗': 1, '따듯': 1, '앞': 1, '윤': 1, '영원하': 1, '운': 1, '잘못': 1, '박한': 1, '조안': 1, '코하': 1, '몸매': 1, '살아가': 1, '짠하': 1, '쥐': 1, '목소리': 1, '간직하': 1, '소중한': 1, '보내': 1, '도리': 1, '글쎄': 1, '알라': 1, '미움': 1, '가르침': 1, '신고하': 1, '애국': 1, '시민': 1, '폄하하': 1, '교회': 1, '반성하': 1, '진정한': 1, '기독교인': 1, '이리하': 1, '행운': 1, '크레딧': 1, '끝나': 1, '발견하': 1, '목록': 1, '휴식하': 1, '켜': 1, '하구': 1, '터미네이터': 1, '맥클레인': 1, '얘기하': 1, '확실': 1, 'MB': 1, '혼자': 1, '올해': 1, '짱짱': 1, '눈빛': 1, '생동감': 1, '넘치': 1, '몸짓': 1, '발짓': 1, '하다못해': 1, '강아지': 1, '토토': 1, '흐름': 1, '희망': 1, '기쁨': 1, '슬픔': 1, '동전': 1, '양면': 1, '지닌': 1, '다주': 1, '매일': 1, '파렴치하': 1, '어거지': 1, '그만': 1, '넣': 1, '욕심': 1, '낳': 1, '욕보이': 1, '쿄': 1, '코': 1, '없이': 1, '부풀': 1, '엄정화': 1, '도대체': 1, '인지': 1, '뇌': 1, '마르': 1, '간만': 1, '형편': 1, '행동': 1, '불편하': 1, '연기력': 1, '토': 1, '아이언': 1, '벗어나': 1, '어휴': 1, '유명': 1, '은퇴하': 1, '파랑': 1, '포스': 1, 'ㅠㅜ': 1, '햇님': 1, '멀리서': 1, '기로': 1, '괴물': 1, '뒤태': 1, '양': 1, '빛': 1, '연상': 1, '대작': 1, '운영': 1, '강': 1, '혜정': 1, '믿': 1, '후반부': 1, '지겨워': 1, '토니': 1, '스캇': 1, '지독': 1, '갇히': 1, '오브': 1, '가랑이': 1, '찢어지': 1, '뱁새': 1, '애초': 1, '반대': 1, '성향': 1, '망': 1, '제맛': 1, '제로': 1, '아이러니': 1, '뻔뻔': 1, '끝마무리': 1, '공산당': 1, '비호': 1, '어중간하': 1, '엠': 1, '비씨': 1, 'ㅅㅂ': 1, '오해': 1, '데리': 1, '여실히': 1, '일터': 1, '일상': 1, '작업': 1, '안습': 1, '아기': 1, '공룡': 1, '둘리': 1, '게다가': 1, '인터넷': 1, '찌라시': 1, '접': 1, '부담': 1, '손해': 1, '애도': 1, '헤어지': 1, '란': 1, '현시대': 1, '동양': 1, '이하': 1, '화려': 1, '잔뜩': 1, '허무하': 1, '않': 1, '남주': 1, '구하': 1, '화교': 1, '심심': 1, '그동안': 1, '복수': 1, '천천히': 1, '목': 1, '임신부': 1, '차차': 1, '무너뜨리': 1, '교제': 1, '활용하': 1, '부족하': 1, '준수하': 1, '박스': 1, '수면제': 1, '놀라': 1, '히로시마': 1, '상공': 1, '리틀': 1, '이르': 1, '떨어뜨리': 1, '낭만': 1, 'ㅜ': 1, '로더': 1, '게스트': 1, '휘동': 1, '오늘': 1, '클라라': 1, '프로': 1, '망치': 1, '하하': 1, '너도나도': 1, '난잡': 1, '스시': 1, '확실히': 1, '죄': 1, '창': 1, 'ㄱ': 1, '디임': 1, '생기': 1, 'ㄹ': 1, '맛나': 1, '한듬': 1, '성형': 1, '부작용': 1, '집중': 1, '등': 1, '고도': 1, '안속': 1, '싣': 1, '런닝': 1, '리얼하': 1, '찌': 1, '당분간': 1, '일점': 1, '혜': 1, '한채영': 1, '벗': 1, '의도': 1, '송중': 1, '꾸역꾸역': 1, '포기하': 1, '상하': 1, '휴머니즘': 1, '교훈': 1, '성우': 1, '직업': 1, '할인': 1, '말아먹': 1, '금고': 1, '암': 1, '어지간': 1, '제국주의': 1, '살인마': 1, '영구': 1, '씁쓸': 1, '몸': 1, '개그': 1, '총': 1, '표창': 1, '빠르': 1, '장난치': 1, '허비하': 1, '글하': 1, '취향': 1, '식': 1, '머저리': 1, '드럽': 1, '리': 1, '스포하': 1, '캐': 1, '뉴스': 1, '조종사': 1, '뛰어내리': 1, '실감': 1, '다르': 1, '이어지': 1, '나래': 1, '버리': 1, '긴지': 1, '속편': 1, '그렇지': 1, '확신': 1, '증거': 1, '맥': 1, '극초': 1, '이끌': 1, '내기': 1, '장치': 1, '그닥': 1, '상관없': 1, '분신': 1, '사바': 1, '치': 1, '가나': 1, '배신': 1, '특정': 1, '다른': 1, '마마보이': 1, '신비': 1, '투자하': 1, '제작되': 1, '체크': 1, '홍보하': 1, '쓰기': 1, '귀찮': 1, '댓글': 1, '경기': 1, '순': 1, '거짓말': 1, '극장가': 1, '인구': 1, '모독': 1, '내시': 1, '로그인하': 1, '박흥': 1, '말순': 1, '배려하': 1, '성희롱': 1, '인식': 1, '박흥식': 1, '네': 1, '자식': 1, '증후군': 1, '맡기': 1, '부모': 1, '핸드폰': 1, '동영상': 1, '핵': 1, '감당하': 1, '비주얼': 1, '부각되': 1, '얼': 1, '내': 1, '강동원': 1, '출연하': 1, '인기': 1, '얼마': 1, '나인': 1, '틴': 1, '무리수': 1, '포카혼타스': 1, '무저갱': 1, '끌려오': 1, '다이': 1, '디즈니사': 1, '방해하': 1, '곡': 1, '새': 1, '범': 1, '학이': 1, '전개도': 1, '무난': 1, '개가': 1, '함정': 1, '관심': 1, '무섭': 1, '쩝': 1, '싱겁': 1, '후우': 1, '흥미': 1, '판이': 1, '고풍': 1, '분위기': 1, '끌어가': 1, '공포물': 1, '약하': 1, '같잖': 1, '기법': 1, '관객': 1, '우롱하': 1, '별점': 1, '멍청이': 1, '연예': 1, '누구': 1, '네이버': 1, '실감하': 1, '밑': 1, '낮잠': 1, '스턴': 1, '대역': 1, '뚱': 1, '땡': 1, '아무': 1, '쿡': 1, '엥': 1, '되감기': 1, '발로': 1, '웬만하': 1, '저냥': 1, '강성재': 1, '분량': 1, '늘리': 1, '급급': 1, '일주일': 1, '혹시나': 1, '깨닫': 1, '최소': 1, '자원': 1, '낭비': 1, '극치': 1, '청춘': 1, '이렇': 1, '여교사': 1, '미스': 1, '캐스팅': 1, '지나': 1, '까지': 1, '자랑': 1, '제하': 1, '박': 1, '흐흐흐': 1, '알리': 1, '일부러': 1, '낮추': 1, '나쁜놈': 1, '하시': 1, '계시': 1, '조선왕조실록': 1, '공식': 1, '기록': 1, '태종': 1, '이방원': 1, '쓰이': 1, '평가': 1, '무료': 1, '딴것': 1, '오르': 1, '선진국': 1, '존나': 1, '패': 1, '순위': 1, '딸래미': 1, '근데': 1, '면상': 1, '분노': 1, '치미': 1, '도데체': 1, '스트라빈스키': 1, '밝히': 1, '아까': 1, '워': 1, '시디': 1, '스토리텔링': 1, '궁금': 1, '재난': 1, '모로': 1, '다이애나': 1, '전체': 1, '부인': 1, '실종': 1, '신고': 1, '그러면': 1, '사건': 1, '전말': 1, '잡히': 1, '재판': 1, '우습': 1, '엉덩이': 1, '그다지': 1, '어색': 1, '강우하': 1, '싸우': 1, '집어넣': 1, '상황': 1, '강우': 1, '퍼': 1, '사고': 1, '다치': 1, '이식': 1, '전가': 1, '날개': 1, '악': 1, '포장': 1, '악어': 1, '골': 1, '세명': 1, '은정': 1, '싸움': 1, '힘': 1, '못쓰': 1, '강성': 1, '매번': 1, '뛰어넘': 1, '고전': 1, '장땡': 1, '속지': 1, '그지': 1, '추리': 1, '단형': 1, '탕': 1, '만족': 1, '장난하': 1, '하나님': 1, '개독': 1, '미치': 1, '양키': 1, '새끼': 1, '떡': 1, '병원': 1, '위험하': 1, '실망': 1, '스러워': 1, '도저히': 1, '좀비': 1, '나머지': 1, '전부': 1, '화하': 1, '방법': 1, '컨텐츠': 1, '닿': 1, '맛': 1, '이해': 1, '불': 1, '삼류': 1, '아래': 1, '지능': 1, '원숭이': 1, '왼쪽': 1, '검': 1, '내면': 1, '귀': 1, '기울이': 1, '지성': 1, '파이': 1, '먹칠': 1, '솔직히': 1, '땡칠이': 1, '날로': 1, '먹': 1, '아니야': 1, '기준': 1, '리그': 1, '닥': 1, '박시환': 1, '박재정': 1, '우승': 1, '후보': 1, '올라가': 1, '부족': 1, '위원': 1, '이승철': 1, '엠넷': 1, '슈': 1, '조작': 1, '추노': 1, '민폐': 1, '언': 1, '그럴싸하': 1, '저급': 1, '로빈': 1, '윌리암스': 1, '나한': 1, '한장': 1, '심형래': 1, '킬링': 1, '타임': 1, '한숨': 1, '공짜': 1, '태우': 1, '뒤집': 1, '전이되': 1, '사이먼': 1, '베이커': 1, '홀리': 1, '정서': 1, '유머': 1, '비추': 1, '안경': 1, '끼이': 1, '필요하': 1, '시시': 1, '매니아': 1, '쓸데없이': 1, '무겁': 1, '폼': 1, '재지': 1, '학교': 1, '반올림': 1, '왕': 1, '작정하': 1, '후속작': 1, '착하': 1, '낭비하': 1, '생략': 1, '권투': 1, '전윤수': 1, '미인도': 1, '옷': 1, '벗기': 1, '명백': 1, '학대': 1, '출현': 1, '가하': 1, '책임': 1, '지지': 1, '어린아이': 1, '관계되': 1, '어른': 1, '되돌': 1, '삐질삐질': 1, '업로드': 1, '정말로': 1, '그린스': 1, '크린': 1, '수정': 1, '홍콩': 1, '시어스': 1, '타워': 1, '가보': 1, '인단': 1, '마이클': 1, '베이': 1, '대충': 1, '적당': 1, '산만': 1, '미': 1, '미국인': 1, '상업': 1, '애니메이션': 1, '해': 1, '인력': 1, '피하': 1, '인류': 1, '세계사': 1, '오점': 1, '지구': 1, '나라': 1, '공통': 1, '발생하': 1, '현상': 1, '내평': 1, '지운': 1, '대부분': 1, '브리': 1, '빈약하': 1, '뜬금없': 1, '요소': 1, '도무지': 1, '혁신': 1, '클래식하': 1, '촬영기': 1, '법': 1, '거울': 1, '다중': 1, '인격': 1, '킬링타임': 1, '추가': 1, '관하': 1, '코믹': 1, '나치': 1, '태권도': 1, '예고편': 1, '포켓': 1, '몬스터': 1, '짜': 1, '레': 1, '더욱더': 1, '떨': 1, '뚜': 1, '스머프': 1, '풍': 1, '저그': 1, '영차': 1})\n"
          ],
          "name": "stdout"
        }
      ]
    },
    {
      "cell_type": "code",
      "metadata": {
        "id": "qbjp1LzUm1WV",
        "colab_type": "code",
        "outputId": "d7b35760-b1be-4c11-d21e-c2633d415f63",
        "colab": {
          "base_uri": "https://localhost:8080/",
          "height": 35
        }
      },
      "source": [
        "# sorted 연습\n",
        "# 직접 작성\n",
        "\n",
        "sample = {'여름':1, '과일':2, '딸기':3}\n",
        "\n",
        "sorted(sample)\n",
        "sorted(sample, reverse=True)\n",
        "sorted(sample, key=sample.get, reverse=True)\n",
        "\n",
        "sorted(sample.values(), reverse=True)"
      ],
      "execution_count": 10,
      "outputs": [
        {
          "output_type": "execute_result",
          "data": {
            "text/plain": [
              "[3, 2, 1]"
            ]
          },
          "metadata": {
            "tags": []
          },
          "execution_count": 10
        }
      ]
    },
    {
      "cell_type": "code",
      "metadata": {
        "id": "cAbddbQopHBJ",
        "colab_type": "code",
        "outputId": "d033331e-71a1-43d7-f6f2-d3341f435afd",
        "colab": {
          "base_uri": "https://localhost:8080/",
          "height": 269
        }
      },
      "source": [
        "# bar 그래프 연습\n",
        "wordInfo_sample = Counter({'여름':1, '과일':2, '딸기':3})\n",
        "sorted_keys_sample = sorted(wordInfo_sample, key=wordInfo_sample.get, reverse=True)\n",
        "sorted_values_sample = sorted(wordInfo_sample.values(), reverse=True)\n",
        "\n",
        "import matplotlib.pyplot as plt\n",
        "plt.bar(range(len(wordInfo_sample)), sorted_values_sample)\t# X축의 위치, 각 x의 높이\n",
        "plt.xticks(range(len(wordInfo_sample)), sorted_keys_sample)  \t# X축의 위치, 각 x의 라벨\n",
        "plt.show()"
      ],
      "execution_count": 11,
      "outputs": [
        {
          "output_type": "display_data",
          "data": {
            "image/png": "[encoded data removed]",
            "text/plain": [
              "<Figure size 432x288 with 1 Axes>"
            ]
          },
          "metadata": {
            "tags": []
          }
        }
      ]
    },
    {
      "cell_type": "code",
      "metadata": {
        "id": "QX4V5WQpL7CT",
        "colab_type": "code",
        "outputId": "33f958f3-05ec-4428-ed2f-459ea0764b3a",
        "colab": {
          "base_uri": "https://localhost:8080/",
          "height": 1000
        }
      },
      "source": [
        "# 폰트 설치\n",
        "!apt-get install fonts-nanum*\n",
        "!apt-get install fontconfig\n",
        "!fc-cache -fv\n",
        "!cp /usr/share/fonts/truetype/nanum/Nanum* /usr/local/lib/python3.6/dist-packages/matplotlib/mpl-data/fonts/ttf/\n",
        "!rm -rf /content/.cache/matplotlib/*\n",
        "!ls /usr/local/lib/python3.6/dist-packages/matplotlib/mpl-data/fonts/ttf/"
      ],
      "execution_count": 12,
      "outputs": [
        {
          "output_type": "stream",
          "text": [
            "Reading package lists... Done\n",
            "Building dependency tree       \n",
            "Reading state information... Done\n",
            "Note, selecting 'fonts-nanum-eco' for glob 'fonts-nanum*'\n",
            "Note, selecting 'fonts-nanum' for glob 'fonts-nanum*'\n",
            "Note, selecting 'fonts-nanum-gothic-light' for glob 'fonts-nanum*'\n",
            "Note, selecting 'fonts-nanum-coding' for glob 'fonts-nanum*'\n",
            "Note, selecting 'fonts-nanum-extra' for glob 'fonts-nanum*'\n",
            "The following NEW packages will be installed:\n",
            "  fonts-nanum fonts-nanum-coding fonts-nanum-eco fonts-nanum-extra\n",
            "0 upgraded, 4 newly installed, 0 to remove and 147 not upgraded.\n",
            "Need to get 37.0 MB of archives.\n",
            "After this operation, 145 MB of additional disk space will be used.\n",
            "Get:1 http://archive.ubuntu.com/ubuntu bionic/universe amd64 fonts-nanum all 20170925-1 [9,604 kB]\n",
            "Get:2 http://archive.ubuntu.com/ubuntu bionic/universe amd64 fonts-nanum-eco all 1.000-6 [14.0 MB]\n",
            "Get:3 http://archive.ubuntu.com/ubuntu bionic/universe amd64 fonts-nanum-extra all 20170925-1 [12.2 MB]\n",
            "Get:4 http://archive.ubuntu.com/ubuntu bionic/universe amd64 fonts-nanum-coding all 2.5-1 [1,083 kB]\n",
            "Fetched 37.0 MB in 7s (5,500 kB/s)\n",
            "Selecting previously unselected package fonts-nanum.\n",
            "(Reading database ... 131416 files and directories currently installed.)\n",
            "Preparing to unpack .../fonts-nanum_20170925-1_all.deb ...\n",
            "Unpacking fonts-nanum (20170925-1) ...\n",
            "Selecting previously unselected package fonts-nanum-eco.\n",
            "Preparing to unpack .../fonts-nanum-eco_1.000-6_all.deb ...\n",
            "Unpacking fonts-nanum-eco (1.000-6) ...\n",
            "Selecting previously unselected package fonts-nanum-extra.\n",
            "Preparing to unpack .../fonts-nanum-extra_20170925-1_all.deb ...\n",
            "Unpacking fonts-nanum-extra (20170925-1) ...\n",
            "Selecting previously unselected package fonts-nanum-coding.\n",
            "Preparing to unpack .../fonts-nanum-coding_2.5-1_all.deb ...\n",
            "Unpacking fonts-nanum-coding (2.5-1) ...\n",
            "Setting up fonts-nanum-extra (20170925-1) ...\n",
            "Setting up fonts-nanum (20170925-1) ...\n",
            "Setting up fonts-nanum-coding (2.5-1) ...\n",
            "Setting up fonts-nanum-eco (1.000-6) ...\n",
            "Processing triggers for fontconfig (2.12.6-0ubuntu2) ...\n",
            "Reading package lists... Done\n",
            "Building dependency tree       \n",
            "Reading state information... Done\n",
            "fontconfig is already the newest version (2.12.6-0ubuntu2).\n",
            "fontconfig set to manually installed.\n",
            "0 upgraded, 0 newly installed, 0 to remove and 147 not upgraded.\n",
            "/usr/share/fonts: caching, new cache contents: 0 fonts, 1 dirs\n",
            "/usr/share/fonts/truetype: caching, new cache contents: 0 fonts, 3 dirs\n",
            "/usr/share/fonts/truetype/dejavu: caching, new cache contents: 22 fonts, 0 dirs\n",
            "/usr/share/fonts/truetype/liberation: caching, new cache contents: 16 fonts, 0 dirs\n",
            "/usr/share/fonts/truetype/nanum: caching, new cache contents: 31 fonts, 0 dirs\n",
            "/usr/local/share/fonts: caching, new cache contents: 0 fonts, 0 dirs\n",
            "/root/.local/share/fonts: skipping, no such directory\n",
            "/root/.fonts: skipping, no such directory\n",
            "/var/cache/fontconfig: cleaning cache directory\n",
            "/root/.cache/fontconfig: not cleaning non-existent cache directory\n",
            "/root/.fontconfig: not cleaning non-existent cache directory\n",
            "fc-cache: succeeded\n",
            "cmb10.ttf\t\t\tNanumGothicEco.ttf\n",
            "cmex10.ttf\t\t\tNanumGothicExtraBold.ttf\n",
            "cmmi10.ttf\t\t\tNanumGothicLight.ttf\n",
            "cmr10.ttf\t\t\tNanumGothic.ttf\n",
            "cmss10.ttf\t\t\tNanumMyeongjoBold.ttf\n",
            "cmsy10.ttf\t\t\tNanumMyeongjoEcoBold.ttf\n",
            "cmtt10.ttf\t\t\tNanumMyeongjoEcoExtraBold.ttf\n",
            "DejaVuSans-BoldOblique.ttf\tNanumMyeongjoEco.ttf\n",
            "DejaVuSans-Bold.ttf\t\tNanumMyeongjoExtraBold.ttf\n",
            "DejaVuSansDisplay.ttf\t\tNanumMyeongjo.ttf\n",
            "DejaVuSansMono-BoldOblique.ttf\tNanumPen.ttf\n",
            "DejaVuSansMono-Bold.ttf\t\tNanumSquareB.ttf\n",
            "DejaVuSansMono-Oblique.ttf\tNanumSquareEB.ttf\n",
            "DejaVuSansMono.ttf\t\tNanumSquareL.ttf\n",
            "DejaVuSans-Oblique.ttf\t\tNanumSquareRoundB.ttf\n",
            "DejaVuSans.ttf\t\t\tNanumSquareRoundEB.ttf\n",
            "DejaVuSerif-BoldItalic.ttf\tNanumSquareRoundL.ttf\n",
            "DejaVuSerif-Bold.ttf\t\tNanumSquareRoundR.ttf\n",
            "DejaVuSerifDisplay.ttf\t\tNanumSquareR.ttf\n",
            "DejaVuSerif-Italic.ttf\t\tSTIXGeneralBolIta.ttf\n",
            "DejaVuSerif.ttf\t\t\tSTIXGeneralBol.ttf\n",
            "LICENSE_DEJAVU\t\t\tSTIXGeneralItalic.ttf\n",
            "LICENSE_STIX\t\t\tSTIXGeneral.ttf\n",
            "local.conf\t\t\tSTIXNonUniBolIta.ttf\n",
            "NanumBarunGothicBold.ttf\tSTIXNonUniBol.ttf\n",
            "NanumBarunGothicLight.ttf\tSTIXNonUniIta.ttf\n",
            "NanumBarunGothic.ttf\t\tSTIXNonUni.ttf\n",
            "NanumBarunGothicUltraLight.ttf\tSTIXSizFiveSymReg.ttf\n",
            "NanumBarunpenB.ttf\t\tSTIXSizFourSymBol.ttf\n",
            "NanumBarunpenR.ttf\t\tSTIXSizFourSymReg.ttf\n",
            "NanumBrush.ttf\t\t\tSTIXSizOneSymBol.ttf\n",
            "NanumGothicBold.ttf\t\tSTIXSizOneSymReg.ttf\n",
            "NanumGothicCoding-Bold.ttf\tSTIXSizThreeSymBol.ttf\n",
            "NanumGothicCoding.ttf\t\tSTIXSizThreeSymReg.ttf\n",
            "NanumGothicEcoBold.ttf\t\tSTIXSizTwoSymBol.ttf\n",
            "NanumGothicEcoExtraBold.ttf\tSTIXSizTwoSymReg.ttf\n"
          ],
          "name": "stdout"
        }
      ]
    },
    {
      "cell_type": "code",
      "metadata": {
        "id": "JhdNavi8MFc7",
        "colab_type": "code",
        "colab": {}
      },
      "source": [
        "# 폰트 설정\n",
        "import matplotlib.pyplot as plt\n",
        "import matplotlib as mpl\n",
        "import matplotlib.font_manager as fm\n",
        "\n",
        "%matplotlib inline\n",
        "%config InlineBackend.figure_format = 'retina'\n",
        "\t\n",
        "mpl.rcParams['axes.unicode_minus'] = False\n",
        "\t\n",
        "path = '/usr/share/fonts/truetype/nanum/NanumGothicBold.ttf'\n",
        "font_name = fm.FontProperties(fname=path, size=18).get_name()\n",
        "plt.rc('font', family=font_name)\n",
        "fm._rebuild()"
      ],
      "execution_count": 0,
      "outputs": []
    },
    {
      "cell_type": "code",
      "metadata": {
        "id": "d4RQDd7oNHzt",
        "colab_type": "code",
        "outputId": "84606029-a8bb-440b-9182-0aa7a60dace0",
        "colab": {
          "base_uri": "https://localhost:8080/",
          "height": 517
        }
      },
      "source": [
        "# 그래프 그리기 1\n",
        "plt.bar(range(len(wordInfo_sample)), sorted_values_sample)\t# X축의 위치, 각 x의 높이\n",
        "plt.xticks(range(len(wordInfo_sample)), sorted_keys_sample)  \t# X축의 위치, 각 x의 라벨\n",
        "plt.show()\n",
        "\n",
        "\n",
        "# 그래프 그리기 2\n",
        "sorted_keys = sorted(wordInfo, key=wordInfo.get, reverse=True)\n",
        "sorted_values = sorted(wordInfo.values(), reverse=True)\n",
        "\n",
        "import matplotlib.pyplot as plt\n",
        "plt.bar(range(20), sorted_values[:20])\n",
        "plt.xticks(range(20), sorted_keys[:20])\n",
        "plt.show()"
      ],
      "execution_count": 14,
      "outputs": [
        {
          "output_type": "display_data",
          "data": {
            "image/png": "[encoded data removed]",
            "text/plain": [
              "<Figure size 432x288 with 1 Axes>"
            ]
          },
          "metadata": {
            "tags": [],
            "image/png": {
              "width": 373,
              "height": 250
            }
          }
        },
        {
          "output_type": "display_data",
          "data": {
            "image/png": "[encoded data removed]",
            "text/plain": [
              "<Figure size 432x288 with 1 Axes>"
            ]
          },
          "metadata": {
            "tags": [],
            "image/png": {
              "width": 376,
              "height": 250
            }
          }
        }
      ]
    },
    {
      "cell_type": "code",
      "metadata": {
        "id": "-Pc0whtCL5Fd",
        "colab_type": "code",
        "outputId": "5c5bd35c-588b-4caf-8904-27fd039e1a20",
        "colab": {
          "base_uri": "https://localhost:8080/",
          "height": 267
        }
      },
      "source": [
        "# 전체 데이터 그래프\n",
        "\n",
        "sorted_keys = sorted(wordInfo, key=wordInfo.get, reverse=True)\n",
        "sorted_values = sorted(wordInfo.values(), reverse=True)\n",
        "\n",
        "import matplotlib.pyplot as plt\n",
        "plt.bar(range(len(wordInfo)), sorted_values)\n",
        "plt.xticks(range(len(wordInfo)), sorted_keys)\n",
        "plt.show()\n"
      ],
      "execution_count": 15,
      "outputs": [
        {
          "output_type": "display_data",
          "data": {
            "image/png": "[encoded data removed]",
            "text/plain": [
              "<Figure size 432x288 with 1 Axes>"
            ]
          },
          "metadata": {
            "tags": [],
            "image/png": {
              "width": 376,
              "height": 250
            }
          }
        }
      ]
    },
    {
      "cell_type": "code",
      "metadata": {
        "id": "mqDuK36nPH0E",
        "colab_type": "code",
        "outputId": "f731e64e-66d7-47de-e436-4183f9793c46",
        "colab": {
          "base_uri": "https://localhost:8080/",
          "height": 267
        }
      },
      "source": [
        "# 일부 데이터만 다시 출력\n",
        "import matplotlib.pyplot as plt\n",
        "plt.bar(range(20), sorted_values[:20])\n",
        "plt.xticks(range(20), sorted_keys[:20])\n",
        "plt.show()"
      ],
      "execution_count": 16,
      "outputs": [
        {
          "output_type": "display_data",
          "data": {
            "image/png": "[encoded data removed]",
            "text/plain": [
              "<Figure size 432x288 with 1 Axes>"
            ]
          },
          "metadata": {
            "tags": [],
            "image/png": {
              "width": 376,
              "height": 250
            }
          }
        }
      ]
    },
    {
      "cell_type": "code",
      "metadata": {
        "id": "qtpNhWDkfiSQ",
        "colab_type": "code",
        "colab": {}
      },
      "source": [
        ""
      ],
      "execution_count": 0,
      "outputs": []
    }
  ]
}