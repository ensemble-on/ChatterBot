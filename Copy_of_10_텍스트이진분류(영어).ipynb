{
  "nbformat": 4,
  "nbformat_minor": 0,
  "metadata": {
    "colab": {
      "name": "Copy of 10_텍스트이진분류(영어).ipynb",
      "provenance": [],
      "collapsed_sections": [],
      "include_colab_link": true
    },
    "kernelspec": {
      "name": "python3",
      "display_name": "Python 3"
    }
  },
  "cells": [
    {
      "cell_type": "markdown",
      "metadata": {
        "id": "view-in-github",
        "colab_type": "text"
      },
      "source": [
        "<a href=\"https://colab.research.google.com/github/ensemble-on/ChatterBot/blob/master/Copy_of_10_%ED%85%8D%EC%8A%A4%ED%8A%B8%EC%9D%B4%EC%A7%84%EB%B6%84%EB%A5%98(%EC%98%81%EC%96%B4).ipynb\" target=\"_parent\"><img src=\"https://colab.research.google.com/assets/colab-badge.svg\" alt=\"Open In Colab\"/></a>"
      ]
    },
    {
      "cell_type": "markdown",
      "metadata": {
        "id": "dcJFEg-xd5Pt",
        "colab_type": "text"
      },
      "source": [
        "# 텍스트 이진분류 (영어 IMDB)"
      ]
    },
    {
      "cell_type": "code",
      "metadata": {
        "id": "Wze4leErbG92",
        "colab_type": "code",
        "colab": {
          "base_uri": "https://localhost:8080/",
          "height": 127
        },
        "outputId": "60733bde-733a-4bd8-d30c-86f97875f7f0"
      },
      "source": [
        "# from google.colab import auth\n",
        "# auth.authenticate_user()\n",
        "\n",
        "from google.colab import drive\n",
        "drive.mount('/content/gdrive')"
      ],
      "execution_count": 2,
      "outputs": [
        {
          "output_type": "stream",
          "text": [
            "Go to this URL in a browser: https://accounts.google.com/o/oauth2/auth?client_id=947318989803-6bn6qk8qdgf4n4g3pfee6491hc0brc4i.apps.googleusercontent.com&redirect_uri=urn%3Aietf%3Awg%3Aoauth%3A2.0%3Aoob&scope=email%20https%3A%2F%2Fwww.googleapis.com%2Fauth%2Fdocs.test%20https%3A%2F%2Fwww.googleapis.com%2Fauth%2Fdrive%20https%3A%2F%2Fwww.googleapis.com%2Fauth%2Fdrive.photos.readonly%20https%3A%2F%2Fwww.googleapis.com%2Fauth%2Fpeopleapi.readonly&response_type=code\n",
            "\n",
            "Enter your authorization code:\n",
            "··········\n",
            "Mounted at /content/gdrive\n"
          ],
          "name": "stdout"
        }
      ]
    },
    {
      "cell_type": "code",
      "metadata": {
        "id": "3dtyZ1iMeNwx",
        "colab_type": "code",
        "colab": {}
      },
      "source": [
        "# 경로 설정\n",
        "imdb_dir = '/content/gdrive/My Drive/AIBM/20191016/pytest/aclImdb_v1_small/aclImdb/'"
      ],
      "execution_count": 0,
      "outputs": []
    },
    {
      "cell_type": "code",
      "metadata": {
        "id": "AMIXr6DhugF6",
        "colab_type": "code",
        "colab": {}
      },
      "source": [
        "# Train Data Loading\n",
        "import os\n",
        "train_dir = os.path.join(imdb_dir, 'train')\n",
        "labels = [] ; texts = []\n",
        "\n",
        "for label_type in ['neg', 'pos']:\n",
        "  dir_name = os.path.join(train_dir, label_type)\n",
        "  for fname in os.listdir(dir_name):\n",
        "    if fname[-4:] == '.txt':\n",
        "      f = open(os.path.join(dir_name, fname), encoding='utf8')\n",
        "      texts.append(f.read())\n",
        "      f.close()\n",
        "      if label_type == 'neg':\n",
        "        labels.append(0)\n",
        "      else:\n",
        "        labels.append(1)"
      ],
      "execution_count": 0,
      "outputs": []
    },
    {
      "cell_type": "code",
      "metadata": {
        "id": "csdswI_P1QPw",
        "colab_type": "code",
        "colab": {
          "base_uri": "https://localhost:8080/",
          "height": 109
        },
        "outputId": "5179f717-e24f-4608-d486-ac856d69d037"
      },
      "source": [
        "# Data 확인\n",
        "# 직접 작성\n",
        "\n",
        "print('texts 0:', texts[0]) \n",
        "print('texts len:', len(texts))\n",
        "print('labels 0:', labels[0]) \n",
        "print('labels len:', len(labels))"
      ],
      "execution_count": 5,
      "outputs": [
        {
          "output_type": "stream",
          "text": [
            "texts 0: Story of a man who has unnatural feelings for a pig. Starts out with a opening scene that is a terrific example of absurd comedy. A formal orchestra audience is turned into an insane, violent mob by the crazy chantings of it's singers. Unfortunately it stays absurd the WHOLE time with no general narrative eventually making it just too off putting. Even those from the era should be turned off. The cryptic dialogue would make Shakespeare seem easy to a third grader. On a technical level it's better than you might think with some good cinematography by future great Vilmos Zsigmond. Future stars Sally Kirkland and Frederic Forrest can be seen briefly.\n",
            "texts len: 60\n",
            "labels 0: 0\n",
            "labels len: 60\n"
          ],
          "name": "stdout"
        }
      ]
    },
    {
      "cell_type": "code",
      "metadata": {
        "id": "CnfO59ND2CF9",
        "colab_type": "code",
        "colab": {
          "base_uri": "https://localhost:8080/",
          "height": 35
        },
        "outputId": "4a7db30a-ed40-496d-b908-cba5db080ed5"
      },
      "source": [
        "# Data Tokenizing\n",
        "# 텍스트에 사용된 단어의 종류를 빈도 순으로 정렬하는 작업을 수행한다\n",
        "# 직접 작성\n",
        "\n",
        "# 텍스트에 사용된 단어의 종류를 빈도 순으로 정렬하는 작업을 수행한다 \n",
        "from keras.preprocessing.text import Tokenizer \n",
        "from keras.preprocessing.sequence import pad_sequences \n",
        "import numpy as np \n",
        "import math\n",
        "\n",
        "validation_ratio = math.floor(len(texts) * 0.3)  # 검증 샘플은 전체의 30%로 한다 \n",
        "max_words = 10000               # 데이터셋에서 가장 빈도 높은 10,000 개의 단어만 사용한다 \n",
        "maxlen = 200 # 항상 각 문장의 길이가 200 단어가 되도록 고정한다\n",
        "\n",
        "tokenizer = Tokenizer(num_words=max_words) # 상위빈도 10,000 개의 단어만을 추려내는 Tokenizer 객체 생성 \n",
        "tokenizer.fit_on_texts(texts)     # 단어 인덱스를 구축한다 \n",
        "word_index = tokenizer.word_index # 단어 인덱스만 가져온다"
      ],
      "execution_count": 6,
      "outputs": [
        {
          "output_type": "stream",
          "text": [
            "Using TensorFlow backend.\n"
          ],
          "name": "stderr"
        }
      ]
    },
    {
      "cell_type": "code",
      "metadata": {
        "id": "x9A8kRjB2o5B",
        "colab_type": "code",
        "colab": {
          "base_uri": "https://localhost:8080/",
          "height": 91
        },
        "outputId": "87261b4d-b0e2-4be6-ca26-178247e25a74"
      },
      "source": [
        "# Tokenizing 결과 확인\n",
        "print('전체에서 %s개의 고유한 토큰을 찾았습니다.' % len(word_index))\n",
        "print('word_index type: ', type(word_index))\n",
        "print('word_index: ', word_index)"
      ],
      "execution_count": 7,
      "outputs": [
        {
          "output_type": "stream",
          "text": [
            "전체에서 2828개의 고유한 토큰을 찾았습니다.\n",
            "word_index type:  <class 'dict'>\n",
            "word_index:  {'the': 1, 'and': 2, 'a': 3, 'of': 4, 'to': 5, 'br': 6, 'is': 7, 'in': 8, 'i': 9, 'this': 10, 'it': 11, 'that': 12, 'for': 13, 'film': 14, 'was': 15, 'are': 16, 'with': 17, 'but': 18, 'movie': 19, 'as': 20, 'you': 21, 'not': 22, 'at': 23, 'he': 24, 'on': 25, 'be': 26, 'one': 27, 'have': 28, 'an': 29, 'all': 30, 'his': 31, 'like': 32, 'good': 33, 'has': 34, 'or': 35, 'some': 36, 'just': 37, 'so': 38, 'even': 39, 'who': 40, 'by': 41, 'my': 42, 'story': 43, 'about': 44, 'from': 45, 'out': 46, 'time': 47, 'when': 48, \"it's\": 49, 'they': 50, 'very': 51, 'no': 52, 'really': 53, 'if': 54, 'acting': 55, 'there': 56, 'every': 57, 'him': 58, 'most': 59, 'more': 60, 'ever': 61, 'great': 62, 'other': 63, 'people': 64, 'how': 65, 'also': 66, 'her': 67, 'too': 68, 'would': 69, 'their': 70, 'your': 71, 'bad': 72, 'made': 73, 'what': 74, 'she': 75, 'stanley': 76, 'can': 77, 'had': 78, 'me': 79, 'make': 80, 'plot': 81, 'read': 82, 'only': 83, 'characters': 84, 'will': 85, 'up': 86, 'character': 87, 'love': 88, 'well': 89, 'into': 90, 'movies': 91, 'any': 92, 'director': 93, 'these': 94, 'red': 95, 'actors': 96, 'here': 97, 'first': 98, 'do': 99, 'iris': 100, 'many': 101, 'such': 102, 'after': 103, \"don't\": 104, 'see': 105, 'should': 106, 'were': 107, 'then': 108, 'two': 109, 'which': 110, 'its': 111, 'we': 112, 'again': 113, \"can't\": 114, 'think': 115, 'say': 116, 'been': 117, 'over': 118, 'does': 119, 'life': 120, 'cast': 121, 'giallo': 122, 'seen': 123, 'could': 124, 'much': 125, 'way': 126, 'though': 127, 'find': 128, 'least': 129, 'watching': 130, 'yet': 131, 'films': 132, 'interesting': 133, \"he's\": 134, 'family': 135, 'never': 136, 'because': 137, 'times': 138, 'makes': 139, 'real': 140, 'job': 141, 'scene': 142, 'better': 143, 'than': 144, 'end': 145, 'line': 146, 'new': 147, 'them': 148, 'before': 149, 'still': 150, 'jane': 151, '10': 152, 'high': 153, 'fonda': 154, 'walken': 155, 'queen': 156, 'pretty': 157, 'nothing': 158, 'watch': 159, 'overall': 160, 'seeing': 161, 'production': 162, 'get': 163, 'another': 164, 'know': 165, 'our': 166, 'where': 167, 'camera': 168, 'through': 169, 'robert': 170, 'enough': 171, 'style': 172, 'came': 173, \"isn't\": 174, 'work': 175, 'go': 176, 'score': 177, 'each': 178, 'man': 179, 'whole': 180, 'off': 181, 'effects': 182, 'far': 183, 'feel': 184, 'beautiful': 185, 'violence': 186, 'why': 187, 'role': 188, 'being': 189, 'minutes': 190, 'script': 191, 'lines': 192, 'terrible': 193, 'school': 194, 'young': 195, 'seven': 196, 'while': 197, 'few': 198, 'said': 199, 'need': 200, 'recommend': 201, 'both': 202, 'bit': 203, 'money': 204, 'down': 205, 'almost': 206, \"didn't\": 207, 'art': 208, 'thing': 209, 'ending': 210, 'genre': 211, 'world': 212, 'human': 213, 'horror': 214, 'working': 215, 'those': 216, 'already': 217, 'same': 218, 'action': 219, 'write': 220, 'home': 221, 'others': 222, 'reason': 223, 'left': 224, \"there's\": 225, \"i'm\": 226, 'house': 227, 'done': 228, 'saw': 229, 'night': 230, 'actually': 231, 'part': 232, 'understand': 233, 'deniro': 234, 'excellent': 235, 'madsen': 236, 'take': 237, 'without': 238, 'hard': 239, 'seems': 240, 'show': 241, 'performances': 242, 'something': 243, 'written': 244, 'although': 245, 'de': 246, 'niro': 247, 'tale': 248, 'memorable': 249, 'bromwell': 250, 'italian': 251, 'kills': 252, 'evelyn': 253, 'making': 254, 'might': 255, 'used': 256, 'fact': 257, 'however': 258, 'away': 259, 'let': 260, 'imdb': 261, 'watched': 262, 'performance': 263, 'hot': 264, 'title': 265, 'worst': 266, 'give': 267, 'cannot': 268, 'put': 269, 'type': 270, 'society': 271, 'going': 272, 'mean': 273, 'given': 274, 'now': 275, 'course': 276, 'illiterate': 277, 'unbelievable': 278, \"doesn't\": 279, 'waste': 280, 'hollywood': 281, 'later': 282, 'probably': 283, 'sound': 284, 'place': 285, 'instead': 286, 'ok': 287, 'years': 288, 'best': 289, 'quite': 290, 'must': 291, '1972': 292, 'fan': 293, 'low': 294, 'always': 295, 'gun': 296, 'care': 297, 'cinema': 298, 'black': 299, 'novel': 300, \"film's\": 301, 'illiteracy': 302, 'original': 303, 'drama': 304, 'special': 305, \"iris'\": 306, 'bouchet': 307, 'feelings': 308, 'unfortunately': 309, 'seem': 310, 'level': 311, 'future': 312, 'boring': 313, 'looks': 314, 'drug': 315, 'save': 316, 'lot': 317, 'annoying': 318, 'decent': 319, 'thought': 320, 'poorly': 321, 'everything': 322, 'three': 323, 'believe': 324, 'us': 325, '3': 326, 'want': 327, 'war': 328, 'become': 329, 'supporting': 330, 'shot': 331, 'arnold': 332, 'wonder': 333, 'guess': 334, 'music': 335, 'totally': 336, '2': 337, 'favorite': 338, 'kind': 339, 'beginning': 340, 'back': 341, 'looking': 342, 'worth': 343, 'tells': 344, 'things': 345, 'perfect': 346, 'father': 347, \"you'll\": 348, 'ask': 349, 'happy': 350, 'found': 351, 'rape': 352, 'got': 353, 'often': 354, 'did': 355, 'come': 356, 'simply': 357, 'needs': 358, 'gets': 359, 'face': 360, 'may': 361, 'sub': 362, 'little': 363, 'nice': 364, \"won't\": 365, 'gives': 366, 'rather': 367, 'stories': 368, 'class': 369, 'unique': 370, 'sex': 371, 'factory': 372, 'teachers': 373, 'personal': 374, 'relations': 375, 'daughter': 376, 'sister': 377, 'year': 378, 'christopher': 379, 'puss': 380, 'female': 381, 'barbara': 382, 'murders': 383, 'example': 384, 'general': 385, 'stars': 386, 'drugs': 387, 'techniques': 388, 'actresses': 389, 'poor': 390, 'subject': 391, 'serious': 392, 'funny': 393, 'possibly': 394, 'believable': 395, 'clearly': 396, 'wanted': 397, 'feeling': 398, 'second': 399, 'parts': 400, 'girls': 401, 'own': 402, 'anything': 403, 'truly': 404, 'earth': 405, 'living': 406, 'reality': 407, 'tell': 408, 'friends': 409, 'awkward': 410, 'editing': 411, 'effect': 412, 'appears': 413, 'gave': 414, 'goes': 415, 'tristan': 416, 'price': 417, 'himself': 418, \"fonda's\": 419, 'turkish': 420, 'big': 421, 'names': 422, 'experience': 423, 'american': 424, 'vosloo': 425, 'directing': 426, 'trying': 427, 'case': 428, 'leaves': 429, 'michael': 430, '1': 431, \"i've\": 432, \"couldn't\": 433, 'perhaps': 434, 'generally': 435, 'fast': 436, 'around': 437, 'main': 438, 'couple': 439, 'women': 440, \"you're\": 441, 'male': 442, 'someone': 443, 'effort': 444, 'either': 445, 'says': 446, 'star': 447, 'took': 448, 'anyone': 449, 'piece': 450, 'move': 451, 'stylish': 452, 'sense': 453, 'chace': 454, 'scenes': 455, 'viewer': 456, 'fighting': 457, 'post': 458, 'help': 459, 'viewers': 460, 'mostly': 461, 'true': 462, \"barker's\": 463, 'hope': 464, 'romance': 465, 'age': 466, 'picture': 467, 'doing': 468, '4': 469, 'enjoyable': 470, 'heart': 471, 'children': 472, 'adult': 473, 'industrial': 474, 'references': 475, 'workers': 476, 'husband': 477, 'beauty': 478, 'traditionally': 479, 'public': 480, 'among': 481, 'suddenly': 482, 'fun': 483, 'brilliant': 484, 'emilio': 485, 'kitty': 486, 'gorgeous': 487, 'grave': 488, 'songs': 489, 'dancing': 490, 'gothic': 491, 'incredibly': 492, 'theatre': 493, 'starts': 494, 'comedy': 495, 'audience': 496, 'cinematography': 497, 'redeeming': 498, 'self': 499, 'thrown': 500, 'use': 501, 'issues': 502, 'check': 503, 'vinnie': 504, 'writers': 505, 'lots': 506, \"i'd\": 507, 'wasted': 508, 'look': 509, 'corey': 510, 'information': 511, 'playing': 512, 'sebastian': 513, 'loaded': 514, 'sure': 515, 'seemed': 516, 'predictable': 517, 'writer': 518, 'terribly': 519, 'name': 520, 'released': 521, 'worse': 522, 'days': 523, 'enjoy': 524, '5': 525, 'amount': 526, 'woman': 527, 'talents': 528, 'person': 529, 'else': 530, 'dvd': 531, 'interested': 532, 'suck': 533, 'thinking': 534, 'edward': 535, 'furlong': 536, 'budget': 537, 'everybody': 538, 'heard': 539, 'mr': 540, 'day': 541, 'mention': 542, 'amateur': 543, 'english': 544, 'reading': 545, 'having': 546, 'looked': 547, 'shy': 548, 'fake': 549, '20': 550, 'crap': 551, 'skill': 552, 'tried': 553, 'direction': 554, 'sounded': 555, 'weird': 556, 'lets': 557, 'positive': 558, 'laugh': 559, \"that's\": 560, 'law': 561, \"aren't\": 562, 'appear': 563, 'storyline': 564, 'slow': 565, 'takes': 566, 'definitely': 567, 'period': 568, 'pure': 569, 'early': 570, 'images': 571, 'becomes': 572, 'am': 573, 'considering': 574, 'enjoyed': 575, 'colors': 576, 'less': 577, 'sometimes': 578, 'yourself': 579, 'source': 580, 'oh': 581, 'god': 582, 'yes': 583, \"i'll\": 584, 'killing': 585, 'master': 586, 'contrived': 587, 'stupid': 588, 'unless': 589, 'last': 590, 'window': 591, 'knows': 592, 'hair': 593, 'masterpiece': 594, 'idea': 595, 'exercise': 596, 'opinion': 597, 'lives': 598, 'means': 599, 'hitchcock': 600, 'especially': 601, 'europe': 602, 'germany': 603, 'mixed': 604, 'lack': 605, 'emotional': 606, 'giving': 607, 'liked': 608, 'adaptation': 609, 'union': 610, 'street': 611, 'felt': 612, 'top': 613, 'sensitive': 614, 'convincing': 615, 'potential': 616, \"wasn't\": 617, 'attention': 618, \"wouldn't\": 619, 'average': 620, 'mess': 621, 'stage': 622, 'completely': 623, 'john': 624, 'williams': 625, 'small': 626, 'unable': 627, 'dead': 628, 'teaching': 629, 'lead': 630, 'students': 631, 'student': 632, 'classic': 633, 'adults': 634, 'difficult': 635, 'teenage': 636, 'complex': 637, 'system': 638, 'worker': 639, 'therefore': 640, 'cares': 641, \"she's\": 642, 'realm': 643, 'literacy': 644, 'haunting': 645, 'musical': 646, 'magic': 647, 'screen': 648, 'regarding': 649, 'afraid': 650, 'tenderness': 651, 'overwhelming': 652, 'strong': 653, 'begins': 654, 'forward': 655, 'singing': 656, 'boots': 657, 'south': 658, 'keisha': 659, 'ogre': 660, 'roles': 661, 'widow': 662, 'dance': 663, 'unlike': 664, 'importance': 665, 'middle': 666, 'lovely': 667, \"miraglia's\": 668, 'mesmerizing': 669, 'killer': 670, 'uncanny': 671, 'lady': 672, 'herrings': 673, 'greatest': 674, 'sybil': 675, 'danning': 676, 'elements': 677, 'indeed': 678, 'frightening': 679, 'gialli': 680, 'cat': 681, 'corin': 682, 'creepy': 683, 'atmosphere': 684, 'castle': 685, 'pig': 686, 'terrific': 687, 'absurd': 688, 'orchestra': 689, 'turned': 690, 'insane': 691, 'crazy': 692, 'stays': 693, 'era': 694, 'easy': 695, 'quality': 696, 'portrays': 697, 'individual': 698, 'unfortunate': 699, 'thus': 700, 'convoluted': 701, 'attractive': 702, 'final': 703, 'gunfight': 704, \"'bad'\": 705, 'void': 706, 'seriously': 707, 'note': 708, 'delivered': 709, 'jones': 710, 'vile': 711, 'expected': 712, 'resolution': 713, 'alas': 714, \"large's\": 715, 'apparently': 716, 'called': 717, 'named': 718, 'cole': 719, 'points': 720, 'weak': 721, 'actress': 722, 'added': 723, 'murder': 724, 'soundtrack': 725, 'conflicts': 726, 'ultimately': 727, 'five': 728, 'thru': 729, 'happened': 730, 'horrific': 731, 'considered': 732, 'brought': 733, 'disgusting': 734, 'types': 735, 'taste': 736, 'happen': 737, 'sequence': 738, 'cheesy': 739, 'jump': 740, 'cuts': 741, 'cut': 742, 'specific': 743, 'disturbing': 744, 'somewhat': 745, 'grab': 746, 'swallow': 747, 'needed': 748, 'form': 749, 'torture': 750, 'abroad': 751, 'keep': 752, 'trust': 753, 'stop': 754, 'please': 755, 'endure': 756, 'wish': 757, 'pace': 758, 'straight': 759, 'graduation': 760, 'celebration': 761, 'jesse': 762, 'metcalfe': 763, 'substances': 764, 'april': 765, 'nathalie': 766, 'kelley': 767, 'aspect': 768, 'able': 769, 'plays': 770, 'intelligent': 771, 'talent': 772, 'dialog': 773, 'herself': 774, 'moves': 775, 'ill': 776, 'manner': 777, 'book': 778, 'equally': 779, 'rule': 780, 'ten': 781, 'review': 782, 'require': 783, 'text': 784, 'avoid': 785, 'decide': 786, 'finally': 787, 'credits': 788, 'wait': 789, 'literally': 790, 'america': 791, 'crew': 792, 'further': 793, 'international': 794, 'writing': 795, 'produce': 796, 'bottom': 797, 'present': 798, 'rented': 799, 'knowledge': 800, 'forget': 801, 'shame': 802, 'dialogs': 803, 'native': 804, 'speakers': 805, 'play': 806, 'awful': 807, 'appreciate': 808, 'actor': 809, 'ago': 810, 'sleep': 811, 'plus': 812, 'side': 813, 'ability': 814, 'failure': 815, 'teeth': 816, 'dimensional': 817, 'ball': 818, 'guns': 819, 'fired': 820, 'video': 821, 'member': 822, 'girl': 823, 'shouting': 824, 'f': 825, 'extremely': 826, 'mark': 827, 'son': 828, 'reputation': 829, 'settings': 830, 'expectations': 831, 'except': 832, \"tristan's\": 833, 'leave': 834, 'result': 835, 'past': 836, 'event': 837, 'ways': 838, 'large': 839, 'against': 840, 'constant': 841, 'tricks': 842, 'motion': 843, 'perspective': 844, 'random': 845, 'cheap': 846, 'despite': 847, 'relative': 848, 'respect': 849, \"we'll\": 850, 'bigger': 851, 'based': 852, 'scores': 853, 'incredible': 854, 'comment': 855, 'buying': 856, 'renting': 857, 'free': 858, '1969': 859, 'date': 860, 'late': 861, '70s': 862, 'distorted': 863, 'using': 864, 'different': 865, 'accompanied': 866, 'sort': 867, 'obviously': 868, 'quickly': 869, 'total': 870, 'bore': 871, 'recent': 872, 'town': 873, 'background': 874, 'desired': 875, 'lousy': 876, 'otherwise': 877, 'unnecessary': 878, 'continuity': 879, 'drive': 880, 'spot': 881, 'full': 882, 'eye': 883, 'sole': 884, 'usually': 885, 'degree': 886, 'damn': 887, \"shouldn't\": 888, 'coffeshop': 889, 'requires': 890, 'begin': 891, 'standard': 892, 'honestly': 893, 'expect': 894, 'questions': 895, 'hallmark': 896, 'executed': 897, 'neither': 898, 'involved': 899, 'mediocre': 900, 'flick': 901, 'par': 902, 'masterpieces': 903, 'thriller': 904, 'includes': 905, 'warn': 906, 'account': 907, 'express': 908, 'costs': 909, 'bored': 910, 'anymore': 911, 'shattered': 912, 'spare': 913, 'half': 914, 'assed': 915, 'christ': 916, 'catch': 917, 'truth': 918, 'anger': 919, 'word': 920, 'stay': 921, 'indifferent': 922, 'van': 923, 'consider': 924, 'loved': 925, 'theatrical': 926, 'famous': 927, 'language': 928, 'survive': 929, 'immediately': 930, 'white': 931, 'vanquished': 932, 'victims': 933, 'ambiguous': 934, 'change': 935, 'today': 936, 'set': 937, 'british': 938, 'spies': 939, 'german': 940, 'trains': 941, 'symbol': 942, 'intensity': 943, 'train': 944, 'classical': 945, 'guys': 946, 'principal': 947, 'willing': 948, 'destruction': 949, 'path': 950, 'actions': 951, 'moments': 952, 'demonstrative': 953, 'try': 954, 'alone': 955, 'horrible': 956, 'insightful': 957, 'hour': 958, 'claim': 959, 'flicks': 960, 'pat': 961, \"'union\": 962, \"street'\": 963, 'fails': 964, 'angle': 965, 'england': 966, 'inspiring': 967, 'accept': 968, 'tales': 969, 'leading': 970, 'protagonists': 971, 'issue': 972, 'lost': 973, 'covered': 974, 'entertainment': 975, 'motives': 976, 'fetched': 977, 'setting': 978, \"what's\": 979, 'behavior': 980, 'kids': 981, 'paying': 982, 'wants': 983, 'political': 984, 'hand': 985, 'flaws': 986, 'stuff': 987, 'filmed': 988, 'uses': 989, '50': 990, 'nearly': 991, 'single': 992, 'produced': 993, \"haven't\": 994, 'arrangement': 995, 'absence': 996, 'refreshing': 997, 'waterbury': 998, 'locale': 999, 'lush': 1000, 'resulted': 1001, 'bring': 1002, 'mainstream': 1003, 'ordinary': 1004, 'itself': 1005, 'wondered': 1006, 'version': 1007, 'successfully': 1008, 'efforts': 1009, 'right': 1010, 'situation': 1011, 'episode': 1012, 'hell': 1013, 'fine': 1014, 'superb': 1015, 'problems': 1016, 'return': 1017, 'nudity': 1018, 'marriage': 1019, 'wise': 1020, 'portrayal': 1021, 'theme': 1022, 'touching': 1023, 'fordist': 1024, 'assembly': 1025, 'loses': 1026, 'drops': 1027, 'brother': 1028, 'abusive': 1029, 'wife': 1030, 'beer': 1031, 'leaving': 1032, 'conventional': 1033, 'whose': 1034, 'presumably': 1035, 'outside': 1036, 'capitalism': 1037, 'conform': 1038, 'everyone': 1039, 'technology': 1040, 'creative': 1041, 'bauhaus': 1042, 'dream': 1043, 'access': 1044, 'monetary': 1045, 'vehicular': 1046, 'participation': 1047, 'open': 1048, 'social': 1049, 'books': 1050, 'bible': 1051, 'once': 1052, 'plan': 1053, 'studio': 1054, 'moved': 1055, 'highly': 1056, 'recommended': 1057, 'caught': 1058, 'outstanding': 1059, 'turn': 1060, 'plimpton': 1061, 'etc': 1062, 'areas': 1063, 'adventure': 1064, 'u': 1065, 'imagine': 1066, 'reasons': 1067, 'becoming': 1068, 'apart': 1069, 'fabulous': 1070, 'surprise': 1071, 'fairy': 1072, 'king': 1073, 'remember': 1074, 'typical': 1075, 'child': 1076, 'natella': 1077, 'latrina': 1078, 'nervous': 1079, 'wall': 1080, 'praise': 1081, 'deeper': 1082, 'courage': 1083, 'together': 1084, 'skills': 1085, 'lacking': 1086, 'kitchen': 1087, 'absolute': 1088, 'gory': 1089, 'old': 1090, 'revenge': 1091, 'macabre': 1092, 'grandfather': 1093, 'victim': 1094, 'fourteen': 1095, 'successful': 1096, 'recently': 1097, 'compelling': 1098, 'involving': 1099, 'behind': 1100, 'gruesome': 1101, 'miraglia': 1102, 'concerning': 1103, 'sisters': 1104, 'figure': 1105, 'earlier': 1106, 'fashion': 1107, 'necessary': 1108, 'bruno': 1109, \"walken's\": 1110, 'dancer': 1111, 'jason': 1112, \"children's\": 1113, 'kid': 1114, 'eyes': 1115, \"weren't\": 1116, \"miller's\": 1117, 'falls': 1118, 'vera': 1119, 'fairytales': 1120, 'spine': 1121, 'chilling': 1122, 'genuinely': 1123, 'ravishing': 1124, 'stunningly': 1125, 'elegant': 1126, 'painting': 1127, 'fiendish': 1128, 'gem': 1129, 'laughter': 1130, 'sexy': 1131, 'imaginable': 1132, 'shows': 1133, 'preserved': 1134, 'broadway': 1135, 'deeply': 1136, 'gay': 1137, 'blue': 1138, 'collar': 1139, 'unnatural': 1140, 'opening': 1141, 'formal': 1142, 'violent': 1143, 'mob': 1144, 'chantings': 1145, 'singers': 1146, 'narrative': 1147, 'eventually': 1148, 'putting': 1149, 'cryptic': 1150, 'dialogue': 1151, 'shakespeare': 1152, 'third': 1153, 'grader': 1154, 'technical': 1155, 'vilmos': 1156, 'zsigmond': 1157, 'sally': 1158, 'kirkland': 1159, 'frederic': 1160, 'forrest': 1161, 'briefly': 1162, 'b': 1163, 'grade': 1164, 'slop': 1165, 'spoken': 1166, 'realistic': 1167, 'representation': 1168, 'subsequent': 1169, 'spiral': 1170, 'perpetuation': 1171, 'state': 1172, 'events': 1173, 'mentioned': 1174, 'overused': 1175, 'unconvincing': 1176, 'irrelevant': 1177, 'concerned': 1178, 'lacklustre': 1179, 'unimaginative': 1180, 'implausible': 1181, 'reports': 1182, 'granted': 1183, 'confronted': 1184, 'carry': 1185, 'intermittent': 1186, 'punches': 1187, 'towards': 1188, 'revel': 1189, 'furthermore': 1190, 'educational': 1191, 'scare': 1192, 'number': 1193, 'board': 1194, 'effective': 1195, \"'requiem\": 1196, \"dream'\": 1197, \"'trainspotting'\": 1198, \"'fear\": 1199, 'loathing': 1200, 'las': 1201, \"vegas'\": 1202, \"'candy'\": 1203, 'examples': 1204, 'lighthearted': 1205, \"'go'\": 1206, \"'halfbaked'\": 1207, 'stolen': 1208, \"'lock\": 1209, 'stock': 1210, 'smokling': 1211, \"barrels'\": 1212, 'tainted': 1213, \"'loaded'\": 1214, 'strongly': 1215, 'suggest': 1216, 'promise': 1217, 'relatively': 1218, 'editors': 1219, 'wooden': 1220, 'edited': 1221, 'learnt': 1222, 'edit': 1223, 'splash': 1224, 'quick': 1225, \"'flashy'\": 1226, 'edits': 1227, 'meant': 1228, 'symbolic': 1229, 'breakdown': 1230, 'equilibrium': 1231, 'makers': 1232, 'reload': 1233, 'june': 1234, \"'08\": 1235, 'crappy': 1236, 'earn': 1237, 'sequel': 1238, 'killed': 1239, 'wee': 1240, 'hours': 1241, 'morning': 1242, 'battling': 1243, 'insomnia': 1244, 'drifting': 1245, 'missed': 1246, 'stronger': 1247, 'surprised': 1248, 'commenting': 1249, 'since': 1250, 'brooke': 1251, 'exceptional': 1252, 'semi': 1253, 'fictionalizing': 1254, 'screw': 1255, 'ups': 1256, 'incredulous': 1257, 'fantasies': 1258, 'rap': 1259, 'acted': 1260, 'stereotypical': 1261, 'lists': 1262, '2007': 1263, '2008': 1264, 'showtime': 1265, 'listed': 1266, 'synopsis': 1267, 'halfway': 1268, 'realized': 1269, 'undercover': 1270, 'cop': 1271, 'tho': 1272, 'stereotype': 1273, 'beats': 1274, 'retire': 1275, 'trophy': 1276, 'comparison': 1277, 'insanely': 1278, 'created': 1279, 'existence': 1280, 'question': 1281, 'whether': 1282, 'humans': 1283, 'disgusted': 1284, 'ourselves': 1285, 'progress': 1286, 'species': 1287, 'universe': 1288, 'sincerely': 1289, 'hurts': 1290, 'ashamed': 1291, 'emphasize': 1292, 'global': 1293, 'responsibility': 1294, 'creating': 1295, 'prevent': 1296, 'creation': 1297, 'gross': 1298, 'distortions': 1299, 'embarrassment': 1300, 'sleeps': 1301, 'knowing': 1302, 'monsters': 1303, 'shark': 1304, 'attack': 1305, 'hilarious': 1306, 'crosses': 1307, 'dimension': 1308, 'death': 1309, 'shamelessly': 1310, 'sickening': 1311, 'point': 1312, 'shaky': 1313, 'buzz': 1314, 'rush': 1315, 'swerve': 1316, 'fancy': 1317, 'meticulously': 1318, 'repetitive': 1319, 'tortures': 1320, 'excrement': 1321, 'personally': 1322, 'shoulders': 1323, 'shake': 1324, 'submission': 1325, 'demanding': 1326, 'run': 1327, 'gallons': 1328, 'drain': 1329, 'o': 1330, 'inhumane': 1331, 'prisoners': 1332, 'showing': 1333, 'padded': 1334, 'cell': 1335, 'extravagant': 1336, 'suicide': 1337, 'methods': 1338, '72nd': 1339, 'sitting': 1340, 'facets': 1341, 'finishing': 1342, 'wishes': 1343, 'refund': 1344, 'spent': 1345, '15': 1346, 'laced': 1347, 'controlled': 1348, 'complete': 1349, 'spinelessness': 1350, 'irresponsibility': 1351, 'rapid': 1352, 'privilege': 1353, 'culture': 1354, 'allows': 1355, 'seduced': 1356, 'mind': 1357, 'altering': 1358, 'understandable': 1359, 'observing': 1360, 'penny': 1361, 'pound': 1362, 'dedication': 1363, 'met': 1364, 'impossible': 1365, 'frankly': 1366, 'besides': 1367, 'stare': 1368, 'monica': 1369, 'keena': 1370, 'qualities': 1371, 'unbelievably': 1372, 'wasteful': 1373, 'caricature': 1374, \"snail's\": 1375, 'photographed': 1376, 'advised': 1377, 'insufferably': 1378, 'preachy': 1379, 'plugs': 1380, 'cliche': 1381, 'swoozie': 1382, 'kurtz': 1383, 'requiring': 1384, 'worthless': 1385, 'readers': 1386, 'tape': 1387, 'tough': 1388, 'bear': 1389, 'roll': 1390, 'tought': 1391, \"'we\": 1392, 'turks': 1393, 'insult': 1394, 'heist': 1395, 'hostage': 1396, \"'\": 1397, 'checked': 1398, 'contrary': 1399, 'persuade': 1400, 'micheal': 1401, 'project': 1402, 'kept': 1403, 'raise': 1404, 'offer': 1405, 'supposedly': 1406, 'meditation': 1407, 'paid': 1408, 'answer': 1409, 'hiring': 1410, 'cheapest': 1411, 'equipment': 1412, 'difficulty': 1413, 'adjustin': 1414, 'vice': 1415, 'versa': 1416, 'anxious': 1417, 'meditate': 1418, 'outthere': 1419, 'affect': 1420, 'disbelief': 1421, 'prior': 1422, 'suspicious': 1423, 'appearing': 1424, 'freebie': 1425, 'blonde': 1426, 'taken': 1427, 'flood': 1428, 'non': 1429, 'sounds': 1430, 'deserves': 1431, 'summary': 1432, 'terminator': 1433, 'deprived': 1434, 'offense': 1435, 'test': 1436, 'demanded': 1437, 'next': 1438, 'bought': 1439, 'sink': 1440, 'act': 1441, 'ass': 1442, 'allow': 1443, 'noise': 1444, 'paint': 1445, 'skirmish': 1446, 'game': 1447, 'bloke': 1448, 'robbery': 1449, 'gang': 1450, 'whining': 1451, 'voice': 1452, 'k': 1453, 'seconds': 1454, 'whoo': 1455, 'hoo': 1456, 'dumb': 1457, 'bounce': 1458, \"who's\": 1459, 'outweigh': 1460, 'rarely': 1461, 'traumatic': 1462, 'shook': 1463, 'partially': 1464, 'revealed': 1465, 'flashbacks': 1466, 'spelled': 1467, 'until': 1468, 'claustrophobic': 1469, 'environment': 1470, 'causes': 1471, 'loose': 1472, 'extreme': 1473, 'possible': 1474, 'opportunity': 1475, 'strip': 1476, 'club': 1477, 'celebrate': 1478, 'soon': 1479, 'follows': 1480, 'strippers': 1481, 'beach': 1482, 'party': 1483, 'befriends': 1484, 'pulls': 1485, 'dealing': 1486, 'underworld': 1487, 'technically': 1488, 'suffers': 1489, 'lackluster': 1490, 'engaging': 1491, 'counting': 1492, 'freeze': 1493, 'frames': 1494, 'echos': 1495, 'normally': 1496, 'utilize': 1497, \"character's\": 1498, 'sporadically': 1499, 'tossed': 1500, 'attempt': 1501, 'unknowns': 1502, 'notably': 1503, 'antagonist': 1504, 'suspect': 1505, 'projects': 1506, 'mentioning': 1507, 'rating': 1508, 'hotness': 1509, '11': 1510, 'distract': 1511, 'sit': 1512, 'national': 1513, 'preservation': 1514, 'foundation': 1515, 'regardless': 1516, 'exact': 1517, 'indicative': 1518, 'pop': 1519, 'stylings': 1520, '60s': 1521, 'consists': 1522, 'simple': 1523, 'absolutely': 1524, 'intended': 1525, 'tiresome': 1526, 'bluntly': 1527, 'appeal': 1528, 'hip': 1529, 'understood': 1530, 'mortals': 1531, 'appreciation': 1532, 'college': 1533, 'abandoned': 1534, 'traffic': 1535, 'lookie': 1536, 'loos': 1537, 'chalk': 1538, 'viewable': 1539, 'brutal': 1540, 'shoot': 1541, 'glitches': 1542, 'overlookable': 1543, 'caliber': 1544, 'jackie': 1545, 'nine': 1546, 'psychedelic': 1547, 'pulsating': 1548, 'symmetric': 1549, 'abstract': 1550, 'frame': 1551, 'start': 1552, 'birds': 1553, 'silhouetted': 1554, 'cup': 1555, 'tea': 1556, '8½': 1557, 'long': 1558, 'congratulate': 1559, 'genius': 1560, 'approved': 1561, 'mate': 1562, 'cost': 1563, 'intention': 1564, 'bucks': 1565, 'filming': 1566, 'supermarket': 1567, 'ones': 1568, 'jon': 1569, 'keeyes': 1570, 'purpose': 1571, 'angles': 1572, 'messed': 1573, \"they're\": 1574, 'toilet': 1575, 'paper': 1576, 'comes': 1577, 'apparent': 1578, 'serving': 1579, 'doubt': 1580, 'badass': 1581, 'shootout': 1582, \"should've\": 1583, 'oblivion': 1584, \"'till\": 1585, 'stress': 1586, 'goers': 1587, 'vote': 1588, 'comprehensively': 1589, 'destructive': 1590, 'morale': 1591, 'clichés': 1592, 'entertained': 1593, 'mainstay': 1594, 'major': 1595, 'device': 1596, 'conflict': 1597, 'puts': 1598, 'waves': 1599, 'malicious': 1600, 'beings': 1601, 'pushes': 1602, \"someone's\": 1603, '90': 1604, 'conclusion': 1605, 'comforting': 1606, 'police': 1607, 'sirens': 1608, 'challenge': 1609, 'tired': 1610, 'hackneyed': 1611, 'formula': 1612, 'clever': 1613, 'personality': 1614, 'components': 1615, 'space': 1616, 'soul': 1617, 'trash': 1618, 'publicly': 1619, 'embarrassed': 1620, 'disservice': 1621, \"they've\": 1622, 'fanciful': 1623, 'vincent': 1624, 'mad': 1625, 'magician': 1626, 'realizes': 1627, 'vocational': 1628, 'sold': 1629, 'devise': 1630, 'avenging': 1631, 'wronged': 1632, 'scheme': 1633, 'fire': 1634, 'below': 1635, 'compared': 1636, 'patrick': 1637, \"o'neal\": 1638, 'mary': 1639, 'murphy': 1640, 'eva': 1641, 'gabor': 1642, 'jay': 1643, 'novello': 1644, 'nuff': 1645, 'filler': 1646, 'expand': 1647, 'sucks': 1648, 'moronic': 1649, 'deniz': 1650, \"akkaya's\": 1651, 'breasts': 1652, 'ruined': 1653, 'unneeded': 1654, 'garbage': 1655, 'rag': 1656, 'minimum': 1657, 'offal': 1658, 'compelled': 1659, 'create': 1660, 'discover': 1661, 'friggen': 1662, 'essay': 1663, 'assuming': 1664, 'release': 1665, 'afi': 1666, 'dallas': 1667, 'remaining': 1668, 'insulting': 1669, 'goof': 1670, 'shots': 1671, 'breaks': 1672, \"let's\": 1673, 'indicator': 1674, 'details': 1675, 'disappointing': 1676, 'expecting': 1677, 'shut': 1678, 'portray': 1679, 'dictating': 1680, 'gone': 1681, 'opposite': 1682, 'wrote': 1683, 'suite': 1684, 'failed': 1685, 'badly': 1686, 'credit': 1687, 'media': 1688, 'maintain': 1689, 'basically': 1690, 'skimmed': 1691, 'spots': 1692, 'crawford': 1693, 'threw': 1694, 'cuss': 1695, 'sentence': 1696, 'saying': 1697, 'cussing': 1698, 'flashy': 1699, 'shaking': 1700, 'headache': 1701, 'dramatic': 1702, 'lol': 1703, 'anyways': 1704, 'die': 1705, 'yeah': 1706, 'lars': 1707, \"trier's\": 1708, \"'breaking\": 1709, \"waves'\": 1710, \"'dancer\": 1711, \"night'\": 1712, 'admired': 1713, \"'dogville'\": 1714, 'dry': 1715, \"'europa'\": 1716, 'succeeded': 1717, 'success': 1718, 'european': 1719, 'oscar': 1720, 'foreign': 1721, 'explicit': 1722, 'extrovert': 1723, 'ambiguity': 1724, 'escape': 1725, 'treating': 1726, 'followed': 1727, 'victors': 1728, 'executioners': 1729, 'sides': 1730, 'survival': 1731, 'aftermath': 1732, 'catastrophic': 1733, 'nations': 1734, 'individuals': 1735, 'forever': 1736, 'disputes': 1737, 'courageous': 1738, 'decades': 1739, 'expression': 1740, 'fit': 1741, 'task': 1742, 'include': 1743, 'quotes': 1744, 'descending': 1745, 'directly': 1746, 'pre': 1747, 'brave': 1748, 'evil': 1749, 'crossing': 1750, 'speed': 1751, 'continent': 1752, 'dark': 1753, 'dramatism': 1754, 'sparkles': 1755, 're': 1756, 'birth': 1757, 'obsession': 1758, 'order': 1759, 'regulation': 1760, 'punctuality': 1761, 'civility': 1762, 'populate': 1763, 'spy': 1764, 'origin': 1765, 'coming': 1766, 'process': 1767, 'reconciliation': 1768, 'finds': 1769, 'corruption': 1770, 'liberators': 1771, 'oppressive': 1772, 'occupiers': 1773, 'resigned': 1774, 'fate': 1775, 'continue': 1776, 'doubtfully': 1777, 'treason': 1778, 'treatment': 1779, 'betrays': 1780, 'leopold': 1781, 'kessler': 1782, 'played': 1783, 'jean': 1784, 'marc': 1785, 'barr': 1786, 'confused': 1787, 'credibility': 1788, 'imitation': 1789, '30s': 1790, 'usage': 1791, 'color': 1792, 'majority': 1793, 'trier': 1794, 'artistic': 1795, 'filmmaker': 1796, 'capsule': 1797, 'zero': 1798, 'chemistry': 1799, 'ingenious': 1800, 'uncomfortably': 1801, 'drifts': 1802, 'map': 1803, 'handle': 1804, 'molasses': 1805, 'swift': 1806, 'adjective': 1807, 'excruciating': 1808, 'pacing': 1809, 'intent': 1810, 'uplifting': 1811, 'curing': 1812, 'bummer': 1813, 'planning': 1814, 'suffice': 1815, 'studying': 1816, 'horrendous': 1817, 'throughout': 1818, 'speaks': 1819, 'jog': 1820, 'unfortuntately': 1821, 'harrowing': 1822, 'northern': 1823, 'area': 1824, 'grabbed': 1825, 'hold': 1826, 'heartstrings': 1827, 'refused': 1828, 'weeks': 1829, 'finished': 1830, 'tears': 1831, 'repulsion': 1832, 'shock': 1833, 'sympathy': 1834, 'misery': 1835, 'depressing': 1836, 'utterly': 1837, 'gripping': 1838, 'dear': 1839, 'showered': 1840, 'layer': 1841, 'sweet': 1842, 'icing': 1843, 'sugar': 1844, 'condensed': 1845, 'touched': 1846, 'discarded': 1847, 'mass': 1848, 'viewing': 1849, '7': 1850, 'practical': 1851, 'content': 1852, 'essence': 1853, 'gut': 1854, 'darkness': 1855, 'rain': 1856, 'broken': 1857, 'windows': 1858, 'cardboard': 1859, 'graphically': 1860, 'described': 1861, 'stench': 1862, 'poverty': 1863, 'replaced': 1864, 'sunshine': 1865, 'houses': 1866, 'twinkling': 1867, \"william's\": 1868, 'positivity': 1869, \"'reality'\": 1870, 'advise': 1871, 'hesitate': 1872, 'preparing': 1873, \"'schindler's\": 1874, \"list'\": 1875, 'gangster': 1876, 'sebastians': 1877, 'worn': 1878, 'cliché': 1879, 'relationships': 1880, 'drawn': 1881, 'deal': 1882, 'permission': 1883, 'rebellious': 1884, 'upper': 1885, 'judging': 1886, 'backflashes': 1887, 'solid': 1888, 'socially': 1889, 'critic': 1890, 'focusing': 1891, 'cool': 1892, 'moment': 1893, 'reflect': 1894, 'forcing': 1895, 'along': 1896, 'breath': 1897, 'naturally': 1898, 'evolve': 1899, 'glorify': 1900, 'abuse': 1901, 'incorrect': 1902, 'managing': 1903, 'ruin': 1904, '6': 1905, 'decisions': 1906, 'huge': 1907, 'exaggerated': 1908, 'unexplainable': 1909, 'happens': 1910, 'storywise': 1911, '30': 1912, 'motions': 1913, 'shakes': 1914, 'forwards': 1915, 'smooth': 1916, 'tracks': 1917, 'musics': 1918, 'dumbest': 1919, 'rips': 1920, 'manages': 1921, 'afterthought': 1922, 'cant': 1923, 'nonsense': 1924, 'somebody': 1925, 'somewhere': 1926, \"'oh\": 1927, 'load': 1928, \"shite'\": 1929, 'call': 1930, 'downloading': 1931, 'illegally': 1932, 'trailer': 1933, 'download': 1934, 'painful': 1935, 'porno': 1936, 'premise': 1937, 'authentic': 1938, 'ct': 1939, 'collectors': 1940, 'item': 1941, 'passable': 1942, 'satisfy': 1943, 'grownups': 1944, 'hide': 1945, 'braininess': 1946, 'doctorate': 1947, 'yale': 1948, \"diniro's\": 1949, 'guy': 1950, 'loser': 1951, 'turns': 1952, \"jane's\": 1953, '1990': 1954, 'henry': 1955, 'ford': 1956, 'thomas': 1957, 'edison': 1958, 'handled': 1959, \"nobody's\": 1960, 'fool': 1961, 'mid': 1962, '90s': 1963, \"year's\": 1964, '2003': 1965, 'schmidt': 1966, 'stream': 1967, 'studios': 1968, 'adolescents': 1969, 'reserve': 1970, 'screens': 1971, 'multi': 1972, 'complexes': 1973, 'cartoon': 1974, 'ran': 1975, 'programs': 1976, '35': 1977, 'profession': 1978, \"high's\": 1979, 'satire': 1980, 'closer': 1981, 'scramble': 1982, 'financially': 1983, 'pathetic': 1984, \"teachers'\": 1985, 'pomp': 1986, 'pettiness': 1987, 'remind': 1988, 'schools': 1989, 'knew': 1990, 'repeatedly': 1991, 'burn': 1992, 'recalled': 1993, 'inspector': 1994, 'sack': 1995, 'welcome': 1996, 'pity': 1997, \"women's\": 1998, 'usual': 1999, 'visuals': 2000, 'photography': 2001, 'casting': 2002, 'winner': 2003, 'warming': 2004, 'overcome': 2005, \"stanley's\": 2006, 'learned': 2007, 'widower': 2008, 'bakery': 2009, 'meets': 2010, 'decides': 2011, 'teach': 2012, 'romantically': 2013, 'learns': 2014, 'chicago': 2015, 'marry': 2016, 'profanity': 2017, 'rare': 2018, \"today's\": 2019, 'round': 2020, 'hall': 2021, 'fame': 2022, 'sleeping': 2023, 'normal': 2024, 'rougher': 2025, 'learn': 2026, 'involves': 2027, 'honest': 2028, 'fairly': 2029, 'mild': 2030, 'explores': 2031, 'taylorist': 2032, 'modes': 2033, 'capitalist': 2034, 'treated': 2035, 'cogs': 2036, 'machine': 2037, 'overseen': 2038, 'managers': 2039, 'wielding': 2040, 'clipboards': 2041, 'controlling': 2042, 'exposed': 2043, 'firing': 2044, 'meet': 2045, 'criteria': 2046, 'supervisor': 2047, 'unspecified': 2048, 'mistake': 2049, 'destroys': 2050, 'families': 2051, 'send': 2052, 'nursing': 2053, 'dies': 2054, 'teen': 2055, 'mother': 2056, 'plant': 2057, 'declining': 2058, 'wages': 2059, 'partners': 2060, 'implication': 2061, 'nobody': 2062, 'illness': 2063, 'multiple': 2064, 'medical': 2065, 'lived': 2066, 'costly': 2067, 'unsuccessful': 2068, 'unemployment': 2069, 'office': 2070, 'yells': 2071, 'savings': 2072, 'lift': 2073, 'stake': 2074, 'bourgeois': 2075, 'notions': 2076, 'perfection': 2077, 'buy': 2078, 'reference': 2079, 'race': 2080, 'jail': 2081, 'men': 2082, 'suffer': 2083, 'disproportionally': 2084, 'incarceration': 2085, 'rates': 2086, 'remarks': 2087, 'composed': 2088, 'prisoner': 2089, 'wage': 2090, 'slave': 2091, 'believes': 2092, 'spite': 2093, \"father's\": 2094, 'traveling': 2095, 'salesman': 2096, 'reduced': 2097, 'purely': 2098, 'instrumental': 2099, 'contract': 2100, 'suggesting': 2101, 'married': 2102, 'wrong': 2103, 'eat': 2104, 'routine': 2105, 'artisanal': 2106, 'ideal': 2107, 'modernists': 2108, \"1920's\": 2109, 'socialists': 2110, 'provide': 2111, 'basic': 2112, 'allowing': 2113, 'fuller': 2114, 'traditional': 2115, 'gender': 2116, 'cooks': 2117, 'cleans': 2118, 'iron': 2119, 'mains': 2120, 'income': 2121, 'extended': 2122, 'brings': 2123, 'limits': 2124, 'gendered': 2125, 'metaphor': 2126, 'masculine': 2127, 'systems': 2128, 'circulation': 2129, 'cultural': 2130, 'enable': 2131, 'feminized': 2132, 'jobs': 2133, 'cooking': 2134, 'cleaning': 2135, 'excluded': 2136, 'regular': 2137, 'circulations': 2138, 'participate': 2139, 'bank': 2140, \"driver's\": 2141, 'license': 2142, 'ride': 2143, 'bus': 2144, 'asks': 2145, 'exists': 2146, 'learning': 2147, 'grabs': 2148, 'auto': 2149, 'repair': 2150, 'farming': 2151, 'spirituality': 2152, 'relativized': 2153, 'placed': 2154, 'value': 2155, 'plane': 2156, 'organized': 2157, 'religion': 2158, 'occasionally': 2159, 'dresser': 2160, 'pans': 2161, 'acknowledged': 2162, 'moral': 2163, 'force': 2164, 'devoted': 2165, 'mentions': 2166, 'rosary': 2167, 'objects': 2168, 'purse': 2169, 'snatching': 2170, 'enters': 2171, 'lands': 2172, 'managerial': 2173, 'position': 2174, 'health': 2175, 'car': 2176, 'taking': 2177, 'head': 2178, 'breadwinner': 2179, 'designer': 2180, 'dreaming': 2181, 'products': 2182, 'enduring': 2183, 'drudgery': 2184, 'incongruous': 2185, 'forced': 2186, 'exec': 2187, 'worried': 2188, 'according': 2189, 'pundits': 2190, \"we've\": 2191, 'comfortably': 2192, 'slightly': 2193, 'nostalgic': 2194, 'historical': 2195, 'distance': 2196, 'analyze': 2197, 'during': 2198, 'nevertheless': 2199, 'brain': 2200, 'disregard': 2201, 'close': 2202, 'rang': 2203, 'gulp': 2204, 'sudden': 2205, 'emotion': 2206, 'smile': 2207, 'sheer': 2208, 'identification': 2209, 'rank': 2210, 'martha': 2211, 'rewarding': 2212, 'fluid': 2213, 'seamless': 2214, 'skip': 2215, 'places': 2216, 'library': 2217, 'minor': 2218, 'detract': 2219, 'impact': 2220, 'incomprehensible': 2221, 'hardest': 2222, 'fix': 2223, 'smart': 2224, 'function': 2225, 'childhood': 2226, 'educated': 2227, \"hasn't\": 2228, 'faults': 2229, 'strengths': 2230, 'compliment': 2231, 'stretch': 2232, 'wind': 2233, 'hid': 2234, 'construction': 2235, 'mysteries': 2236, 'explained': 2237, 'unfolding': 2238, 'assume': 2239, 'rethink': 2240, 'movie\\x97just': 2241, 'comments': 2242, 'tomreynolds2004': 2243, 'evident': 2244, 'travel': 2245, 'darker': 2246, 'roads': 2247, 'loneliness': 2248, 'disappointment': 2249, 'sorrow': 2250, 'portrayed': 2251, 'plenty': 2252, 'bitter': 2253, 'angry': 2254, 'comfort': 2255, 'quagmire': 2256, 'sentimental': 2257, 'sappy': 2258, 'became': 2259, 'humanity': 2260, 'dislike': 2261, 'vietnam': 2262, 'intelligence': 2263, 'goodness': 2264, 'fail': 2265, 'abilities': 2266, 'toughness': 2267, 'sell': 2268, 'viewed': 2269, 'underneath': 2270, 'humorous': 2271, 'surprisingly': 2272, 'trademark': 2273, 'works': 2274, 'sly': 2275, 'particular': 2276, 'dunce': 2277, 'supposed': 2278, 'eighties': 2279, 'overly': 2280, 'computer': 2281, 'generated': 2282, 'fare': 2283, 'cartoons': 2284, 'park': 2285, 'similar': 2286, 'format': 2287, 'adventures': 2288, 'exploding': 2289, 'sweets': 2290, 'behaved': 2291, 'bitches': 2292, 'leader': 2293, 'idiotic': 2294, 'bip': 2295, 'maths': 2296, 'teacher': 2297, 'fantastic': 2298, 'lenny': 2299, \"henry's\": 2300, 'gina': 2301, 'yashere': 2302, 'eastenders': 2303, 'chrissie': 2304, 'watts': 2305, 'tracy': 2306, 'ann': 2307, 'oberman': 2308, 'smack': 2309, \"pony's\": 2310, 'doon': 2311, 'mackichan': 2312, \"ringers'\": 2313, 'perry': 2314, \"blunder's\": 2315, 'nina': 2316, 'conti': 2317, 'canada': 2318, 'pieces': 2319, 'sung': 2320, 'marner': 2321, 'particularly': 2322, 'fourth': 2323, 'nobles': 2324, 'sing': 2325, 'battle': 2326, 'rights': 2327, 'known': 2328, \"freakin'\": 2329, 'sings': 2330, 'dances': 2331, 'fits': 2332, 'devious': 2333, 'mischievous': 2334, 'trouble': 2335, 'eight': 2336, 'advance': 2337, \"you've\": 2338, 'villainous': 2339, 'dust': 2340, 'trap': 2341, 'enjoys': 2342, \"'stanley\": 2343, 'triumph': 2344, 'spirit': 2345, 'struggle': 2346, 'literate': 2347, 'realize': 2348, 'starting': 2349, 'stopping': 2350, 'nicely': 2351, 'view': 2352, 'credible': 2353, 'reviewers': 2354, 'rendered': 2355, 'consistent': 2356, 'carefully': 2357, 'chosen': 2358, 'add': 2359, 'depth': 2360, 'meaning': 2361, 'important': 2362, 'stresses': 2363, 'modern': 2364, 'devastating': 2365, 'career': 2366, 'consequences': 2367, 'vital': 2368, 'revolves': 2369, 'acquainted': 2370, 'fellow': 2371, 'employee': 2372, 'cafeteria': 2373, 'discovers': 2374, 'lessons': 2375, 'predict': 2376, 'initially': 2377, 'wary': 2378, 'involvement': 2379, 'develop': 2380, 'competently': 2381, 'coping': 2382, 'prospects': 2383, 'pregnant': 2384, 'unemployed': 2385, 'endearing': 2386, 'resourceful': 2387, 'bringing': 2388, 'dignity': 2389, 'commands': 2390, 'charming': 2391, 'yuppie': 2392, 'depicted': 2393, 'romances': 2394, 'aged': 2395, 'pair': 2396, 'struggles': 2397, 'heartwarming': 2398, 'troubling': 2399, 'albeit': 2400, 'fictional': 2401, \"here's\": 2402, 'evidence': 2403, 'worship': 2404, 'acknowledge': 2405, 'wholesome': 2406, 'plotting': 2407, 'values': 2408, 'enchanting': 2409, 'inventively': 2410, 'sequences': 2411, 'golden': 2412, 'belongs': 2413, 'introduce': 2414, 'gloved': 2415, 'sexually': 2416, 'frustrated': 2417, 'blends': 2418, 'fashioned': 2419, 'myth': 2420, 'murderous': 2421, 'constantly': 2422, 'siblings': 2423, '100': 2424, '6th': 2425, 'inevitable': 2426, 'choreographer': 2427, 'prominent': 2428, 'modeling': 2429, 'agency': 2430, 'sharing': 2431, 'bed': 2432, 'manager': 2433, 'spree': 2434, 'obvious': 2435, 'culprit': 2436, 'states': 2437, 'fascinating': 2438, 'history': 2439, 'wears': 2440, 'blood': 2441, 'cloak': 2442, 'produces': 2443, 'ghastly': 2444, 'whenever': 2445, 'exactly': 2446, 'gentle': 2447, 'barbarically': 2448, 'stabbed': 2449, 'dagger': 2450, 'dragged': 2451, 'cars': 2452, 'impaled': 2453, 'fences': 2454, 'latter': 2455, 'acts': 2456, 'request': 2457, 'classy': 2458, 'tasteful': 2459, 'influence': 2460, 'forgotten': 2461, \"miraglio's\": 2462, 'mixing': 2463, 'requisite': 2464, 'sinister': 2465, 'stew': 2466, 'paramount': 2467, 'twisty': 2468, 'field': 2469, 'series': 2470, 'seeming': 2471, 'fulfillment': 2472, 'ancient': 2473, 'prophecy': 2474, 'murderer': 2475, 'cloaked': 2476, 'madwoman': 2477, 'assortment': 2478, 'headed': 2479, 'ridiculously': 2480, 'lustful': 2481, 'tramp': 2482, \"barbara's\": 2483, 'ingredient': 2484, 'superior': 2485, 'catchy': 2486, 'hummable': 2487, 'nicolai': 2488, 'provides': 2489, 'scenery': 2490, 'largely': 2491, 'wurzburg': 2492, 'treat': 2493, 'pleased': 2494, 'report': 2495, 'satisfied': 2496, 'various': 2497, 'knifings': 2498, 'shootings': 2499, 'impalements': 2500, 'carnage': 2501, 'tastefully': 2502, 'dishes': 2503, 'crypts': 2504, 'freaky': 2505, 'rats': 2506, 'bats': 2507, \"'em\": 2508, 'obligatory': 2509, 'ugo': 2510, 'pagliai': 2511, 'hunky': 2512, 'folks': 2513, 'print': 2514, 'loads': 2515, 'extras': 2516, 'boot': 2517, 'thanks': 2518, 'marvelous': 2519, 'singer': 2520, 'demonstrates': 2521, 'acrobatic': 2522, 'cartwheel': 2523, 'starring': 2524, 'connery': 2525, 'likable': 2526, 'fresh': 2527, 'curious': 2528, 'fx': 2529, 'entranced': 2530, 'held': 2531, 'amusing': 2532, 'disney': 2533, 'saccharine': 2534, 'sweetness': 2535, 'scary': 2536, 'benign': 2537, 'interestingly': 2538, 'implausibility': 2539, 'staying': 2540, 'whistling': 2541, 'song': 2542, 'musicals': 2543, 'stuck': 2544, 'costumes': 2545, 'lavish': 2546, 'surprising': 2547, 'catlike': 2548, 'costume': 2549, 'transformed': 2550, \"connery's\": 2551, 'cute': 2552, 'bold': 2553, 'princess': 2554, 'feature': 2555, 'length': 2556, 'personalities': 2557, 'favourite': 2558, 'pretend': 2559, 'drowning': 2560, 'country': 2561, 'rage': 2562, 'table': 2563, 'pretending': 2564, 'parents': 2565, 'alike': 2566, 'owes': 2567, 'la': 2568, 'dama': 2569, 'rossa': 2570, 'uccide': 2571, 'sette': 2572, 'volte': 2573, 'aka': 2574, 'genres': 2575, 'surpassed': 2576, 'hopes': 2577, '1971': 2578, 'atmospheric': 2579, 'compare': 2580, 'instant': 2581, 'hands': 2582, 'lover': 2583, 'missing': 2584, 'delivers': 2585, 'inventive': 2586, 'suspense': 2587, 'sublimely': 2588, 'eerily': 2589, 'combinations': 2590, 'terror': 2591, 'wildenbrück': 2592, 'legend': 2593, 'hundred': 2594, 'kill': 2595, 'photographer': 2596, 'murdered': 2597, 'proved': 2598, 'colorful': 2599, 'creepiness': 2600, 'effectively': 2601, 'feast': 2602, 'visually': 2603, \"grandfather's\": 2604, 'capable': 2605, 'goosebumps': 2606, 'arguably': 2607, 'appreciated': 2608, 'prime': 2609, 'ladies': 2610, \"bouchet's\": 2611, 'presence': 2612, 'graded': 2613, 'appearances': 2614, 'starred': 2615, 'cult': 2616, 'within': 2617, 'fernando': 2618, 'di': 2619, \"leo's\": 2620, 'milano': 2621, 'calibro': 2622, '9': 2623, 'lucio': 2624, \"fulci's\": 2625, 'highlight': 2626, 'duckling': 2627, 'unforgettable': 2628, 'wonderful': 2629, 'miss': 2630, 'marina': 2631, 'malfatti': 2632, 'beauties': 2633, 'bare': 2634, \"nicolai's\": 2635, 'intensely': 2636, 'eerie': 2637, 'ingeniously': 2638, 'tension': 2639, 'increses': 2640, 'passing': 2641, 'minute': 2642, 'stunning': 2643, 'words': 2644, 'easily': 2645, 'ranks': 2646, 'finest': 2647, 'priority': 2648, 'short': 2649, 'expertly': 2650, 'scripted': 2651, 'perfectly': 2652, 'searing': 2653, 'parody': 2654, 'london': 2655, 'rolling': 2656, 'vulgar': 2657, 'provocative': 2658, 'witty': 2659, 'sharp': 2660, 'superbly': 2661, 'caricatured': 2662, 'cross': 2663, 'section': 2664, 'accurate': 2665, 'following': 2666, 'escapades': 2667, 'term': 2668, 'parodying': 2669, 'correctness': 2670, 'flies': 2671, 'poke': 2672, 'taboo': 2673, 'disappoint': 2674, 'till': 2675, 'received': 2676, 'reception': 2677, 'commentators': 2678, 'coplandesque': 2679, 'americana': 2680, 'discovered': 2681, 'none': 2682, 'poignant': 2683, \"schindler's\": 2684, 'list': 2685, 'associates': 2686, 'bombasticities': 2687, 'wars': 2688, 'surpasses': 2689, 'sensitivity': 2690, 'fully': 2691, 'keeping': 2692, 'tender': 2693, 'wit': 2694, 'sophistication': 2695, 'education': 2696, 'green': 2697, 'valley': 2698, 'konrack': 2699, 'voigt': 2700, 'african': 2701, 'charges': 2702, 'carolina': 2703, 'danny': 2704, \"devito's\": 2705, 'renaissance': 2706, 'intellectual': 2707, 'spiritual': 2708, 'awakening': 2709, 'told': 2710, 'addition': 2711, 'futz': 2712, 'experimental': 2713, 'movement': 2714, 'york': 2715, '1960s': 2716, 'origins': 2717, 'darkly': 2718, 'liberty': 2719, 'morality': 2720, 'relevant': 2721, 'congress': 2722, 'outlaw': 2723, 'trashing': 2724, 'constitution': 2725, 'norms': 2726, 'removed': 2727, 'hate': 2728, 'surface': 2729, 'fable': 2730, 'animals': 2731, 'stifling': 2732, 'conformity': 2733, 'won': 2734, 'acclaim': 2735, 'toured': 2736, 's': 2737, 'influenced': 2738, 'luckily': 2739, 'originally': 2740, 'conceived': 2741, 'tom': 2742, \"o'horgan\": 2743, 'directed': 2744, 'jesus': 2745, 'superstar': 2746, 'aggressive': 2747, 'unsettling': 2748, 'glorious': 2749, 'wildly': 2750, 'imaginative': 2751, 'storytelling': 2752, \"world's\": 2753, 'stopped': 2754, 'pit': 2755, 'door': 2756, 'participants': 2757, 'including': 2758, 'grand': 2759, 'experiment': 2760, 'hey': 2761, 'active': 2762, 'listened': 2763, 'fair': 2764, 'focuses': 2765, 'finding': 2766, 'screenplay': 2767, 'fans': 2768, 'coartship': 2769, 'wiser': 2770, 'cautious': 2771, 'matter': 2772, 'tremendously': 2773, 'admire': 2774, 'delicate': 2775, 'gold': 2776, 'elderly': 2777, 'break': 2778, 'cinematic': 2779, 'bette': 2780, 'anywhere': 2781, 'appeared': 2782, 'blank': 2783, 'fill': 2784, 'themselves': 2785, 'nor': 2786, 'smacked': 2787, 'supporter': 2788, 'live': 2789, 'relatives': 2790, 'quarrels': 2791, 'troubled': 2792, 'knocked': 2793, 'typically': 2794, 'jackass': 2795, 'nest': 2796, 'egg': 2797, 'buys': 2798, 'thumbs': 2799, 'romantic': 2800, 'martin': 2801, 'ritt': 2802, 'pleasure': 2803, 'due': 2804, 'charisma': 2805, 'closet': 2806, 'inventor': 2807, 'rest': 2808, 'laid': 2809, 'verges': 2810, 'bland': 2811, 'pleasant': 2812, 'rosy': 2813, 'hued': 2814, 'fantasy': 2815, 'overtures': 2816, 'tool': 2817, 'ensuing': 2818, 'fireworks': 2819, 'intentionally': 2820, 'colorless': 2821, 'leads': 2822, 'toned': 2823, 'finale': 2824, 'fluff': 2825, 'cynics': 2826, 'deserve': 2827, 'satisfying': 2828}\n"
          ],
          "name": "stdout"
        }
      ]
    },
    {
      "cell_type": "code",
      "metadata": {
        "id": "m9a96D1i3dek",
        "colab_type": "code",
        "colab": {
          "base_uri": "https://localhost:8080/",
          "height": 73
        },
        "outputId": "6b5f9bdb-0327-4a13-8ef1-511ca3fbe2d1"
      },
      "source": [
        "# Data Sequencing\n",
        "# 문자를 숫자로 변환하는 작업을 수행한다\n",
        "# 상위 빈도 10,000(max_words)개의 단어만 추출하여 word_index의 숫자 리스트로 변환한다.\n",
        "# 직접 작성\n",
        "\n",
        "data = tokenizer.texts_to_sequences(texts) # Tokenizer 결과가 여기서 반영된다.\n",
        "\n",
        "print('data 0:', data[0])\n",
        "\n",
        "print('texts 0:', texts[0]) # texts[0]의 본래 단어들"
      ],
      "execution_count": 9,
      "outputs": [
        {
          "output_type": "stream",
          "text": [
            "data 0: [43, 4, 3, 179, 40, 34, 1140, 308, 13, 3, 686, 494, 46, 17, 3, 1141, 142, 12, 7, 3, 687, 384, 4, 688, 495, 3, 1142, 689, 496, 7, 690, 90, 29, 691, 1143, 1144, 41, 1, 692, 1145, 4, 49, 1146, 309, 11, 693, 688, 1, 180, 47, 17, 52, 385, 1147, 1148, 254, 11, 37, 68, 181, 1149, 39, 216, 45, 1, 694, 106, 26, 690, 181, 1, 1150, 1151, 69, 80, 1152, 310, 695, 5, 3, 1153, 1154, 25, 3, 1155, 311, 49, 143, 144, 21, 255, 115, 17, 36, 33, 497, 41, 312, 62, 1156, 1157, 312, 386, 1158, 1159, 2, 1160, 1161, 77, 26, 123, 1162]\n",
            "texts 0: Story of a man who has unnatural feelings for a pig. Starts out with a opening scene that is a terrific example of absurd comedy. A formal orchestra audience is turned into an insane, violent mob by the crazy chantings of it's singers. Unfortunately it stays absurd the WHOLE time with no general narrative eventually making it just too off putting. Even those from the era should be turned off. The cryptic dialogue would make Shakespeare seem easy to a third grader. On a technical level it's better than you might think with some good cinematography by future great Vilmos Zsigmond. Future stars Sally Kirkland and Frederic Forrest can be seen briefly.\n"
          ],
          "name": "stdout"
        }
      ]
    },
    {
      "cell_type": "code",
      "metadata": {
        "id": "oLVeU1OY4R3n",
        "colab_type": "code",
        "colab": {
          "base_uri": "https://localhost:8080/",
          "height": 71
        },
        "outputId": "87158038-41d9-47a2-9407-c210d8e4f405"
      },
      "source": [
        "# Data Pading 연습\n",
        "# 직접 작성\n",
        "\n",
        "# Padding은 데이터의 길이를 고정시켜 준다 \n",
        "# 지정된 길이에 모자라는 것은 0으로 채우고, 넘치는 것은 잘라낸다 \n",
        "# 텐서의 크기를 맞춰준다 \n",
        "# 단어의 선택은 뒤에서부터 하며, nested list를 2D 텐서(2차원 넘파이 배열)로 만든다\n",
        "\n",
        "from keras.preprocessing.sequence import pad_sequences\n",
        "sequences = [[1, 2, 3, 4, 5], [1, 2, 3, 4], [1]] # nested list \n",
        "padded = pad_sequences(sequences, maxlen=3) # 2D tensor \n",
        "print(padded)"
      ],
      "execution_count": 10,
      "outputs": [
        {
          "output_type": "stream",
          "text": [
            "[[3 4 5]\n",
            " [2 3 4]\n",
            " [0 0 1]]\n"
          ],
          "name": "stdout"
        }
      ]
    },
    {
      "cell_type": "code",
      "metadata": {
        "id": "7UqhEqpi4BED",
        "colab_type": "code",
        "colab": {
          "base_uri": "https://localhost:8080/",
          "height": 431
        },
        "outputId": "2cdb1579-a245-496a-a805-c8035f73b2bc"
      },
      "source": [
        "# Data Pading\n",
        "# 직접 작성\n",
        "\n",
        "data = pad_sequences(data, maxlen=maxlen) \n",
        "print('data:', data) \n",
        "print('data 0:', data[0]) \n",
        "print(len(data[0]))"
      ],
      "execution_count": 11,
      "outputs": [
        {
          "output_type": "stream",
          "text": [
            "data: [[   0    0    0 ...   26  123 1162]\n",
            " [   2 1186    3 ...  161   10   19]\n",
            " [   0    0    0 ...  508   70  204]\n",
            " ...\n",
            " [   0    0    0 ... 2780   55 2781]\n",
            " [   0    0    0 ...  337 2799   86]\n",
            " [   0    0    0 ...   63  126   45]]\n",
            "data 0: [   0    0    0    0    0    0    0    0    0    0    0    0    0    0\n",
            "    0    0    0    0    0    0    0    0    0    0    0    0    0    0\n",
            "    0    0    0    0    0    0    0    0    0    0    0    0    0    0\n",
            "    0    0    0    0    0    0    0    0    0    0    0    0    0    0\n",
            "    0    0    0    0    0    0    0    0    0    0    0    0    0    0\n",
            "    0    0    0    0    0    0    0    0    0    0    0    0    0    0\n",
            "    0    0    0    0   43    4    3  179   40   34 1140  308   13    3\n",
            "  686  494   46   17    3 1141  142   12    7    3  687  384    4  688\n",
            "  495    3 1142  689  496    7  690   90   29  691 1143 1144   41    1\n",
            "  692 1145    4   49 1146  309   11  693  688    1  180   47   17   52\n",
            "  385 1147 1148  254   11   37   68  181 1149   39  216   45    1  694\n",
            "  106   26  690  181    1 1150 1151   69   80 1152  310  695    5    3\n",
            " 1153 1154   25    3 1155  311   49  143  144   21  255  115   17   36\n",
            "   33  497   41  312   62 1156 1157  312  386 1158 1159    2 1160 1161\n",
            "   77   26  123 1162]\n",
            "200\n"
          ],
          "name": "stdout"
        }
      ]
    },
    {
      "cell_type": "code",
      "metadata": {
        "id": "uN3fTKON5lHA",
        "colab_type": "code",
        "colab": {
          "base_uri": "https://localhost:8080/",
          "height": 53
        },
        "outputId": "976b9eb9-236e-4114-ab06-6d66dd1f816d"
      },
      "source": [
        "# One-Hot-Encoding 연습\n",
        "# 직접 작성\n",
        "\n",
        "# one-hot encoding은 모든 숫자를 0과 1로만 만든다 \n",
        "sample = [[5, 6, 7], [8, 9, 10]]\n",
        "\n",
        "arr = np.zeros((len(sample), 10+1)) # “10”은 11번째에 들어가게 되므로 11개의 공간을 만들어야 한다\n",
        "\n",
        "for i, seq in enumerate(sample): # 리스트가 2개이므로 i는 총 2회(0, 1) 반복되며, \n",
        "    arr[i, seq] = 1. # 각 i에서 리스트의 number가 가리키는 곳에 1을 기록한다\n",
        "arr"
      ],
      "execution_count": 12,
      "outputs": [
        {
          "output_type": "execute_result",
          "data": {
            "text/plain": [
              "array([[0., 0., 0., 0., 0., 1., 1., 1., 0., 0., 0.],\n",
              "       [0., 0., 0., 0., 0., 0., 0., 0., 1., 1., 1.]])"
            ]
          },
          "metadata": {
            "tags": []
          },
          "execution_count": 12
        }
      ]
    },
    {
      "cell_type": "code",
      "metadata": {
        "id": "AKoQ8Px26eRG",
        "colab_type": "code",
        "colab": {}
      },
      "source": [
        "# One-Hot-Encoding\n",
        "def to_one_hot(sequences, dimension):\n",
        "  results = np.zeros((len(sequences), dimension))\n",
        "  for i, sequence in enumerate(sequences):\n",
        "    results[i, sequence] = 1.\n",
        "  return results\n",
        "\n",
        "# data를 one-hot-인코딩으로 0과 1의 벡터로 변환 \n",
        "# label은 이미 0과 1로 태깅되어 있으므로, list에서 넘파이 배열로만 변환. float32를 지정하지 않으면 int32로 저장된다 \n",
        "data = to_one_hot(data, dimension=max_words) \n",
        "labels = np.asarray(labels).astype('float32')   "
      ],
      "execution_count": 0,
      "outputs": []
    },
    {
      "cell_type": "code",
      "metadata": {
        "id": "8aws96UB77l8",
        "colab_type": "code",
        "colab": {
          "base_uri": "https://localhost:8080/",
          "height": 271
        },
        "outputId": "b102ef32-f713-48e3-f7c4-f8fa40eb7b3d"
      },
      "source": [
        "# One-Hot-Encoding 결과 확인\n",
        "\n",
        "print('data:', data)\n",
        "len(data[0])\t\t\t\t\t# dimension=10000으로 했으므로 각 행은 10,000개를 가지고 있다\n",
        "print('data [0][0:100]:', data[0][0:100])\n",
        "\n",
        "print(word_index)"
      ],
      "execution_count": 14,
      "outputs": [
        {
          "output_type": "stream",
          "text": [
            "data: [[1. 1. 1. ... 0. 0. 0.]\n",
            " [0. 1. 1. ... 0. 0. 0.]\n",
            " [1. 1. 1. ... 0. 0. 0.]\n",
            " ...\n",
            " [1. 1. 1. ... 0. 0. 0.]\n",
            " [1. 1. 1. ... 0. 0. 0.]\n",
            " [1. 1. 1. ... 0. 0. 0.]]\n",
            "data [0][0:100]: [1. 1. 1. 1. 1. 1. 0. 1. 0. 0. 0. 1. 1. 1. 0. 0. 0. 1. 0. 0. 0. 1. 0. 0.\n",
            " 0. 1. 1. 0. 0. 1. 0. 0. 0. 1. 1. 0. 1. 1. 0. 1. 1. 1. 0. 1. 0. 1. 1. 1.\n",
            " 0. 1. 0. 0. 1. 0. 0. 0. 0. 0. 0. 0. 0. 0. 1. 0. 0. 0. 0. 0. 1. 1. 0. 0.\n",
            " 0. 0. 0. 0. 0. 1. 0. 0. 1. 0. 0. 0. 0. 0. 0. 0. 0. 0. 1. 0. 0. 0. 0. 0.\n",
            " 0. 0. 0. 0.]\n",
            "{'the': 1, 'and': 2, 'a': 3, 'of': 4, 'to': 5, 'br': 6, 'is': 7, 'in': 8, 'i': 9, 'this': 10, 'it': 11, 'that': 12, 'for': 13, 'film': 14, 'was': 15, 'are': 16, 'with': 17, 'but': 18, 'movie': 19, 'as': 20, 'you': 21, 'not': 22, 'at': 23, 'he': 24, 'on': 25, 'be': 26, 'one': 27, 'have': 28, 'an': 29, 'all': 30, 'his': 31, 'like': 32, 'good': 33, 'has': 34, 'or': 35, 'some': 36, 'just': 37, 'so': 38, 'even': 39, 'who': 40, 'by': 41, 'my': 42, 'story': 43, 'about': 44, 'from': 45, 'out': 46, 'time': 47, 'when': 48, \"it's\": 49, 'they': 50, 'very': 51, 'no': 52, 'really': 53, 'if': 54, 'acting': 55, 'there': 56, 'every': 57, 'him': 58, 'most': 59, 'more': 60, 'ever': 61, 'great': 62, 'other': 63, 'people': 64, 'how': 65, 'also': 66, 'her': 67, 'too': 68, 'would': 69, 'their': 70, 'your': 71, 'bad': 72, 'made': 73, 'what': 74, 'she': 75, 'stanley': 76, 'can': 77, 'had': 78, 'me': 79, 'make': 80, 'plot': 81, 'read': 82, 'only': 83, 'characters': 84, 'will': 85, 'up': 86, 'character': 87, 'love': 88, 'well': 89, 'into': 90, 'movies': 91, 'any': 92, 'director': 93, 'these': 94, 'red': 95, 'actors': 96, 'here': 97, 'first': 98, 'do': 99, 'iris': 100, 'many': 101, 'such': 102, 'after': 103, \"don't\": 104, 'see': 105, 'should': 106, 'were': 107, 'then': 108, 'two': 109, 'which': 110, 'its': 111, 'we': 112, 'again': 113, \"can't\": 114, 'think': 115, 'say': 116, 'been': 117, 'over': 118, 'does': 119, 'life': 120, 'cast': 121, 'giallo': 122, 'seen': 123, 'could': 124, 'much': 125, 'way': 126, 'though': 127, 'find': 128, 'least': 129, 'watching': 130, 'yet': 131, 'films': 132, 'interesting': 133, \"he's\": 134, 'family': 135, 'never': 136, 'because': 137, 'times': 138, 'makes': 139, 'real': 140, 'job': 141, 'scene': 142, 'better': 143, 'than': 144, 'end': 145, 'line': 146, 'new': 147, 'them': 148, 'before': 149, 'still': 150, 'jane': 151, '10': 152, 'high': 153, 'fonda': 154, 'walken': 155, 'queen': 156, 'pretty': 157, 'nothing': 158, 'watch': 159, 'overall': 160, 'seeing': 161, 'production': 162, 'get': 163, 'another': 164, 'know': 165, 'our': 166, 'where': 167, 'camera': 168, 'through': 169, 'robert': 170, 'enough': 171, 'style': 172, 'came': 173, \"isn't\": 174, 'work': 175, 'go': 176, 'score': 177, 'each': 178, 'man': 179, 'whole': 180, 'off': 181, 'effects': 182, 'far': 183, 'feel': 184, 'beautiful': 185, 'violence': 186, 'why': 187, 'role': 188, 'being': 189, 'minutes': 190, 'script': 191, 'lines': 192, 'terrible': 193, 'school': 194, 'young': 195, 'seven': 196, 'while': 197, 'few': 198, 'said': 199, 'need': 200, 'recommend': 201, 'both': 202, 'bit': 203, 'money': 204, 'down': 205, 'almost': 206, \"didn't\": 207, 'art': 208, 'thing': 209, 'ending': 210, 'genre': 211, 'world': 212, 'human': 213, 'horror': 214, 'working': 215, 'those': 216, 'already': 217, 'same': 218, 'action': 219, 'write': 220, 'home': 221, 'others': 222, 'reason': 223, 'left': 224, \"there's\": 225, \"i'm\": 226, 'house': 227, 'done': 228, 'saw': 229, 'night': 230, 'actually': 231, 'part': 232, 'understand': 233, 'deniro': 234, 'excellent': 235, 'madsen': 236, 'take': 237, 'without': 238, 'hard': 239, 'seems': 240, 'show': 241, 'performances': 242, 'something': 243, 'written': 244, 'although': 245, 'de': 246, 'niro': 247, 'tale': 248, 'memorable': 249, 'bromwell': 250, 'italian': 251, 'kills': 252, 'evelyn': 253, 'making': 254, 'might': 255, 'used': 256, 'fact': 257, 'however': 258, 'away': 259, 'let': 260, 'imdb': 261, 'watched': 262, 'performance': 263, 'hot': 264, 'title': 265, 'worst': 266, 'give': 267, 'cannot': 268, 'put': 269, 'type': 270, 'society': 271, 'going': 272, 'mean': 273, 'given': 274, 'now': 275, 'course': 276, 'illiterate': 277, 'unbelievable': 278, \"doesn't\": 279, 'waste': 280, 'hollywood': 281, 'later': 282, 'probably': 283, 'sound': 284, 'place': 285, 'instead': 286, 'ok': 287, 'years': 288, 'best': 289, 'quite': 290, 'must': 291, '1972': 292, 'fan': 293, 'low': 294, 'always': 295, 'gun': 296, 'care': 297, 'cinema': 298, 'black': 299, 'novel': 300, \"film's\": 301, 'illiteracy': 302, 'original': 303, 'drama': 304, 'special': 305, \"iris'\": 306, 'bouchet': 307, 'feelings': 308, 'unfortunately': 309, 'seem': 310, 'level': 311, 'future': 312, 'boring': 313, 'looks': 314, 'drug': 315, 'save': 316, 'lot': 317, 'annoying': 318, 'decent': 319, 'thought': 320, 'poorly': 321, 'everything': 322, 'three': 323, 'believe': 324, 'us': 325, '3': 326, 'want': 327, 'war': 328, 'become': 329, 'supporting': 330, 'shot': 331, 'arnold': 332, 'wonder': 333, 'guess': 334, 'music': 335, 'totally': 336, '2': 337, 'favorite': 338, 'kind': 339, 'beginning': 340, 'back': 341, 'looking': 342, 'worth': 343, 'tells': 344, 'things': 345, 'perfect': 346, 'father': 347, \"you'll\": 348, 'ask': 349, 'happy': 350, 'found': 351, 'rape': 352, 'got': 353, 'often': 354, 'did': 355, 'come': 356, 'simply': 357, 'needs': 358, 'gets': 359, 'face': 360, 'may': 361, 'sub': 362, 'little': 363, 'nice': 364, \"won't\": 365, 'gives': 366, 'rather': 367, 'stories': 368, 'class': 369, 'unique': 370, 'sex': 371, 'factory': 372, 'teachers': 373, 'personal': 374, 'relations': 375, 'daughter': 376, 'sister': 377, 'year': 378, 'christopher': 379, 'puss': 380, 'female': 381, 'barbara': 382, 'murders': 383, 'example': 384, 'general': 385, 'stars': 386, 'drugs': 387, 'techniques': 388, 'actresses': 389, 'poor': 390, 'subject': 391, 'serious': 392, 'funny': 393, 'possibly': 394, 'believable': 395, 'clearly': 396, 'wanted': 397, 'feeling': 398, 'second': 399, 'parts': 400, 'girls': 401, 'own': 402, 'anything': 403, 'truly': 404, 'earth': 405, 'living': 406, 'reality': 407, 'tell': 408, 'friends': 409, 'awkward': 410, 'editing': 411, 'effect': 412, 'appears': 413, 'gave': 414, 'goes': 415, 'tristan': 416, 'price': 417, 'himself': 418, \"fonda's\": 419, 'turkish': 420, 'big': 421, 'names': 422, 'experience': 423, 'american': 424, 'vosloo': 425, 'directing': 426, 'trying': 427, 'case': 428, 'leaves': 429, 'michael': 430, '1': 431, \"i've\": 432, \"couldn't\": 433, 'perhaps': 434, 'generally': 435, 'fast': 436, 'around': 437, 'main': 438, 'couple': 439, 'women': 440, \"you're\": 441, 'male': 442, 'someone': 443, 'effort': 444, 'either': 445, 'says': 446, 'star': 447, 'took': 448, 'anyone': 449, 'piece': 450, 'move': 451, 'stylish': 452, 'sense': 453, 'chace': 454, 'scenes': 455, 'viewer': 456, 'fighting': 457, 'post': 458, 'help': 459, 'viewers': 460, 'mostly': 461, 'true': 462, \"barker's\": 463, 'hope': 464, 'romance': 465, 'age': 466, 'picture': 467, 'doing': 468, '4': 469, 'enjoyable': 470, 'heart': 471, 'children': 472, 'adult': 473, 'industrial': 474, 'references': 475, 'workers': 476, 'husband': 477, 'beauty': 478, 'traditionally': 479, 'public': 480, 'among': 481, 'suddenly': 482, 'fun': 483, 'brilliant': 484, 'emilio': 485, 'kitty': 486, 'gorgeous': 487, 'grave': 488, 'songs': 489, 'dancing': 490, 'gothic': 491, 'incredibly': 492, 'theatre': 493, 'starts': 494, 'comedy': 495, 'audience': 496, 'cinematography': 497, 'redeeming': 498, 'self': 499, 'thrown': 500, 'use': 501, 'issues': 502, 'check': 503, 'vinnie': 504, 'writers': 505, 'lots': 506, \"i'd\": 507, 'wasted': 508, 'look': 509, 'corey': 510, 'information': 511, 'playing': 512, 'sebastian': 513, 'loaded': 514, 'sure': 515, 'seemed': 516, 'predictable': 517, 'writer': 518, 'terribly': 519, 'name': 520, 'released': 521, 'worse': 522, 'days': 523, 'enjoy': 524, '5': 525, 'amount': 526, 'woman': 527, 'talents': 528, 'person': 529, 'else': 530, 'dvd': 531, 'interested': 532, 'suck': 533, 'thinking': 534, 'edward': 535, 'furlong': 536, 'budget': 537, 'everybody': 538, 'heard': 539, 'mr': 540, 'day': 541, 'mention': 542, 'amateur': 543, 'english': 544, 'reading': 545, 'having': 546, 'looked': 547, 'shy': 548, 'fake': 549, '20': 550, 'crap': 551, 'skill': 552, 'tried': 553, 'direction': 554, 'sounded': 555, 'weird': 556, 'lets': 557, 'positive': 558, 'laugh': 559, \"that's\": 560, 'law': 561, \"aren't\": 562, 'appear': 563, 'storyline': 564, 'slow': 565, 'takes': 566, 'definitely': 567, 'period': 568, 'pure': 569, 'early': 570, 'images': 571, 'becomes': 572, 'am': 573, 'considering': 574, 'enjoyed': 575, 'colors': 576, 'less': 577, 'sometimes': 578, 'yourself': 579, 'source': 580, 'oh': 581, 'god': 582, 'yes': 583, \"i'll\": 584, 'killing': 585, 'master': 586, 'contrived': 587, 'stupid': 588, 'unless': 589, 'last': 590, 'window': 591, 'knows': 592, 'hair': 593, 'masterpiece': 594, 'idea': 595, 'exercise': 596, 'opinion': 597, 'lives': 598, 'means': 599, 'hitchcock': 600, 'especially': 601, 'europe': 602, 'germany': 603, 'mixed': 604, 'lack': 605, 'emotional': 606, 'giving': 607, 'liked': 608, 'adaptation': 609, 'union': 610, 'street': 611, 'felt': 612, 'top': 613, 'sensitive': 614, 'convincing': 615, 'potential': 616, \"wasn't\": 617, 'attention': 618, \"wouldn't\": 619, 'average': 620, 'mess': 621, 'stage': 622, 'completely': 623, 'john': 624, 'williams': 625, 'small': 626, 'unable': 627, 'dead': 628, 'teaching': 629, 'lead': 630, 'students': 631, 'student': 632, 'classic': 633, 'adults': 634, 'difficult': 635, 'teenage': 636, 'complex': 637, 'system': 638, 'worker': 639, 'therefore': 640, 'cares': 641, \"she's\": 642, 'realm': 643, 'literacy': 644, 'haunting': 645, 'musical': 646, 'magic': 647, 'screen': 648, 'regarding': 649, 'afraid': 650, 'tenderness': 651, 'overwhelming': 652, 'strong': 653, 'begins': 654, 'forward': 655, 'singing': 656, 'boots': 657, 'south': 658, 'keisha': 659, 'ogre': 660, 'roles': 661, 'widow': 662, 'dance': 663, 'unlike': 664, 'importance': 665, 'middle': 666, 'lovely': 667, \"miraglia's\": 668, 'mesmerizing': 669, 'killer': 670, 'uncanny': 671, 'lady': 672, 'herrings': 673, 'greatest': 674, 'sybil': 675, 'danning': 676, 'elements': 677, 'indeed': 678, 'frightening': 679, 'gialli': 680, 'cat': 681, 'corin': 682, 'creepy': 683, 'atmosphere': 684, 'castle': 685, 'pig': 686, 'terrific': 687, 'absurd': 688, 'orchestra': 689, 'turned': 690, 'insane': 691, 'crazy': 692, 'stays': 693, 'era': 694, 'easy': 695, 'quality': 696, 'portrays': 697, 'individual': 698, 'unfortunate': 699, 'thus': 700, 'convoluted': 701, 'attractive': 702, 'final': 703, 'gunfight': 704, \"'bad'\": 705, 'void': 706, 'seriously': 707, 'note': 708, 'delivered': 709, 'jones': 710, 'vile': 711, 'expected': 712, 'resolution': 713, 'alas': 714, \"large's\": 715, 'apparently': 716, 'called': 717, 'named': 718, 'cole': 719, 'points': 720, 'weak': 721, 'actress': 722, 'added': 723, 'murder': 724, 'soundtrack': 725, 'conflicts': 726, 'ultimately': 727, 'five': 728, 'thru': 729, 'happened': 730, 'horrific': 731, 'considered': 732, 'brought': 733, 'disgusting': 734, 'types': 735, 'taste': 736, 'happen': 737, 'sequence': 738, 'cheesy': 739, 'jump': 740, 'cuts': 741, 'cut': 742, 'specific': 743, 'disturbing': 744, 'somewhat': 745, 'grab': 746, 'swallow': 747, 'needed': 748, 'form': 749, 'torture': 750, 'abroad': 751, 'keep': 752, 'trust': 753, 'stop': 754, 'please': 755, 'endure': 756, 'wish': 757, 'pace': 758, 'straight': 759, 'graduation': 760, 'celebration': 761, 'jesse': 762, 'metcalfe': 763, 'substances': 764, 'april': 765, 'nathalie': 766, 'kelley': 767, 'aspect': 768, 'able': 769, 'plays': 770, 'intelligent': 771, 'talent': 772, 'dialog': 773, 'herself': 774, 'moves': 775, 'ill': 776, 'manner': 777, 'book': 778, 'equally': 779, 'rule': 780, 'ten': 781, 'review': 782, 'require': 783, 'text': 784, 'avoid': 785, 'decide': 786, 'finally': 787, 'credits': 788, 'wait': 789, 'literally': 790, 'america': 791, 'crew': 792, 'further': 793, 'international': 794, 'writing': 795, 'produce': 796, 'bottom': 797, 'present': 798, 'rented': 799, 'knowledge': 800, 'forget': 801, 'shame': 802, 'dialogs': 803, 'native': 804, 'speakers': 805, 'play': 806, 'awful': 807, 'appreciate': 808, 'actor': 809, 'ago': 810, 'sleep': 811, 'plus': 812, 'side': 813, 'ability': 814, 'failure': 815, 'teeth': 816, 'dimensional': 817, 'ball': 818, 'guns': 819, 'fired': 820, 'video': 821, 'member': 822, 'girl': 823, 'shouting': 824, 'f': 825, 'extremely': 826, 'mark': 827, 'son': 828, 'reputation': 829, 'settings': 830, 'expectations': 831, 'except': 832, \"tristan's\": 833, 'leave': 834, 'result': 835, 'past': 836, 'event': 837, 'ways': 838, 'large': 839, 'against': 840, 'constant': 841, 'tricks': 842, 'motion': 843, 'perspective': 844, 'random': 845, 'cheap': 846, 'despite': 847, 'relative': 848, 'respect': 849, \"we'll\": 850, 'bigger': 851, 'based': 852, 'scores': 853, 'incredible': 854, 'comment': 855, 'buying': 856, 'renting': 857, 'free': 858, '1969': 859, 'date': 860, 'late': 861, '70s': 862, 'distorted': 863, 'using': 864, 'different': 865, 'accompanied': 866, 'sort': 867, 'obviously': 868, 'quickly': 869, 'total': 870, 'bore': 871, 'recent': 872, 'town': 873, 'background': 874, 'desired': 875, 'lousy': 876, 'otherwise': 877, 'unnecessary': 878, 'continuity': 879, 'drive': 880, 'spot': 881, 'full': 882, 'eye': 883, 'sole': 884, 'usually': 885, 'degree': 886, 'damn': 887, \"shouldn't\": 888, 'coffeshop': 889, 'requires': 890, 'begin': 891, 'standard': 892, 'honestly': 893, 'expect': 894, 'questions': 895, 'hallmark': 896, 'executed': 897, 'neither': 898, 'involved': 899, 'mediocre': 900, 'flick': 901, 'par': 902, 'masterpieces': 903, 'thriller': 904, 'includes': 905, 'warn': 906, 'account': 907, 'express': 908, 'costs': 909, 'bored': 910, 'anymore': 911, 'shattered': 912, 'spare': 913, 'half': 914, 'assed': 915, 'christ': 916, 'catch': 917, 'truth': 918, 'anger': 919, 'word': 920, 'stay': 921, 'indifferent': 922, 'van': 923, 'consider': 924, 'loved': 925, 'theatrical': 926, 'famous': 927, 'language': 928, 'survive': 929, 'immediately': 930, 'white': 931, 'vanquished': 932, 'victims': 933, 'ambiguous': 934, 'change': 935, 'today': 936, 'set': 937, 'british': 938, 'spies': 939, 'german': 940, 'trains': 941, 'symbol': 942, 'intensity': 943, 'train': 944, 'classical': 945, 'guys': 946, 'principal': 947, 'willing': 948, 'destruction': 949, 'path': 950, 'actions': 951, 'moments': 952, 'demonstrative': 953, 'try': 954, 'alone': 955, 'horrible': 956, 'insightful': 957, 'hour': 958, 'claim': 959, 'flicks': 960, 'pat': 961, \"'union\": 962, \"street'\": 963, 'fails': 964, 'angle': 965, 'england': 966, 'inspiring': 967, 'accept': 968, 'tales': 969, 'leading': 970, 'protagonists': 971, 'issue': 972, 'lost': 973, 'covered': 974, 'entertainment': 975, 'motives': 976, 'fetched': 977, 'setting': 978, \"what's\": 979, 'behavior': 980, 'kids': 981, 'paying': 982, 'wants': 983, 'political': 984, 'hand': 985, 'flaws': 986, 'stuff': 987, 'filmed': 988, 'uses': 989, '50': 990, 'nearly': 991, 'single': 992, 'produced': 993, \"haven't\": 994, 'arrangement': 995, 'absence': 996, 'refreshing': 997, 'waterbury': 998, 'locale': 999, 'lush': 1000, 'resulted': 1001, 'bring': 1002, 'mainstream': 1003, 'ordinary': 1004, 'itself': 1005, 'wondered': 1006, 'version': 1007, 'successfully': 1008, 'efforts': 1009, 'right': 1010, 'situation': 1011, 'episode': 1012, 'hell': 1013, 'fine': 1014, 'superb': 1015, 'problems': 1016, 'return': 1017, 'nudity': 1018, 'marriage': 1019, 'wise': 1020, 'portrayal': 1021, 'theme': 1022, 'touching': 1023, 'fordist': 1024, 'assembly': 1025, 'loses': 1026, 'drops': 1027, 'brother': 1028, 'abusive': 1029, 'wife': 1030, 'beer': 1031, 'leaving': 1032, 'conventional': 1033, 'whose': 1034, 'presumably': 1035, 'outside': 1036, 'capitalism': 1037, 'conform': 1038, 'everyone': 1039, 'technology': 1040, 'creative': 1041, 'bauhaus': 1042, 'dream': 1043, 'access': 1044, 'monetary': 1045, 'vehicular': 1046, 'participation': 1047, 'open': 1048, 'social': 1049, 'books': 1050, 'bible': 1051, 'once': 1052, 'plan': 1053, 'studio': 1054, 'moved': 1055, 'highly': 1056, 'recommended': 1057, 'caught': 1058, 'outstanding': 1059, 'turn': 1060, 'plimpton': 1061, 'etc': 1062, 'areas': 1063, 'adventure': 1064, 'u': 1065, 'imagine': 1066, 'reasons': 1067, 'becoming': 1068, 'apart': 1069, 'fabulous': 1070, 'surprise': 1071, 'fairy': 1072, 'king': 1073, 'remember': 1074, 'typical': 1075, 'child': 1076, 'natella': 1077, 'latrina': 1078, 'nervous': 1079, 'wall': 1080, 'praise': 1081, 'deeper': 1082, 'courage': 1083, 'together': 1084, 'skills': 1085, 'lacking': 1086, 'kitchen': 1087, 'absolute': 1088, 'gory': 1089, 'old': 1090, 'revenge': 1091, 'macabre': 1092, 'grandfather': 1093, 'victim': 1094, 'fourteen': 1095, 'successful': 1096, 'recently': 1097, 'compelling': 1098, 'involving': 1099, 'behind': 1100, 'gruesome': 1101, 'miraglia': 1102, 'concerning': 1103, 'sisters': 1104, 'figure': 1105, 'earlier': 1106, 'fashion': 1107, 'necessary': 1108, 'bruno': 1109, \"walken's\": 1110, 'dancer': 1111, 'jason': 1112, \"children's\": 1113, 'kid': 1114, 'eyes': 1115, \"weren't\": 1116, \"miller's\": 1117, 'falls': 1118, 'vera': 1119, 'fairytales': 1120, 'spine': 1121, 'chilling': 1122, 'genuinely': 1123, 'ravishing': 1124, 'stunningly': 1125, 'elegant': 1126, 'painting': 1127, 'fiendish': 1128, 'gem': 1129, 'laughter': 1130, 'sexy': 1131, 'imaginable': 1132, 'shows': 1133, 'preserved': 1134, 'broadway': 1135, 'deeply': 1136, 'gay': 1137, 'blue': 1138, 'collar': 1139, 'unnatural': 1140, 'opening': 1141, 'formal': 1142, 'violent': 1143, 'mob': 1144, 'chantings': 1145, 'singers': 1146, 'narrative': 1147, 'eventually': 1148, 'putting': 1149, 'cryptic': 1150, 'dialogue': 1151, 'shakespeare': 1152, 'third': 1153, 'grader': 1154, 'technical': 1155, 'vilmos': 1156, 'zsigmond': 1157, 'sally': 1158, 'kirkland': 1159, 'frederic': 1160, 'forrest': 1161, 'briefly': 1162, 'b': 1163, 'grade': 1164, 'slop': 1165, 'spoken': 1166, 'realistic': 1167, 'representation': 1168, 'subsequent': 1169, 'spiral': 1170, 'perpetuation': 1171, 'state': 1172, 'events': 1173, 'mentioned': 1174, 'overused': 1175, 'unconvincing': 1176, 'irrelevant': 1177, 'concerned': 1178, 'lacklustre': 1179, 'unimaginative': 1180, 'implausible': 1181, 'reports': 1182, 'granted': 1183, 'confronted': 1184, 'carry': 1185, 'intermittent': 1186, 'punches': 1187, 'towards': 1188, 'revel': 1189, 'furthermore': 1190, 'educational': 1191, 'scare': 1192, 'number': 1193, 'board': 1194, 'effective': 1195, \"'requiem\": 1196, \"dream'\": 1197, \"'trainspotting'\": 1198, \"'fear\": 1199, 'loathing': 1200, 'las': 1201, \"vegas'\": 1202, \"'candy'\": 1203, 'examples': 1204, 'lighthearted': 1205, \"'go'\": 1206, \"'halfbaked'\": 1207, 'stolen': 1208, \"'lock\": 1209, 'stock': 1210, 'smokling': 1211, \"barrels'\": 1212, 'tainted': 1213, \"'loaded'\": 1214, 'strongly': 1215, 'suggest': 1216, 'promise': 1217, 'relatively': 1218, 'editors': 1219, 'wooden': 1220, 'edited': 1221, 'learnt': 1222, 'edit': 1223, 'splash': 1224, 'quick': 1225, \"'flashy'\": 1226, 'edits': 1227, 'meant': 1228, 'symbolic': 1229, 'breakdown': 1230, 'equilibrium': 1231, 'makers': 1232, 'reload': 1233, 'june': 1234, \"'08\": 1235, 'crappy': 1236, 'earn': 1237, 'sequel': 1238, 'killed': 1239, 'wee': 1240, 'hours': 1241, 'morning': 1242, 'battling': 1243, 'insomnia': 1244, 'drifting': 1245, 'missed': 1246, 'stronger': 1247, 'surprised': 1248, 'commenting': 1249, 'since': 1250, 'brooke': 1251, 'exceptional': 1252, 'semi': 1253, 'fictionalizing': 1254, 'screw': 1255, 'ups': 1256, 'incredulous': 1257, 'fantasies': 1258, 'rap': 1259, 'acted': 1260, 'stereotypical': 1261, 'lists': 1262, '2007': 1263, '2008': 1264, 'showtime': 1265, 'listed': 1266, 'synopsis': 1267, 'halfway': 1268, 'realized': 1269, 'undercover': 1270, 'cop': 1271, 'tho': 1272, 'stereotype': 1273, 'beats': 1274, 'retire': 1275, 'trophy': 1276, 'comparison': 1277, 'insanely': 1278, 'created': 1279, 'existence': 1280, 'question': 1281, 'whether': 1282, 'humans': 1283, 'disgusted': 1284, 'ourselves': 1285, 'progress': 1286, 'species': 1287, 'universe': 1288, 'sincerely': 1289, 'hurts': 1290, 'ashamed': 1291, 'emphasize': 1292, 'global': 1293, 'responsibility': 1294, 'creating': 1295, 'prevent': 1296, 'creation': 1297, 'gross': 1298, 'distortions': 1299, 'embarrassment': 1300, 'sleeps': 1301, 'knowing': 1302, 'monsters': 1303, 'shark': 1304, 'attack': 1305, 'hilarious': 1306, 'crosses': 1307, 'dimension': 1308, 'death': 1309, 'shamelessly': 1310, 'sickening': 1311, 'point': 1312, 'shaky': 1313, 'buzz': 1314, 'rush': 1315, 'swerve': 1316, 'fancy': 1317, 'meticulously': 1318, 'repetitive': 1319, 'tortures': 1320, 'excrement': 1321, 'personally': 1322, 'shoulders': 1323, 'shake': 1324, 'submission': 1325, 'demanding': 1326, 'run': 1327, 'gallons': 1328, 'drain': 1329, 'o': 1330, 'inhumane': 1331, 'prisoners': 1332, 'showing': 1333, 'padded': 1334, 'cell': 1335, 'extravagant': 1336, 'suicide': 1337, 'methods': 1338, '72nd': 1339, 'sitting': 1340, 'facets': 1341, 'finishing': 1342, 'wishes': 1343, 'refund': 1344, 'spent': 1345, '15': 1346, 'laced': 1347, 'controlled': 1348, 'complete': 1349, 'spinelessness': 1350, 'irresponsibility': 1351, 'rapid': 1352, 'privilege': 1353, 'culture': 1354, 'allows': 1355, 'seduced': 1356, 'mind': 1357, 'altering': 1358, 'understandable': 1359, 'observing': 1360, 'penny': 1361, 'pound': 1362, 'dedication': 1363, 'met': 1364, 'impossible': 1365, 'frankly': 1366, 'besides': 1367, 'stare': 1368, 'monica': 1369, 'keena': 1370, 'qualities': 1371, 'unbelievably': 1372, 'wasteful': 1373, 'caricature': 1374, \"snail's\": 1375, 'photographed': 1376, 'advised': 1377, 'insufferably': 1378, 'preachy': 1379, 'plugs': 1380, 'cliche': 1381, 'swoozie': 1382, 'kurtz': 1383, 'requiring': 1384, 'worthless': 1385, 'readers': 1386, 'tape': 1387, 'tough': 1388, 'bear': 1389, 'roll': 1390, 'tought': 1391, \"'we\": 1392, 'turks': 1393, 'insult': 1394, 'heist': 1395, 'hostage': 1396, \"'\": 1397, 'checked': 1398, 'contrary': 1399, 'persuade': 1400, 'micheal': 1401, 'project': 1402, 'kept': 1403, 'raise': 1404, 'offer': 1405, 'supposedly': 1406, 'meditation': 1407, 'paid': 1408, 'answer': 1409, 'hiring': 1410, 'cheapest': 1411, 'equipment': 1412, 'difficulty': 1413, 'adjustin': 1414, 'vice': 1415, 'versa': 1416, 'anxious': 1417, 'meditate': 1418, 'outthere': 1419, 'affect': 1420, 'disbelief': 1421, 'prior': 1422, 'suspicious': 1423, 'appearing': 1424, 'freebie': 1425, 'blonde': 1426, 'taken': 1427, 'flood': 1428, 'non': 1429, 'sounds': 1430, 'deserves': 1431, 'summary': 1432, 'terminator': 1433, 'deprived': 1434, 'offense': 1435, 'test': 1436, 'demanded': 1437, 'next': 1438, 'bought': 1439, 'sink': 1440, 'act': 1441, 'ass': 1442, 'allow': 1443, 'noise': 1444, 'paint': 1445, 'skirmish': 1446, 'game': 1447, 'bloke': 1448, 'robbery': 1449, 'gang': 1450, 'whining': 1451, 'voice': 1452, 'k': 1453, 'seconds': 1454, 'whoo': 1455, 'hoo': 1456, 'dumb': 1457, 'bounce': 1458, \"who's\": 1459, 'outweigh': 1460, 'rarely': 1461, 'traumatic': 1462, 'shook': 1463, 'partially': 1464, 'revealed': 1465, 'flashbacks': 1466, 'spelled': 1467, 'until': 1468, 'claustrophobic': 1469, 'environment': 1470, 'causes': 1471, 'loose': 1472, 'extreme': 1473, 'possible': 1474, 'opportunity': 1475, 'strip': 1476, 'club': 1477, 'celebrate': 1478, 'soon': 1479, 'follows': 1480, 'strippers': 1481, 'beach': 1482, 'party': 1483, 'befriends': 1484, 'pulls': 1485, 'dealing': 1486, 'underworld': 1487, 'technically': 1488, 'suffers': 1489, 'lackluster': 1490, 'engaging': 1491, 'counting': 1492, 'freeze': 1493, 'frames': 1494, 'echos': 1495, 'normally': 1496, 'utilize': 1497, \"character's\": 1498, 'sporadically': 1499, 'tossed': 1500, 'attempt': 1501, 'unknowns': 1502, 'notably': 1503, 'antagonist': 1504, 'suspect': 1505, 'projects': 1506, 'mentioning': 1507, 'rating': 1508, 'hotness': 1509, '11': 1510, 'distract': 1511, 'sit': 1512, 'national': 1513, 'preservation': 1514, 'foundation': 1515, 'regardless': 1516, 'exact': 1517, 'indicative': 1518, 'pop': 1519, 'stylings': 1520, '60s': 1521, 'consists': 1522, 'simple': 1523, 'absolutely': 1524, 'intended': 1525, 'tiresome': 1526, 'bluntly': 1527, 'appeal': 1528, 'hip': 1529, 'understood': 1530, 'mortals': 1531, 'appreciation': 1532, 'college': 1533, 'abandoned': 1534, 'traffic': 1535, 'lookie': 1536, 'loos': 1537, 'chalk': 1538, 'viewable': 1539, 'brutal': 1540, 'shoot': 1541, 'glitches': 1542, 'overlookable': 1543, 'caliber': 1544, 'jackie': 1545, 'nine': 1546, 'psychedelic': 1547, 'pulsating': 1548, 'symmetric': 1549, 'abstract': 1550, 'frame': 1551, 'start': 1552, 'birds': 1553, 'silhouetted': 1554, 'cup': 1555, 'tea': 1556, '8½': 1557, 'long': 1558, 'congratulate': 1559, 'genius': 1560, 'approved': 1561, 'mate': 1562, 'cost': 1563, 'intention': 1564, 'bucks': 1565, 'filming': 1566, 'supermarket': 1567, 'ones': 1568, 'jon': 1569, 'keeyes': 1570, 'purpose': 1571, 'angles': 1572, 'messed': 1573, \"they're\": 1574, 'toilet': 1575, 'paper': 1576, 'comes': 1577, 'apparent': 1578, 'serving': 1579, 'doubt': 1580, 'badass': 1581, 'shootout': 1582, \"should've\": 1583, 'oblivion': 1584, \"'till\": 1585, 'stress': 1586, 'goers': 1587, 'vote': 1588, 'comprehensively': 1589, 'destructive': 1590, 'morale': 1591, 'clichés': 1592, 'entertained': 1593, 'mainstay': 1594, 'major': 1595, 'device': 1596, 'conflict': 1597, 'puts': 1598, 'waves': 1599, 'malicious': 1600, 'beings': 1601, 'pushes': 1602, \"someone's\": 1603, '90': 1604, 'conclusion': 1605, 'comforting': 1606, 'police': 1607, 'sirens': 1608, 'challenge': 1609, 'tired': 1610, 'hackneyed': 1611, 'formula': 1612, 'clever': 1613, 'personality': 1614, 'components': 1615, 'space': 1616, 'soul': 1617, 'trash': 1618, 'publicly': 1619, 'embarrassed': 1620, 'disservice': 1621, \"they've\": 1622, 'fanciful': 1623, 'vincent': 1624, 'mad': 1625, 'magician': 1626, 'realizes': 1627, 'vocational': 1628, 'sold': 1629, 'devise': 1630, 'avenging': 1631, 'wronged': 1632, 'scheme': 1633, 'fire': 1634, 'below': 1635, 'compared': 1636, 'patrick': 1637, \"o'neal\": 1638, 'mary': 1639, 'murphy': 1640, 'eva': 1641, 'gabor': 1642, 'jay': 1643, 'novello': 1644, 'nuff': 1645, 'filler': 1646, 'expand': 1647, 'sucks': 1648, 'moronic': 1649, 'deniz': 1650, \"akkaya's\": 1651, 'breasts': 1652, 'ruined': 1653, 'unneeded': 1654, 'garbage': 1655, 'rag': 1656, 'minimum': 1657, 'offal': 1658, 'compelled': 1659, 'create': 1660, 'discover': 1661, 'friggen': 1662, 'essay': 1663, 'assuming': 1664, 'release': 1665, 'afi': 1666, 'dallas': 1667, 'remaining': 1668, 'insulting': 1669, 'goof': 1670, 'shots': 1671, 'breaks': 1672, \"let's\": 1673, 'indicator': 1674, 'details': 1675, 'disappointing': 1676, 'expecting': 1677, 'shut': 1678, 'portray': 1679, 'dictating': 1680, 'gone': 1681, 'opposite': 1682, 'wrote': 1683, 'suite': 1684, 'failed': 1685, 'badly': 1686, 'credit': 1687, 'media': 1688, 'maintain': 1689, 'basically': 1690, 'skimmed': 1691, 'spots': 1692, 'crawford': 1693, 'threw': 1694, 'cuss': 1695, 'sentence': 1696, 'saying': 1697, 'cussing': 1698, 'flashy': 1699, 'shaking': 1700, 'headache': 1701, 'dramatic': 1702, 'lol': 1703, 'anyways': 1704, 'die': 1705, 'yeah': 1706, 'lars': 1707, \"trier's\": 1708, \"'breaking\": 1709, \"waves'\": 1710, \"'dancer\": 1711, \"night'\": 1712, 'admired': 1713, \"'dogville'\": 1714, 'dry': 1715, \"'europa'\": 1716, 'succeeded': 1717, 'success': 1718, 'european': 1719, 'oscar': 1720, 'foreign': 1721, 'explicit': 1722, 'extrovert': 1723, 'ambiguity': 1724, 'escape': 1725, 'treating': 1726, 'followed': 1727, 'victors': 1728, 'executioners': 1729, 'sides': 1730, 'survival': 1731, 'aftermath': 1732, 'catastrophic': 1733, 'nations': 1734, 'individuals': 1735, 'forever': 1736, 'disputes': 1737, 'courageous': 1738, 'decades': 1739, 'expression': 1740, 'fit': 1741, 'task': 1742, 'include': 1743, 'quotes': 1744, 'descending': 1745, 'directly': 1746, 'pre': 1747, 'brave': 1748, 'evil': 1749, 'crossing': 1750, 'speed': 1751, 'continent': 1752, 'dark': 1753, 'dramatism': 1754, 'sparkles': 1755, 're': 1756, 'birth': 1757, 'obsession': 1758, 'order': 1759, 'regulation': 1760, 'punctuality': 1761, 'civility': 1762, 'populate': 1763, 'spy': 1764, 'origin': 1765, 'coming': 1766, 'process': 1767, 'reconciliation': 1768, 'finds': 1769, 'corruption': 1770, 'liberators': 1771, 'oppressive': 1772, 'occupiers': 1773, 'resigned': 1774, 'fate': 1775, 'continue': 1776, 'doubtfully': 1777, 'treason': 1778, 'treatment': 1779, 'betrays': 1780, 'leopold': 1781, 'kessler': 1782, 'played': 1783, 'jean': 1784, 'marc': 1785, 'barr': 1786, 'confused': 1787, 'credibility': 1788, 'imitation': 1789, '30s': 1790, 'usage': 1791, 'color': 1792, 'majority': 1793, 'trier': 1794, 'artistic': 1795, 'filmmaker': 1796, 'capsule': 1797, 'zero': 1798, 'chemistry': 1799, 'ingenious': 1800, 'uncomfortably': 1801, 'drifts': 1802, 'map': 1803, 'handle': 1804, 'molasses': 1805, 'swift': 1806, 'adjective': 1807, 'excruciating': 1808, 'pacing': 1809, 'intent': 1810, 'uplifting': 1811, 'curing': 1812, 'bummer': 1813, 'planning': 1814, 'suffice': 1815, 'studying': 1816, 'horrendous': 1817, 'throughout': 1818, 'speaks': 1819, 'jog': 1820, 'unfortuntately': 1821, 'harrowing': 1822, 'northern': 1823, 'area': 1824, 'grabbed': 1825, 'hold': 1826, 'heartstrings': 1827, 'refused': 1828, 'weeks': 1829, 'finished': 1830, 'tears': 1831, 'repulsion': 1832, 'shock': 1833, 'sympathy': 1834, 'misery': 1835, 'depressing': 1836, 'utterly': 1837, 'gripping': 1838, 'dear': 1839, 'showered': 1840, 'layer': 1841, 'sweet': 1842, 'icing': 1843, 'sugar': 1844, 'condensed': 1845, 'touched': 1846, 'discarded': 1847, 'mass': 1848, 'viewing': 1849, '7': 1850, 'practical': 1851, 'content': 1852, 'essence': 1853, 'gut': 1854, 'darkness': 1855, 'rain': 1856, 'broken': 1857, 'windows': 1858, 'cardboard': 1859, 'graphically': 1860, 'described': 1861, 'stench': 1862, 'poverty': 1863, 'replaced': 1864, 'sunshine': 1865, 'houses': 1866, 'twinkling': 1867, \"william's\": 1868, 'positivity': 1869, \"'reality'\": 1870, 'advise': 1871, 'hesitate': 1872, 'preparing': 1873, \"'schindler's\": 1874, \"list'\": 1875, 'gangster': 1876, 'sebastians': 1877, 'worn': 1878, 'cliché': 1879, 'relationships': 1880, 'drawn': 1881, 'deal': 1882, 'permission': 1883, 'rebellious': 1884, 'upper': 1885, 'judging': 1886, 'backflashes': 1887, 'solid': 1888, 'socially': 1889, 'critic': 1890, 'focusing': 1891, 'cool': 1892, 'moment': 1893, 'reflect': 1894, 'forcing': 1895, 'along': 1896, 'breath': 1897, 'naturally': 1898, 'evolve': 1899, 'glorify': 1900, 'abuse': 1901, 'incorrect': 1902, 'managing': 1903, 'ruin': 1904, '6': 1905, 'decisions': 1906, 'huge': 1907, 'exaggerated': 1908, 'unexplainable': 1909, 'happens': 1910, 'storywise': 1911, '30': 1912, 'motions': 1913, 'shakes': 1914, 'forwards': 1915, 'smooth': 1916, 'tracks': 1917, 'musics': 1918, 'dumbest': 1919, 'rips': 1920, 'manages': 1921, 'afterthought': 1922, 'cant': 1923, 'nonsense': 1924, 'somebody': 1925, 'somewhere': 1926, \"'oh\": 1927, 'load': 1928, \"shite'\": 1929, 'call': 1930, 'downloading': 1931, 'illegally': 1932, 'trailer': 1933, 'download': 1934, 'painful': 1935, 'porno': 1936, 'premise': 1937, 'authentic': 1938, 'ct': 1939, 'collectors': 1940, 'item': 1941, 'passable': 1942, 'satisfy': 1943, 'grownups': 1944, 'hide': 1945, 'braininess': 1946, 'doctorate': 1947, 'yale': 1948, \"diniro's\": 1949, 'guy': 1950, 'loser': 1951, 'turns': 1952, \"jane's\": 1953, '1990': 1954, 'henry': 1955, 'ford': 1956, 'thomas': 1957, 'edison': 1958, 'handled': 1959, \"nobody's\": 1960, 'fool': 1961, 'mid': 1962, '90s': 1963, \"year's\": 1964, '2003': 1965, 'schmidt': 1966, 'stream': 1967, 'studios': 1968, 'adolescents': 1969, 'reserve': 1970, 'screens': 1971, 'multi': 1972, 'complexes': 1973, 'cartoon': 1974, 'ran': 1975, 'programs': 1976, '35': 1977, 'profession': 1978, \"high's\": 1979, 'satire': 1980, 'closer': 1981, 'scramble': 1982, 'financially': 1983, 'pathetic': 1984, \"teachers'\": 1985, 'pomp': 1986, 'pettiness': 1987, 'remind': 1988, 'schools': 1989, 'knew': 1990, 'repeatedly': 1991, 'burn': 1992, 'recalled': 1993, 'inspector': 1994, 'sack': 1995, 'welcome': 1996, 'pity': 1997, \"women's\": 1998, 'usual': 1999, 'visuals': 2000, 'photography': 2001, 'casting': 2002, 'winner': 2003, 'warming': 2004, 'overcome': 2005, \"stanley's\": 2006, 'learned': 2007, 'widower': 2008, 'bakery': 2009, 'meets': 2010, 'decides': 2011, 'teach': 2012, 'romantically': 2013, 'learns': 2014, 'chicago': 2015, 'marry': 2016, 'profanity': 2017, 'rare': 2018, \"today's\": 2019, 'round': 2020, 'hall': 2021, 'fame': 2022, 'sleeping': 2023, 'normal': 2024, 'rougher': 2025, 'learn': 2026, 'involves': 2027, 'honest': 2028, 'fairly': 2029, 'mild': 2030, 'explores': 2031, 'taylorist': 2032, 'modes': 2033, 'capitalist': 2034, 'treated': 2035, 'cogs': 2036, 'machine': 2037, 'overseen': 2038, 'managers': 2039, 'wielding': 2040, 'clipboards': 2041, 'controlling': 2042, 'exposed': 2043, 'firing': 2044, 'meet': 2045, 'criteria': 2046, 'supervisor': 2047, 'unspecified': 2048, 'mistake': 2049, 'destroys': 2050, 'families': 2051, 'send': 2052, 'nursing': 2053, 'dies': 2054, 'teen': 2055, 'mother': 2056, 'plant': 2057, 'declining': 2058, 'wages': 2059, 'partners': 2060, 'implication': 2061, 'nobody': 2062, 'illness': 2063, 'multiple': 2064, 'medical': 2065, 'lived': 2066, 'costly': 2067, 'unsuccessful': 2068, 'unemployment': 2069, 'office': 2070, 'yells': 2071, 'savings': 2072, 'lift': 2073, 'stake': 2074, 'bourgeois': 2075, 'notions': 2076, 'perfection': 2077, 'buy': 2078, 'reference': 2079, 'race': 2080, 'jail': 2081, 'men': 2082, 'suffer': 2083, 'disproportionally': 2084, 'incarceration': 2085, 'rates': 2086, 'remarks': 2087, 'composed': 2088, 'prisoner': 2089, 'wage': 2090, 'slave': 2091, 'believes': 2092, 'spite': 2093, \"father's\": 2094, 'traveling': 2095, 'salesman': 2096, 'reduced': 2097, 'purely': 2098, 'instrumental': 2099, 'contract': 2100, 'suggesting': 2101, 'married': 2102, 'wrong': 2103, 'eat': 2104, 'routine': 2105, 'artisanal': 2106, 'ideal': 2107, 'modernists': 2108, \"1920's\": 2109, 'socialists': 2110, 'provide': 2111, 'basic': 2112, 'allowing': 2113, 'fuller': 2114, 'traditional': 2115, 'gender': 2116, 'cooks': 2117, 'cleans': 2118, 'iron': 2119, 'mains': 2120, 'income': 2121, 'extended': 2122, 'brings': 2123, 'limits': 2124, 'gendered': 2125, 'metaphor': 2126, 'masculine': 2127, 'systems': 2128, 'circulation': 2129, 'cultural': 2130, 'enable': 2131, 'feminized': 2132, 'jobs': 2133, 'cooking': 2134, 'cleaning': 2135, 'excluded': 2136, 'regular': 2137, 'circulations': 2138, 'participate': 2139, 'bank': 2140, \"driver's\": 2141, 'license': 2142, 'ride': 2143, 'bus': 2144, 'asks': 2145, 'exists': 2146, 'learning': 2147, 'grabs': 2148, 'auto': 2149, 'repair': 2150, 'farming': 2151, 'spirituality': 2152, 'relativized': 2153, 'placed': 2154, 'value': 2155, 'plane': 2156, 'organized': 2157, 'religion': 2158, 'occasionally': 2159, 'dresser': 2160, 'pans': 2161, 'acknowledged': 2162, 'moral': 2163, 'force': 2164, 'devoted': 2165, 'mentions': 2166, 'rosary': 2167, 'objects': 2168, 'purse': 2169, 'snatching': 2170, 'enters': 2171, 'lands': 2172, 'managerial': 2173, 'position': 2174, 'health': 2175, 'car': 2176, 'taking': 2177, 'head': 2178, 'breadwinner': 2179, 'designer': 2180, 'dreaming': 2181, 'products': 2182, 'enduring': 2183, 'drudgery': 2184, 'incongruous': 2185, 'forced': 2186, 'exec': 2187, 'worried': 2188, 'according': 2189, 'pundits': 2190, \"we've\": 2191, 'comfortably': 2192, 'slightly': 2193, 'nostalgic': 2194, 'historical': 2195, 'distance': 2196, 'analyze': 2197, 'during': 2198, 'nevertheless': 2199, 'brain': 2200, 'disregard': 2201, 'close': 2202, 'rang': 2203, 'gulp': 2204, 'sudden': 2205, 'emotion': 2206, 'smile': 2207, 'sheer': 2208, 'identification': 2209, 'rank': 2210, 'martha': 2211, 'rewarding': 2212, 'fluid': 2213, 'seamless': 2214, 'skip': 2215, 'places': 2216, 'library': 2217, 'minor': 2218, 'detract': 2219, 'impact': 2220, 'incomprehensible': 2221, 'hardest': 2222, 'fix': 2223, 'smart': 2224, 'function': 2225, 'childhood': 2226, 'educated': 2227, \"hasn't\": 2228, 'faults': 2229, 'strengths': 2230, 'compliment': 2231, 'stretch': 2232, 'wind': 2233, 'hid': 2234, 'construction': 2235, 'mysteries': 2236, 'explained': 2237, 'unfolding': 2238, 'assume': 2239, 'rethink': 2240, 'movie\\x97just': 2241, 'comments': 2242, 'tomreynolds2004': 2243, 'evident': 2244, 'travel': 2245, 'darker': 2246, 'roads': 2247, 'loneliness': 2248, 'disappointment': 2249, 'sorrow': 2250, 'portrayed': 2251, 'plenty': 2252, 'bitter': 2253, 'angry': 2254, 'comfort': 2255, 'quagmire': 2256, 'sentimental': 2257, 'sappy': 2258, 'became': 2259, 'humanity': 2260, 'dislike': 2261, 'vietnam': 2262, 'intelligence': 2263, 'goodness': 2264, 'fail': 2265, 'abilities': 2266, 'toughness': 2267, 'sell': 2268, 'viewed': 2269, 'underneath': 2270, 'humorous': 2271, 'surprisingly': 2272, 'trademark': 2273, 'works': 2274, 'sly': 2275, 'particular': 2276, 'dunce': 2277, 'supposed': 2278, 'eighties': 2279, 'overly': 2280, 'computer': 2281, 'generated': 2282, 'fare': 2283, 'cartoons': 2284, 'park': 2285, 'similar': 2286, 'format': 2287, 'adventures': 2288, 'exploding': 2289, 'sweets': 2290, 'behaved': 2291, 'bitches': 2292, 'leader': 2293, 'idiotic': 2294, 'bip': 2295, 'maths': 2296, 'teacher': 2297, 'fantastic': 2298, 'lenny': 2299, \"henry's\": 2300, 'gina': 2301, 'yashere': 2302, 'eastenders': 2303, 'chrissie': 2304, 'watts': 2305, 'tracy': 2306, 'ann': 2307, 'oberman': 2308, 'smack': 2309, \"pony's\": 2310, 'doon': 2311, 'mackichan': 2312, \"ringers'\": 2313, 'perry': 2314, \"blunder's\": 2315, 'nina': 2316, 'conti': 2317, 'canada': 2318, 'pieces': 2319, 'sung': 2320, 'marner': 2321, 'particularly': 2322, 'fourth': 2323, 'nobles': 2324, 'sing': 2325, 'battle': 2326, 'rights': 2327, 'known': 2328, \"freakin'\": 2329, 'sings': 2330, 'dances': 2331, 'fits': 2332, 'devious': 2333, 'mischievous': 2334, 'trouble': 2335, 'eight': 2336, 'advance': 2337, \"you've\": 2338, 'villainous': 2339, 'dust': 2340, 'trap': 2341, 'enjoys': 2342, \"'stanley\": 2343, 'triumph': 2344, 'spirit': 2345, 'struggle': 2346, 'literate': 2347, 'realize': 2348, 'starting': 2349, 'stopping': 2350, 'nicely': 2351, 'view': 2352, 'credible': 2353, 'reviewers': 2354, 'rendered': 2355, 'consistent': 2356, 'carefully': 2357, 'chosen': 2358, 'add': 2359, 'depth': 2360, 'meaning': 2361, 'important': 2362, 'stresses': 2363, 'modern': 2364, 'devastating': 2365, 'career': 2366, 'consequences': 2367, 'vital': 2368, 'revolves': 2369, 'acquainted': 2370, 'fellow': 2371, 'employee': 2372, 'cafeteria': 2373, 'discovers': 2374, 'lessons': 2375, 'predict': 2376, 'initially': 2377, 'wary': 2378, 'involvement': 2379, 'develop': 2380, 'competently': 2381, 'coping': 2382, 'prospects': 2383, 'pregnant': 2384, 'unemployed': 2385, 'endearing': 2386, 'resourceful': 2387, 'bringing': 2388, 'dignity': 2389, 'commands': 2390, 'charming': 2391, 'yuppie': 2392, 'depicted': 2393, 'romances': 2394, 'aged': 2395, 'pair': 2396, 'struggles': 2397, 'heartwarming': 2398, 'troubling': 2399, 'albeit': 2400, 'fictional': 2401, \"here's\": 2402, 'evidence': 2403, 'worship': 2404, 'acknowledge': 2405, 'wholesome': 2406, 'plotting': 2407, 'values': 2408, 'enchanting': 2409, 'inventively': 2410, 'sequences': 2411, 'golden': 2412, 'belongs': 2413, 'introduce': 2414, 'gloved': 2415, 'sexually': 2416, 'frustrated': 2417, 'blends': 2418, 'fashioned': 2419, 'myth': 2420, 'murderous': 2421, 'constantly': 2422, 'siblings': 2423, '100': 2424, '6th': 2425, 'inevitable': 2426, 'choreographer': 2427, 'prominent': 2428, 'modeling': 2429, 'agency': 2430, 'sharing': 2431, 'bed': 2432, 'manager': 2433, 'spree': 2434, 'obvious': 2435, 'culprit': 2436, 'states': 2437, 'fascinating': 2438, 'history': 2439, 'wears': 2440, 'blood': 2441, 'cloak': 2442, 'produces': 2443, 'ghastly': 2444, 'whenever': 2445, 'exactly': 2446, 'gentle': 2447, 'barbarically': 2448, 'stabbed': 2449, 'dagger': 2450, 'dragged': 2451, 'cars': 2452, 'impaled': 2453, 'fences': 2454, 'latter': 2455, 'acts': 2456, 'request': 2457, 'classy': 2458, 'tasteful': 2459, 'influence': 2460, 'forgotten': 2461, \"miraglio's\": 2462, 'mixing': 2463, 'requisite': 2464, 'sinister': 2465, 'stew': 2466, 'paramount': 2467, 'twisty': 2468, 'field': 2469, 'series': 2470, 'seeming': 2471, 'fulfillment': 2472, 'ancient': 2473, 'prophecy': 2474, 'murderer': 2475, 'cloaked': 2476, 'madwoman': 2477, 'assortment': 2478, 'headed': 2479, 'ridiculously': 2480, 'lustful': 2481, 'tramp': 2482, \"barbara's\": 2483, 'ingredient': 2484, 'superior': 2485, 'catchy': 2486, 'hummable': 2487, 'nicolai': 2488, 'provides': 2489, 'scenery': 2490, 'largely': 2491, 'wurzburg': 2492, 'treat': 2493, 'pleased': 2494, 'report': 2495, 'satisfied': 2496, 'various': 2497, 'knifings': 2498, 'shootings': 2499, 'impalements': 2500, 'carnage': 2501, 'tastefully': 2502, 'dishes': 2503, 'crypts': 2504, 'freaky': 2505, 'rats': 2506, 'bats': 2507, \"'em\": 2508, 'obligatory': 2509, 'ugo': 2510, 'pagliai': 2511, 'hunky': 2512, 'folks': 2513, 'print': 2514, 'loads': 2515, 'extras': 2516, 'boot': 2517, 'thanks': 2518, 'marvelous': 2519, 'singer': 2520, 'demonstrates': 2521, 'acrobatic': 2522, 'cartwheel': 2523, 'starring': 2524, 'connery': 2525, 'likable': 2526, 'fresh': 2527, 'curious': 2528, 'fx': 2529, 'entranced': 2530, 'held': 2531, 'amusing': 2532, 'disney': 2533, 'saccharine': 2534, 'sweetness': 2535, 'scary': 2536, 'benign': 2537, 'interestingly': 2538, 'implausibility': 2539, 'staying': 2540, 'whistling': 2541, 'song': 2542, 'musicals': 2543, 'stuck': 2544, 'costumes': 2545, 'lavish': 2546, 'surprising': 2547, 'catlike': 2548, 'costume': 2549, 'transformed': 2550, \"connery's\": 2551, 'cute': 2552, 'bold': 2553, 'princess': 2554, 'feature': 2555, 'length': 2556, 'personalities': 2557, 'favourite': 2558, 'pretend': 2559, 'drowning': 2560, 'country': 2561, 'rage': 2562, 'table': 2563, 'pretending': 2564, 'parents': 2565, 'alike': 2566, 'owes': 2567, 'la': 2568, 'dama': 2569, 'rossa': 2570, 'uccide': 2571, 'sette': 2572, 'volte': 2573, 'aka': 2574, 'genres': 2575, 'surpassed': 2576, 'hopes': 2577, '1971': 2578, 'atmospheric': 2579, 'compare': 2580, 'instant': 2581, 'hands': 2582, 'lover': 2583, 'missing': 2584, 'delivers': 2585, 'inventive': 2586, 'suspense': 2587, 'sublimely': 2588, 'eerily': 2589, 'combinations': 2590, 'terror': 2591, 'wildenbrück': 2592, 'legend': 2593, 'hundred': 2594, 'kill': 2595, 'photographer': 2596, 'murdered': 2597, 'proved': 2598, 'colorful': 2599, 'creepiness': 2600, 'effectively': 2601, 'feast': 2602, 'visually': 2603, \"grandfather's\": 2604, 'capable': 2605, 'goosebumps': 2606, 'arguably': 2607, 'appreciated': 2608, 'prime': 2609, 'ladies': 2610, \"bouchet's\": 2611, 'presence': 2612, 'graded': 2613, 'appearances': 2614, 'starred': 2615, 'cult': 2616, 'within': 2617, 'fernando': 2618, 'di': 2619, \"leo's\": 2620, 'milano': 2621, 'calibro': 2622, '9': 2623, 'lucio': 2624, \"fulci's\": 2625, 'highlight': 2626, 'duckling': 2627, 'unforgettable': 2628, 'wonderful': 2629, 'miss': 2630, 'marina': 2631, 'malfatti': 2632, 'beauties': 2633, 'bare': 2634, \"nicolai's\": 2635, 'intensely': 2636, 'eerie': 2637, 'ingeniously': 2638, 'tension': 2639, 'increses': 2640, 'passing': 2641, 'minute': 2642, 'stunning': 2643, 'words': 2644, 'easily': 2645, 'ranks': 2646, 'finest': 2647, 'priority': 2648, 'short': 2649, 'expertly': 2650, 'scripted': 2651, 'perfectly': 2652, 'searing': 2653, 'parody': 2654, 'london': 2655, 'rolling': 2656, 'vulgar': 2657, 'provocative': 2658, 'witty': 2659, 'sharp': 2660, 'superbly': 2661, 'caricatured': 2662, 'cross': 2663, 'section': 2664, 'accurate': 2665, 'following': 2666, 'escapades': 2667, 'term': 2668, 'parodying': 2669, 'correctness': 2670, 'flies': 2671, 'poke': 2672, 'taboo': 2673, 'disappoint': 2674, 'till': 2675, 'received': 2676, 'reception': 2677, 'commentators': 2678, 'coplandesque': 2679, 'americana': 2680, 'discovered': 2681, 'none': 2682, 'poignant': 2683, \"schindler's\": 2684, 'list': 2685, 'associates': 2686, 'bombasticities': 2687, 'wars': 2688, 'surpasses': 2689, 'sensitivity': 2690, 'fully': 2691, 'keeping': 2692, 'tender': 2693, 'wit': 2694, 'sophistication': 2695, 'education': 2696, 'green': 2697, 'valley': 2698, 'konrack': 2699, 'voigt': 2700, 'african': 2701, 'charges': 2702, 'carolina': 2703, 'danny': 2704, \"devito's\": 2705, 'renaissance': 2706, 'intellectual': 2707, 'spiritual': 2708, 'awakening': 2709, 'told': 2710, 'addition': 2711, 'futz': 2712, 'experimental': 2713, 'movement': 2714, 'york': 2715, '1960s': 2716, 'origins': 2717, 'darkly': 2718, 'liberty': 2719, 'morality': 2720, 'relevant': 2721, 'congress': 2722, 'outlaw': 2723, 'trashing': 2724, 'constitution': 2725, 'norms': 2726, 'removed': 2727, 'hate': 2728, 'surface': 2729, 'fable': 2730, 'animals': 2731, 'stifling': 2732, 'conformity': 2733, 'won': 2734, 'acclaim': 2735, 'toured': 2736, 's': 2737, 'influenced': 2738, 'luckily': 2739, 'originally': 2740, 'conceived': 2741, 'tom': 2742, \"o'horgan\": 2743, 'directed': 2744, 'jesus': 2745, 'superstar': 2746, 'aggressive': 2747, 'unsettling': 2748, 'glorious': 2749, 'wildly': 2750, 'imaginative': 2751, 'storytelling': 2752, \"world's\": 2753, 'stopped': 2754, 'pit': 2755, 'door': 2756, 'participants': 2757, 'including': 2758, 'grand': 2759, 'experiment': 2760, 'hey': 2761, 'active': 2762, 'listened': 2763, 'fair': 2764, 'focuses': 2765, 'finding': 2766, 'screenplay': 2767, 'fans': 2768, 'coartship': 2769, 'wiser': 2770, 'cautious': 2771, 'matter': 2772, 'tremendously': 2773, 'admire': 2774, 'delicate': 2775, 'gold': 2776, 'elderly': 2777, 'break': 2778, 'cinematic': 2779, 'bette': 2780, 'anywhere': 2781, 'appeared': 2782, 'blank': 2783, 'fill': 2784, 'themselves': 2785, 'nor': 2786, 'smacked': 2787, 'supporter': 2788, 'live': 2789, 'relatives': 2790, 'quarrels': 2791, 'troubled': 2792, 'knocked': 2793, 'typically': 2794, 'jackass': 2795, 'nest': 2796, 'egg': 2797, 'buys': 2798, 'thumbs': 2799, 'romantic': 2800, 'martin': 2801, 'ritt': 2802, 'pleasure': 2803, 'due': 2804, 'charisma': 2805, 'closet': 2806, 'inventor': 2807, 'rest': 2808, 'laid': 2809, 'verges': 2810, 'bland': 2811, 'pleasant': 2812, 'rosy': 2813, 'hued': 2814, 'fantasy': 2815, 'overtures': 2816, 'tool': 2817, 'ensuing': 2818, 'fireworks': 2819, 'intentionally': 2820, 'colorless': 2821, 'leads': 2822, 'toned': 2823, 'finale': 2824, 'fluff': 2825, 'cynics': 2826, 'deserve': 2827, 'satisfying': 2828}\n"
          ],
          "name": "stdout"
        }
      ]
    },
    {
      "cell_type": "code",
      "metadata": {
        "id": "iJAVEnUo9URz",
        "colab_type": "code",
        "colab": {
          "base_uri": "https://localhost:8080/",
          "height": 107
        },
        "outputId": "75a0433f-065d-42d5-aee3-b6b33840540f"
      },
      "source": [
        "# Train 데이터와 Validation 데이터 준비\n",
        "# 직접 작성\n",
        "\n",
        "print('데이터 텐서의 크기:', data.shape)  # (25000, 10000) \n",
        "print('레이블 텐서의 크기:', labels.shape) # (25000,) data와 label이 모두 2D 텐서가 되었음\n",
        "\n",
        "indices = np.arange(data.shape[0]) # 0 ~ 24999 까지의 숫자를 생성 \n",
        "np.random.shuffle(indices)     # 0 ~ 24999 까지의 숫자를 랜덤하게 섞음 \n",
        "data = data[indices]    # 이것을 인덱스로 하여 2D 텐서 데이터를 섞음 \n",
        "labels = labels[indices] # label도 같은 순서로 섞음\n",
        "\n",
        "print(indices)"
      ],
      "execution_count": 15,
      "outputs": [
        {
          "output_type": "stream",
          "text": [
            "데이터 텐서의 크기: (60, 10000)\n",
            "레이블 텐서의 크기: (60,)\n",
            "[26 31 40 34 37 20 42  7 21 15 28 43 51 45 22 57 49 12  8 59  0 33 24 39\n",
            " 53  2 27 14 25 52 35 30 36 46 29 47 50 41  6 23 13 16  1 17 58 55  4 54\n",
            " 19 56 32  3 38 44  9 18 10  5 48 11]\n"
          ],
          "name": "stdout"
        }
      ]
    },
    {
      "cell_type": "code",
      "metadata": {
        "id": "4yd1MRmY-iS5",
        "colab_type": "code",
        "colab": {}
      },
      "source": [
        "# 훈련데이터와 검증데이터 분리\n",
        "# 직접 작성\n",
        "\n",
        "x_train = data[validation_ratio:] # 훈련데이터의 70%를 훈련데이터 \n",
        "y_train = labels[validation_ratio:] # 훈련데이터의 70%를 훈련데이터 Label (data와 labels는 같은 순서)\n",
        "\n",
        "x_val = data[:validation_ratio] # 훈련데이터의 30%를 검증데이터 \n",
        "y_val = labels[:validation_ratio] # 훈련데이터의 30%를 검증데이터 Label"
      ],
      "execution_count": 0,
      "outputs": []
    },
    {
      "cell_type": "code",
      "metadata": {
        "id": "c4QucBVc_Oti",
        "colab_type": "code",
        "colab": {
          "base_uri": "https://localhost:8080/",
          "height": 145
        },
        "outputId": "523ef9df-7038-460a-e444-773e4f1fab45"
      },
      "source": [
        "# 모델 정의하기\n",
        "# 직접 작성\n",
        "\n",
        "from keras.models import Sequential \n",
        "from keras.layers import Dense\n",
        "model = Sequential()                                               # 모델을 새로 정의\n",
        "#은닉노드의 수 활성화 함수 음을 0으로 만드는 relu 입력층에는 10,000 개 단어가 온다 \n",
        "\n",
        "model.add(Dense(64, activation='relu', input_shape=(max_words,)))  # 첫 번째 은닉층 \n",
        "model.add(Dense(32, activation='relu'))                            # 두 번째 은닉층 \n",
        "model.add(Dense(1, activation='sigmoid'))                 # 출력층 \n",
        "\n",
        "# 이진분류 문제이고 신경망의 출력이 확률로 나와야 하므로, \n",
        "# 0~1로 출력하는 sigmoid를 택하고, 노드는 1개로 하였다\n"
      ],
      "execution_count": 17,
      "outputs": [
        {
          "output_type": "stream",
          "text": [
            "WARNING:tensorflow:From /usr/local/lib/python3.6/dist-packages/keras/backend/tensorflow_backend.py:66: The name tf.get_default_graph is deprecated. Please use tf.compat.v1.get_default_graph instead.\n",
            "\n",
            "WARNING:tensorflow:From /usr/local/lib/python3.6/dist-packages/keras/backend/tensorflow_backend.py:541: The name tf.placeholder is deprecated. Please use tf.compat.v1.placeholder instead.\n",
            "\n",
            "WARNING:tensorflow:From /usr/local/lib/python3.6/dist-packages/keras/backend/tensorflow_backend.py:4432: The name tf.random_uniform is deprecated. Please use tf.random.uniform instead.\n",
            "\n"
          ],
          "name": "stdout"
        }
      ]
    },
    {
      "cell_type": "code",
      "metadata": {
        "id": "wZ2WIgYgALdz",
        "colab_type": "code",
        "colab": {
          "base_uri": "https://localhost:8080/",
          "height": 269
        },
        "outputId": "f5d0e7e5-de9d-4a96-aa36-53c74d4dc9ef"
      },
      "source": [
        "# 모델 요약 출력\n",
        "# 직접 작성\n",
        "\n",
        "model.summary()"
      ],
      "execution_count": 18,
      "outputs": [
        {
          "output_type": "stream",
          "text": [
            "Model: \"sequential_1\"\n",
            "_________________________________________________________________\n",
            "Layer (type)                 Output Shape              Param #   \n",
            "=================================================================\n",
            "dense_1 (Dense)              (None, 64)                640064    \n",
            "_________________________________________________________________\n",
            "dense_2 (Dense)              (None, 32)                2080      \n",
            "_________________________________________________________________\n",
            "dense_3 (Dense)              (None, 1)                 33        \n",
            "=================================================================\n",
            "Total params: 642,177\n",
            "Trainable params: 642,177\n",
            "Non-trainable params: 0\n",
            "_________________________________________________________________\n"
          ],
          "name": "stdout"
        }
      ]
    },
    {
      "cell_type": "code",
      "metadata": {
        "id": "xvoxvHYdHnlu",
        "colab_type": "code",
        "colab": {
          "base_uri": "https://localhost:8080/",
          "height": 1000
        },
        "outputId": "7427a420-7b44-4d97-de09-bde8e5dffd16"
      },
      "source": [
        "# Compile & Train Model\n",
        "# 모델 컴파일\n",
        "# 가중치 업데이트 방법은 RMSprop을 사용하였다. 이동평균의 방법을 도입하여 조절해간다\n",
        "# 신경망의 출력이 확률이므로 crossentropy를 사용하는 것이 최선이다\n",
        "# crossentropy는 원본의 확률 분포와 예측의 확률 분포를 측정하여 조절해 간다\n",
        "# 또한 이진 분류이므로 binary_crossentropy를 사용한다\n",
        "model.compile(optimizer='rmsprop', loss='binary_crossentropy', metrics=['acc'])\n",
        "\n",
        "# 모델 훈련\n",
        "# 32개씩 미니 배치를 만들어 10번의 epoch로 훈련한다. 보통 32개에서 시작하여 512개까지 중에서 찾는다\n",
        "# 훈련 데이터로 훈련하고, 검증 데이터로 검증한다 \n",
        "# 반환값의 history는 훈련하는 동안 발생한 모든 정보를 담고 있는 딕셔너리이다\n",
        "history = model.fit(x_train, y_train, epochs=30, batch_size=32, validation_data=(x_val, y_val))\n",
        "history_dict = history.history"
      ],
      "execution_count": 33,
      "outputs": [
        {
          "output_type": "stream",
          "text": [
            "Train on 42 samples, validate on 18 samples\n",
            "Epoch 1/30\n",
            "42/42 [==============================] - 0s 8ms/step - loss: 0.0234 - acc: 1.0000 - val_loss: 0.4796 - val_acc: 0.7222\n",
            "Epoch 2/30\n",
            "42/42 [==============================] - 0s 724us/step - loss: 0.0078 - acc: 1.0000 - val_loss: 0.4377 - val_acc: 0.8889\n",
            "Epoch 3/30\n",
            "42/42 [==============================] - 0s 677us/step - loss: 0.0038 - acc: 1.0000 - val_loss: 0.4185 - val_acc: 0.8333\n",
            "Epoch 4/30\n",
            "42/42 [==============================] - 0s 717us/step - loss: 0.0027 - acc: 1.0000 - val_loss: 0.4134 - val_acc: 0.8333\n",
            "Epoch 5/30\n",
            "42/42 [==============================] - 0s 698us/step - loss: 0.0019 - acc: 1.0000 - val_loss: 0.4123 - val_acc: 0.8333\n",
            "Epoch 6/30\n",
            "42/42 [==============================] - 0s 649us/step - loss: 0.0015 - acc: 1.0000 - val_loss: 0.4079 - val_acc: 0.8333\n",
            "Epoch 7/30\n",
            "42/42 [==============================] - 0s 683us/step - loss: 0.0011 - acc: 1.0000 - val_loss: 0.4024 - val_acc: 0.8333\n",
            "Epoch 8/30\n",
            "42/42 [==============================] - 0s 789us/step - loss: 8.4636e-04 - acc: 1.0000 - val_loss: 0.4043 - val_acc: 0.8333\n",
            "Epoch 9/30\n",
            "42/42 [==============================] - 0s 850us/step - loss: 7.2868e-04 - acc: 1.0000 - val_loss: 0.4060 - val_acc: 0.8333\n",
            "Epoch 10/30\n",
            "42/42 [==============================] - 0s 809us/step - loss: 6.3123e-04 - acc: 1.0000 - val_loss: 0.4056 - val_acc: 0.8333\n",
            "Epoch 11/30\n",
            "42/42 [==============================] - 0s 843us/step - loss: 5.4656e-04 - acc: 1.0000 - val_loss: 0.4016 - val_acc: 0.8333\n",
            "Epoch 12/30\n",
            "42/42 [==============================] - 0s 820us/step - loss: 4.4762e-04 - acc: 1.0000 - val_loss: 0.4020 - val_acc: 0.8333\n",
            "Epoch 13/30\n",
            "42/42 [==============================] - 0s 733us/step - loss: 3.8966e-04 - acc: 1.0000 - val_loss: 0.4031 - val_acc: 0.8333\n",
            "Epoch 14/30\n",
            "42/42 [==============================] - 0s 785us/step - loss: 3.3685e-04 - acc: 1.0000 - val_loss: 0.4024 - val_acc: 0.8333\n",
            "Epoch 15/30\n",
            "42/42 [==============================] - 0s 796us/step - loss: 2.8806e-04 - acc: 1.0000 - val_loss: 0.4021 - val_acc: 0.8333\n",
            "Epoch 16/30\n",
            "42/42 [==============================] - 0s 806us/step - loss: 2.5580e-04 - acc: 1.0000 - val_loss: 0.3995 - val_acc: 0.8333\n",
            "Epoch 17/30\n",
            "42/42 [==============================] - 0s 889us/step - loss: 2.1189e-04 - acc: 1.0000 - val_loss: 0.4010 - val_acc: 0.8333\n",
            "Epoch 18/30\n",
            "42/42 [==============================] - 0s 883us/step - loss: 1.8434e-04 - acc: 1.0000 - val_loss: 0.4019 - val_acc: 0.8333\n",
            "Epoch 19/30\n",
            "42/42 [==============================] - 0s 1ms/step - loss: 1.6371e-04 - acc: 1.0000 - val_loss: 0.3999 - val_acc: 0.8333\n",
            "Epoch 20/30\n",
            "42/42 [==============================] - 0s 1ms/step - loss: 1.3621e-04 - acc: 1.0000 - val_loss: 0.3998 - val_acc: 0.8333\n",
            "Epoch 21/30\n",
            "42/42 [==============================] - 0s 987us/step - loss: 1.2282e-04 - acc: 1.0000 - val_loss: 0.4003 - val_acc: 0.8333\n",
            "Epoch 22/30\n",
            "42/42 [==============================] - 0s 994us/step - loss: 1.1048e-04 - acc: 1.0000 - val_loss: 0.3979 - val_acc: 0.8333\n",
            "Epoch 23/30\n",
            "42/42 [==============================] - 0s 988us/step - loss: 9.8848e-05 - acc: 1.0000 - val_loss: 0.3988 - val_acc: 0.8333\n",
            "Epoch 24/30\n",
            "42/42 [==============================] - 0s 974us/step - loss: 8.9642e-05 - acc: 1.0000 - val_loss: 0.3976 - val_acc: 0.8333\n",
            "Epoch 25/30\n",
            "42/42 [==============================] - 0s 968us/step - loss: 7.9518e-05 - acc: 1.0000 - val_loss: 0.3979 - val_acc: 0.8333\n",
            "Epoch 26/30\n",
            "42/42 [==============================] - 0s 959us/step - loss: 6.5986e-05 - acc: 1.0000 - val_loss: 0.3969 - val_acc: 0.8333\n",
            "Epoch 27/30\n",
            "42/42 [==============================] - 0s 946us/step - loss: 5.9794e-05 - acc: 1.0000 - val_loss: 0.3960 - val_acc: 0.8333\n",
            "Epoch 28/30\n",
            "42/42 [==============================] - 0s 874us/step - loss: 5.3346e-05 - acc: 1.0000 - val_loss: 0.3961 - val_acc: 0.8333\n",
            "Epoch 29/30\n",
            "42/42 [==============================] - 0s 1ms/step - loss: 4.8187e-05 - acc: 1.0000 - val_loss: 0.3974 - val_acc: 0.8333\n",
            "Epoch 30/30\n",
            "42/42 [==============================] - 0s 907us/step - loss: 4.3236e-05 - acc: 1.0000 - val_loss: 0.3972 - val_acc: 0.8333\n"
          ],
          "name": "stdout"
        }
      ]
    },
    {
      "cell_type": "code",
      "metadata": {
        "id": "OW3LNuktJNSd",
        "colab_type": "code",
        "outputId": "fbda9726-8df2-4812-8251-12e5298fd48b",
        "colab": {
          "base_uri": "https://localhost:8080/",
          "height": 35
        }
      },
      "source": [
        "# 경로 변경\n",
        "cd /content/gdrive/My Drive/AIBM/20191016/pytest/"
      ],
      "execution_count": 20,
      "outputs": [
        {
          "output_type": "stream",
          "text": [
            "/content/gdrive/My Drive/AIBM/20191016/pytest\n"
          ],
          "name": "stdout"
        }
      ]
    },
    {
      "cell_type": "code",
      "metadata": {
        "id": "ff9MJD0qJv-M",
        "colab_type": "code",
        "colab": {}
      },
      "source": [
        "# Save Model\n",
        "# multidimensional numpy arrays를 저장할 수 있는 h5 file(HDF) 포맷으로 저장한다\n",
        "model.save('text_binary_model.h5')\n",
        "\n",
        "\n",
        "# 훈련데이터에서 사용된 상위빈도 10,000개의 단어로 된 Tokenizer 저장\n",
        "# 새로 입력되는 문장에서도 같은 단어가 추출되게 한다\n",
        "import pickle\n",
        "with open('text_binary_tokenizer.pickle', 'wb') as handle:\n",
        "  pickle.dump(tokenizer, handle, protocol=pickle.HIGHEST_PROTOCOL)"
      ],
      "execution_count": 0,
      "outputs": []
    },
    {
      "cell_type": "code",
      "metadata": {
        "id": "KX6DFPtVLBkm",
        "colab_type": "code",
        "colab": {
          "base_uri": "https://localhost:8080/",
          "height": 55
        },
        "outputId": "e2e015a5-3dd4-4d97-b08d-b24d2f44f579"
      },
      "source": [
        "# Accuracy & Loss 확인\n",
        "# history 딕셔너리 안에 있는 정확도와 손실값을 가져와 본다\n",
        "# 직접 작성\n",
        "\n",
        "acc = history.history['acc'] \n",
        "val_acc = history.history['val_acc'] \n",
        "loss = history.history['loss'] \n",
        "val_loss = history.history['val_loss']\n",
        "\n",
        "print('Accuracy of each epoch:', acc) # [0.79, 0.90, 0.93, 0.94, 0.96, 0.97, 0.98, 0.98, 0.98, 0.99] \n",
        "epochs = range(1, len(acc) +1) # range(1, 11)"
      ],
      "execution_count": 36,
      "outputs": [
        {
          "output_type": "stream",
          "text": [
            "Accuracy of each epoch: [1.0, 1.0, 1.0, 1.0, 1.0, 1.0, 1.0, 1.0, 1.0, 1.0, 1.0, 1.0, 1.0, 1.0, 1.0, 1.0, 1.0, 1.0, 1.0, 1.0, 1.0, 1.0, 1.0, 1.0, 1.0, 1.0, 1.0, 1.0, 1.0, 1.0]\n"
          ],
          "name": "stdout"
        }
      ]
    },
    {
      "cell_type": "code",
      "metadata": {
        "id": "46S6mH6yLRKE",
        "colab_type": "code",
        "colab": {
          "base_uri": "https://localhost:8080/",
          "height": 299
        },
        "outputId": "c68ecc85-a233-4d7d-a429-e17d79b1a757"
      },
      "source": [
        "# Plotting Accuracy\n",
        "# 직접 작성\n",
        "\n",
        "import matplotlib.pyplot as plt\n",
        "\n",
        "# 훈련데이터의 정확도에 비해 검증데이터의 정확도는 낮게 나타난다 \n",
        "# epoch가 늘어나면 모델은 훈련데이터에 매우 민감해져(과대적합) 오히려 새로운 데이터를 잘 못 맞춘다 \n",
        "\n",
        "plt.plot(epochs, acc, 'bo', label='Training Acc') \n",
        "plt.plot(epochs, val_acc, 'b', label='Validation Acc') \n",
        "plt.title('Training and validation accuracy') \n",
        "plt.legend() "
      ],
      "execution_count": 37,
      "outputs": [
        {
          "output_type": "execute_result",
          "data": {
            "text/plain": [
              "<matplotlib.legend.Legend at 0x7fd39f6b0e10>"
            ]
          },
          "metadata": {
            "tags": []
          },
          "execution_count": 37
        },
        {
          "output_type": "display_data",
          "data": {
            "image/png": "[encoded data removed]",
            "text/plain": [
              "<Figure size 432x288 with 1 Axes>"
            ]
          },
          "metadata": {
            "tags": []
          }
        }
      ]
    },
    {
      "cell_type": "code",
      "metadata": {
        "id": "x92OIlNBLlr7",
        "colab_type": "code",
        "colab": {
          "base_uri": "https://localhost:8080/",
          "height": 281
        },
        "outputId": "2a01cee0-21cf-42de-ed3e-ae274e258c3b"
      },
      "source": [
        "# Plotting Loss\n",
        "# 직접 작성\n",
        "\n",
        "plt.figure()    # 새로운 그림을 그린다\n",
        "# 훈련데이터의 손실값은 낮아지나, 검증데이터의 손실값은 높아진다 \n",
        "# 손실값은 오류값을 말한다. 예측과 정답의 차이를 거리 계산으로 구한 값이다 \n",
        "\n",
        "plt.plot(epochs, loss, 'bo', label='Training Loss') \n",
        "plt.plot(epochs, val_loss, 'b', label='Validation Loss') \n",
        "plt.title('Training and validation loss') \n",
        "plt.legend()\n",
        "\n",
        "plt.show()"
      ],
      "execution_count": 38,
      "outputs": [
        {
          "output_type": "display_data",
          "data": {
            "image/png": "[encoded data removed]",
            "text/plain": [
              "<Figure size 432x288 with 1 Axes>"
            ]
          },
          "metadata": {
            "tags": []
          }
        }
      ]
    },
    {
      "cell_type": "code",
      "metadata": {
        "id": "YdSjF0UoL-zX",
        "colab_type": "code",
        "colab": {
          "base_uri": "https://localhost:8080/",
          "height": 53
        },
        "outputId": "ab2e6ee1-d0ec-4e15-c06d-a414dd3911ab"
      },
      "source": [
        "# Load Model\n",
        "import os\n",
        "from keras.models import load_model\n",
        "\n",
        "filepath = '/content/gdrive/My Drive/AIBM/20191016/pytest/'\n",
        "os.chdir(filepath)\n",
        "print(\"Current Directory:\", os.getcwd())\n",
        "\n",
        "loaded_model = load_model('text_binary_model.h5')\n",
        "print(\"model loaded:\", loaded_model)\n",
        "\n",
        "with open('text_binary_tokenizer.pickle', 'rb') as handle:\n",
        "  loaded_tokenizer = pickle.load(handle)"
      ],
      "execution_count": 39,
      "outputs": [
        {
          "output_type": "stream",
          "text": [
            "Current Directory: /content/gdrive/My Drive/AIBM/20191016/pytest\n",
            "model loaded: <keras.engine.sequential.Sequential object at 0x7fd39f659da0>\n"
          ],
          "name": "stdout"
        }
      ]
    },
    {
      "cell_type": "code",
      "metadata": {
        "id": "BkREhL_RNgei",
        "colab_type": "code",
        "colab": {}
      },
      "source": [
        "# Test Data Loading\n",
        "test_dir = os.path.join(imdb_dir, 'test')\n",
        "labels = [] ; texts = []\n",
        "\n",
        "for label_type in ['neg', 'pos']:\n",
        "  dir_name = os.path.join(test_dir, label_type)\n",
        "  for fname in os.listdir(dir_name):\n",
        "    if fname[-4:] == '.txt':\n",
        "      f = open(os.path.join(dir_name, fname), encoding='utf8')\n",
        "      texts.append(f.read())\n",
        "      f.close()\n",
        "      if label_type == 'neg':\n",
        "        labels.append(0)\n",
        "      else:\n",
        "        labels.append(1)"
      ],
      "execution_count": 0,
      "outputs": []
    },
    {
      "cell_type": "code",
      "metadata": {
        "id": "BR-PxsNkN-PI",
        "colab_type": "code",
        "colab": {
          "base_uri": "https://localhost:8080/",
          "height": 73
        },
        "outputId": "e0170080-473b-4ae7-8b19-f818afb997f2"
      },
      "source": [
        "# Data 확인\n",
        "print('texts:', texts[0])\n",
        "print('texts len:', len(texts))"
      ],
      "execution_count": 41,
      "outputs": [
        {
          "output_type": "stream",
          "text": [
            "texts: Wow, another Kevin Costner hero movie. Postman, Tin Cup, Waterworld, Bodyguard, Wyatt Earp, Robin Hood, even that baseball movie. Seems like he makes movies specifically to be the center of attention. The characters are almost always the same ... the heroics, the flaws, the greatness, the fall, the redemption. Yup, within the 1st 5 minutes of the movie, we're all supposed to be in awe of his character, and it builds up more and more from there.<br /><br />And this time the story ... story? ... is just a collage of different movies. You don't need a spoiler; you've seen this movie several times, though it had different titles. You'll know what will happen way before it happens. This is like mixing An Officer and a Gentleman with Backdraft, but both are easily better movies. Watch Backdraft to see how this kind of movie should be made ... and also to see how an good but slightly underrated actor, Russell, plays the hero.\n",
            "texts len: 20\n"
          ],
          "name": "stdout"
        }
      ]
    },
    {
      "cell_type": "code",
      "metadata": {
        "id": "Jmmu_JkSODJH",
        "colab_type": "code",
        "colab": {}
      },
      "source": [
        "# Data Sequencing\n",
        "# 직접 작성\n",
        "\n",
        "# 문자열을 word_index의 숫자 리스트로 변환 \n",
        "data = loaded_tokenizer.texts_to_sequences(texts)\n",
        "\n",
        "# padding으로 문자열의 길이를 고정시킨다 \n",
        "data = pad_sequences(data, maxlen=maxlen) \n",
        "\n",
        "# test 데이터를 원-핫 인코딩한다 \n",
        "x_test = to_one_hot(data, dimension=max_words)\n",
        "\n",
        "# label을 list에서 넘파이 배열로 변환. 결과가 0 또는 1만 나오므로 이와같이 int32로 저장해도 된다. \n",
        "y_test = np.asarray(labels)"
      ],
      "execution_count": 0,
      "outputs": []
    },
    {
      "cell_type": "code",
      "metadata": {
        "id": "gEEE6VIKOPJC",
        "colab_type": "code",
        "colab": {
          "base_uri": "https://localhost:8080/",
          "height": 53
        },
        "outputId": "9e79de9d-39be-4f41-9b8d-ecd299eeb441"
      },
      "source": [
        "# Test Data Evaluation\n",
        "test_eval = loaded_model.evaluate(x_test, y_test)\t  # 모델에 분류할 데이터와 그 정답을 같이 넣어준다\n",
        "print('prediction model loss & acc:', test_eval)\t\t# 모델이 분류한 결과와 입력된 정답을 비교한 결과"
      ],
      "execution_count": 43,
      "outputs": [
        {
          "output_type": "stream",
          "text": [
            "\r20/20 [==============================] - 0s 5ms/step\n",
            "prediction model loss & acc: [0.8700741529464722, 0.6000000238418579]\n"
          ],
          "name": "stdout"
        }
      ]
    },
    {
      "cell_type": "code",
      "metadata": {
        "id": "xnvfHT1GOYwd",
        "colab_type": "code",
        "colab": {
          "base_uri": "https://localhost:8080/",
          "height": 35
        },
        "outputId": "bacc36e9-34a1-4845-9559-5f897fd972b7"
      },
      "source": [
        "# 1개 데이터 예측\n",
        "# 직접 작성\n",
        "\n",
        "text = [\"Hi, this is a test sentence.\"]                              # 데이터를 list 타입으로 만든다 \n",
        "data = loaded_tokenizer.texts_to_sequences(text)\n",
        "data = pad_sequences(data, maxlen=maxlen) \n",
        "x_test = to_one_hot(data, dimension=max_words)\n",
        "\n",
        "prediction = loaded_model.predict(x_test) \n",
        "print(\"Result:\", prediction) # [[0.57845604]]. 1이 될 확률이 57.8%"
      ],
      "execution_count": 44,
      "outputs": [
        {
          "output_type": "stream",
          "text": [
            "Result: [[0.6138221]]\n"
          ],
          "name": "stdout"
        }
      ]
    },
    {
      "cell_type": "code",
      "metadata": {
        "id": "zW0tFkZtnNaI",
        "colab_type": "code",
        "colab": {}
      },
      "source": [
        ""
      ],
      "execution_count": 0,
      "outputs": []
    }
  ]
}