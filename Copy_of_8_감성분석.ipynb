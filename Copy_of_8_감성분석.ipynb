{
  "nbformat": 4,
  "nbformat_minor": 0,
  "metadata": {
    "colab": {
      "name": "Copy of 8_감성분석.ipynb",
      "provenance": [],
      "collapsed_sections": [],
      "include_colab_link": true
    },
    "kernelspec": {
      "name": "python3",
      "display_name": "Python 3"
    }
  },
  "cells": [
    {
      "cell_type": "markdown",
      "metadata": {
        "id": "view-in-github",
        "colab_type": "text"
      },
      "source": [
        "<a href=\"https://colab.research.google.com/github/ensemble-on/ChatterBot/blob/master/Copy_of_8_%EA%B0%90%EC%84%B1%EB%B6%84%EC%84%9D.ipynb\" target=\"_parent\"><img src=\"https://colab.research.google.com/assets/colab-badge.svg\" alt=\"Open In Colab\"/></a>"
      ]
    },
    {
      "cell_type": "markdown",
      "metadata": {
        "id": "_u2OnNFTQD6z",
        "colab_type": "text"
      },
      "source": [
        "# 사전을 이용한 감성분석"
      ]
    },
    {
      "cell_type": "code",
      "metadata": {
        "id": "BVEu8kuHs6a9",
        "colab_type": "code",
        "outputId": "1a54c6e7-284b-4f31-b64c-db3516ba58a6",
        "colab": {
          "base_uri": "https://localhost:8080/",
          "height": 35
        }
      },
      "source": [
        "# from google.colab import auth\n",
        "# auth.authenticate_user()\n",
        "\n",
        "from google.colab import drive\n",
        "drive.mount('/content/gdrive')"
      ],
      "execution_count": 5,
      "outputs": [
        {
          "output_type": "stream",
          "text": [
            "Drive already mounted at /content/gdrive; to attempt to forcibly remount, call drive.mount(\"/content/gdrive\", force_remount=True).\n"
          ],
          "name": "stdout"
        }
      ]
    },
    {
      "cell_type": "code",
      "metadata": {
        "id": "pBrTekxTtVip",
        "colab_type": "code",
        "outputId": "30f6b4c8-4f76-4f03-89f8-fbbfdd7f1ec5",
        "colab": {
          "base_uri": "https://localhost:8080/",
          "height": 377
        }
      },
      "source": [
        "# 형태소분석기 관련 설치\n",
        "!apt-get update\n",
        "!apt-get install g++ openjdk-8-jdk\n",
        "\n",
        "!pip install JPype1==0.7.0\n",
        "!pip install rhinoMorph"
      ],
      "execution_count": 6,
      "outputs": [
        {
          "output_type": "stream",
          "text": [
            "\r0% [Working]\r            \rHit:1 http://security.ubuntu.com/ubuntu bionic-security InRelease\n",
            "\r0% [Connecting to archive.ubuntu.com (91.189.88.162)] [Connected to cloud.r-pro\r0% [1 InRelease gpgv 88.7 kB] [Connecting to archive.ubuntu.com (91.189.88.162)\r                                                                               \rHit:2 https://cloud.r-project.org/bin/linux/ubuntu bionic-cran35/ InRelease\n",
            "\r0% [1 InRelease gpgv 88.7 kB] [Waiting for headers] [Waiting for headers] [Wait\r                                                                               \rIgn:3 https://developer.download.nvidia.com/compute/cuda/repos/ubuntu1804/x86_64  InRelease\n",
            "\r                                                                               \r0% [1 InRelease gpgv 88.7 kB] [Waiting for headers] [Waiting for headers]\r                                                                         \rHit:4 http://ppa.launchpad.net/graphics-drivers/ppa/ubuntu bionic InRelease\n",
            "\r0% [1 InRelease gpgv 88.7 kB] [Waiting for headers] [Waiting for headers]\r                                                                         \rIgn:5 https://developer.download.nvidia.com/compute/machine-learning/repos/ubuntu1804/x86_64  InRelease\n",
            "\r0% [1 InRelease gpgv 88.7 kB] [Waiting for headers] [Connecting to ppa.launchpa\r                                                                               \rHit:6 http://archive.ubuntu.com/ubuntu bionic InRelease\n",
            "\r0% [1 InRelease gpgv 88.7 kB] [Connecting to archive.ubuntu.com (91.189.88.162)\r                                                                               \rHit:7 https://developer.download.nvidia.com/compute/cuda/repos/ubuntu1804/x86_64  Release\n",
            "\r0% [1 InRelease gpgv 88.7 kB] [Connecting to archive.ubuntu.com (91.189.88.162)\r                                                                               \rHit:8 https://developer.download.nvidia.com/compute/machine-learning/repos/ubuntu1804/x86_64  Release\n",
            "\r0% [1 InRelease gpgv 88.7 kB] [Connecting to archive.ubuntu.com (91.189.88.162)\r                                                                               \r0% [Connecting to archive.ubuntu.com (91.189.88.162)] [Waiting for headers]\r0% [2 InRelease gpgv 3,626 B] [Connecting to archive.ubuntu.com (91.189.88.162)\r                                                                               \rHit:9 http://ppa.launchpad.net/marutter/c2d4u3.5/ubuntu bionic InRelease\n",
            "\r                                                                               \r0% [2 InRelease gpgv 3,626 B] [Waiting for headers]\r                                                   \rHit:10 http://archive.ubuntu.com/ubuntu bionic-updates InRelease\n",
            "Hit:11 http://archive.ubuntu.com/ubuntu bionic-backports InRelease\n",
            "Reading package lists... Done\n",
            "Reading package lists... Done\n",
            "Building dependency tree       \n",
            "Reading state information... Done\n",
            "g++ is already the newest version (4:7.4.0-1ubuntu2.3).\n",
            "openjdk-8-jdk is already the newest version (8u222-b10-1ubuntu1~18.04.1).\n",
            "0 upgraded, 0 newly installed, 0 to remove and 147 not upgraded.\n",
            "Requirement already satisfied: JPype1==0.7.0 in /usr/local/lib/python3.6/dist-packages (0.7.0)\n",
            "Requirement already satisfied: rhinoMorph in /usr/local/lib/python3.6/dist-packages (2.7.1.11)\n"
          ],
          "name": "stdout"
        }
      ]
    },
    {
      "cell_type": "code",
      "metadata": {
        "id": "X_gS6zBDtaFU",
        "colab_type": "code",
        "outputId": "99456fad-75c6-4236-e9be-e62603b2eaa2",
        "colab": {
          "base_uri": "https://localhost:8080/",
          "height": 35
        }
      },
      "source": [
        "# 경로 변경\n",
        "cd /content/gdrive/My Drive/AIBM/20191016/pytest/"
      ],
      "execution_count": 7,
      "outputs": [
        {
          "output_type": "stream",
          "text": [
            "/content/gdrive/My Drive/AIBM/20191016/pytest\n"
          ],
          "name": "stdout"
        }
      ]
    },
    {
      "cell_type": "code",
      "metadata": {
        "id": "Y6Wr01MHw8RA",
        "colab_type": "code",
        "outputId": "81a3754b-20cd-42b6-dfd1-ca0411ace8d9",
        "colab": {
          "base_uri": "https://localhost:8080/",
          "height": 71
        }
      },
      "source": [
        "# 형태분석된 데이터 로딩\n",
        "def read_data(filename, encoding='cp949'):               # 읽기 함수 정의\n",
        "  with open(filename, 'r', encoding=encoding) as f:\n",
        "    data = [line.split('\\t') for line in f.read().splitlines()]\n",
        "    data = data[1:]                                      # txt 파일의 헤더(id document label)는 제외하기\n",
        "  return data\n",
        "\n",
        "def write_data(data, filename, encoding='cp949'):        # 쓰기 함수 정의\n",
        "  with open(filename, 'w', encoding=encoding) as f:\n",
        "    f.write(data)\n",
        "\n",
        "data = read_data('ratings_morphed.txt', encoding='cp949')\n",
        "\n",
        "print(len(data))\n",
        "print(len(data[0])) \n",
        "print(data[0])"
      ],
      "execution_count": 8,
      "outputs": [
        {
          "output_type": "stream",
          "text": [
            "197447\n",
            "3\n",
            "['8132799', '디자인 배우 학생 외국 디자이너 일군 전통 통하 발전하 가 문화 산업 부럽 사실 우리나라 그 어렵 시절 끝 열정 지키 노라노 같 전통 있 같 사람 꿈 꾸 이루 나가 있 감사하', '1']\n"
          ],
          "name": "stdout"
        }
      ]
    },
    {
      "cell_type": "code",
      "metadata": {
        "id": "BuC536B_x2sC",
        "colab_type": "code",
        "colab": {}
      },
      "source": [
        "# 감정사전 읽기\n",
        "# 직접 작성\n",
        "data_id = [line[0] for line in data]       # 데이터 id\n",
        "data_text = [line[1] for line in data]     # 데이터 본문 \n",
        "data_senti = [line[2] for line in data]    # 데이터 긍부정 부분\n",
        "\n",
        "positive = read_data('positive.txt') # 긍정 감정사전 읽기 \n",
        "negative = read_data('negative.txt') # 부정 감정사전 읽기\n",
        "\n",
        "pos_found = [] \n",
        "neg_found = []"
      ],
      "execution_count": 0,
      "outputs": []
    },
    {
      "cell_type": "code",
      "metadata": {
        "id": "v4G2aenqyKD4",
        "colab_type": "code",
        "colab": {
          "base_uri": "https://localhost:8080/",
          "height": 53
        },
        "outputId": "a1b5280b-d496-4611-df59-94461bc71e7a"
      },
      "source": [
        "# 감정단어 파악\n",
        "\n",
        "def cntWordInLine(data, senti):\n",
        "  senti_found = []\n",
        "  for onedata in data:\n",
        "    oneline_word = onedata.split(' ')       # 한 줄의 데이터를 공백 단위로 분리하여 리스트로 저장\n",
        "    senti_temp = 0\n",
        "    for sentiword in senti:\n",
        "      if sentiword[0] in oneline_word:      # posword[0] 하여 리스트를 문자열로 추출\n",
        "        senti_temp += 1                     # 현재의 감정단어와 일치하면 숫자를 하나 올려 줌 (중복은 계산 안 함)\n",
        "    senti_found.append(senti_temp)          # 현재의 줄에서 찾은 감성단어의 숫자를 해당 위치에 저장\n",
        "  return senti_found\n",
        "      \n",
        "      \n",
        "data_senti_poscnt = cntWordInLine(data_text, positive)      # 발견된 긍정 단어의 숫자 파악\n",
        "data_senti_negcnt = cntWordInLine(data_text, negative)      # 발견된 부정 단어의 숫자 파악\n",
        "\n",
        "print(data_senti_poscnt[:20])\n",
        "print(data_senti_negcnt[:20])"
      ],
      "execution_count": 10,
      "outputs": [
        {
          "output_type": "stream",
          "text": [
            "[5, 1, 0, 0, 2, 1, 0, 0, 0, 1, 1, 1, 0, 1, 2, 0, 1, 0, 1, 0]\n",
            "[1, 0, 1, 0, 0, 0, 1, 0, 0, 0, 0, 0, 0, 0, 1, 0, 0, 1, 0, 1]\n"
          ],
          "name": "stdout"
        }
      ]
    },
    {
      "cell_type": "code",
      "metadata": {
        "id": "KGH-aIR3yK0e",
        "colab_type": "code",
        "colab": {}
      },
      "source": [
        "# 감정점수 계산\n",
        "# Pandas 데이터프레임으로 저장\n",
        "import pandas as pd\n",
        "newdata = pd.DataFrame({'id':data_id, 'text':data_text, 'original':data_senti, 'pos':data_senti_poscnt, 'neg':data_senti_negcnt})\n",
        "senti_score = newdata['pos'] - newdata['neg']      # 긍정개수에서 부정개수를 뺌\n",
        "newdata['senti_score'] = senti_score               # 그 수를 senti_score 컬럼에 저장 \n",
        "\n",
        "newdata.loc[newdata.senti_score > 0, 'new'] = 1    # 새로운 긍부정 기호\n",
        "newdata.loc[newdata.senti_score <= 0, 'new'] = 0   # 새로운 긍부정 기호\n",
        "\n",
        "# 처음에 기록된 긍부정과 새로 계산된 긍부정이 같은지 여부를 matched 컬럼에 저장\n",
        "# original 컬럼은 문자로 되어 있으므로 숫자로 변환 뒤 비교 \n",
        "# 직접 작성\n",
        "newdata.loc[pd.to_numeric(newdata.original) == newdata.new, 'matched'] = 'True' \n",
        "newdata.loc[pd.to_numeric(newdata.original) != newdata.new, 'matched'] = 'False'"
      ],
      "execution_count": 0,
      "outputs": []
    },
    {
      "cell_type": "code",
      "metadata": {
        "id": "DFek1Jo7y_jz",
        "colab_type": "code",
        "colab": {
          "base_uri": "https://localhost:8080/",
          "height": 35
        },
        "outputId": "c5b05274-ea85-4bfc-c147-0e1c3b627e3b"
      },
      "source": [
        "# 원점수와 비교 및 저장\n",
        "# 직접 작성\n",
        "\n",
        "score = newdata.matched.str.count('True').sum() / (newdata.matched.str.count('True').sum() \n",
        "                                  + newdata.matched.str.count('False').sum()) * 100 \n",
        "print(score)\n",
        "newdata.to_csv('newfile.csv', sep=',', encoding='cp949', index=False) # csv 저장 \n",
        "newdata.to_csv('newfile2.txt', sep='\\t', encoding='cp949', index=False) # 또는 txt 저장\n"
      ],
      "execution_count": 12,
      "outputs": [
        {
          "output_type": "stream",
          "text": [
            "62.40459465071639\n"
          ],
          "name": "stdout"
        }
      ]
    },
    {
      "cell_type": "code",
      "metadata": {
        "id": "rmdH7CMI46AQ",
        "colab_type": "code",
        "colab": {}
      },
      "source": [
        "# 시그모이드 점수 계산\n",
        "import math\n",
        "def sigmoid(x):\n",
        "  return 1 / (1 + math.exp(-x))\n",
        "\n",
        "newdata['sigmoid'] = newdata.senti_score.apply(sigmoid)"
      ],
      "execution_count": 0,
      "outputs": []
    },
    {
      "cell_type": "code",
      "metadata": {
        "id": "BmMpeofz59tf",
        "colab_type": "code",
        "colab": {
          "base_uri": "https://localhost:8080/",
          "height": 251
        },
        "outputId": "648b0a9d-6f4c-4cf0-fc03-617ed78baf8a"
      },
      "source": [
        "# 결과 확인\n",
        "# 직접 작성\n",
        "pd.set_option('display.max_columns', 10)     # 결과 컬럼 확장\n",
        "print(newdata.iloc[:5, :])"
      ],
      "execution_count": 14,
      "outputs": [
        {
          "output_type": "stream",
          "text": [
            "         id                                               text original  pos  \\\n",
            "0   8132799  디자인 배우 학생 외국 디자이너 일군 전통 통하 발전하 가 문화 산업 부럽 사실 우...        1    5   \n",
            "1   4655635                                  폴리스스토리 시리즈 뉴 없 최고        1    1   \n",
            "2   9251303                와 연기 진짜 쩔 지루하 생각하 몰입하 보 그래 이런 진짜 영화        1    0   \n",
            "3  10067386                              안개 자욱하 밤하늘 뜨 초승달 같 영화        1    0   \n",
            "4   2190435                               사랑 해보 사람 처음 끝 웃 있 영화        1    2   \n",
            "\n",
            "   neg  senti_score  new matched   sigmoid  \n",
            "0    1            4  1.0    True  0.982014  \n",
            "1    0            1  1.0    True  0.731059  \n",
            "2    1           -1  0.0   False  0.268941  \n",
            "3    0            0  0.0   False  0.500000  \n",
            "4    0            2  1.0    True  0.880797  \n"
          ],
          "name": "stdout"
        }
      ]
    },
    {
      "cell_type": "markdown",
      "metadata": {
        "id": "xZy5hPP1QJEA",
        "colab_type": "text"
      },
      "source": [
        "# 머신러닝을 이용한 감성분석"
      ]
    },
    {
      "cell_type": "code",
      "metadata": {
        "id": "jtY89dUKNfVH",
        "colab_type": "code",
        "colab": {
          "base_uri": "https://localhost:8080/",
          "height": 71
        },
        "outputId": "4c71518e-7c4b-4541-930f-9e29d96f0008"
      },
      "source": [
        "# 형태분석된 데이터 로딩\n",
        "def read_data(filename, encoding='cp949'):               # 읽기 함수 정의\n",
        "  with open(filename, 'r', encoding=encoding) as f:\n",
        "    data = [line.split('\\t') for line in f.read().splitlines()]\n",
        "    data = data[1:]                                      # txt 파일의 헤더(id document label)는 제외하기\n",
        "  return data\n",
        "\n",
        "def write_data(data, filename, encoding='cp949'):        # 쓰기 함수 정의\n",
        "  with open(filename, 'w', encoding=encoding) as f:\n",
        "    f.write(data)\n",
        "\n",
        "data = read_data('ratings_morphed.txt', encoding='cp949')\n",
        "\n",
        "print(len(data))\n",
        "print(len(data[0])) \n",
        "print(data[0])"
      ],
      "execution_count": 15,
      "outputs": [
        {
          "output_type": "stream",
          "text": [
            "197447\n",
            "3\n",
            "['8132799', '디자인 배우 학생 외국 디자이너 일군 전통 통하 발전하 가 문화 산업 부럽 사실 우리나라 그 어렵 시절 끝 열정 지키 노라노 같 전통 있 같 사람 꿈 꾸 이루 나가 있 감사하', '1']\n"
          ],
          "name": "stdout"
        }
      ]
    },
    {
      "cell_type": "code",
      "metadata": {
        "id": "Pbmslz2z5Hnz",
        "colab_type": "code",
        "colab": {
          "base_uri": "https://localhost:8080/",
          "height": 53
        },
        "outputId": "9c9927ed-a43d-4ace-c09e-453845b9db1b"
      },
      "source": [
        "# 훈련데이터와 테스트데이터 분리 (자동)\n",
        "# 직접 작성\n",
        "data_text = [line[1] for line in data]  # 데이터 본문\n",
        "data_senti = [line[2] for line in data] # 데이터 긍부정 부분\n",
        "\n",
        "from sklearn.model_selection import train_test_split\n",
        "train_data_text, test_data_text, train_data_senti, test_data_senti = train_test_split(data_text, data_senti, stratify=data_senti)\n",
        "\n",
        "# Counter 클래스를 이용해 각 분류가 훈련데이터와 테스트데이터에 같은 비율로 들어갔는지 확인해 본다 \n",
        "from collections import Counter\n",
        "train_data_senti_freq = Counter(train_data_senti)\n",
        "print('train_data_senti_freq:', train_data_senti_freq)\n",
        "\n",
        "test_data_senti_freq = Counter(test_data_senti)\n",
        "print('test_data_senti_freq:', test_data_senti_freq)"
      ],
      "execution_count": 16,
      "outputs": [
        {
          "output_type": "stream",
          "text": [
            "train_data_senti_freq: Counter({'1': 74098, '0': 73987})\n",
            "test_data_senti_freq: Counter({'1': 24699, '0': 24663})\n"
          ],
          "name": "stdout"
        }
      ]
    },
    {
      "cell_type": "code",
      "metadata": {
        "id": "5Tz5Wg2HRH9P",
        "colab_type": "code",
        "colab": {
          "base_uri": "https://localhost:8080/",
          "height": 53
        },
        "outputId": "a9950b83-4ba7-411c-9fc4-44606500f3cb"
      },
      "source": [
        "# 훈련데이터와 테스트데이터 분리 (수동)\n",
        "# 직접 작성\n",
        "\n",
        "import random \n",
        "random.shuffle(data)                            # 랜덤하게 섞는다\n",
        "\n",
        "data_70 = int(len(data)*0.7) # 전체 데이터 크기의 70% 숫자를 찾는다 \n",
        "train_data = data[:data_70] # 앞에서 70% 부분을 잘라 훈련데이터로 \n",
        "test_data = data[data_70:] # 그 뒷부분을 테스트데이터로\n",
        "\n",
        "print('train data length:', len(train_data))    # 138212 \n",
        "print('test data length:', len(test_data))      # 59235\n",
        "\n",
        "# 훈련데이터 요소 분리 \n",
        "train_data_text = [line[1] for line in train_data]      # 훈련데이터 본문 \n",
        "train_data_senti = [line[2] for line in train_data]     # 훈련데이터 긍부정 부분\n",
        "\n",
        "# 테스트데이터 요소 분리 \n",
        "test_data_text = [line[1] for line in test_data]        # 테스트데이터 본문 \n",
        "test_data_senti = [line[2] for line in test_data]       # 테스트데이터 긍부정 부분"
      ],
      "execution_count": 17,
      "outputs": [
        {
          "output_type": "stream",
          "text": [
            "train data length: 138212\n",
            "test data length: 59235\n"
          ],
          "name": "stdout"
        }
      ]
    },
    {
      "cell_type": "code",
      "metadata": {
        "id": "z_eEoXCeR-ss",
        "colab_type": "code",
        "colab": {
          "base_uri": "https://localhost:8080/",
          "height": 71
        },
        "outputId": "173977de-6611-4d5d-e6b3-ff0111a8b314"
      },
      "source": [
        "# 행렬 형태로 변환\n",
        "# 직접 작성\n",
        "\n",
        "from sklearn.feature_extraction.text import CountVectorizer \n",
        "vect = CountVectorizer(min_df=5).fit(train_data_text) # 빈도 5이상의 단어만 대상 \n",
        "X_train = vect.transform(train_data_text) # 행렬 생성 \n",
        "print(\"X_train:\\n\", repr(X_train))"
      ],
      "execution_count": 18,
      "outputs": [
        {
          "output_type": "stream",
          "text": [
            "X_train:\n",
            " <138212x11894 sparse matrix of type '<class 'numpy.int64'>'\n",
            "\twith 767517 stored elements in Compressed Sparse Row format>\n"
          ],
          "name": "stdout"
        }
      ]
    },
    {
      "cell_type": "code",
      "metadata": {
        "id": "1tpj8Bx3SuSt",
        "colab_type": "code",
        "colab": {
          "base_uri": "https://localhost:8080/",
          "height": 109
        },
        "outputId": "81a2b1d6-a6a5-4b81-e9e9-18bb6b1a21e7"
      },
      "source": [
        "# 행렬 내용 관찰\n",
        "# 직접 작성\n",
        "feature_names = vect.get_feature_names() \n",
        "print(\"특성 개수:\", len(feature_names)) \n",
        "print(\"처음 20개 특성:\\m\", feature_names[:20]) \n",
        "print(\"3000~5000까지의 특성:\\n\", feature_names[3000:5000])"
      ],
      "execution_count": 19,
      "outputs": [
        {
          "output_type": "stream",
          "text": [
            "특성 개수: 11894\n",
            "처음 20개 특성:\\m ['007', '10점', '1빠', '24', 'cgv', 'ebs', 'jtbc', 'kbs', 'la', 'mb', 'mbc', 'naver', 'new', 'ok', 'sbs', 'sns', 'tv', 'ㄴㄴ', 'ㄷㄷ', 'ㅂㄷㅂㄷ']\n",
            "3000~5000까지의 특성:\n",
            " ['롯데', '롯데시네마', '롱테이크', '료코', '루나', '루니', '루머', '루비', '루스', '루시', '루이', '루이스', '루저', '루즈', '루카스', '루크', '루키', '룰렛', '룸메이트', '류승범', '르네', '르네상스', '르노', '리가', '리그', '리나', '리더', '리더쉽', '리더십', '리드', '리들리', '리듬', '리딩', '리리', '리마', '리만', '리메이크', '리메이크되', '리메이크하', '리모컨', '리모콘', '리버', '리뷰', '리브', '리브스', '리사', '리스', '리스트', '리슨', '리안', '리암', '리액션', '리언', '리얼', '리얼리즘', '리얼리티', '리오', '리즈', '리차드', '리처드', '리치', '리콜', '리키', '리턴', '리틀', '리포트', '리플', '리플리', '린다', '린이', '린제이', '린지', '린치', '릴리', '립싱크', '링컨', '링크', '마가', '마가렛', '마감하', '마고', '마구', '마구잡이', '마귀', '마나', '마냥', '마네킹', '마녀', '마녀사냥', '마누라', '마니아', '마담', '마당', '마더', '마돈나', '마동석', '마디', '마땅', '마땅하', '마땅히', '마라도나', '마력', '마련', '마련하', '마루', '마르', '마른', '마리', '마리아', '마리옹', '마린', '마마', '마모루', '마무리', '마무리되', '마무리하', '마미', '마법', '마법사', '마보', '마블', '마비', '마빡', '마사', '마사미', '마샬', '마성', '마술', '마술사', '마스', '마스크', '마스터', '마시', '마실', '마약', '마왕', '마우스', '마을', '마음', '마음껏', '마음대로', '마음먹', '마음속', '마음씨', '마의', '마이', '마이너', '마이너리티', '마이너스', '마이애미', '마이어스', '마이크', '마이클', '마인드', '마저', '마주치', '마주하', '마중', '마지', '마지막', '마징가', '마찬가지', '마초', '마츠다', '마츠야마', '마치', '마침', '마침내', '마침표', '마케팅', '마코토', '마크', '마키', '마타', '마트', '마틴', '마피아', '마하', '막가', '막걸리', '막내', '막대하', '막론하', '막막하', '막말', '막무가내', '막바지', '막상', '막스', '막연하', '막이', '막장', '막지', '막판', '막히', '만가', '만그', '만끽하', '만나', '만날', '만남', '만능', '만담', '만들', '만들수', '만듦새', '만땅', '만만', '만만하', '만명', '만발', '만보', '만사', '만세', '만약', '만일', '만점', '만족', '만족감', '만족스럽', '만족하', '만지', '만찬', '만하', '만해', '만행', '만화', '만화가', '만화영화', '만화책', '만회하', '많이', '말기', '말길', '말년', '말로', '말론', '말리', '말빨', '말세', '말씀', '말씀하', '말아먹', '말없이', '말입', '말자', '말장난', '말종', '말초신경', '말코비치', '말타', '말투', '말하', '말하고', '말하기', '말해', '맘껏', '맘대로', '맘마', '맘마미아', '맘속', '맙소사', '맛깔', '맛나', '맛보', '맛없', '맛있', '맛집', '망가', '망가뜨리', '망가지', '망각', '망각하', '망상', '망설이', '망설임', '망신', '망이', '망인', '망처', '망쳐놓', '망치', '망친', '망토', '망하', '맞대', '맞먹', '맞물리', '맞서', '맞아떨어지', '맞추', '맞춤', '맞춤법', '맡기', '매개체', '매국노', '매기', '매끄럽', '매너', '매너리즘', '매년', '매니아', '매니저', '매달', '매달리', '매드', '매들린', '매력', '매력적', '매료되', '매미', '매번', '매염방', '매우', '매일', '매일매일', '매장', '매주', '매직', '매체', '매춘', '매춘부', '매치', '매튜', '매트릭스', '매혹', '매혹적', '매회', '맥과이어', '맥그리거', '맥라이언', '맥락', '맥빠지', '맥스', '맥아', '맥아더', '맥없', '맥이', '맥주', '맥퀸', '맥클레인', '맨날', '맨디', '맨몸', '맨발', '맨인블랙', '맴돌', '맴버', '맹꽁', '맹목적', '맹물', '맹세하', '맹인', '맹탕', '맺히', '머금', '머나멀', '머니', '머레이', '머리', '머리카락', '머리통', '머릿속', '머물', '머신', '머이', '머저리', '머피', '먹고살', '먹먹', '먹먹하', '먹방', '먹이', '먹칠', '먹칠하', '먹히', '먼데', '먼저', '먼지', '멀더', '멀리', '멀리서', '멀리하', '멀미', '멀쩡', '멀쩡하', '멀쩡히', '멈추', '멋대로', '멋모르', '멋스럽', '멋있', '멋지', '멍멍이', '멍청', '멍청이', '멍청하', '멍하', '멍하니', '메가', '메가박스', '메가폰', '메기', '메디컬', '메르스', '메리', '메릴', '메마르', '메멘토', '메모리', '메세', '메세지', '메소드', '메스', '메스껍', '메시지', '메어', '메오', '메우', '메이', '메이드', '메이슨', '메이저', '메이퀸', '메이크업', '메이킹', '메이트', '메인', '메카', '메카닉', '메타포', '메탈리카', '멕시코', '멘스', '멘탈', '멘트', '멜라니', '멜로', '멜로드라마', '멜로디', '멜로물', '멤버', '며느리', '며칠', '면도', '면모', '면상', '면암', '면하', '멸망', '멸망하', '멸종', '명감독', '명곡', '명과', '명대사', '명도', '명량', '명목', '명배우', '명백하', '명복', '명분', '명색', '명성', '명심하', '명언', '명에', '명연기', '명예', '명인', '명작', '명장', '명장면', '명절', '명치', '명탐정', '명품', '명화', '명확하', '명확히', '몇몇', '몇일', '모가지', '모건', '모기', '모녀', '모니', '모니카', '모니터', '모던', '모델', '모독', '모독이', '모독하', '모두', '모드', '모든', '모라', '모래', '모래시계', '모레', '모로', '모르', '모리', '모방', '모방하', '모범', '모성', '모성애', '모세', '모션', '모순', '모순되', '모스', '모습', '모시', '모야', '모양', '모양새', '모어', '모에', '모욕', '모욕감', '모욕하', '모으', '모음집', '모이', '모임', '모자', '모자라', '모자람', '모자르', '모자이크', '모조리', '모지', '모짜르트', '모차르트', '모처럼', '모태', '모텔', '모토', '모티브', '모험', '모호하', '모히칸', '목걸이', '목격하', '목록', '목마르', '목사', '목소리', '목숨', '목요일', '목욕', '목욕탕', '목적', '목표', '몬스터', '몰라보', '몰락', '몰락하', '몰래', '몰려오', '몰르', '몰리', '몰빵', '몰살', '몰상식하', '몰아', '몰아가', '몰아넣', '몰아치', '몰이', '몰입', '몰입감', '몰입도', '몰입되', '몰입하', '몸매', '몸부림', '몸소', '몸짓', '몹시', '못나', '못난이', '못내', '못되', '못살', '못생기', '못쓰', '못지않', '못하', '몽골', '몽땅', '몽롱하', '몽상', '몽상가', '몽정기', '몽키', '몽환', '몽환적', '묘미', '묘사', '묘사되', '묘사하', '묘하', '무가', '무간', '무감각', '무개', '무겁', '무게', '무게감', '무고하', '무공', '무관심', '무관하', '무교', '무기', '무기력', '무난', '무난하', '무난히', '무너뜨리', '무너지', '무녀', '무능', '무능력', '무능하', '무늬', '무단', '무당', '무대', '무덤', '무덤덤하', '무덥', '무도', '무디', '무라', '무라카미', '무려', '무력', '무력하', '무례하', '무료', '무료하', '무릎', '무릎팍', '무리', '무리수', '무리하', '무림', '무명', '무모하', '무미건조하', '무방하', '무법자', '무분별', '무비', '무사', '무상', '무색', '무색하', '무서', '무서움', '무서워하', '무섭', '무성영화', '무성의', '무술', '무술인', '무스', '무슨', '무시', '무시무시하', '무시하', '무식', '무식하', '무신경', '무신론자', '무심', '무심코', '무심하', '무안하', '무언', '무얼', '무엇', '무엇하', '무용', '무의미', '무의식', '무인', '무인도', '무자', '무자비', '무자식', '무작정', '무장', '무장하', '무적', '무전', '무조', '무조건', '무죄', '무지', '무지개', '무지막지하', '무지무지', '무지하', '무진', '무진장', '무찌르', '무차별', '무차별적', '무참히', '무책임', '무척', '무턱대고', '무표정', '무한', '무한대', '무협', '무협물', '묵묵히', '묵시록', '묵직하', '묶이', '문구', '문근영', '문득', '문란하', '문명', '문법', '문성근', '문소리', '문어', '문자', '문장', '문정희', '문제', '문제없', '문제의식', '문제작', '문제점', '문제지', '문채원', '문학', '문학관', '문학작품', '문학적', '문화', '문화적', '묻어나', '묻히', '물가', '물건', '물결', '물고기', '물귀신', '물들', '물량', '물려주', '물론', '물리', '물리치', '물보', '물속', '물씬', '물어내', '물어보', '물음', '물의', '물질', '물체', '물타기', '뭉개', '뭉치', '뭉클', '뭉클하', '뭍히', '뭐야', '뭐에', '뭐하', '뭣하', '뮤비', '뮤지션', '뮤지컬', '뮤직', '뮤직비디오', '뮬란', '미가', '미개', '미개하', '미국', '미국인', '미국판', '미군', '미끼', '미나', '미남', '미녀', '미니', '미달', '미덕', '미도', '미드', '미들', '미디어', '미라', '미란', '미란다', '미래', '미련', '미련하', '미로', '미루', '미리', '미만', '미모', '미묘', '미묘하', '미미하', '미사', '미사일', '미생', '미성년자', '미성숙', '미세스', '미세하', '미션', '미션임파서블', '미셸', '미소', '미소녀', '미숙', '미숙하', '미술', '미술관', '미쉘', '미스', '미스코리아', '미스터', '미스터리', '미스테리', '미신', '미쓰', '미아', '미안', '미안하', '미야자키', '미어', '미어지', '미에', '미완성', '미워하', '미이라', '미인', '미자', '미장센', '미쟝센', '미저리', '미적', '미적지근하', '미지', '미지근하', '미처', '미쳐', '미취학', '미치', '미치광이', '미친년', '미친놈', '미켈슨', '미키', '미필', '미학', '미학적', '미혼', '미혼모', '미화', '미화되', '미화하', '미흡', '미흡하', '믹스', '민간인', '민감하', '민경채', '민망', '민망하', '민비', '민세연', '민영화', '민이', '민정', '민족', '민주', '민주주의', '민주화', '민중', '민폐', '민호', '믿기', '믿음', '밀당', '밀도', '밀라', '밀러', '밀레니엄', '밀려오', '밀리', '밀양', '밀어내', '밀어붙이', '밀어주', '밀크', '밉상', '밋밋', '밋밋하', '밍밍', '밍밍하', '밑바닥', '바가지', '바꾸', '바꾸기', '바꿔주', '바뀌', '바니', '바닐라', '바다', '바닥', '바닷가', '바둑', '바디', '바라', '바라보', '바라지', '바람', '바람나', '바람둥이', '바람직하', '바래', '바램', '바로', '바르', '바르뎀', '바바라', '바바리', '바보', '바비', '바쁘', '바스코', '바우어', '바위', '바이', '바이러스', '바이블', '바이오', '바이올린', '바인', '바지', '바치', '바퀴벌레', '바탕', '바티스타', '바티칸', '박건', '박근형', '박근혜', '박기웅', '박력', '박명수', '박물관', '박민영', '박보영', '박사', '박살', '박상민', '박상원', '박선영', '박성웅', '박세영', '박수', '박스', '박스오피스', '박시환', '박신혜', '박영규', '박예진', '박용우', '박용하', '박유천', '박은혜', '박의', '박자', '박장대소', '박장대소하', '박재범', '박재정', '박정민', '박정아', '박정희', '박준형', '박중훈', '박쥐', '박지성', '박지윤', '박진감', '박진영', '박진희', '박차', '박찬욱', '박철민', '박철수', '박평식', '박하', '박한', '박해일', '박해진', '박현지', '박희순', '박히', '반감', '반감되', '반갑', '반고', '반공', '반담', '반대', '반대인', '반대편', '반대하', '반데라스', '반도', '반드시', '반란', '반려', '반말', '반면', '반복', '반복되', '반복하', '반성', '반성하', '반성해', '반세기', '반열', '반영', '반영되', '반영하', '반영한', '반올림', '반응', '반응하', '반의', '반장', '반전', '반점', '반지', '반짝', '반짝반짝', '반짝이', '반쪽', '반찬', '반칙', '반하', '반할', '반함', '반항', '받아들이', '받치', '발가락', '발견', '발견하', '발광', '발광하', '발기', '발끝', '발단', '발달하', '발라', '발랄', '발랄하', '발레', '발로', '발로하', '발리', '발버둥', '발상', '발생', '발생하', '발성', '발악', '발악하', '발암', '발암물질', '발언', '발음', '발자국', '발작', '발전', '발전되', '발전하', '발정', '발차기', '발칙하', '발톱', '발표', '발하', '발현되', '발휘되', '발휘하', '밝히', '밤새', '밥맛', '밥상', '방가', '방구', '방구석', '방금', '방금보', '방대하', '방문', '방법', '방사능', '방송', '방송국', '방송되', '방송사', '방송인', '방송하', '방식', '방어', '방언', '방영', '방영되', '방영하', '방영한', '방영해', '방울', '방이', '방지', '방청객', '방콕', '방하', '방학', '방해', '방해되', '방해하', '방향', '방화', '방황', '방황하', '배가', '배가되', '배경', '배경음악', '배경지식', '배고프', '배급', '배급사', '배급하', '배기', '배꼽', '배달', '배두나', '배드', '배려', '배려하', '배리', '배배', '배부르', '배불', '배속', '배신', '배신감', '배신자', '배신하', '배아', '배역', '배용준', '배우', '배우자', '배우진', '배제', '배제하', '배종옥', '배짱', '배창호', '배출하', '배타', '배트', '배트맨', '배틀', '배포', '백도빈', '백동수', '백마탄', '백미', '백발', '백배', '백번', '백설공주', '백성', '백성현', '백수', '백신', '백야', '백윤식', '백인', '백인우', '백제', '백조', '백진희', '백치미', '백터', '백투더', '백혈병', '백화점', '밴드', '밸런스', '뱀파이어', '뱃속', '뱅크', '버거', '버겁', '버그', '버금가', '버드', '버디', '버러지', '버릇', '버리', '버린', '버릴', '버림받', '버마', '버무리', '버블', '버스', '버전', '버젓이', '버지니아', '버킷', '버터', '버트', '버튼', '버틀러', '버티', '버프', '벅스', '벅차', '벅차오르', '번개', '번도', '번뜩이', '번역', '번역하', '번외', '번지', '번지르르하', '번쩍', '번하', '번호', '벌레', '벌리', '벌벌', '벌써', '벌어', '벌어지', '벌이', '범람하', '범벅', '범위', '범인', '범죄', '범죄자', '범하', '법대', '법사', '법인', '법적', '법정', '법칙', '벗기', '벗어나', '벙어리', '벚꽃', '베끼', '베끼기', '베니', '베니스', '베닝', '베드', '베드신', '베르', '베를린', '베리', '베리굿', '베송', '베스트', '베스트셀러', '베아', '베어', '베이', '베이더', '베이비', '베이커', '베이컨', '베인', '베일', '베컴', '베테랑', '베토벤', '베트남', '베트남전', '베티', '벡터', '벤더', '벤더스', '벤자민', '벤허', '벨라', '벼랑', '변강쇠', '변기', '변덕', '변명', '변신', '변신하', '변요한', '변종', '변질', '변질되', '변태', '변태영', '변태적', '변하', '변한', '변함없', '변호사', '변호인', '변화', '변화되', '변화하', '변환', '별개', '별거', '별것', '별관', '별다르', '별도', '별로', '별론', '별명', '별반', '별볼일', '별생각', '별은', '별이', '별점', '별하', '병기', '병동', '병들', '병사', '병실', '병원', '병자', '병장', '병풍', '보가트', '보고', '보고서', '보그', '보기', '보내', '보내기', '보너스', '보도', '보드', '보듬', '보디가드', '보라', '보람', '보리', '보물', '보복', '보살', '보상', '보상하', '보석', '보성', '보수', '보수적', '보스', '보신', '보심', '보아하니', '보안관', '보여주', '보완하', '보이', '보이스', '보인', '보일', '보잘것', '보잘것없', '보장', '보장하', '보정', '보증수표', '보지', '보컬', '보태', '보통', '보통이', '보트', '보편적', '보합', '보호', '보호하', '복고', '복구', '복귀', '복도', '복사', '복사기', '복선', '복수', '복수심', '복수초', '복수하', '복습', '복습하', '복싱', '복음', '복잡', '복잡미묘', '복잡하', '복장', '복제', '복지', '본거', '본거지', '본건', '본격', '본격적', '본기', '본능', '본능적', '본드', '본래', '본받', '본방', '본보기', '본부', '본분', '본사', '본성', '본시', '본업', '본연', '본영', '본의', '본인', '본전', '본질', '본질적', '본토', '본편', '볼거리', '볼륨', '볼만하', '볼일', '볼케이노', '볼타', '볼트', '볼품없', '볼프강', '봄날', '봉만대', '봉사', '봉준호', '봉태', '봉하', '봐주', '부각', '부각되', '부각하', '부귀영화', '부기', '부끄럽', '부녀', '부다페스트', '부담', '부담감', '부담스럽', '부당하', '부대', '부도', '부드럽', '부들부들', '부디', '부딪치', '부러', '부러움', '부러지', '부럽', '부류', '부르', '부르기', '부릉부릉', '부리', '부모', '부부', '부분', '부산', '부상', '부서지', '부성애', '부세미', '부셔', '부수', '부술', '부스', '부시', '부시맨', '부실', '부실하', '부엉이', '부여', '부여하', '부위', '부유하', '부의', '부인', '부자', '부자연', '부자연스럽', '부작', '부작용', '부잣집', '부재', '부정', '부정적', '부정하', '부제', '부조리', '부조화', '부족', '부족하', '부진하', '부질없', '부처', '부천', '부추기', '부치', '부탁', '부탁하', '부트', '부패', '부패하', '부풀', '부하', '부활', '부활하', '북괴', '북극', '북미', '북받치', '북유럽', '북한', '북한군', '북한인', '분간', '분노', '분노하', '분단', '분단국가', '분동', '분량', '분류', '분류되', '분만', '분명', '분명하', '분명히', '분발하', '분석', '분석하', '분신', '분야', '분열', '분위', '분위기', '분장', '분장하', '분전', '분통', '분투', '분하', '분한', '분홍', '불가', '불가능', '불가능하', '불가하', '불결하', '불과', '불과하', '불교', '불구', '불구하', '불꽃', '불능', '불량', '불러오', '불러일으키', '불륜', '불리', '불리우', '불만', '불면증', '불멸', '불명', '불문', '불문하', '불법', '불사신', '불사조', '불신', '불쌍', '불쌍하', '불안', '불안감', '불안정', '불안하', '불완전', '불우', '불운', '불치병', '불친절', '불쾌', '불쾌감', '불쾌하', '불타', '불태우', '불편', '불편하', '불평', '불필요', '불행', '불행하', '불허', '불허하', '불협화음', '불확실', '불후', '붉은', '붕괴', '붕괴되', '붕대', '붙이', '붙잡', '뷰티', '뷰티풀', '브라더스', '브라보', '브라우닝', '브라운관', '브라이언', '브라질', '브란도', '브래드', '브래들리', '브랜드', '브레드', '브레이크', '브렌든', '브로드웨이', '브로스넌', '브루스', '브룩', '브리', '브리지스', '브리짓', '브리트니', '브이', '블라인드', '블랙', '블랙리스트', '블랙코미디', '블랙홀', '블러드', '블럭', '블레어', '블레이드', '블로그', '블록', '블록버스터', '블루', '블루스', '블룸', '비겁하', '비견되', '비교', '비교되', '비교적', '비교하', '비극', '비극적', '비기', '비꼬', '비난', '비난하', '비노쉬', '비단', '비도', '비둘기', '비디', '비디오', '비디오방', '비디오테이프', '비뚤어지', '비로소', '비록', '비롯', '비롯되', '비롯하', '비루하', '비리', '비만', '비명', '비밀', '비밥', '비범하', '비보', '비비', '비서', '비스', '비슷', '비슷비슷하', '비슷하', '비싸', '비씨', '비애', '비약', '비열하', '비용', '비우', '비운', '비웃', '비웃음', '비위', '비유', '비유하', '비율', '비의', '비장미', '비장하', '비전', '비정상', '비정상적', '비정하', '비주류', '비주얼', '비중', '비지', '비참하', '비추', '비추천', '비추하', '비치', '비키', '비키니', '비토', '비트', '비틀', '비틀즈', '비판', '비판적', '비판하', '비평', '비평가', '비평하', '비포', '비하', '비하하', '비행', '비행기', '비현실적', '비호', '빅뱅', '빈곤', '빈껍데기', '빈부', '빈센트', '빈스', '빈약', '빈약하', '빈자리', '빈틈', '빌딩', '빌리', '빌어먹을', '빗나가', '빗대', '빙빙', '빙의', '빙의되', '빙자하', '빙하', '빚어내', '빛깔', '빛나', '빛내', '빠가', '빠다', '빠돌이', '빠뜨리', '빠르', '빠리', '빠순이', '빠이', '빠져나', '빠져나오', '빠져들', '빠지', '빠지지', '빠짐없이', '빤히', '빨간', '빨강', '빨갛', '빨갱이', '빨랑', '빨리', '빨리빨리', '빨아먹', '빵빵', '빵빵하', '빵점', '빼놓', '빼먹', '빼앗', '빼앗기', '빼어나', '뺏기', '뺑소니', '뺨치', '뻐꾸기', '뻔뻔', '뻔뻔하', '뻔하', '뻔히', '뻣뻣하', '뼈저리', '뽀뽀', '뽀뽀하', '뽐내', '뽑아내', '뽑히', '뽕짝', '뿌듯하', '뿌리', '뿜어내', '삐딱하', '삐뚤어지', '사가', '사간', '사건', '사격', '사고', '사고방식', '사골', '사과', '사과하', '사귀', '사극', '사기', '사기극', '사기죄', '사나이', '사납', '사냥', '사단', '사담', '사도세자', '사드', '사라', '사라지', '사람', '사랑', '사랑놀음', '사랑스럽', '사랑하', '사례', '사로잡', '사로잡히', '사리', '사막', '사망', '사망하', '사면', '사명', '사명감', '사무라이', '사무실', '사무엘', '사무치', '사물', '사뭇', '사바', '사발', '사보', '사부', '사사키', '사살', '사상', '사색', '사생활', '사세', '사소하', '사수', '사수하', '사스', '사슴', '사신', '사실', '사실감', '사실은', '사실적', '사심', '사십', '사악하', '사업', '사연', '사용', '사용되', '사용하', '사운드', '사운드트랙', '사원', '사위', '사유', '사의', '사이', '사이다', '사이렌', '사이먼', '사이버', '사이보그', '사이비', '사이사이', '사이코', '사이트', '사자', '사장', '사전', '사절', '사정', '사족', '사죄하', '사진', '사채', '사채업자', '사촌', '사춘기', '사치', '사탄', '사탕', '사태', '사토', '사토시', '사투', '사투리', '사파리', '사하', '사항', '사형', '사형수', '사회', '사회문제', '사회상', '사회생활', '사회적', '사회주의', '사후', '삭막하', '삭제', '삭제되', '삭제하', '산드라', '산드라블록', '산뜻', '산뜻하', '산만', '산만하']\n"
          ],
          "name": "stdout"
        }
      ]
    },
    {
      "cell_type": "code",
      "metadata": {
        "id": "Of5pHc28TJ1F",
        "colab_type": "code",
        "colab": {
          "base_uri": "https://localhost:8080/",
          "height": 107
        },
        "outputId": "b5f94aea-f60d-4ca3-f101-ea0ce1127ac2"
      },
      "source": [
        "# 머신러닝 알고리즘 적용\n",
        "# 직접 작성\n",
        "import pandas as pd \n",
        "from sklearn.model_selection import cross_val_score \n",
        "from sklearn.linear_model import LogisticRegression \n",
        "y_train = pd.Series(train_data_senti) # 리스트 형태를 종속변수가 될 수 있는 1차원 배열(Series)로 만든다\n",
        "\n",
        "lr = LogisticRegression(solver=\"liblinear\")# 모델 생성 \n",
        "lr.fit(X_train, y_train)"
      ],
      "execution_count": 20,
      "outputs": [
        {
          "output_type": "execute_result",
          "data": {
            "text/plain": [
              "LogisticRegression(C=1.0, class_weight=None, dual=False, fit_intercept=True,\n",
              "                   intercept_scaling=1, l1_ratio=None, max_iter=100,\n",
              "                   multi_class='warn', n_jobs=None, penalty='l2',\n",
              "                   random_state=None, solver='liblinear', tol=0.0001, verbose=0,\n",
              "                   warm_start=False)"
            ]
          },
          "metadata": {
            "tags": []
          },
          "execution_count": 20
        }
      ]
    },
    {
      "cell_type": "code",
      "metadata": {
        "id": "aH4YNMX3UVFy",
        "colab_type": "code",
        "colab": {
          "base_uri": "https://localhost:8080/",
          "height": 35
        },
        "outputId": "ea3bb47b-6eb7-4e37-863c-1d180cad10f4"
      },
      "source": [
        "# 테스트 데이터 입력\n",
        "X_test = vect.transform(test_data_text)\n",
        "y_test = pd.Series(test_data_senti)\n",
        "\n",
        "print(\"테스트 데이터 점수:\", lr.score(X_test, y_test))"
      ],
      "execution_count": 21,
      "outputs": [
        {
          "output_type": "stream",
          "text": [
            "테스트 데이터 점수: 0.8076306237866127\n"
          ],
          "name": "stdout"
        }
      ]
    },
    {
      "cell_type": "markdown",
      "metadata": {
        "id": "GqFttHBeOTwj",
        "colab_type": "text"
      },
      "source": [
        "# 1개 데이터 예측\n"
      ]
    },
    {
      "cell_type": "code",
      "metadata": {
        "id": "6bmSbzO7W3UU",
        "colab_type": "code",
        "colab": {
          "base_uri": "https://localhost:8080/",
          "height": 269
        },
        "outputId": "33001aa3-2135-47db-fc43-0e4e28273eda"
      },
      "source": [
        "# 형태소분석기 시작\n",
        "import rhinoMorph as rhinoMorph\n",
        "rn = rhinoMorph.startRhino()\n",
        "\n",
        "# 형태소 분석\n",
        "new_input = '오늘은 정말 재미있는 하루구나!'\n",
        "inputdata = []\n",
        "morphed_input = rhinoMorph.onlyMorph_list(\n",
        "    rn, new_input, pos=['NNG', 'NNP', 'VV', 'VA', 'XR', 'IC', 'MM', 'MAG', 'MAJ'])\n",
        "morphed_input = ' '.join(morphed_input) # ['오늘', '정말', '재미있', '하루＇]를 한 개 문자열로 변환\n",
        "\n",
        "inputdata.append(morphed_input)         # 분석 결과를 리스트로 만들기\n",
        "print('input data:', inputdata)         # ['오늘 정말 재미있 하루']"
      ],
      "execution_count": 22,
      "outputs": [
        {
          "output_type": "stream",
          "text": [
            "filepath:  /usr/local/lib/python3.6/dist-packages\n",
            "classpath:  /usr/local/lib/python3.6/dist-packages/rhinoMorph/lib/rhino.jar\n"
          ],
          "name": "stdout"
        },
        {
          "output_type": "stream",
          "text": [
            "/usr/local/lib/python3.6/dist-packages/jpype/_core.py:210: UserWarning: \n",
            "-------------------------------------------------------------------------------\n",
            "Deprecated: convertStrings was not specified when starting the JVM. The default\n",
            "behavior in JPype will be False starting in JPype 0.8. The recommended setting\n",
            "for new code is convertStrings=False.  The legacy value of True was assumed for\n",
            "this session. If you are a user of an application that reported this warning,\n",
            "please file a ticket with the developer.\n",
            "-------------------------------------------------------------------------------\n",
            "\n",
            "  \"\"\")\n"
          ],
          "name": "stderr"
        },
        {
          "output_type": "stream",
          "text": [
            "RHINO started!\n",
            "input data: ['오늘 정말 재미있 하루']\n"
          ],
          "name": "stdout"
        }
      ]
    },
    {
      "cell_type": "code",
      "metadata": {
        "id": "ztX4Uy3vXxOG",
        "colab_type": "code",
        "colab": {
          "base_uri": "https://localhost:8080/",
          "height": 35
        },
        "outputId": "5a2bb42d-8d85-466e-f4fd-dcd6f8ecbd65"
      },
      "source": [
        "X_input = vect.transform(inputdata)\t    # 앞에서 만든 11445 컬럼의 행렬에 적용\n",
        "result = lr.predict(X_input) \t          # 0은 부정,1은 긍정\n",
        "\n",
        "if result == 0:\n",
        "  print(\"부정적인 글입니다\")\n",
        "else:\n",
        "  print(\"긍정적인 글입니다\")"
      ],
      "execution_count": 23,
      "outputs": [
        {
          "output_type": "stream",
          "text": [
            "긍정적인 글입니다\n"
          ],
          "name": "stdout"
        }
      ]
    },
    {
      "cell_type": "code",
      "metadata": {
        "id": "LLhS9U0DkWJp",
        "colab_type": "code",
        "colab": {}
      },
      "source": [
        ""
      ],
      "execution_count": 0,
      "outputs": []
    }
  ]
}