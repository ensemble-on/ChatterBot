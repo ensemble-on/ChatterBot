{
  "nbformat": 4,
  "nbformat_minor": 0,
  "metadata": {
    "colab": {
      "name": "Copy of 8_감성분석.ipynb",
      "provenance": [],
      "collapsed_sections": [],
      "include_colab_link": true
    },
    "kernelspec": {
      "name": "python3",
      "display_name": "Python 3"
    }
  },
  "cells": [
    {
      "cell_type": "markdown",
      "metadata": {
        "id": "view-in-github",
        "colab_type": "text"
      },
      "source": [
        "<a href=\"https://colab.research.google.com/github/ensemble-on/ChatterBot/blob/master/Copy_of_8_%EA%B0%90%EC%84%B1%EB%B6%84%EC%84%9D.ipynb\" target=\"_parent\"><img src=\"https://colab.research.google.com/assets/colab-badge.svg\" alt=\"Open In Colab\"/></a>"
      ]
    },
    {
      "cell_type": "markdown",
      "metadata": {
        "id": "_u2OnNFTQD6z",
        "colab_type": "text"
      },
      "source": [
        "# 사전을 이용한 감성분석"
      ]
    },
    {
      "cell_type": "code",
      "metadata": {
        "id": "BVEu8kuHs6a9",
        "colab_type": "code",
        "colab": {
          "base_uri": "https://localhost:8080/",
          "height": 127
        },
        "outputId": "8fbf62dd-f0eb-4368-967f-b06215b95811"
      },
      "source": [
        "# from google.colab import auth\n",
        "# auth.authenticate_user()\n",
        "\n",
        "from google.colab import drive\n",
        "drive.mount('/content/gdrive')"
      ],
      "execution_count": 1,
      "outputs": [
        {
          "output_type": "stream",
          "text": [
            "Go to this URL in a browser: https://accounts.google.com/o/oauth2/auth?client_id=947318989803-6bn6qk8qdgf4n4g3pfee6491hc0brc4i.apps.googleusercontent.com&redirect_uri=urn%3Aietf%3Awg%3Aoauth%3A2.0%3Aoob&scope=email%20https%3A%2F%2Fwww.googleapis.com%2Fauth%2Fdocs.test%20https%3A%2F%2Fwww.googleapis.com%2Fauth%2Fdrive%20https%3A%2F%2Fwww.googleapis.com%2Fauth%2Fdrive.photos.readonly%20https%3A%2F%2Fwww.googleapis.com%2Fauth%2Fpeopleapi.readonly&response_type=code\n",
            "\n",
            "Enter your authorization code:\n",
            "··········\n",
            "Mounted at /content/gdrive\n"
          ],
          "name": "stdout"
        }
      ]
    },
    {
      "cell_type": "code",
      "metadata": {
        "id": "pBrTekxTtVip",
        "colab_type": "code",
        "colab": {
          "base_uri": "https://localhost:8080/",
          "height": 1000
        },
        "outputId": "52d3d380-1b25-4aba-934c-315ea2d418df"
      },
      "source": [
        "# 형태소분석기 관련 설치\n",
        "!apt-get update\n",
        "!apt-get install g++ openjdk-8-jdk\n",
        "\n",
        "!pip install JPype1==0.7.0\n",
        "!pip install rhinoMorph"
      ],
      "execution_count": 2,
      "outputs": [
        {
          "output_type": "stream",
          "text": [
            "\r0% [Working]\r            \rHit:1 http://archive.ubuntu.com/ubuntu bionic InRelease\n",
            "\r0% [Waiting for headers] [Connecting to cloud.r-project.org (13.32.158.63)] [Co\r                                                                               \rGet:2 http://archive.ubuntu.com/ubuntu bionic-updates InRelease [88.7 kB]\n",
            "\r                                                                               \rGet:3 http://security.ubuntu.com/ubuntu bionic-security InRelease [88.7 kB]\n",
            "\r                                                                               \rGet:4 http://ppa.launchpad.net/graphics-drivers/ppa/ubuntu bionic InRelease [21.3 kB]\n",
            "\r0% [2 InRelease 14.2 kB/88.7 kB 16%] [Connected to cloud.r-project.org (13.32.1\r0% [1 InRelease gpgv 242 kB] [2 InRelease 14.2 kB/88.7 kB 16%] [Connected to cl\r                                                                               \rGet:5 http://ppa.launchpad.net/marutter/c2d4u3.5/ubuntu bionic InRelease [15.4 kB]\n",
            "\r0% [1 InRelease gpgv 242 kB] [2 InRelease 28.6 kB/88.7 kB 32%] [Connected to cl\r0% [1 InRelease gpgv 242 kB] [2 InRelease 34.4 kB/88.7 kB 39%] [Connected to cl\r0% [1 InRelease gpgv 242 kB] [Connecting to archive.ubuntu.com (91.189.88.162)]\r                                                                               \rGet:6 https://cloud.r-project.org/bin/linux/ubuntu bionic-cran35/ InRelease [3,626 B]\n",
            "\r0% [1 InRelease gpgv 242 kB] [Waiting for headers] [6 InRelease 3,626 B/3,626 B\r                                                                               \r0% [1 InRelease gpgv 242 kB] [Waiting for headers] [Waiting for headers]\r                                                                        \rGet:7 http://archive.ubuntu.com/ubuntu bionic-backports InRelease [74.6 kB]\n",
            "Ign:8 https://developer.download.nvidia.com/compute/cuda/repos/ubuntu1804/x86_64  InRelease\n",
            "Get:9 http://security.ubuntu.com/ubuntu bionic-security/universe amd64 Packages [777 kB]\n",
            "Get:10 http://security.ubuntu.com/ubuntu bionic-security/main amd64 Packages [682 kB]\n",
            "Get:11 http://security.ubuntu.com/ubuntu bionic-security/multiverse amd64 Packages [5,665 B]\n",
            "Get:12 http://ppa.launchpad.net/graphics-drivers/ppa/ubuntu bionic/main amd64 Packages [31.7 kB]\n",
            "Get:13 http://security.ubuntu.com/ubuntu bionic-security/restricted amd64 Packages [11.3 kB]\n",
            "Ign:14 https://developer.download.nvidia.com/compute/machine-learning/repos/ubuntu1804/x86_64  InRelease\n",
            "Get:15 https://developer.download.nvidia.com/compute/cuda/repos/ubuntu1804/x86_64  Release [564 B]\n",
            "Get:16 https://developer.download.nvidia.com/compute/machine-learning/repos/ubuntu1804/x86_64  Release [564 B]\n",
            "Get:17 https://developer.download.nvidia.com/compute/cuda/repos/ubuntu1804/x86_64  Release.gpg [819 B]\n",
            "Get:18 https://developer.download.nvidia.com/compute/machine-learning/repos/ubuntu1804/x86_64  Release.gpg [833 B]\n",
            "Get:19 http://ppa.launchpad.net/marutter/c2d4u3.5/ubuntu bionic/main Sources [1,711 kB]\n",
            "Get:20 http://ppa.launchpad.net/marutter/c2d4u3.5/ubuntu bionic/main amd64 Packages [823 kB]\n",
            "Get:21 http://archive.ubuntu.com/ubuntu bionic-updates/restricted amd64 Packages [21.9 kB]\n",
            "Get:22 http://archive.ubuntu.com/ubuntu bionic-updates/universe amd64 Packages [1,295 kB]\n",
            "Get:23 http://archive.ubuntu.com/ubuntu bionic-updates/main amd64 Packages [977 kB]\n",
            "Get:24 http://archive.ubuntu.com/ubuntu bionic-updates/multiverse amd64 Packages [8,734 B]\n",
            "Get:25 https://cloud.r-project.org/bin/linux/ubuntu bionic-cran35/ Packages [72.2 kB]\n",
            "Get:26 http://archive.ubuntu.com/ubuntu bionic-backports/universe amd64 Packages [4,227 B]\n",
            "Get:27 https://developer.download.nvidia.com/compute/cuda/repos/ubuntu1804/x86_64  Packages [119 kB]\n",
            "Get:28 https://developer.download.nvidia.com/compute/machine-learning/repos/ubuntu1804/x86_64  Packages [20.6 kB]\n",
            "Fetched 6,856 kB in 2s (3,270 kB/s)\n",
            "Reading package lists... Done\n",
            "Reading package lists... Done\n",
            "Building dependency tree       \n",
            "Reading state information... Done\n",
            "g++ is already the newest version (4:7.4.0-1ubuntu2.3).\n",
            "g++ set to manually installed.\n",
            "The following additional packages will be installed:\n",
            "  fonts-dejavu-core fonts-dejavu-extra libatk-wrapper-java\n",
            "  libatk-wrapper-java-jni libgail-common libgail18 libgtk2.0-0 libgtk2.0-bin\n",
            "  libgtk2.0-common libxxf86dga1 openjdk-8-jre x11-utils\n",
            "Suggested packages:\n",
            "  gvfs openjdk-8-demo openjdk-8-source visualvm icedtea-8-plugin mesa-utils\n",
            "The following NEW packages will be installed:\n",
            "  fonts-dejavu-core fonts-dejavu-extra libatk-wrapper-java\n",
            "  libatk-wrapper-java-jni libgail-common libgail18 libgtk2.0-0 libgtk2.0-bin\n",
            "  libgtk2.0-common libxxf86dga1 openjdk-8-jdk openjdk-8-jre x11-utils\n",
            "0 upgraded, 13 newly installed, 0 to remove and 147 not upgraded.\n",
            "Need to get 7,119 kB of archives.\n",
            "After this operation, 20.1 MB of additional disk space will be used.\n",
            "Get:1 http://archive.ubuntu.com/ubuntu bionic/main amd64 libxxf86dga1 amd64 2:1.1.4-1 [13.7 kB]\n",
            "Get:2 http://archive.ubuntu.com/ubuntu bionic/main amd64 fonts-dejavu-core all 2.37-1 [1,041 kB]\n",
            "Get:3 http://archive.ubuntu.com/ubuntu bionic/main amd64 fonts-dejavu-extra all 2.37-1 [1,953 kB]\n",
            "Get:4 http://archive.ubuntu.com/ubuntu bionic/main amd64 x11-utils amd64 7.7+3build1 [196 kB]\n",
            "Get:5 http://archive.ubuntu.com/ubuntu bionic/main amd64 libatk-wrapper-java all 0.33.3-20ubuntu0.1 [34.7 kB]\n",
            "Get:6 http://archive.ubuntu.com/ubuntu bionic/main amd64 libatk-wrapper-java-jni amd64 0.33.3-20ubuntu0.1 [28.3 kB]\n",
            "Get:7 http://archive.ubuntu.com/ubuntu bionic/main amd64 libgtk2.0-common all 2.24.32-1ubuntu1 [125 kB]\n",
            "Get:8 http://archive.ubuntu.com/ubuntu bionic/main amd64 libgtk2.0-0 amd64 2.24.32-1ubuntu1 [1,769 kB]\n",
            "Get:9 http://archive.ubuntu.com/ubuntu bionic/main amd64 libgail18 amd64 2.24.32-1ubuntu1 [14.2 kB]\n",
            "Get:10 http://archive.ubuntu.com/ubuntu bionic/main amd64 libgail-common amd64 2.24.32-1ubuntu1 [112 kB]\n",
            "Get:11 http://archive.ubuntu.com/ubuntu bionic/main amd64 libgtk2.0-bin amd64 2.24.32-1ubuntu1 [7,536 B]\n",
            "Get:12 http://archive.ubuntu.com/ubuntu bionic-updates/universe amd64 openjdk-8-jre amd64 8u222-b10-1ubuntu1~18.04.1 [69.3 kB]\n",
            "Get:13 http://archive.ubuntu.com/ubuntu bionic-updates/universe amd64 openjdk-8-jdk amd64 8u222-b10-1ubuntu1~18.04.1 [1,756 kB]\n",
            "Fetched 7,119 kB in 1s (9,145 kB/s)\n",
            "Selecting previously unselected package libxxf86dga1:amd64.\n",
            "(Reading database ... 131183 files and directories currently installed.)\n",
            "Preparing to unpack .../00-libxxf86dga1_2%3a1.1.4-1_amd64.deb ...\n",
            "Unpacking libxxf86dga1:amd64 (2:1.1.4-1) ...\n",
            "Selecting previously unselected package fonts-dejavu-core.\n",
            "Preparing to unpack .../01-fonts-dejavu-core_2.37-1_all.deb ...\n",
            "Unpacking fonts-dejavu-core (2.37-1) ...\n",
            "Selecting previously unselected package fonts-dejavu-extra.\n",
            "Preparing to unpack .../02-fonts-dejavu-extra_2.37-1_all.deb ...\n",
            "Unpacking fonts-dejavu-extra (2.37-1) ...\n",
            "Selecting previously unselected package x11-utils.\n",
            "Preparing to unpack .../03-x11-utils_7.7+3build1_amd64.deb ...\n",
            "Unpacking x11-utils (7.7+3build1) ...\n",
            "Selecting previously unselected package libatk-wrapper-java.\n",
            "Preparing to unpack .../04-libatk-wrapper-java_0.33.3-20ubuntu0.1_all.deb ...\n",
            "Unpacking libatk-wrapper-java (0.33.3-20ubuntu0.1) ...\n",
            "Selecting previously unselected package libatk-wrapper-java-jni:amd64.\n",
            "Preparing to unpack .../05-libatk-wrapper-java-jni_0.33.3-20ubuntu0.1_amd64.deb ...\n",
            "Unpacking libatk-wrapper-java-jni:amd64 (0.33.3-20ubuntu0.1) ...\n",
            "Selecting previously unselected package libgtk2.0-common.\n",
            "Preparing to unpack .../06-libgtk2.0-common_2.24.32-1ubuntu1_all.deb ...\n",
            "Unpacking libgtk2.0-common (2.24.32-1ubuntu1) ...\n",
            "Selecting previously unselected package libgtk2.0-0:amd64.\n",
            "Preparing to unpack .../07-libgtk2.0-0_2.24.32-1ubuntu1_amd64.deb ...\n",
            "Unpacking libgtk2.0-0:amd64 (2.24.32-1ubuntu1) ...\n",
            "Selecting previously unselected package libgail18:amd64.\n",
            "Preparing to unpack .../08-libgail18_2.24.32-1ubuntu1_amd64.deb ...\n",
            "Unpacking libgail18:amd64 (2.24.32-1ubuntu1) ...\n",
            "Selecting previously unselected package libgail-common:amd64.\n",
            "Preparing to unpack .../09-libgail-common_2.24.32-1ubuntu1_amd64.deb ...\n",
            "Unpacking libgail-common:amd64 (2.24.32-1ubuntu1) ...\n",
            "Selecting previously unselected package libgtk2.0-bin.\n",
            "Preparing to unpack .../10-libgtk2.0-bin_2.24.32-1ubuntu1_amd64.deb ...\n",
            "Unpacking libgtk2.0-bin (2.24.32-1ubuntu1) ...\n",
            "Selecting previously unselected package openjdk-8-jre:amd64.\n",
            "Preparing to unpack .../11-openjdk-8-jre_8u222-b10-1ubuntu1~18.04.1_amd64.deb ...\n",
            "Unpacking openjdk-8-jre:amd64 (8u222-b10-1ubuntu1~18.04.1) ...\n",
            "Selecting previously unselected package openjdk-8-jdk:amd64.\n",
            "Preparing to unpack .../12-openjdk-8-jdk_8u222-b10-1ubuntu1~18.04.1_amd64.deb ...\n",
            "Unpacking openjdk-8-jdk:amd64 (8u222-b10-1ubuntu1~18.04.1) ...\n",
            "Setting up libgtk2.0-common (2.24.32-1ubuntu1) ...\n",
            "Processing triggers for mime-support (3.60ubuntu1) ...\n",
            "Setting up fonts-dejavu-core (2.37-1) ...\n",
            "Setting up libxxf86dga1:amd64 (2:1.1.4-1) ...\n",
            "Processing triggers for libc-bin (2.27-3ubuntu1) ...\n",
            "Processing triggers for man-db (2.8.3-2ubuntu0.1) ...\n",
            "Setting up fonts-dejavu-extra (2.37-1) ...\n",
            "Processing triggers for hicolor-icon-theme (0.17-2) ...\n",
            "Processing triggers for fontconfig (2.12.6-0ubuntu2) ...\n",
            "Setting up libgtk2.0-0:amd64 (2.24.32-1ubuntu1) ...\n",
            "Setting up libgail18:amd64 (2.24.32-1ubuntu1) ...\n",
            "Setting up x11-utils (7.7+3build1) ...\n",
            "Setting up libgail-common:amd64 (2.24.32-1ubuntu1) ...\n",
            "Setting up libatk-wrapper-java (0.33.3-20ubuntu0.1) ...\n",
            "Setting up libgtk2.0-bin (2.24.32-1ubuntu1) ...\n",
            "Setting up libatk-wrapper-java-jni:amd64 (0.33.3-20ubuntu0.1) ...\n",
            "Setting up openjdk-8-jre:amd64 (8u222-b10-1ubuntu1~18.04.1) ...\n",
            "update-alternatives: using /usr/lib/jvm/java-8-openjdk-amd64/jre/bin/policytool to provide /usr/bin/policytool (policytool) in auto mode\n",
            "Setting up openjdk-8-jdk:amd64 (8u222-b10-1ubuntu1~18.04.1) ...\n",
            "update-alternatives: using /usr/lib/jvm/java-8-openjdk-amd64/bin/appletviewer to provide /usr/bin/appletviewer (appletviewer) in auto mode\n",
            "update-alternatives: using /usr/lib/jvm/java-8-openjdk-amd64/bin/jconsole to provide /usr/bin/jconsole (jconsole) in auto mode\n",
            "Processing triggers for libc-bin (2.27-3ubuntu1) ...\n",
            "Collecting JPype1==0.7.0\n",
            "\u001b[?25l  Downloading https://files.pythonhosted.org/packages/07/09/e19ce27d41d4f66d73ac5b6c6a188c51b506f56c7bfbe6c1491db2d15995/JPype1-0.7.0-cp36-cp36m-manylinux2010_x86_64.whl (2.7MB)\n",
            "\u001b[K     |████████████████████████████████| 2.7MB 9.5MB/s \n",
            "\u001b[?25hInstalling collected packages: JPype1\n",
            "Successfully installed JPype1-0.7.0\n",
            "Collecting rhinoMorph\n",
            "\u001b[?25l  Downloading https://files.pythonhosted.org/packages/30/ae/439f50ebad4039d71cfc1a00f18e08c4f8de556ccbc979b261ca9a26e598/rhinoMorph-2.7.1.11-py3-none-any.whl (8.9MB)\n",
            "\u001b[K     |████████████████████████████████| 8.9MB 9.1MB/s \n",
            "\u001b[?25hInstalling collected packages: rhinoMorph\n",
            "Successfully installed rhinoMorph-2.7.1.11\n"
          ],
          "name": "stdout"
        }
      ]
    },
    {
      "cell_type": "code",
      "metadata": {
        "id": "X_gS6zBDtaFU",
        "colab_type": "code",
        "colab": {
          "base_uri": "https://localhost:8080/",
          "height": 35
        },
        "outputId": "86c8c64a-3567-4f02-9dea-f6e421d66bf4"
      },
      "source": [
        "# 경로 변경\n",
        "cd /content/gdrive/My Drive/AIBM/20191016/pytest/"
      ],
      "execution_count": 9,
      "outputs": [
        {
          "output_type": "stream",
          "text": [
            "/content/gdrive/My Drive/AIBM/20191016/pytest\n"
          ],
          "name": "stdout"
        }
      ]
    },
    {
      "cell_type": "code",
      "metadata": {
        "id": "Y6Wr01MHw8RA",
        "colab_type": "code",
        "colab": {
          "base_uri": "https://localhost:8080/",
          "height": 91
        },
        "outputId": "3ca17105-c0dc-4864-f231-70b544db0340"
      },
      "source": [
        "# 형태분석된 데이터 로딩\n",
        "def read_data(filename, encoding='cp949'):               # 읽기 함수 정의\n",
        "  with open(filename, 'r', encoding=encoding) as f:\n",
        "    data = [line.split('\\t') for line in f.read().splitlines()]\n",
        "    data = data[1:]                                      # txt 파일의 헤더(id document label)는 제외하기\n",
        "  return data\n",
        "\n",
        "def write_data(data, filename, encoding='cp949'):        # 쓰기 함수 정의\n",
        "  with open(filename, 'w', encoding=encoding) as f:\n",
        "    f.write(data)\n",
        "\n",
        "data = read_data('ratings_morphed.txt', encoding='cp949')\n",
        "\n",
        "print(len(data))\n",
        "print(len(data[0])) \n",
        "print(data[0])"
      ],
      "execution_count": 10,
      "outputs": [
        {
          "output_type": "stream",
          "text": [
            "492\n",
            "3\n",
            "['8132799', '디자인 배우 학생 외국 디자이너 일군 전통 통하 발전하 문화 산업 부럽 사실 우리나라 그 어렵 시절 끝 열정 지키 노라노 같 전통 있 같 사람 꿈 꾸 이루 나가 감사하', '1']\n"
          ],
          "name": "stdout"
        }
      ]
    },
    {
      "cell_type": "code",
      "metadata": {
        "id": "BuC536B_x2sC",
        "colab_type": "code",
        "colab": {}
      },
      "source": [
        "# 감정사전 읽기\n",
        "# 직접 작성\n",
        "data_id = [line[0] for line in data]       # 데이터 id\n",
        "data_text = [line[1] for line in data]     # 데이터 본문 \n",
        "data_senti = [line[2] for line in data]    # 데이터 긍부정 부분\n",
        "\n",
        "positive = read_data('positive.txt') # 긍정 감정사전 읽기 \n",
        "negative = read_data('negative.txt') # 부정 감정사전 읽기\n",
        "\n",
        "pos_found = [] \n",
        "neg_found = []"
      ],
      "execution_count": 0,
      "outputs": []
    },
    {
      "cell_type": "code",
      "metadata": {
        "id": "v4G2aenqyKD4",
        "colab_type": "code",
        "colab": {
          "base_uri": "https://localhost:8080/",
          "height": 53
        },
        "outputId": "674717b4-4ddb-44e7-f566-0c46f12c68be"
      },
      "source": [
        "# 감정단어 파악\n",
        "\n",
        "def cntWordInLine(data, senti):\n",
        "  senti_found = []\n",
        "  for onedata in data:\n",
        "    oneline_word = onedata.split(' ')       # 한 줄의 데이터를 공백 단위로 분리하여 리스트로 저장\n",
        "    senti_temp = 0\n",
        "    for sentiword in senti:\n",
        "      if sentiword[0] in oneline_word:      # posword[0] 하여 리스트를 문자열로 추출\n",
        "        senti_temp += 1                     # 현재의 감정단어와 일치하면 숫자를 하나 올려 줌 (중복은 계산 안 함)\n",
        "    senti_found.append(senti_temp)          # 현재의 줄에서 찾은 감성단어의 숫자를 해당 위치에 저장\n",
        "  return senti_found\n",
        "      \n",
        "      \n",
        "data_senti_poscnt = cntWordInLine(data_text, positive)      # 발견된 긍정 단어의 숫자 파악\n",
        "data_senti_negcnt = cntWordInLine(data_text, negative)      # 발견된 부정 단어의 숫자 파악\n",
        "\n",
        "print(data_senti_poscnt[:20])\n",
        "print(data_senti_negcnt[:20])"
      ],
      "execution_count": 13,
      "outputs": [
        {
          "output_type": "stream",
          "text": [
            "[5, 1, 0, 0, 2, 1, 0, 0, 0, 2, 1, 1, 0, 1, 2, 0, 1, 0, 1, 0]\n",
            "[1, 0, 1, 0, 0, 0, 2, 0, 0, 0, 0, 0, 0, 0, 1, 0, 0, 1, 0, 1]\n"
          ],
          "name": "stdout"
        }
      ]
    },
    {
      "cell_type": "code",
      "metadata": {
        "id": "KGH-aIR3yK0e",
        "colab_type": "code",
        "colab": {}
      },
      "source": [
        "# 감정점수 계산\n",
        "# Pandas 데이터프레임으로 저장\n",
        "import pandas as pd\n",
        "newdata = pd.DataFrame({'id':data_id, 'text':data_text, 'original':data_senti, 'pos':data_senti_poscnt, 'neg':data_senti_negcnt})\n",
        "senti_score = newdata['pos'] - newdata['neg']      # 긍정개수에서 부정개수를 뺌\n",
        "newdata['senti_score'] = senti_score               # 그 수를 senti_score 컬럼에 저장 \n",
        "\n",
        "newdata.loc[newdata.senti_score > 0, 'new'] = 1    # 새로운 긍부정 기호\n",
        "newdata.loc[newdata.senti_score <= 0, 'new'] = 0   # 새로운 긍부정 기호\n",
        "\n",
        "# 처음에 기록된 긍부정과 새로 계산된 긍부정이 같은지 여부를 matched 컬럼에 저장\n",
        "# original 컬럼은 문자로 되어 있으므로 숫자로 변환 뒤 비교 \n",
        "# 직접 작성\n",
        "newdata.loc[pd.to_numeric(newdata.original) == newdata.new, 'matched'] = 'True' \n",
        "newdata.loc[pd.to_numeric(newdata.original) != newdata.new, 'matched'] = 'False'"
      ],
      "execution_count": 0,
      "outputs": []
    },
    {
      "cell_type": "code",
      "metadata": {
        "id": "DFek1Jo7y_jz",
        "colab_type": "code",
        "colab": {
          "base_uri": "https://localhost:8080/",
          "height": 35
        },
        "outputId": "9bfcea03-fe9b-403a-e745-12e440ff804e"
      },
      "source": [
        "# 원점수와 비교 및 저장\n",
        "# 직접 작성\n",
        "\n",
        "score = newdata.matched.str.count('True').sum() / (newdata.matched.str.count('True').sum() \n",
        "                                  + newdata.matched.str.count('False').sum()) * 100 \n",
        "print(score)\n",
        "newdata.to_csv('newfile.csv', sep=',', encoding='cp949', index=False) # csv 저장 \n",
        "newdata.to_csv('newfile2.txt', sep='\\t', encoding='cp949', index=False) # 또는 txt 저장\n"
      ],
      "execution_count": 15,
      "outputs": [
        {
          "output_type": "stream",
          "text": [
            "65.2439024390244\n"
          ],
          "name": "stdout"
        }
      ]
    },
    {
      "cell_type": "code",
      "metadata": {
        "id": "rmdH7CMI46AQ",
        "colab_type": "code",
        "colab": {}
      },
      "source": [
        "# 시그모이드 점수 계산\n",
        "import math\n",
        "def sigmoid(x):\n",
        "  return 1 / (1 + math.exp(-x))\n",
        "\n",
        "newdata['sigmoid'] = newdata.senti_score.apply(sigmoid)"
      ],
      "execution_count": 0,
      "outputs": []
    },
    {
      "cell_type": "code",
      "metadata": {
        "id": "BmMpeofz59tf",
        "colab_type": "code",
        "colab": {
          "base_uri": "https://localhost:8080/",
          "height": 251
        },
        "outputId": "237aa08a-8b01-47a8-e41a-2720db7538a3"
      },
      "source": [
        "# 결과 확인\n",
        "# 직접 작성\n",
        "pd.set_option('display.max_columns', 10)     # 결과 컬럼 확장\n",
        "print(newdata.iloc[:5, :])"
      ],
      "execution_count": 17,
      "outputs": [
        {
          "output_type": "stream",
          "text": [
            "         id                                               text original  pos  \\\n",
            "0   8132799  디자인 배우 학생 외국 디자이너 일군 전통 통하 발전하 문화 산업 부럽 사실 우리나...        1    5   \n",
            "1   4655635                                  폴리스스토리 시리즈 뉴 없 최고        1    1   \n",
            "2   9251303               와 연기 진짜 쩔 지루 하 생각하 몰입하 보 그래 이런 진짜 영화        1    0   \n",
            "3  10067386                             안개 자욱 하 밤하늘 뜨 초승달 같 영화        1    0   \n",
            "4   2190435                                 사랑 해보 사람 처음 끝 웃 영화        1    2   \n",
            "\n",
            "   neg  senti_score  new matched   sigmoid  \n",
            "0    1            4  1.0    True  0.982014  \n",
            "1    0            1  1.0    True  0.731059  \n",
            "2    1           -1  0.0   False  0.268941  \n",
            "3    0            0  0.0   False  0.500000  \n",
            "4    0            2  1.0    True  0.880797  \n"
          ],
          "name": "stdout"
        }
      ]
    },
    {
      "cell_type": "markdown",
      "metadata": {
        "id": "xZy5hPP1QJEA",
        "colab_type": "text"
      },
      "source": [
        "# 머신러닝을 이용한 감성분석"
      ]
    },
    {
      "cell_type": "code",
      "metadata": {
        "id": "jtY89dUKNfVH",
        "colab_type": "code",
        "colab": {
          "base_uri": "https://localhost:8080/",
          "height": 91
        },
        "outputId": "d808a6f2-efa6-4631-d99b-967454295735"
      },
      "source": [
        "# 형태분석된 데이터 로딩\n",
        "def read_data(filename, encoding='cp949'):               # 읽기 함수 정의\n",
        "  with open(filename, 'r', encoding=encoding) as f:\n",
        "    data = [line.split('\\t') for line in f.read().splitlines()]\n",
        "    data = data[1:]                                      # txt 파일의 헤더(id document label)는 제외하기\n",
        "  return data\n",
        "\n",
        "def write_data(data, filename, encoding='cp949'):        # 쓰기 함수 정의\n",
        "  with open(filename, 'w', encoding=encoding) as f:\n",
        "    f.write(data)\n",
        "\n",
        "data = read_data('ratings_morphed.txt', encoding='cp949')\n",
        "\n",
        "print(len(data))\n",
        "print(len(data[0])) \n",
        "print(data[0])"
      ],
      "execution_count": 18,
      "outputs": [
        {
          "output_type": "stream",
          "text": [
            "492\n",
            "3\n",
            "['8132799', '디자인 배우 학생 외국 디자이너 일군 전통 통하 발전하 문화 산업 부럽 사실 우리나라 그 어렵 시절 끝 열정 지키 노라노 같 전통 있 같 사람 꿈 꾸 이루 나가 감사하', '1']\n"
          ],
          "name": "stdout"
        }
      ]
    },
    {
      "cell_type": "code",
      "metadata": {
        "id": "Pbmslz2z5Hnz",
        "colab_type": "code",
        "colab": {
          "base_uri": "https://localhost:8080/",
          "height": 53
        },
        "outputId": "70372d94-0cc8-4466-a1ce-72ca5f4e47b8"
      },
      "source": [
        "# 훈련데이터와 테스트데이터 분리 (자동)\n",
        "# 직접 작성\n",
        "data_text = [line[1] for line in data]  # 데이터 본문\n",
        "data_senti = [line[2] for line in data] # 데이터 긍부정 부분\n",
        "\n",
        "from sklearn.model_selection import train_test_split\n",
        "train_data_text, test_data_text, train_data_senti, test_data_senti = train_test_split(data_text, data_senti, stratify=data_senti)\n",
        "\n",
        "# Counter 클래스를 이용해 각 분류가 훈련데이터와 테스트데이터에 같은 비율로 들어갔는지 확인해 본다 \n",
        "from collections import Counter\n",
        "train_data_senti_freq = Counter(train_data_senti)\n",
        "print('train_data_senti_freq:', train_data_senti_freq)\n",
        "\n",
        "test_data_senti_freq = Counter(test_data_senti)\n",
        "print('test_data_senti_freq:', test_data_senti_freq)"
      ],
      "execution_count": 24,
      "outputs": [
        {
          "output_type": "stream",
          "text": [
            "train_data_senti_freq: Counter({'0': 185, '1': 184})\n",
            "test_data_senti_freq: Counter({'0': 62, '1': 61})\n"
          ],
          "name": "stdout"
        }
      ]
    },
    {
      "cell_type": "code",
      "metadata": {
        "id": "5Tz5Wg2HRH9P",
        "colab_type": "code",
        "colab": {
          "base_uri": "https://localhost:8080/",
          "height": 53
        },
        "outputId": "a4e2b4a4-110b-490f-d909-07356449617c"
      },
      "source": [
        "# 훈련데이터와 테스트데이터 분리 (수동)\n",
        "# 직접 작성\n",
        "\n",
        "import random \n",
        "random.shuffle(data)                            # 랜덤하게 섞는다\n",
        "\n",
        "data_70 = int(len(data)*0.7) # 전체 데이터 크기의 70% 숫자를 찾는다 \n",
        "train_data = data[:data_70] # 앞에서 70% 부분을 잘라 훈련데이터로 \n",
        "test_data = data[data_70:] # 그 뒷부분을 테스트데이터로\n",
        "\n",
        "print('train data length:', len(train_data))    # 138212 \n",
        "print('test data length:', len(test_data))      # 59235\n",
        "\n",
        "# 훈련데이터 요소 분리 \n",
        "train_data_text = [line[1] for line in train_data]      # 훈련데이터 본문 \n",
        "train_data_senti = [line[2] for line in train_data]     # 훈련데이터 긍부정 부분\n",
        "\n",
        "# 테스트데이터 요소 분리 \n",
        "test_data_text = [line[1] for line in test_data]        # 테스트데이터 본문 \n",
        "test_data_senti = [line[2] for line in test_data]       # 테스트데이터 긍부정 부분"
      ],
      "execution_count": 26,
      "outputs": [
        {
          "output_type": "stream",
          "text": [
            "train data length: 344\n",
            "test data length: 148\n"
          ],
          "name": "stdout"
        }
      ]
    },
    {
      "cell_type": "code",
      "metadata": {
        "id": "z_eEoXCeR-ss",
        "colab_type": "code",
        "colab": {
          "base_uri": "https://localhost:8080/",
          "height": 71
        },
        "outputId": "4930efb9-6e48-4271-d986-a04710cde742"
      },
      "source": [
        "# 행렬 형태로 변환\n",
        "# 직접 작성\n",
        "\n",
        "from sklearn.feature_extraction.text import CountVectorizer \n",
        "vect = CountVectorizer(min_df=5).fit(train_data_text) # 빈도 5이상의 단어만 대상 \n",
        "X_train = vect.transform(train_data_text) # 행렬 생성 \n",
        "print(\"X_train:\\n\", repr(X_train))"
      ],
      "execution_count": 29,
      "outputs": [
        {
          "output_type": "stream",
          "text": [
            "X_train:\n",
            " <344x58 sparse matrix of type '<class 'numpy.int64'>'\n",
            "\twith 623 stored elements in Compressed Sparse Row format>\n"
          ],
          "name": "stdout"
        }
      ]
    },
    {
      "cell_type": "code",
      "metadata": {
        "id": "1tpj8Bx3SuSt",
        "colab_type": "code",
        "colab": {
          "base_uri": "https://localhost:8080/",
          "height": 109
        },
        "outputId": "030efed0-3577-4455-ba36-3520430bb0b6"
      },
      "source": [
        "# 행렬 내용 관찰\n",
        "# 직접 작성\n",
        "feature_names = vect.get_feature_names() \n",
        "print(\"특성 개수:\", len(feature_names)) \n",
        "print(\"처음 20개 특성:\\m\", feature_names[:20]) \n",
        "print(\"3000~5000까지의 특성:\\n\", feature_names[3000:5000])"
      ],
      "execution_count": 30,
      "outputs": [
        {
          "output_type": "stream",
          "text": [
            "특성 개수: 58\n",
            "처음 20개 특성:\\m ['ㅋㅋ', 'ㅋㅋㅋ', 'ㅠㅠ', 'ㅡㅡ', '가지', '감독', '감동', '그렇', '나오', '남자', '내내', '내용', '너무', '다시', '드라마', '마음', '마지막', '만들', '명작', '모르']\n",
            "3000~5000까지의 특성:\n",
            " []\n"
          ],
          "name": "stdout"
        }
      ]
    },
    {
      "cell_type": "code",
      "metadata": {
        "id": "Of5pHc28TJ1F",
        "colab_type": "code",
        "colab": {
          "base_uri": "https://localhost:8080/",
          "height": 107
        },
        "outputId": "c7fd4c88-9b65-4893-8354-571009bd104c"
      },
      "source": [
        "# 머신러닝 알고리즘 적용\n",
        "# 직접 작성\n",
        "import pandas as pd \n",
        "from sklearn.model_selection import cross_val_score \n",
        "from sklearn.linear_model import LogisticRegression \n",
        "y_train = pd.Series(train_data_senti) # 리스트 형태를 종속변수가 될 수 있는 1차원 배열(Series)로 만든다\n",
        "\n",
        "lr = LogisticRegression(solver=\"liblinear\")# 모델 생성 \n",
        "lr.fit(X_train, y_train)"
      ],
      "execution_count": 31,
      "outputs": [
        {
          "output_type": "execute_result",
          "data": {
            "text/plain": [
              "LogisticRegression(C=1.0, class_weight=None, dual=False, fit_intercept=True,\n",
              "                   intercept_scaling=1, l1_ratio=None, max_iter=100,\n",
              "                   multi_class='warn', n_jobs=None, penalty='l2',\n",
              "                   random_state=None, solver='liblinear', tol=0.0001, verbose=0,\n",
              "                   warm_start=False)"
            ]
          },
          "metadata": {
            "tags": []
          },
          "execution_count": 31
        }
      ]
    },
    {
      "cell_type": "code",
      "metadata": {
        "id": "aH4YNMX3UVFy",
        "colab_type": "code",
        "colab": {
          "base_uri": "https://localhost:8080/",
          "height": 35
        },
        "outputId": "bb00505d-d397-40ef-956b-db693d89f711"
      },
      "source": [
        "# 테스트 데이터 입력\n",
        "X_test = vect.transform(test_data_text)\n",
        "y_test = pd.Series(test_data_senti)\n",
        "\n",
        "print(\"테스트 데이터 점수:\", lr.score(X_test, y_test))"
      ],
      "execution_count": 32,
      "outputs": [
        {
          "output_type": "stream",
          "text": [
            "테스트 데이터 점수: 0.6418918918918919\n"
          ],
          "name": "stdout"
        }
      ]
    },
    {
      "cell_type": "markdown",
      "metadata": {
        "id": "GqFttHBeOTwj",
        "colab_type": "text"
      },
      "source": [
        "# 1개 데이터 예측\n"
      ]
    },
    {
      "cell_type": "code",
      "metadata": {
        "id": "6bmSbzO7W3UU",
        "colab_type": "code",
        "colab": {
          "base_uri": "https://localhost:8080/",
          "height": 269
        },
        "outputId": "72daba02-2921-4521-8485-f42ccf5481f8"
      },
      "source": [
        "# 형태소분석기 시작\n",
        "import rhinoMorph as rhinoMorph\n",
        "rn = rhinoMorph.startRhino()\n",
        "\n",
        "# 형태소 분석\n",
        "new_input = '오늘은 정말 재미있는 하루구나!'\n",
        "inputdata = []\n",
        "morphed_input = rhinoMorph.onlyMorph_list(\n",
        "    rn, new_input, pos=['NNG', 'NNP', 'VV', 'VA', 'XR', 'IC', 'MM', 'MAG', 'MAJ'])\n",
        "morphed_input = ' '.join(morphed_input) # ['오늘', '정말', '재미있', '하루＇]를 한 개 문자열로 변환\n",
        "\n",
        "inputdata.append(morphed_input)         # 분석 결과를 리스트로 만들기\n",
        "print('input data:', inputdata)         # ['오늘 정말 재미있 하루']"
      ],
      "execution_count": 33,
      "outputs": [
        {
          "output_type": "stream",
          "text": [
            "filepath:  /usr/local/lib/python3.6/dist-packages\n",
            "classpath:  /usr/local/lib/python3.6/dist-packages/rhinoMorph/lib/rhino.jar\n"
          ],
          "name": "stdout"
        },
        {
          "output_type": "stream",
          "text": [
            "/usr/local/lib/python3.6/dist-packages/jpype/_core.py:210: UserWarning: \n",
            "-------------------------------------------------------------------------------\n",
            "Deprecated: convertStrings was not specified when starting the JVM. The default\n",
            "behavior in JPype will be False starting in JPype 0.8. The recommended setting\n",
            "for new code is convertStrings=False.  The legacy value of True was assumed for\n",
            "this session. If you are a user of an application that reported this warning,\n",
            "please file a ticket with the developer.\n",
            "-------------------------------------------------------------------------------\n",
            "\n",
            "  \"\"\")\n"
          ],
          "name": "stderr"
        },
        {
          "output_type": "stream",
          "text": [
            "RHINO started!\n",
            "input data: ['오늘 정말 재미있 하루']\n"
          ],
          "name": "stdout"
        }
      ]
    },
    {
      "cell_type": "code",
      "metadata": {
        "id": "ztX4Uy3vXxOG",
        "colab_type": "code",
        "colab": {
          "base_uri": "https://localhost:8080/",
          "height": 35
        },
        "outputId": "0797468e-6aa3-462d-aea3-a0182269010d"
      },
      "source": [
        "X_input = vect.transform(inputdata)\t    # 앞에서 만든 11445 컬럼의 행렬에 적용\n",
        "result = lr.predict(X_input) \t          # 0은 부정,1은 긍정\n",
        "\n",
        "if result == 0:\n",
        "  print(\"부정적인 글입니다\")\n",
        "else:\n",
        "  print(\"긍정적인 글입니다\")"
      ],
      "execution_count": 34,
      "outputs": [
        {
          "output_type": "stream",
          "text": [
            "긍정적인 글입니다\n"
          ],
          "name": "stdout"
        }
      ]
    },
    {
      "cell_type": "code",
      "metadata": {
        "id": "LLhS9U0DkWJp",
        "colab_type": "code",
        "colab": {}
      },
      "source": [
        ""
      ],
      "execution_count": 0,
      "outputs": []
    }
  ]
}